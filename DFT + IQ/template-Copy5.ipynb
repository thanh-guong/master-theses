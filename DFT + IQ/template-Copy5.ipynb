{
 "cells": [
  {
   "cell_type": "code",
   "execution_count": null,
   "id": "c59af3e9",
   "metadata": {
    "execution": {
     "iopub.execute_input": "2021-12-29T08:36:54.809299Z",
     "iopub.status.busy": "2021-12-29T08:36:54.809299Z",
     "iopub.status.idle": "2021-12-29T08:36:55.931617Z",
     "shell.execute_reply": "2021-12-29T08:36:55.931617Z"
    },
    "papermill": {
     "duration": 1.138259,
     "end_time": "2021-12-29T08:36:55.931617",
     "exception": false,
     "start_time": "2021-12-29T08:36:54.793358",
     "status": "completed"
    },
    "tags": []
   },
   "outputs": [],
   "source": [
    "!pip install -r ../requirements.txt"
   ]
  },
  {
   "cell_type": "markdown",
   "id": "eb27b835",
   "metadata": {
    "papermill": {
     "duration": 0.010999,
     "end_time": "2021-12-29T08:36:55.953591",
     "exception": false,
     "start_time": "2021-12-29T08:36:55.942592",
     "status": "completed"
    },
    "tags": []
   },
   "source": [
    "# Configuration"
   ]
  },
  {
   "cell_type": "code",
   "execution_count": null,
   "id": "da28f4de",
   "metadata": {
    "execution": {
     "iopub.execute_input": "2021-12-29T08:36:55.977592Z",
     "iopub.status.busy": "2021-12-29T08:36:55.976591Z",
     "iopub.status.idle": "2021-12-29T08:36:55.979600Z",
     "shell.execute_reply": "2021-12-29T08:36:55.979600Z"
    },
    "papermill": {
     "duration": 0.015008,
     "end_time": "2021-12-29T08:36:55.979600",
     "exception": false,
     "start_time": "2021-12-29T08:36:55.964592",
     "status": "completed"
    },
    "tags": []
   },
   "outputs": [],
   "source": [
    "ROOT_DIR = \"../\"\n",
    "DATA_DIR = ROOT_DIR + \"data/\"\n",
    "\n",
    "DATASET_2016_10a_FILENAME = DATA_DIR + \"RML2016.10a_dict.pkl\"\n",
    "\n",
    "NN_NAME = 'NEURAL_NETWORK_NAME'\n",
    "\n",
    "DEFAULT_CONFIG_FILENAME = ROOT_DIR + \"default.ini\""
   ]
  },
  {
   "cell_type": "code",
   "execution_count": null,
   "id": "80d7152a",
   "metadata": {
    "execution": {
     "iopub.execute_input": "2021-12-29T08:36:56.004587Z",
     "iopub.status.busy": "2021-12-29T08:36:56.004587Z",
     "iopub.status.idle": "2021-12-29T08:36:56.136857Z",
     "shell.execute_reply": "2021-12-29T08:36:56.135855Z"
    },
    "papermill": {
     "duration": 0.146296,
     "end_time": "2021-12-29T08:36:56.136857",
     "exception": true,
     "start_time": "2021-12-29T08:36:55.990561",
     "status": "failed"
    },
    "tags": []
   },
   "outputs": [],
   "source": [
    "import configparser\n",
    "\n",
    "config = configparser.ConfigParser()\n",
    "config.read(DEFAULT_CONFIG_FILENAME)\n",
    "\n",
    "NEURAL_NETWORK_NAME = config.get('NeuralNetworkNames', NN_NAME)\n",
    "NEURAL_NETWORK_FILENAME = NEURAL_NETWORK_NAME + '.wts.h5'\n",
    "\n",
    "TRAINING_SET_DIMENSION = config.getfloat('TrainingValues', 'TrainingSetSplitPercentage')\n",
    "DROPOUT_RATE = config.getfloat('TrainingValues', 'DropoutRate')\n",
    "\n",
    "# Set up some params \n",
    "NB_EPOCH = config.getint('TrainingValues', 'Epochs') # number of epochs to train on\n",
    "BATCH_SIZE = config.getint('TrainingValues', 'BatchSize') # training batch size"
   ]
  },
  {
   "cell_type": "markdown",
   "id": "4e7a27ae",
   "metadata": {
    "papermill": {
     "duration": null,
     "end_time": null,
     "exception": null,
     "start_time": null,
     "status": "pending"
    },
    "tags": []
   },
   "source": [
    "# Imports"
   ]
  },
  {
   "cell_type": "code",
   "execution_count": null,
   "id": "714cf843",
   "metadata": {
    "execution": {
     "iopub.execute_input": "2021-09-24T10:22:30.935913Z",
     "iopub.status.busy": "2021-09-24T10:22:30.935913Z",
     "iopub.status.idle": "2021-09-24T10:22:33.307152Z",
     "shell.execute_reply": "2021-09-24T10:22:33.307152Z"
    },
    "papermill": {
     "duration": null,
     "end_time": null,
     "exception": null,
     "start_time": null,
     "status": "pending"
    },
    "tags": []
   },
   "outputs": [],
   "source": [
    "import sys\n",
    "sys.path.append(ROOT_DIR)\n",
    "\n",
    "import neural_networks\n",
    "import datasetlib\n",
    "import traintestsplitlib\n",
    "import trainlib\n",
    "import evaluationlib\n",
    "import dftlib"
   ]
  },
  {
   "cell_type": "markdown",
   "id": "47d550d1",
   "metadata": {
    "papermill": {
     "duration": null,
     "end_time": null,
     "exception": null,
     "start_time": null,
     "status": "pending"
    },
    "tags": []
   },
   "source": [
    "# Dataset"
   ]
  },
  {
   "cell_type": "markdown",
   "id": "3bba0bfd",
   "metadata": {
    "papermill": {
     "duration": null,
     "end_time": null,
     "exception": null,
     "start_time": null,
     "status": "pending"
    },
    "tags": []
   },
   "source": [
    "## Dataset in a pandas Dataframe"
   ]
  },
  {
   "cell_type": "code",
   "execution_count": null,
   "id": "2f10af44",
   "metadata": {
    "execution": {
     "iopub.execute_input": "2021-09-24T10:22:33.374152Z",
     "iopub.status.busy": "2021-09-24T10:22:33.373153Z",
     "iopub.status.idle": "2021-09-24T10:22:35.083151Z",
     "shell.execute_reply": "2021-09-24T10:22:35.083151Z"
    },
    "papermill": {
     "duration": null,
     "end_time": null,
     "exception": null,
     "start_time": null,
     "status": "pending"
    },
    "tags": []
   },
   "outputs": [],
   "source": [
    "dataset_df = datasetlib.load_dataset_dataframe(DATASET_2016_10a_FILENAME)"
   ]
  },
  {
   "cell_type": "markdown",
   "id": "ef292fee",
   "metadata": {
    "papermill": {
     "duration": null,
     "end_time": null,
     "exception": null,
     "start_time": null,
     "status": "pending"
    },
    "tags": []
   },
   "source": [
    "## Raw dataset"
   ]
  },
  {
   "cell_type": "code",
   "execution_count": null,
   "id": "cff17428",
   "metadata": {
    "execution": {
     "iopub.execute_input": "2021-09-24T10:22:35.130152Z",
     "iopub.status.busy": "2021-09-24T10:22:35.129151Z",
     "iopub.status.idle": "2021-09-24T10:22:35.160152Z",
     "shell.execute_reply": "2021-09-24T10:22:35.160152Z"
    },
    "papermill": {
     "duration": null,
     "end_time": null,
     "exception": null,
     "start_time": null,
     "status": "pending"
    },
    "tags": []
   },
   "outputs": [],
   "source": [
    "dataset_df"
   ]
  },
  {
   "cell_type": "markdown",
   "id": "3b2b5cce",
   "metadata": {
    "papermill": {
     "duration": null,
     "end_time": null,
     "exception": null,
     "start_time": null,
     "status": "pending"
    },
    "tags": []
   },
   "source": [
    "# Neural network"
   ]
  },
  {
   "cell_type": "markdown",
   "id": "60b0af1e",
   "metadata": {
    "papermill": {
     "duration": null,
     "end_time": null,
     "exception": null,
     "start_time": null,
     "status": "pending"
    },
    "tags": []
   },
   "source": [
    "## Configuration"
   ]
  },
  {
   "cell_type": "code",
   "execution_count": null,
   "id": "2a90bb44",
   "metadata": {
    "execution": {
     "iopub.execute_input": "2021-09-24T10:22:35.227154Z",
     "iopub.status.busy": "2021-09-24T10:22:35.226185Z",
     "iopub.status.idle": "2021-09-24T10:22:35.238152Z",
     "shell.execute_reply": "2021-09-24T10:22:35.238152Z"
    },
    "papermill": {
     "duration": null,
     "end_time": null,
     "exception": null,
     "start_time": null,
     "status": "pending"
    },
    "tags": []
   },
   "outputs": [],
   "source": [
    "config = configparser.ConfigParser()\n",
    "config.read(DEFAULT_CONFIG_FILENAME)\n",
    "\n",
    "NEURAL_NETWORK_NAME = config.get('NeuralNetworkNames', NN_NAME)\n",
    "NEURAL_NETWORK_FILENAME = NEURAL_NETWORK_NAME + '.wts.h5'\n",
    "\n",
    "TRAINING_SET_DIMENSION = config.getfloat('TrainingValues', 'TrainingSetSplitPercentage')\n",
    "DROPOUT_RATE = config.getfloat('TrainingValues', 'DropoutRate')\n",
    "\n",
    "# Set up some params \n",
    "NB_EPOCH = config.getint('TrainingValues', 'Epochs') # number of epochs to train on\n",
    "BATCH_SIZE = config.getint('TrainingValues', 'BatchSize') # training batch size"
   ]
  },
  {
   "cell_type": "markdown",
   "id": "92df4383",
   "metadata": {
    "papermill": {
     "duration": null,
     "end_time": null,
     "exception": null,
     "start_time": null,
     "status": "pending"
    },
    "tags": []
   },
   "source": [
    "## Data prepare"
   ]
  },
  {
   "cell_type": "code",
   "execution_count": null,
   "id": "81420552",
   "metadata": {
    "execution": {
     "iopub.execute_input": "2021-09-24T10:22:35.292152Z",
     "iopub.status.busy": "2021-09-24T10:22:35.291186Z",
     "iopub.status.idle": "2021-09-24T10:22:35.300158Z",
     "shell.execute_reply": "2021-09-24T10:22:35.300158Z"
    },
    "papermill": {
     "duration": null,
     "end_time": null,
     "exception": null,
     "start_time": null,
     "status": "pending"
    },
    "tags": []
   },
   "outputs": [],
   "source": [
    "signals = datasetlib.signals(dataset_df)\n",
    "labels = datasetlib.labels(dataset_df)\n",
    "\n",
    "# [QPSQ, BPSK, ...]\n",
    "mods = datasetlib.mods(dataset_df)\n",
    "# [-18, -16, ...]\n",
    "snrs = datasetlib.unique_snrs(dataset_df)"
   ]
  },
  {
   "cell_type": "markdown",
   "id": "720b9c2d",
   "metadata": {
    "papermill": {
     "duration": null,
     "end_time": null,
     "exception": null,
     "start_time": null,
     "status": "pending"
    },
    "tags": []
   },
   "source": [
    "## Data transformation"
   ]
  },
  {
   "cell_type": "code",
   "execution_count": null,
   "id": "f86651ae",
   "metadata": {
    "papermill": {
     "duration": null,
     "end_time": null,
     "exception": null,
     "start_time": null,
     "status": "pending"
    },
    "tags": []
   },
   "outputs": [],
   "source": [
    "transformed_signals = dftlib.all_I_Q_to_DFT(signals)"
   ]
  },
  {
   "cell_type": "markdown",
   "id": "48a5279d",
   "metadata": {
    "papermill": {
     "duration": null,
     "end_time": null,
     "exception": null,
     "start_time": null,
     "status": "pending"
    },
    "tags": []
   },
   "source": [
    "### Training and Test data partitioning"
   ]
  },
  {
   "cell_type": "code",
   "execution_count": null,
   "id": "4b93d257",
   "metadata": {
    "execution": {
     "iopub.execute_input": "2021-09-24T10:22:35.367151Z",
     "iopub.status.busy": "2021-09-24T10:22:35.363152Z",
     "iopub.status.idle": "2021-09-24T10:22:35.674154Z",
     "shell.execute_reply": "2021-09-24T10:22:35.674154Z"
    },
    "papermill": {
     "duration": null,
     "end_time": null,
     "exception": null,
     "start_time": null,
     "status": "pending"
    },
    "tags": []
   },
   "outputs": [],
   "source": [
    "n_elements = len(signals)\n",
    "training_set_percentage = TRAINING_SET_DIMENSION\n",
    "\n",
    "train_index, test_index = traintestsplitlib.train_test_random_indexes(n_elements, training_set_percentage)\n",
    "\n",
    "iq_train, transformed_train, iq_test, transformed_test, Y_train, Y_test = traintestsplitlib.split_double_x_y_train_test(signals, transformed_signals, labels, mods, train_index, test_index)"
   ]
  },
  {
   "cell_type": "markdown",
   "id": "2ec39d17",
   "metadata": {
    "papermill": {
     "duration": null,
     "end_time": null,
     "exception": null,
     "start_time": null,
     "status": "pending"
    },
    "tags": []
   },
   "source": [
    "## Build the Neural Network"
   ]
  },
  {
   "cell_type": "code",
   "execution_count": null,
   "id": "1f9ab452",
   "metadata": {
    "execution": {
     "iopub.execute_input": "2021-09-24T10:22:35.721153Z",
     "iopub.status.busy": "2021-09-24T10:22:35.720157Z",
     "iopub.status.idle": "2021-09-24T10:22:35.736971Z",
     "shell.execute_reply": "2021-09-24T10:22:35.736971Z"
    },
    "papermill": {
     "duration": null,
     "end_time": null,
     "exception": null,
     "start_time": null,
     "status": "pending"
    },
    "tags": []
   },
   "outputs": [],
   "source": [
    "iq_shp = list(iq_train.shape[1:])\n",
    "transformed_shp = list(transformed_train.shape[1:])\n",
    "\n",
    "print(iq_train.shape)\n",
    "print(iq_shp)\n",
    "print(transformed_train.shape)\n",
    "print(transformed_shp)\n",
    "\n",
    "classes = mods"
   ]
  },
  {
   "cell_type": "code",
   "execution_count": null,
   "id": "f2572742",
   "metadata": {
    "execution": {
     "iopub.execute_input": "2021-09-24T10:22:35.760962Z",
     "iopub.status.busy": "2021-09-24T10:22:35.760962Z",
     "iopub.status.idle": "2021-09-24T10:22:36.423967Z",
     "shell.execute_reply": "2021-09-24T10:22:36.423967Z"
    },
    "papermill": {
     "duration": null,
     "end_time": null,
     "exception": null,
     "start_time": null,
     "status": "pending"
    },
    "tags": []
   },
   "outputs": [],
   "source": [
    "model = neural_networks.NEURAL_NETWORK(iq_shp, transformed_shp)\n",
    "\n",
    "model.summary()"
   ]
  },
  {
   "cell_type": "markdown",
   "id": "ec7ccb23",
   "metadata": {
    "papermill": {
     "duration": null,
     "end_time": null,
     "exception": null,
     "start_time": null,
     "status": "pending"
    },
    "tags": []
   },
   "source": [
    "### Train the model"
   ]
  },
  {
   "cell_type": "code",
   "execution_count": null,
   "id": "a6995c51",
   "metadata": {
    "execution": {
     "iopub.execute_input": "2021-09-24T10:22:36.472937Z",
     "iopub.status.busy": "2021-09-24T10:22:36.472937Z",
     "iopub.status.idle": "2021-09-24T10:24:23.330138Z",
     "shell.execute_reply": "2021-09-24T10:24:23.330138Z"
    },
    "papermill": {
     "duration": null,
     "end_time": null,
     "exception": null,
     "start_time": null,
     "status": "pending"
    },
    "scrolled": false,
    "tags": []
   },
   "outputs": [],
   "source": [
    "# perform training ...\n",
    "#   - call the main training loop in keras for our network+dataset\n",
    "filepath = NEURAL_NETWORK_FILENAME\n",
    "\n",
    "history, model = trainlib.train_double_input(filepath, model, iq_train, transformed_train, Y_train, BATCH_SIZE, NB_EPOCH)"
   ]
  },
  {
   "cell_type": "markdown",
   "id": "f839ddb7",
   "metadata": {
    "papermill": {
     "duration": null,
     "end_time": null,
     "exception": null,
     "start_time": null,
     "status": "pending"
    },
    "tags": []
   },
   "source": [
    "# Evaluate and Plot Model Performance"
   ]
  },
  {
   "cell_type": "code",
   "execution_count": null,
   "id": "c6938319",
   "metadata": {
    "execution": {
     "iopub.execute_input": "2021-09-24T10:24:24.044138Z",
     "iopub.status.busy": "2021-09-24T10:24:24.044138Z",
     "iopub.status.idle": "2021-09-24T10:24:24.544138Z",
     "shell.execute_reply": "2021-09-24T10:24:24.544138Z"
    },
    "papermill": {
     "duration": null,
     "end_time": null,
     "exception": null,
     "start_time": null,
     "status": "pending"
    },
    "tags": []
   },
   "outputs": [],
   "source": [
    "# Show simple version of performance\n",
    "score = model.evaluate((iq_test, transformed_test), Y_test, batch_size=BATCH_SIZE)\n",
    "print(score)"
   ]
  },
  {
   "cell_type": "markdown",
   "id": "5de661d9",
   "metadata": {
    "papermill": {
     "duration": null,
     "end_time": null,
     "exception": null,
     "start_time": null,
     "status": "pending"
    },
    "tags": []
   },
   "source": [
    "## Loss"
   ]
  },
  {
   "cell_type": "code",
   "execution_count": null,
   "id": "8c788419",
   "metadata": {
    "execution": {
     "iopub.execute_input": "2021-09-24T10:24:25.273262Z",
     "iopub.status.busy": "2021-09-24T10:24:25.267235Z",
     "iopub.status.idle": "2021-09-24T10:24:25.370266Z",
     "shell.execute_reply": "2021-09-24T10:24:25.370266Z"
    },
    "papermill": {
     "duration": null,
     "end_time": null,
     "exception": null,
     "start_time": null,
     "status": "pending"
    },
    "tags": []
   },
   "outputs": [],
   "source": [
    "evaluationlib.show_loss_curves(history)"
   ]
  },
  {
   "cell_type": "markdown",
   "id": "14855bf6",
   "metadata": {
    "papermill": {
     "duration": null,
     "end_time": null,
     "exception": null,
     "start_time": null,
     "status": "pending"
    },
    "tags": []
   },
   "source": [
    "## Confusion matrix"
   ]
  },
  {
   "cell_type": "code",
   "execution_count": null,
   "id": "e17a5a1e",
   "metadata": {
    "execution": {
     "iopub.execute_input": "2021-09-24T10:24:26.084234Z",
     "iopub.status.busy": "2021-09-24T10:24:26.084234Z",
     "iopub.status.idle": "2021-09-24T10:24:27.237268Z",
     "shell.execute_reply": "2021-09-24T10:24:27.237268Z"
    },
    "papermill": {
     "duration": null,
     "end_time": null,
     "exception": null,
     "start_time": null,
     "status": "pending"
    },
    "tags": []
   },
   "outputs": [],
   "source": [
    "evaluationlib.plot_double_input_confusion_matrix(model, NEURAL_NETWORK_NAME, iq_test, transformed_test, Y_test, BATCH_SIZE, classes)"
   ]
  },
  {
   "cell_type": "markdown",
   "id": "80bc5d09",
   "metadata": {
    "papermill": {
     "duration": null,
     "end_time": null,
     "exception": null,
     "start_time": null,
     "status": "pending"
    },
    "tags": []
   },
   "source": [
    "## Confusion matrix for each SNR"
   ]
  },
  {
   "cell_type": "code",
   "execution_count": null,
   "id": "fd7b3774",
   "metadata": {
    "execution": {
     "iopub.execute_input": "2021-09-24T10:24:27.966264Z",
     "iopub.status.busy": "2021-09-24T10:24:27.965267Z",
     "iopub.status.idle": "2021-09-24T10:24:36.501649Z",
     "shell.execute_reply": "2021-09-24T10:24:36.501649Z"
    },
    "papermill": {
     "duration": null,
     "end_time": null,
     "exception": null,
     "start_time": null,
     "status": "pending"
    },
    "scrolled": false,
    "tags": []
   },
   "outputs": [],
   "source": [
    "acc = evaluationlib.plot_double_input_confusion_matrix_each_snr(model, NEURAL_NETWORK_NAME, snrs, dataset_df, iq_test, transformed_test, Y_test, test_index, classes)"
   ]
  },
  {
   "cell_type": "markdown",
   "id": "d3be7a32",
   "metadata": {
    "papermill": {
     "duration": null,
     "end_time": null,
     "exception": null,
     "start_time": null,
     "status": "pending"
    },
    "tags": []
   },
   "source": [
    "## Accuracy performance"
   ]
  },
  {
   "cell_type": "code",
   "execution_count": null,
   "id": "3a5f4683",
   "metadata": {
    "execution": {
     "iopub.execute_input": "2021-09-24T10:24:37.279630Z",
     "iopub.status.busy": "2021-09-24T10:24:37.279630Z",
     "iopub.status.idle": "2021-09-24T10:24:37.291630Z",
     "shell.execute_reply": "2021-09-24T10:24:37.291630Z"
    },
    "papermill": {
     "duration": null,
     "end_time": null,
     "exception": null,
     "start_time": null,
     "status": "pending"
    },
    "scrolled": true,
    "tags": []
   },
   "outputs": [],
   "source": [
    "evaluationlib.accuracy_dataframe(acc)"
   ]
  },
  {
   "cell_type": "code",
   "execution_count": null,
   "id": "b8d2a655",
   "metadata": {
    "execution": {
     "iopub.execute_input": "2021-09-24T10:24:37.671631Z",
     "iopub.status.busy": "2021-09-24T10:24:37.671631Z",
     "iopub.status.idle": "2021-09-24T10:24:37.682630Z",
     "shell.execute_reply": "2021-09-24T10:24:37.681631Z"
    },
    "papermill": {
     "duration": null,
     "end_time": null,
     "exception": null,
     "start_time": null,
     "status": "pending"
    },
    "tags": []
   },
   "outputs": [],
   "source": [
    "# Save results to a pickle file for plotting later\n",
    "# fd = open(OUTPUT_FILENAME,'wb')\n",
    "# pickle.dump( (\"CNN2\", 0.5, acc) , fd )"
   ]
  },
  {
   "cell_type": "code",
   "execution_count": null,
   "id": "f26c3048",
   "metadata": {
    "execution": {
     "iopub.execute_input": "2021-09-24T10:24:38.093630Z",
     "iopub.status.busy": "2021-09-24T10:24:38.071644Z",
     "iopub.status.idle": "2021-09-24T10:24:38.148632Z",
     "shell.execute_reply": "2021-09-24T10:24:38.148632Z"
    },
    "papermill": {
     "duration": null,
     "end_time": null,
     "exception": null,
     "start_time": null,
     "status": "pending"
    },
    "tags": []
   },
   "outputs": [],
   "source": [
    "evaluationlib.accuracy_curve(snrs, acc, NEURAL_NETWORK_NAME)"
   ]
  }
 ],
 "metadata": {
  "kernelspec": {
   "display_name": "Python 3 (ipykernel)",
   "language": "python",
   "name": "python3"
  },
  "language_info": {
   "codemirror_mode": {
    "name": "ipython",
    "version": 3
   },
   "file_extension": ".py",
   "mimetype": "text/x-python",
   "name": "python",
   "nbconvert_exporter": "python",
   "pygments_lexer": "ipython3",
   "version": "3.9.6"
  },
  "papermill": {
   "default_parameters": {},
   "duration": 2.91597,
   "end_time": "2021-12-29T08:36:56.263334",
   "environment_variables": {},
   "exception": true,
   "input_path": "template.ipynb",
   "output_path": "template.ipynb",
   "parameters": {},
   "start_time": "2021-12-29T08:36:53.347364",
   "version": "2.3.3"
  }
 },
 "nbformat": 4,
 "nbformat_minor": 5
}
