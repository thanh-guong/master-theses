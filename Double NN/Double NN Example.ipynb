{
 "cells": [
  {
   "cell_type": "code",
   "execution_count": 1,
   "id": "1302b2d9",
   "metadata": {},
   "outputs": [],
   "source": [
    "import random\n",
    "import pandas as pd\n",
    "\n",
    "import numpy as np\n",
    "\n",
    "from keras.layers import Input, Conv2D, Dense, concatenate\n",
    "from keras.models import Model"
   ]
  },
  {
   "cell_type": "markdown",
   "id": "bbc77ce9",
   "metadata": {},
   "source": [
    "# Configuration"
   ]
  },
  {
   "cell_type": "code",
   "execution_count": 2,
   "id": "eb4e3774",
   "metadata": {},
   "outputs": [],
   "source": [
    "UPPER_BOUND = 20\n",
    "N_DATAPOINTS = 100000\n",
    "\n",
    "TRAINING_SET_SIZE = 0.7 # %\n",
    "BATCH_SIZE = 1024\n",
    "EPOCHS = 100"
   ]
  },
  {
   "cell_type": "markdown",
   "id": "16d989b2",
   "metadata": {},
   "source": [
    "# Data"
   ]
  },
  {
   "cell_type": "code",
   "execution_count": 3,
   "id": "6db1e0b1",
   "metadata": {},
   "outputs": [],
   "source": [
    "possible_labels = [1, 2]\n",
    "\n",
    "values_1 = []\n",
    "labels_1 = []\n",
    "\n",
    "values_2 = []\n",
    "labels_2 = []\n",
    "\n",
    "for i in range(0, N_DATAPOINTS):\n",
    "    values_1.append([random.randint(0, UPPER_BOUND)])\n",
    "    rnd_label_index = random.randint(0, len(possible_labels) - 1)\n",
    "    label = possible_labels[rnd_label_index]\n",
    "    labels_1.append(label)\n",
    "\n",
    "for i in range(0, N_DATAPOINTS):\n",
    "    values_2.append([random.randint(0, UPPER_BOUND)])\n",
    "    rnd_label_index = random.randint(0, len(possible_labels) - 1)\n",
    "    label = possible_labels[rnd_label_index]\n",
    "    labels_2.append(label)\n",
    "    \n",
    "values_1 = np.array(values_1)\n",
    "labels_1 = np.array(labels_1)\n",
    "values_2 = np.array(values_2)\n",
    "labels_2 = np.array(labels_2)"
   ]
  },
  {
   "cell_type": "code",
   "execution_count": 4,
   "id": "c4a800e4",
   "metadata": {},
   "outputs": [
    {
     "data": {
      "text/plain": [
       "array([[14],\n",
       "       [ 1],\n",
       "       [13],\n",
       "       ...,\n",
       "       [19],\n",
       "       [ 0],\n",
       "       [14]])"
      ]
     },
     "execution_count": 4,
     "metadata": {},
     "output_type": "execute_result"
    }
   ],
   "source": [
    "values_1"
   ]
  },
  {
   "cell_type": "code",
   "execution_count": 5,
   "id": "714be5dc",
   "metadata": {
    "scrolled": true
   },
   "outputs": [
    {
     "data": {
      "text/plain": [
       "array([1, 2, 2, ..., 2, 2, 1])"
      ]
     },
     "execution_count": 5,
     "metadata": {},
     "output_type": "execute_result"
    }
   ],
   "source": [
    "labels_1"
   ]
  },
  {
   "cell_type": "markdown",
   "id": "1f646454",
   "metadata": {},
   "source": [
    "## Training set, Test set"
   ]
  },
  {
   "cell_type": "code",
   "execution_count": 6,
   "id": "a3909d86",
   "metadata": {},
   "outputs": [],
   "source": [
    "# first dataset\n",
    "datapoints_1 = len(values_1)\n",
    "\n",
    "train_datapoints_1 = int(datapoints_1 * TRAINING_SET_SIZE)\n",
    "test_datapoints_1 = datapoints_1 - train_datapoints_1\n",
    "\n",
    "train_index_1 = np.random.choice(range(0, datapoints_1), size=train_datapoints_1, replace=False)\n",
    "test_index_1 = list(set(range(0, datapoints_1)) - set(train_index_1))\n",
    "\n",
    "X1_train = values_1[train_index_1]\n",
    "X1_test = values_1[test_index_1]\n",
    "\n",
    "Y1_train = labels_1[train_index_1]\n",
    "Y1_test = labels_1[test_index_1]\n",
    "\n",
    "# second dataset\n",
    "datapoints_2 = len(values_2)\n",
    "\n",
    "train_datapoints_2 = int(datapoints_2 * TRAINING_SET_SIZE)\n",
    "test_datapoints_2 = datapoints_2 - train_datapoints_2\n",
    "\n",
    "train_index_2 = np.random.choice(range(0, datapoints_2), size=train_datapoints_2, replace=False)\n",
    "test_index_2 = list(set(range(0, datapoints_2)) - set(train_index_2))\n",
    "\n",
    "X2_train = values_2[train_index_2]\n",
    "X2_test = values_2[test_index_2]\n",
    "\n",
    "Y2_train = labels_2[train_index_2]\n",
    "Y2_test = labels_2[test_index_2]"
   ]
  },
  {
   "cell_type": "markdown",
   "id": "31685da2",
   "metadata": {},
   "source": [
    "# Neural Network with multiple input"
   ]
  },
  {
   "cell_type": "code",
   "execution_count": 7,
   "id": "241b4c3f",
   "metadata": {
    "scrolled": true
   },
   "outputs": [
    {
     "name": "stdout",
     "output_type": "stream",
     "text": [
      "[1]\n",
      "[1]\n"
     ]
    }
   ],
   "source": [
    "input_1_shape = list(X1_train.shape[1:])\n",
    "input_2_shape = list(X2_train.shape[1:])\n",
    "\n",
    "print(input_1_shape)\n",
    "print(input_2_shape)"
   ]
  },
  {
   "cell_type": "code",
   "execution_count": 8,
   "id": "cdb89e9e",
   "metadata": {
    "scrolled": false
   },
   "outputs": [
    {
     "name": "stdout",
     "output_type": "stream",
     "text": [
      "Model: \"model\"\n",
      "__________________________________________________________________________________________________\n",
      "Layer (type)                    Output Shape         Param #     Connected to                     \n",
      "==================================================================================================\n",
      "IQ (InputLayer)                 [(None, 1)]          0                                            \n",
      "__________________________________________________________________________________________________\n",
      "MP (InputLayer)                 [(None, 1)]          0                                            \n",
      "__________________________________________________________________________________________________\n",
      "concatenate (Concatenate)       (None, 2)            0           IQ[0][0]                         \n",
      "                                                                 MP[0][0]                         \n",
      "__________________________________________________________________________________________________\n",
      "dense (Dense)                   (None, 256)          768         concatenate[0][0]                \n",
      "__________________________________________________________________________________________________\n",
      "output (Dense)                  (None, 1)            257         dense[0][0]                      \n",
      "==================================================================================================\n",
      "Total params: 1,025\n",
      "Trainable params: 1,025\n",
      "Non-trainable params: 0\n",
      "__________________________________________________________________________________________________\n"
     ]
    }
   ],
   "source": [
    "import tensorflow as tf\n",
    "from tensorflow import keras\n",
    "\n",
    "in1 = keras.Input(shape=input_1_shape, name=\"IQ\")\n",
    "in2 = keras.Input(shape=input_2_shape, name=\"MP\")\n",
    "\n",
    "x = keras.layers.concatenate([in1, in2])\n",
    "\n",
    "dense = keras.layers.Dense(256, kernel_initializer='he_normal', name=\"dense\")(x)\n",
    "output = keras.layers.Dense(1, kernel_initializer='he_normal', name=\"output\")(dense)\n",
    "\n",
    "model = keras.Model(inputs=[in1, in2], outputs=[output])\n",
    "\n",
    "model.summary()"
   ]
  },
  {
   "cell_type": "code",
   "execution_count": 9,
   "id": "193c33fb",
   "metadata": {},
   "outputs": [],
   "source": [
    "model.compile(\n",
    "    optimizer='adam', \n",
    "    loss='mean_squared_error',\n",
    ")"
   ]
  },
  {
   "cell_type": "code",
   "execution_count": 10,
   "id": "47c45f84",
   "metadata": {
    "scrolled": false
   },
   "outputs": [
    {
     "name": "stdout",
     "output_type": "stream",
     "text": [
      "Epoch 1/100\n",
      "69/69 [==============================] - 1s 2ms/step - loss: 11.9698\n",
      "Epoch 2/100\n",
      "69/69 [==============================] - 0s 2ms/step - loss: 0.3199\n",
      "Epoch 3/100\n",
      "69/69 [==============================] - 0s 2ms/step - loss: 0.2596\n",
      "Epoch 4/100\n",
      "69/69 [==============================] - 0s 2ms/step - loss: 0.2528\n",
      "Epoch 5/100\n",
      "69/69 [==============================] - 0s 2ms/step - loss: 0.2533\n",
      "Epoch 6/100\n",
      "69/69 [==============================] - 0s 2ms/step - loss: 0.2516\n",
      "Epoch 7/100\n",
      "69/69 [==============================] - 0s 2ms/step - loss: 0.2537\n",
      "Epoch 8/100\n",
      "69/69 [==============================] - 0s 2ms/step - loss: 0.2548\n",
      "Epoch 9/100\n",
      "69/69 [==============================] - 0s 2ms/step - loss: 0.2544\n",
      "Epoch 10/100\n",
      "69/69 [==============================] - 0s 2ms/step - loss: 0.2539\n",
      "Epoch 11/100\n",
      "69/69 [==============================] - 0s 2ms/step - loss: 0.2548\n",
      "Epoch 12/100\n",
      "69/69 [==============================] - 0s 2ms/step - loss: 0.2579\n",
      "Epoch 13/100\n",
      "69/69 [==============================] - 0s 2ms/step - loss: 0.2631\n",
      "Epoch 14/100\n",
      "69/69 [==============================] - 0s 2ms/step - loss: 0.2652\n",
      "Epoch 15/100\n",
      "69/69 [==============================] - 0s 2ms/step - loss: 0.2570\n",
      "Epoch 16/100\n",
      "69/69 [==============================] - 0s 2ms/step - loss: 0.2582\n",
      "Epoch 17/100\n",
      "69/69 [==============================] - 0s 2ms/step - loss: 0.2613\n",
      "Epoch 18/100\n",
      "69/69 [==============================] - 0s 2ms/step - loss: 0.2604\n",
      "Epoch 19/100\n",
      "69/69 [==============================] - 0s 2ms/step - loss: 0.2563\n",
      "Epoch 20/100\n",
      "69/69 [==============================] - 0s 2ms/step - loss: 0.2579\n",
      "Epoch 21/100\n",
      "69/69 [==============================] - 0s 2ms/step - loss: 0.2638\n",
      "Epoch 22/100\n",
      "69/69 [==============================] - 0s 2ms/step - loss: 0.2546\n",
      "Epoch 23/100\n",
      "69/69 [==============================] - 0s 2ms/step - loss: 0.2615\n",
      "Epoch 24/100\n",
      "69/69 [==============================] - 0s 2ms/step - loss: 0.2635\n",
      "Epoch 25/100\n",
      "69/69 [==============================] - 0s 2ms/step - loss: 0.2581\n",
      "Epoch 26/100\n",
      "69/69 [==============================] - 0s 2ms/step - loss: 0.2640\n",
      "Epoch 27/100\n",
      "69/69 [==============================] - 0s 2ms/step - loss: 0.2649\n",
      "Epoch 28/100\n",
      "69/69 [==============================] - 0s 2ms/step - loss: 0.2703\n",
      "Epoch 29/100\n",
      "69/69 [==============================] - 0s 2ms/step - loss: 0.2573\n",
      "Epoch 30/100\n",
      "69/69 [==============================] - 0s 2ms/step - loss: 0.2724\n",
      "Epoch 31/100\n",
      "69/69 [==============================] - 0s 2ms/step - loss: 0.2538\n",
      "Epoch 32/100\n",
      "69/69 [==============================] - 0s 2ms/step - loss: 0.2644\n",
      "Epoch 33/100\n",
      "69/69 [==============================] - 0s 2ms/step - loss: 0.2663\n",
      "Epoch 34/100\n",
      "69/69 [==============================] - 0s 2ms/step - loss: 0.2637\n",
      "Epoch 35/100\n",
      "69/69 [==============================] - 0s 2ms/step - loss: 0.2733\n",
      "Epoch 36/100\n",
      "69/69 [==============================] - 0s 2ms/step - loss: 0.2722\n",
      "Epoch 37/100\n",
      "69/69 [==============================] - 0s 2ms/step - loss: 0.2628\n",
      "Epoch 38/100\n",
      "69/69 [==============================] - 0s 2ms/step - loss: 0.2586\n",
      "Epoch 39/100\n",
      "69/69 [==============================] - 0s 2ms/step - loss: 0.2587\n",
      "Epoch 40/100\n",
      "69/69 [==============================] - 0s 2ms/step - loss: 0.2756\n",
      "Epoch 41/100\n",
      "69/69 [==============================] - 0s 2ms/step - loss: 0.2574\n",
      "Epoch 42/100\n",
      "69/69 [==============================] - 0s 2ms/step - loss: 0.2650\n",
      "Epoch 43/100\n",
      "69/69 [==============================] - 0s 2ms/step - loss: 0.2797\n",
      "Epoch 44/100\n",
      "69/69 [==============================] - 0s 2ms/step - loss: 0.2682\n",
      "Epoch 45/100\n",
      "69/69 [==============================] - 0s 2ms/step - loss: 0.2710\n",
      "Epoch 46/100\n",
      "69/69 [==============================] - 0s 2ms/step - loss: 0.2652\n",
      "Epoch 47/100\n",
      "69/69 [==============================] - 0s 2ms/step - loss: 0.2715\n",
      "Epoch 48/100\n",
      "69/69 [==============================] - 0s 2ms/step - loss: 0.2702\n",
      "Epoch 49/100\n",
      "69/69 [==============================] - 0s 2ms/step - loss: 0.2582\n",
      "Epoch 50/100\n",
      "69/69 [==============================] - 0s 2ms/step - loss: 0.2629\n",
      "Epoch 51/100\n",
      "69/69 [==============================] - 0s 2ms/step - loss: 0.2699\n",
      "Epoch 52/100\n",
      "69/69 [==============================] - 0s 2ms/step - loss: 0.2556\n",
      "Epoch 53/100\n",
      "69/69 [==============================] - 0s 2ms/step - loss: 0.2651\n",
      "Epoch 54/100\n",
      "69/69 [==============================] - 0s 2ms/step - loss: 0.2643\n",
      "Epoch 55/100\n",
      "69/69 [==============================] - 0s 2ms/step - loss: 0.2602\n",
      "Epoch 56/100\n",
      "69/69 [==============================] - 0s 2ms/step - loss: 0.2604\n",
      "Epoch 57/100\n",
      "69/69 [==============================] - 0s 2ms/step - loss: 0.2630\n",
      "Epoch 58/100\n",
      "69/69 [==============================] - 0s 2ms/step - loss: 0.2659\n",
      "Epoch 59/100\n",
      "69/69 [==============================] - 0s 2ms/step - loss: 0.2657\n",
      "Epoch 60/100\n",
      "69/69 [==============================] - 0s 2ms/step - loss: 0.2644\n",
      "Epoch 61/100\n",
      "69/69 [==============================] - 0s 2ms/step - loss: 0.2805\n",
      "Epoch 62/100\n",
      "69/69 [==============================] - 0s 2ms/step - loss: 0.2656\n",
      "Epoch 63/100\n",
      "69/69 [==============================] - 0s 2ms/step - loss: 0.2607\n",
      "Epoch 64/100\n",
      "69/69 [==============================] - 0s 2ms/step - loss: 0.2698\n",
      "Epoch 65/100\n",
      "69/69 [==============================] - 0s 2ms/step - loss: 0.2662\n",
      "Epoch 66/100\n",
      "69/69 [==============================] - 0s 2ms/step - loss: 0.2606\n",
      "Epoch 67/100\n",
      "69/69 [==============================] - 0s 2ms/step - loss: 0.2643\n",
      "Epoch 68/100\n",
      "69/69 [==============================] - 0s 2ms/step - loss: 0.2728\n",
      "Epoch 69/100\n",
      "69/69 [==============================] - 0s 2ms/step - loss: 0.2982\n",
      "Epoch 70/100\n",
      "69/69 [==============================] - 0s 2ms/step - loss: 0.2629\n",
      "Epoch 71/100\n",
      "69/69 [==============================] - 0s 2ms/step - loss: 0.2649\n",
      "Epoch 72/100\n",
      "69/69 [==============================] - 0s 2ms/step - loss: 0.2719\n",
      "Epoch 73/100\n",
      "69/69 [==============================] - 0s 2ms/step - loss: 0.2620\n",
      "Epoch 74/100\n",
      "69/69 [==============================] - 0s 2ms/step - loss: 0.2836\n",
      "Epoch 75/100\n",
      "69/69 [==============================] - 0s 2ms/step - loss: 0.2655\n",
      "Epoch 76/100\n",
      "69/69 [==============================] - 0s 2ms/step - loss: 0.2588\n",
      "Epoch 77/100\n",
      "69/69 [==============================] - 0s 2ms/step - loss: 0.2595\n",
      "Epoch 78/100\n",
      "69/69 [==============================] - 0s 2ms/step - loss: 0.2773\n",
      "Epoch 79/100\n",
      "69/69 [==============================] - 0s 2ms/step - loss: 0.2699\n",
      "Epoch 80/100\n",
      "69/69 [==============================] - 0s 2ms/step - loss: 0.2707\n",
      "Epoch 81/100\n",
      "69/69 [==============================] - 0s 2ms/step - loss: 0.2861\n",
      "Epoch 82/100\n",
      "69/69 [==============================] - 0s 2ms/step - loss: 0.2644\n",
      "Epoch 83/100\n",
      "69/69 [==============================] - 0s 2ms/step - loss: 0.2621\n",
      "Epoch 84/100\n",
      "69/69 [==============================] - 0s 2ms/step - loss: 0.2643\n",
      "Epoch 85/100\n",
      "69/69 [==============================] - 0s 2ms/step - loss: 0.2796\n",
      "Epoch 86/100\n",
      "69/69 [==============================] - 0s 2ms/step - loss: 0.2916\n",
      "Epoch 87/100\n",
      "69/69 [==============================] - 0s 2ms/step - loss: 0.2593\n",
      "Epoch 88/100\n",
      "69/69 [==============================] - 0s 2ms/step - loss: 0.2670\n",
      "Epoch 89/100\n",
      "69/69 [==============================] - 0s 2ms/step - loss: 0.2682\n",
      "Epoch 90/100\n",
      "69/69 [==============================] - 0s 2ms/step - loss: 0.2829\n",
      "Epoch 91/100\n",
      "69/69 [==============================] - 0s 2ms/step - loss: 0.2646\n",
      "Epoch 92/100\n",
      "69/69 [==============================] - 0s 2ms/step - loss: 0.2626\n",
      "Epoch 93/100\n",
      "69/69 [==============================] - 0s 2ms/step - loss: 0.2638\n",
      "Epoch 94/100\n",
      "69/69 [==============================] - 0s 2ms/step - loss: 0.2628\n",
      "Epoch 95/100\n",
      "69/69 [==============================] - 0s 2ms/step - loss: 0.2772\n",
      "Epoch 96/100\n",
      "69/69 [==============================] - 0s 2ms/step - loss: 0.2696\n",
      "Epoch 97/100\n",
      "69/69 [==============================] - 0s 2ms/step - loss: 0.2677\n",
      "Epoch 98/100\n",
      "69/69 [==============================] - 0s 2ms/step - loss: 0.2667\n",
      "Epoch 99/100\n",
      "69/69 [==============================] - 0s 2ms/step - loss: 0.2675\n",
      "Epoch 100/100\n",
      "69/69 [==============================] - 0s 2ms/step - loss: 0.2671\n"
     ]
    },
    {
     "data": {
      "text/plain": [
       "<tensorflow.python.keras.callbacks.History at 0x1adbc8e7970>"
      ]
     },
     "execution_count": 10,
     "metadata": {},
     "output_type": "execute_result"
    }
   ],
   "source": [
    "model.fit(\n",
    "    (X1_train, X2_train),\n",
    "    Y1_train,\n",
    "    batch_size=BATCH_SIZE,\n",
    "    epochs=EPOCHS\n",
    ")"
   ]
  },
  {
   "cell_type": "code",
   "execution_count": 11,
   "id": "67f76a24",
   "metadata": {},
   "outputs": [
    {
     "name": "stdout",
     "output_type": "stream",
     "text": [
      "938/938 [==============================] - 1s 974us/step - loss: 0.2523\n"
     ]
    }
   ],
   "source": [
    "score = model.evaluate((X1_test, X2_test), Y1_test)"
   ]
  },
  {
   "cell_type": "code",
   "execution_count": 12,
   "id": "f9e21b0d",
   "metadata": {},
   "outputs": [
    {
     "data": {
      "text/plain": [
       "array([[1.5513843],\n",
       "       [1.542149 ],\n",
       "       [1.5359277],\n",
       "       ...,\n",
       "       [1.5559973],\n",
       "       [1.5151657],\n",
       "       [1.5216993]], dtype=float32)"
      ]
     },
     "execution_count": 12,
     "metadata": {},
     "output_type": "execute_result"
    }
   ],
   "source": [
    "model.predict((X1_train, X2_train))"
   ]
  },
  {
   "cell_type": "code",
   "execution_count": 13,
   "id": "2fc8b1d9",
   "metadata": {},
   "outputs": [
    {
     "data": {
      "text/plain": [
       "array([2, 1, 2, ..., 2, 2, 1])"
      ]
     },
     "execution_count": 13,
     "metadata": {},
     "output_type": "execute_result"
    }
   ],
   "source": [
    "Y1_test"
   ]
  },
  {
   "cell_type": "code",
   "execution_count": null,
   "id": "546e06d9",
   "metadata": {},
   "outputs": [],
   "source": []
  }
 ],
 "metadata": {
  "kernelspec": {
   "display_name": "Python 3 (ipykernel)",
   "language": "python",
   "name": "python3"
  },
  "language_info": {
   "codemirror_mode": {
    "name": "ipython",
    "version": 3
   },
   "file_extension": ".py",
   "mimetype": "text/x-python",
   "name": "python",
   "nbconvert_exporter": "python",
   "pygments_lexer": "ipython3",
   "version": "3.9.6"
  }
 },
 "nbformat": 4,
 "nbformat_minor": 5
}
