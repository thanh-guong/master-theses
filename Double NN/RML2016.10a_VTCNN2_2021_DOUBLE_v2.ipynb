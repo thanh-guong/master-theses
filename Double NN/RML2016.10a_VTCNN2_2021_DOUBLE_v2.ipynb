{
 "cells": [
  {
   "cell_type": "code",
   "execution_count": 1,
   "id": "b2281953",
   "metadata": {},
   "outputs": [
    {
     "name": "stdout",
     "output_type": "stream",
     "text": [
      "Requirement already satisfied: matplotlib==3.4.2 in c:\\users\\falchetto\\appdata\\local\\programs\\python\\python39\\lib\\site-packages (from -r ../requirements.txt (line 1)) (3.4.2)\n",
      "Requirement already satisfied: keras==2.4.3 in c:\\users\\falchetto\\appdata\\local\\programs\\python\\python39\\lib\\site-packages (from -r ../requirements.txt (line 2)) (2.4.3)\n",
      "Requirement already satisfied: tensorflow-gpu==2.5.0 in c:\\users\\falchetto\\appdata\\roaming\\python\\python39\\site-packages (from -r ../requirements.txt (line 3)) (2.5.0)\n",
      "Requirement already satisfied: seaborn==0.11.1 in c:\\users\\falchetto\\appdata\\roaming\\python\\python39\\site-packages (from -r ../requirements.txt (line 4)) (0.11.1)\n",
      "Requirement already satisfied: python-dateutil>=2.7 in c:\\users\\falchetto\\appdata\\local\\programs\\python\\python39\\lib\\site-packages (from matplotlib==3.4.2->-r ../requirements.txt (line 1)) (2.8.2)\n",
      "Requirement already satisfied: kiwisolver>=1.0.1 in c:\\users\\falchetto\\appdata\\local\\programs\\python\\python39\\lib\\site-packages (from matplotlib==3.4.2->-r ../requirements.txt (line 1)) (1.3.1)\n",
      "Requirement already satisfied: pillow>=6.2.0 in c:\\users\\falchetto\\appdata\\local\\programs\\python\\python39\\lib\\site-packages (from matplotlib==3.4.2->-r ../requirements.txt (line 1)) (8.3.1)\n",
      "Requirement already satisfied: cycler>=0.10 in c:\\users\\falchetto\\appdata\\local\\programs\\python\\python39\\lib\\site-packages (from matplotlib==3.4.2->-r ../requirements.txt (line 1)) (0.10.0)\n",
      "Requirement already satisfied: numpy>=1.16 in c:\\users\\falchetto\\appdata\\local\\programs\\python\\python39\\lib\\site-packages (from matplotlib==3.4.2->-r ../requirements.txt (line 1)) (1.19.5)\n",
      "Requirement already satisfied: pyparsing>=2.2.1 in c:\\users\\falchetto\\appdata\\local\\programs\\python\\python39\\lib\\site-packages (from matplotlib==3.4.2->-r ../requirements.txt (line 1)) (2.4.7)\n",
      "Requirement already satisfied: pyyaml in c:\\users\\falchetto\\appdata\\local\\programs\\python\\python39\\lib\\site-packages (from keras==2.4.3->-r ../requirements.txt (line 2)) (5.4.1)\n",
      "Requirement already satisfied: h5py in c:\\users\\falchetto\\appdata\\roaming\\python\\python39\\site-packages (from keras==2.4.3->-r ../requirements.txt (line 2)) (3.1.0)\n",
      "Requirement already satisfied: scipy>=0.14 in c:\\users\\falchetto\\appdata\\local\\programs\\python\\python39\\lib\\site-packages (from keras==2.4.3->-r ../requirements.txt (line 2)) (1.7.0)\n",
      "Requirement already satisfied: gast==0.4.0 in c:\\users\\falchetto\\appdata\\roaming\\python\\python39\\site-packages (from tensorflow-gpu==2.5.0->-r ../requirements.txt (line 3)) (0.4.0)\n",
      "Requirement already satisfied: wrapt~=1.12.1 in c:\\users\\falchetto\\appdata\\roaming\\python\\python39\\site-packages (from tensorflow-gpu==2.5.0->-r ../requirements.txt (line 3)) (1.12.1)\n",
      "Requirement already satisfied: keras-preprocessing~=1.1.2 in c:\\users\\falchetto\\appdata\\roaming\\python\\python39\\site-packages (from tensorflow-gpu==2.5.0->-r ../requirements.txt (line 3)) (1.1.2)\n",
      "Requirement already satisfied: wheel~=0.35 in c:\\users\\falchetto\\appdata\\local\\programs\\python\\python39\\lib\\site-packages (from tensorflow-gpu==2.5.0->-r ../requirements.txt (line 3)) (0.36.2)\n",
      "Requirement already satisfied: protobuf>=3.9.2 in c:\\users\\falchetto\\appdata\\local\\programs\\python\\python39\\lib\\site-packages (from tensorflow-gpu==2.5.0->-r ../requirements.txt (line 3)) (3.17.3)\n",
      "Requirement already satisfied: tensorflow-estimator<2.6.0,>=2.5.0rc0 in c:\\users\\falchetto\\appdata\\roaming\\python\\python39\\site-packages (from tensorflow-gpu==2.5.0->-r ../requirements.txt (line 3)) (2.5.0)\n",
      "Requirement already satisfied: tensorboard~=2.5 in c:\\users\\falchetto\\appdata\\roaming\\python\\python39\\site-packages (from tensorflow-gpu==2.5.0->-r ../requirements.txt (line 3)) (2.5.0)\n",
      "Requirement already satisfied: astunparse~=1.6.3 in c:\\users\\falchetto\\appdata\\roaming\\python\\python39\\site-packages (from tensorflow-gpu==2.5.0->-r ../requirements.txt (line 3)) (1.6.3)\n",
      "Requirement already satisfied: typing-extensions~=3.7.4 in c:\\users\\falchetto\\appdata\\roaming\\python\\python39\\site-packages (from tensorflow-gpu==2.5.0->-r ../requirements.txt (line 3)) (3.7.4.3)\n",
      "Requirement already satisfied: flatbuffers~=1.12.0 in c:\\users\\falchetto\\appdata\\roaming\\python\\python39\\site-packages (from tensorflow-gpu==2.5.0->-r ../requirements.txt (line 3)) (1.12)\n",
      "Requirement already satisfied: keras-nightly~=2.5.0.dev in c:\\users\\falchetto\\appdata\\roaming\\python\\python39\\site-packages (from tensorflow-gpu==2.5.0->-r ../requirements.txt (line 3)) (2.5.0.dev2021032900)\n",
      "Requirement already satisfied: termcolor~=1.1.0 in c:\\users\\falchetto\\appdata\\roaming\\python\\python39\\site-packages (from tensorflow-gpu==2.5.0->-r ../requirements.txt (line 3)) (1.1.0)\n",
      "Requirement already satisfied: grpcio~=1.34.0 in c:\\users\\falchetto\\appdata\\roaming\\python\\python39\\site-packages (from tensorflow-gpu==2.5.0->-r ../requirements.txt (line 3)) (1.34.1)\n",
      "Requirement already satisfied: opt-einsum~=3.3.0 in c:\\users\\falchetto\\appdata\\roaming\\python\\python39\\site-packages (from tensorflow-gpu==2.5.0->-r ../requirements.txt (line 3)) (3.3.0)\n",
      "Requirement already satisfied: google-pasta~=0.2 in c:\\users\\falchetto\\appdata\\roaming\\python\\python39\\site-packages (from tensorflow-gpu==2.5.0->-r ../requirements.txt (line 3)) (0.2.0)\n",
      "Requirement already satisfied: six~=1.15.0 in c:\\users\\falchetto\\appdata\\local\\programs\\python\\python39\\lib\\site-packages (from tensorflow-gpu==2.5.0->-r ../requirements.txt (line 3)) (1.15.0)\n",
      "Requirement already satisfied: absl-py~=0.10 in c:\\users\\falchetto\\appdata\\roaming\\python\\python39\\site-packages (from tensorflow-gpu==2.5.0->-r ../requirements.txt (line 3)) (0.13.0)\n",
      "Requirement already satisfied: pandas>=0.23 in c:\\users\\falchetto\\appdata\\roaming\\python\\python39\\site-packages (from seaborn==0.11.1->-r ../requirements.txt (line 4)) (1.3.1)\n",
      "Requirement already satisfied: pytz>=2017.3 in c:\\users\\falchetto\\appdata\\roaming\\python\\python39\\site-packages (from pandas>=0.23->seaborn==0.11.1->-r ../requirements.txt (line 4)) (2021.1)\n",
      "Requirement already satisfied: setuptools>=41.0.0 in c:\\users\\falchetto\\appdata\\local\\programs\\python\\python39\\lib\\site-packages (from tensorboard~=2.5->tensorflow-gpu==2.5.0->-r ../requirements.txt (line 3)) (56.0.0)\n",
      "Requirement already satisfied: tensorboard-plugin-wit>=1.6.0 in c:\\users\\falchetto\\appdata\\local\\programs\\python\\python39\\lib\\site-packages (from tensorboard~=2.5->tensorflow-gpu==2.5.0->-r ../requirements.txt (line 3)) (1.8.0)\n",
      "Requirement already satisfied: google-auth<2,>=1.6.3 in c:\\users\\falchetto\\appdata\\local\\programs\\python\\python39\\lib\\site-packages (from tensorboard~=2.5->tensorflow-gpu==2.5.0->-r ../requirements.txt (line 3)) (1.33.1)\n",
      "Requirement already satisfied: werkzeug>=0.11.15 in c:\\users\\falchetto\\appdata\\local\\programs\\python\\python39\\lib\\site-packages (from tensorboard~=2.5->tensorflow-gpu==2.5.0->-r ../requirements.txt (line 3)) (2.0.1)\n",
      "Requirement already satisfied: google-auth-oauthlib<0.5,>=0.4.1 in c:\\users\\falchetto\\appdata\\roaming\\python\\python39\\site-packages (from tensorboard~=2.5->tensorflow-gpu==2.5.0->-r ../requirements.txt (line 3)) (0.4.4)\n",
      "Requirement already satisfied: markdown>=2.6.8 in c:\\users\\falchetto\\appdata\\roaming\\python\\python39\\site-packages (from tensorboard~=2.5->tensorflow-gpu==2.5.0->-r ../requirements.txt (line 3)) (3.3.4)\n",
      "Requirement already satisfied: requests<3,>=2.21.0 in c:\\users\\falchetto\\appdata\\local\\programs\\python\\python39\\lib\\site-packages (from tensorboard~=2.5->tensorflow-gpu==2.5.0->-r ../requirements.txt (line 3)) (2.26.0)\n",
      "Requirement already satisfied: tensorboard-data-server<0.7.0,>=0.6.0 in c:\\users\\falchetto\\appdata\\local\\programs\\python\\python39\\lib\\site-packages (from tensorboard~=2.5->tensorflow-gpu==2.5.0->-r ../requirements.txt (line 3)) (0.6.1)\n",
      "Requirement already satisfied: pyasn1-modules>=0.2.1 in c:\\users\\falchetto\\appdata\\local\\programs\\python\\python39\\lib\\site-packages (from google-auth<2,>=1.6.3->tensorboard~=2.5->tensorflow-gpu==2.5.0->-r ../requirements.txt (line 3)) (0.2.8)\n",
      "Requirement already satisfied: rsa<5,>=3.1.4 in c:\\users\\falchetto\\appdata\\local\\programs\\python\\python39\\lib\\site-packages (from google-auth<2,>=1.6.3->tensorboard~=2.5->tensorflow-gpu==2.5.0->-r ../requirements.txt (line 3)) (4.7.2)\n",
      "Requirement already satisfied: cachetools<5.0,>=2.0.0 in c:\\users\\falchetto\\appdata\\local\\programs\\python\\python39\\lib\\site-packages (from google-auth<2,>=1.6.3->tensorboard~=2.5->tensorflow-gpu==2.5.0->-r ../requirements.txt (line 3)) (4.2.2)\n",
      "Requirement already satisfied: requests-oauthlib>=0.7.0 in c:\\users\\falchetto\\appdata\\local\\programs\\python\\python39\\lib\\site-packages (from google-auth-oauthlib<0.5,>=0.4.1->tensorboard~=2.5->tensorflow-gpu==2.5.0->-r ../requirements.txt (line 3)) (1.3.0)\n",
      "Requirement already satisfied: pyasn1<0.5.0,>=0.4.6 in c:\\users\\falchetto\\appdata\\local\\programs\\python\\python39\\lib\\site-packages (from pyasn1-modules>=0.2.1->google-auth<2,>=1.6.3->tensorboard~=2.5->tensorflow-gpu==2.5.0->-r ../requirements.txt (line 3)) (0.4.8)\n",
      "Requirement already satisfied: idna<4,>=2.5 in c:\\users\\falchetto\\appdata\\local\\programs\\python\\python39\\lib\\site-packages (from requests<3,>=2.21.0->tensorboard~=2.5->tensorflow-gpu==2.5.0->-r ../requirements.txt (line 3)) (3.2)\n",
      "Requirement already satisfied: urllib3<1.27,>=1.21.1 in c:\\users\\falchetto\\appdata\\local\\programs\\python\\python39\\lib\\site-packages (from requests<3,>=2.21.0->tensorboard~=2.5->tensorflow-gpu==2.5.0->-r ../requirements.txt (line 3)) (1.26.6)\n",
      "Requirement already satisfied: certifi>=2017.4.17 in c:\\users\\falchetto\\appdata\\local\\programs\\python\\python39\\lib\\site-packages (from requests<3,>=2.21.0->tensorboard~=2.5->tensorflow-gpu==2.5.0->-r ../requirements.txt (line 3)) (2021.5.30)\n",
      "Requirement already satisfied: charset-normalizer~=2.0.0 in c:\\users\\falchetto\\appdata\\local\\programs\\python\\python39\\lib\\site-packages (from requests<3,>=2.21.0->tensorboard~=2.5->tensorflow-gpu==2.5.0->-r ../requirements.txt (line 3)) (2.0.3)\n",
      "Requirement already satisfied: oauthlib>=3.0.0 in c:\\users\\falchetto\\appdata\\local\\programs\\python\\python39\\lib\\site-packages (from requests-oauthlib>=0.7.0->google-auth-oauthlib<0.5,>=0.4.1->tensorboard~=2.5->tensorflow-gpu==2.5.0->-r ../requirements.txt (line 3)) (3.1.1)\n"
     ]
    },
    {
     "name": "stderr",
     "output_type": "stream",
     "text": [
      "WARNING: You are using pip version 21.1.3; however, version 21.2.2 is available.\n",
      "You should consider upgrading via the 'c:\\users\\falchetto\\appdata\\local\\programs\\python\\python39\\python.exe -m pip install --upgrade pip' command.\n"
     ]
    }
   ],
   "source": [
    "!pip install -r ../requirements.txt"
   ]
  },
  {
   "cell_type": "markdown",
   "id": "faca914b",
   "metadata": {},
   "source": [
    "# Configuration"
   ]
  },
  {
   "cell_type": "code",
   "execution_count": 2,
   "id": "2ea7ff73",
   "metadata": {},
   "outputs": [],
   "source": [
    "ROOT_DIR = \"../\"\n",
    "\n",
    "DATA_DIR = ROOT_DIR + \"data/\"\n",
    "DATASET_2016_10a_FILENAME = DATA_DIR + \"RML2016.10a_dict.pkl\"\n",
    "\n",
    "OUTPUT_FILENAME = 'results_mp_d0.5.dat'\n",
    "NEURAL_NETWORK_FILENAME = 'convmodrecnets_mp_0.5.wts.h5'"
   ]
  },
  {
   "cell_type": "markdown",
   "id": "976fb93a",
   "metadata": {},
   "source": [
    "# Imports"
   ]
  },
  {
   "cell_type": "code",
   "execution_count": 3,
   "id": "7b91b5f5",
   "metadata": {},
   "outputs": [],
   "source": [
    "import pickle\n",
    "import pandas as pd\n",
    "import h5py\n",
    "import cmath\n",
    "import numpy as np\n",
    "\n",
    "import keras\n",
    "import keras.models as models\n",
    "from keras.layers import Input, concatenate\n",
    "from keras.layers.core import Reshape, Dense, Dropout, Activation, Flatten\n",
    "from keras.layers.convolutional import Convolution2D, MaxPooling2D, ZeroPadding2D\n",
    "\n",
    "from tensorflow.keras.layers import Input\n",
    "\n",
    "import matplotlib.pyplot as plt\n"
   ]
  },
  {
   "cell_type": "markdown",
   "id": "04e35cc0",
   "metadata": {},
   "source": [
    "# Dataset"
   ]
  },
  {
   "cell_type": "code",
   "execution_count": 4,
   "id": "3f78eea9",
   "metadata": {},
   "outputs": [],
   "source": [
    "dataset_filename = DATASET_2016_10a_FILENAME\n",
    "\n",
    "dataset = []\n",
    "\n",
    "with (open(dataset_filename, \"rb\")) as dataset_file:\n",
    "    data = dataset_file.read()\n",
    "    data_dict = pickle.loads(data, encoding='bytes') # unpickle data\n",
    "    keys = data_dict.keys()\n",
    "    \n",
    "    # for each key in dataset keys\n",
    "    for key in keys:\n",
    "        # extract modulation label and snr\n",
    "        modulation, snr = key[0].decode(\"utf-8\") , key[1]\n",
    "        \n",
    "        # for each I/Q signal couple sample\n",
    "        for signal in data_dict[key]:\n",
    "            # save the tuple (signal, modulation_label, snr) in the list\n",
    "            tuple = (signal, modulation, snr)\n",
    "            dataset.append(tuple)"
   ]
  },
  {
   "cell_type": "markdown",
   "id": "6772aa93",
   "metadata": {},
   "source": [
    "## Dataset in a pandas Dataframe"
   ]
  },
  {
   "cell_type": "code",
   "execution_count": 5,
   "id": "ff028a1f",
   "metadata": {},
   "outputs": [],
   "source": [
    "dataset_df = pd.DataFrame(data=dataset)\n",
    "\n",
    "# pandas aesthetics\n",
    "\n",
    "iq_signals_column_dataframe_name = 'IQ signals'\n",
    "modulation_label_column_dataframe_name = 'Modulation_Label'\n",
    "snr_column_dataframe_name = 'SNR'\n",
    "\n",
    "dataset_df.columns = [\n",
    "    iq_signals_column_dataframe_name,\n",
    "    modulation_label_column_dataframe_name,\n",
    "    snr_column_dataframe_name\n",
    "]"
   ]
  },
  {
   "cell_type": "markdown",
   "id": "29e29bfc",
   "metadata": {},
   "source": [
    "## Raw dataset"
   ]
  },
  {
   "cell_type": "code",
   "execution_count": 6,
   "id": "4fc27f02",
   "metadata": {},
   "outputs": [
    {
     "data": {
      "text/html": [
       "<div>\n",
       "<style scoped>\n",
       "    .dataframe tbody tr th:only-of-type {\n",
       "        vertical-align: middle;\n",
       "    }\n",
       "\n",
       "    .dataframe tbody tr th {\n",
       "        vertical-align: top;\n",
       "    }\n",
       "\n",
       "    .dataframe thead th {\n",
       "        text-align: right;\n",
       "    }\n",
       "</style>\n",
       "<table border=\"1\" class=\"dataframe\">\n",
       "  <thead>\n",
       "    <tr style=\"text-align: right;\">\n",
       "      <th></th>\n",
       "      <th>IQ signals</th>\n",
       "      <th>Modulation_Label</th>\n",
       "      <th>SNR</th>\n",
       "    </tr>\n",
       "  </thead>\n",
       "  <tbody>\n",
       "    <tr>\n",
       "      <th>0</th>\n",
       "      <td>[[-0.0059014712, -0.0023458179, -0.00074506126...</td>\n",
       "      <td>QPSK</td>\n",
       "      <td>2</td>\n",
       "    </tr>\n",
       "    <tr>\n",
       "      <th>1</th>\n",
       "      <td>[[0.0050326153, 0.00094379985, -0.0018932355, ...</td>\n",
       "      <td>QPSK</td>\n",
       "      <td>2</td>\n",
       "    </tr>\n",
       "    <tr>\n",
       "      <th>2</th>\n",
       "      <td>[[0.0052390713, 0.0073890695, 0.007276459, 0.0...</td>\n",
       "      <td>QPSK</td>\n",
       "      <td>2</td>\n",
       "    </tr>\n",
       "    <tr>\n",
       "      <th>3</th>\n",
       "      <td>[[-0.0019859935, -0.0071501383, -0.00527185, -...</td>\n",
       "      <td>QPSK</td>\n",
       "      <td>2</td>\n",
       "    </tr>\n",
       "    <tr>\n",
       "      <th>4</th>\n",
       "      <td>[[0.006674405, 0.0028359746, 0.005630027, 0.00...</td>\n",
       "      <td>QPSK</td>\n",
       "      <td>2</td>\n",
       "    </tr>\n",
       "    <tr>\n",
       "      <th>...</th>\n",
       "      <td>...</td>\n",
       "      <td>...</td>\n",
       "      <td>...</td>\n",
       "    </tr>\n",
       "    <tr>\n",
       "      <th>219995</th>\n",
       "      <td>[[0.0062732296, -0.0050519477, 0.006672171, 0....</td>\n",
       "      <td>BPSK</td>\n",
       "      <td>-18</td>\n",
       "    </tr>\n",
       "    <tr>\n",
       "      <th>219996</th>\n",
       "      <td>[[-0.003903181, -0.0015884301, -0.00633375, 2....</td>\n",
       "      <td>BPSK</td>\n",
       "      <td>-18</td>\n",
       "    </tr>\n",
       "    <tr>\n",
       "      <th>219997</th>\n",
       "      <td>[[-0.0105958255, 0.005601244, -0.012161784, 0....</td>\n",
       "      <td>BPSK</td>\n",
       "      <td>-18</td>\n",
       "    </tr>\n",
       "    <tr>\n",
       "      <th>219998</th>\n",
       "      <td>[[-0.002136606, 0.00995837, 0.0059440527, -0.0...</td>\n",
       "      <td>BPSK</td>\n",
       "      <td>-18</td>\n",
       "    </tr>\n",
       "    <tr>\n",
       "      <th>219999</th>\n",
       "      <td>[[-0.008169517, 0.0013303901, -0.002522387, -0...</td>\n",
       "      <td>BPSK</td>\n",
       "      <td>-18</td>\n",
       "    </tr>\n",
       "  </tbody>\n",
       "</table>\n",
       "<p>220000 rows × 3 columns</p>\n",
       "</div>"
      ],
      "text/plain": [
       "                                               IQ signals Modulation_Label  \\\n",
       "0       [[-0.0059014712, -0.0023458179, -0.00074506126...             QPSK   \n",
       "1       [[0.0050326153, 0.00094379985, -0.0018932355, ...             QPSK   \n",
       "2       [[0.0052390713, 0.0073890695, 0.007276459, 0.0...             QPSK   \n",
       "3       [[-0.0019859935, -0.0071501383, -0.00527185, -...             QPSK   \n",
       "4       [[0.006674405, 0.0028359746, 0.005630027, 0.00...             QPSK   \n",
       "...                                                   ...              ...   \n",
       "219995  [[0.0062732296, -0.0050519477, 0.006672171, 0....             BPSK   \n",
       "219996  [[-0.003903181, -0.0015884301, -0.00633375, 2....             BPSK   \n",
       "219997  [[-0.0105958255, 0.005601244, -0.012161784, 0....             BPSK   \n",
       "219998  [[-0.002136606, 0.00995837, 0.0059440527, -0.0...             BPSK   \n",
       "219999  [[-0.008169517, 0.0013303901, -0.002522387, -0...             BPSK   \n",
       "\n",
       "        SNR  \n",
       "0         2  \n",
       "1         2  \n",
       "2         2  \n",
       "3         2  \n",
       "4         2  \n",
       "...     ...  \n",
       "219995  -18  \n",
       "219996  -18  \n",
       "219997  -18  \n",
       "219998  -18  \n",
       "219999  -18  \n",
       "\n",
       "[220000 rows x 3 columns]"
      ]
     },
     "execution_count": 6,
     "metadata": {},
     "output_type": "execute_result"
    }
   ],
   "source": [
    "dataset_df"
   ]
  },
  {
   "cell_type": "markdown",
   "id": "4ca47381",
   "metadata": {},
   "source": [
    "# I/Q samples to Module/Phase conversion\n",
    "\n",
    "Each signal is transformed from an I/Q sample to his Module/Phase representation, and added as a column to the dataset."
   ]
  },
  {
   "cell_type": "code",
   "execution_count": 7,
   "id": "4f1ef7eb",
   "metadata": {},
   "outputs": [],
   "source": [
    "def I_Q_to_module_phase(signal):\n",
    "    modules = []\n",
    "    phases =[]\n",
    "    \n",
    "    # a signal is \n",
    "    I = signal[0]\n",
    "    Q = signal[1]\n",
    "\n",
    "    # for each <i,q> couple\n",
    "    for j in range(0, len(I)):\n",
    "        cmplx = complex(I[j], Q[j]) # <i,q> can be represented as a complex number (i = real part, q = complex part)\n",
    "\n",
    "        modules.append(abs(cmplx))\n",
    "        phases.append(cmath.phase(cmplx))\n",
    "\n",
    "    # return [module_1, module_2, ..., module_n], [phase_1, phase_2, ..., phase_n]\n",
    "    return [modules, phases]"
   ]
  },
  {
   "cell_type": "markdown",
   "id": "95a50f14",
   "metadata": {},
   "source": [
    "### Attention\n",
    "\n",
    "This isn't a really heavy computation, but careful executing this block on devices with low computational resources, it may require a long time."
   ]
  },
  {
   "cell_type": "code",
   "execution_count": 8,
   "id": "412bec1f",
   "metadata": {},
   "outputs": [],
   "source": [
    "transformed_signals = []\n",
    "\n",
    "for index, row in dataset_df.iterrows():\n",
    "    signal = row[iq_signals_column_dataframe_name]\n",
    "    transformed_signal = I_Q_to_module_phase(signal)\n",
    "    \n",
    "    # transformed_signal is a <modules, phases> couple\n",
    "    transformed_signals.append(transformed_signal)"
   ]
  },
  {
   "cell_type": "code",
   "execution_count": 9,
   "id": "3372b3d6",
   "metadata": {},
   "outputs": [],
   "source": [
    "module_phase_signals_column_dataframe_name = 'MP signals'\n",
    "\n",
    "# add Module/Phase signals to pandas Dataframe\n",
    "dataset_df[module_phase_signals_column_dataframe_name] = transformed_signals\n",
    "\n",
    "# (Aesthetics) Rearrange columns to show signal columns, and then other columns\n",
    "df_columns = [\n",
    "    iq_signals_column_dataframe_name,\n",
    "    module_phase_signals_column_dataframe_name,\n",
    "    modulation_label_column_dataframe_name,\n",
    "    snr_column_dataframe_name\n",
    "]\n",
    "dataset_df = dataset_df[df_columns]"
   ]
  },
  {
   "cell_type": "markdown",
   "id": "0aa1ec6d",
   "metadata": {},
   "source": [
    "## The dataset after adding Module/Phase signals"
   ]
  },
  {
   "cell_type": "code",
   "execution_count": 10,
   "id": "67f9d67f",
   "metadata": {},
   "outputs": [
    {
     "data": {
      "text/html": [
       "<div>\n",
       "<style scoped>\n",
       "    .dataframe tbody tr th:only-of-type {\n",
       "        vertical-align: middle;\n",
       "    }\n",
       "\n",
       "    .dataframe tbody tr th {\n",
       "        vertical-align: top;\n",
       "    }\n",
       "\n",
       "    .dataframe thead th {\n",
       "        text-align: right;\n",
       "    }\n",
       "</style>\n",
       "<table border=\"1\" class=\"dataframe\">\n",
       "  <thead>\n",
       "    <tr style=\"text-align: right;\">\n",
       "      <th></th>\n",
       "      <th>IQ signals</th>\n",
       "      <th>MP signals</th>\n",
       "      <th>Modulation_Label</th>\n",
       "      <th>SNR</th>\n",
       "    </tr>\n",
       "  </thead>\n",
       "  <tbody>\n",
       "    <tr>\n",
       "      <th>0</th>\n",
       "      <td>[[-0.0059014712, -0.0023458179, -0.00074506126...</td>\n",
       "      <td>[[0.009777415810077348, 0.008160794610184235, ...</td>\n",
       "      <td>QPSK</td>\n",
       "      <td>2</td>\n",
       "    </tr>\n",
       "    <tr>\n",
       "      <th>1</th>\n",
       "      <td>[[0.0050326153, 0.00094379985, -0.0018932355, ...</td>\n",
       "      <td>[[0.006428271419970337, 0.0018729896699540463,...</td>\n",
       "      <td>QPSK</td>\n",
       "      <td>2</td>\n",
       "    </tr>\n",
       "    <tr>\n",
       "      <th>2</th>\n",
       "      <td>[[0.0052390713, 0.0073890695, 0.007276459, 0.0...</td>\n",
       "      <td>[[0.006714471814517775, 0.010443807990507132, ...</td>\n",
       "      <td>QPSK</td>\n",
       "      <td>2</td>\n",
       "    </tr>\n",
       "    <tr>\n",
       "      <th>3</th>\n",
       "      <td>[[-0.0019859935, -0.0071501383, -0.00527185, -...</td>\n",
       "      <td>[[0.0036471206082490607, 0.008847963411403753,...</td>\n",
       "      <td>QPSK</td>\n",
       "      <td>2</td>\n",
       "    </tr>\n",
       "    <tr>\n",
       "      <th>4</th>\n",
       "      <td>[[0.006674405, 0.0028359746, 0.005630027, 0.00...</td>\n",
       "      <td>[[0.01363757358555227, 0.004953662955395487, 0...</td>\n",
       "      <td>QPSK</td>\n",
       "      <td>2</td>\n",
       "    </tr>\n",
       "    <tr>\n",
       "      <th>...</th>\n",
       "      <td>...</td>\n",
       "      <td>...</td>\n",
       "      <td>...</td>\n",
       "      <td>...</td>\n",
       "    </tr>\n",
       "    <tr>\n",
       "      <th>219995</th>\n",
       "      <td>[[0.0062732296, -0.0050519477, 0.006672171, 0....</td>\n",
       "      <td>[[0.007888647836121875, 0.00518580783630137, 0...</td>\n",
       "      <td>BPSK</td>\n",
       "      <td>-18</td>\n",
       "    </tr>\n",
       "    <tr>\n",
       "      <th>219996</th>\n",
       "      <td>[[-0.003903181, -0.0015884301, -0.00633375, 2....</td>\n",
       "      <td>[[0.004378196387910148, 0.006676949935829746, ...</td>\n",
       "      <td>BPSK</td>\n",
       "      <td>-18</td>\n",
       "    </tr>\n",
       "    <tr>\n",
       "      <th>219997</th>\n",
       "      <td>[[-0.0105958255, 0.005601244, -0.012161784, 0....</td>\n",
       "      <td>[[0.013097595344676685, 0.008587072893700217, ...</td>\n",
       "      <td>BPSK</td>\n",
       "      <td>-18</td>\n",
       "    </tr>\n",
       "    <tr>\n",
       "      <th>219998</th>\n",
       "      <td>[[-0.002136606, 0.00995837, 0.0059440527, -0.0...</td>\n",
       "      <td>[[0.004868425922433083, 0.01011580181134021, 0...</td>\n",
       "      <td>BPSK</td>\n",
       "      <td>-18</td>\n",
       "    </tr>\n",
       "    <tr>\n",
       "      <th>219999</th>\n",
       "      <td>[[-0.008169517, 0.0013303901, -0.002522387, -0...</td>\n",
       "      <td>[[0.00833586773996405, 0.001378194576230124, 0...</td>\n",
       "      <td>BPSK</td>\n",
       "      <td>-18</td>\n",
       "    </tr>\n",
       "  </tbody>\n",
       "</table>\n",
       "<p>220000 rows × 4 columns</p>\n",
       "</div>"
      ],
      "text/plain": [
       "                                               IQ signals  \\\n",
       "0       [[-0.0059014712, -0.0023458179, -0.00074506126...   \n",
       "1       [[0.0050326153, 0.00094379985, -0.0018932355, ...   \n",
       "2       [[0.0052390713, 0.0073890695, 0.007276459, 0.0...   \n",
       "3       [[-0.0019859935, -0.0071501383, -0.00527185, -...   \n",
       "4       [[0.006674405, 0.0028359746, 0.005630027, 0.00...   \n",
       "...                                                   ...   \n",
       "219995  [[0.0062732296, -0.0050519477, 0.006672171, 0....   \n",
       "219996  [[-0.003903181, -0.0015884301, -0.00633375, 2....   \n",
       "219997  [[-0.0105958255, 0.005601244, -0.012161784, 0....   \n",
       "219998  [[-0.002136606, 0.00995837, 0.0059440527, -0.0...   \n",
       "219999  [[-0.008169517, 0.0013303901, -0.002522387, -0...   \n",
       "\n",
       "                                               MP signals Modulation_Label  \\\n",
       "0       [[0.009777415810077348, 0.008160794610184235, ...             QPSK   \n",
       "1       [[0.006428271419970337, 0.0018729896699540463,...             QPSK   \n",
       "2       [[0.006714471814517775, 0.010443807990507132, ...             QPSK   \n",
       "3       [[0.0036471206082490607, 0.008847963411403753,...             QPSK   \n",
       "4       [[0.01363757358555227, 0.004953662955395487, 0...             QPSK   \n",
       "...                                                   ...              ...   \n",
       "219995  [[0.007888647836121875, 0.00518580783630137, 0...             BPSK   \n",
       "219996  [[0.004378196387910148, 0.006676949935829746, ...             BPSK   \n",
       "219997  [[0.013097595344676685, 0.008587072893700217, ...             BPSK   \n",
       "219998  [[0.004868425922433083, 0.01011580181134021, 0...             BPSK   \n",
       "219999  [[0.00833586773996405, 0.001378194576230124, 0...             BPSK   \n",
       "\n",
       "        SNR  \n",
       "0         2  \n",
       "1         2  \n",
       "2         2  \n",
       "3         2  \n",
       "4         2  \n",
       "...     ...  \n",
       "219995  -18  \n",
       "219996  -18  \n",
       "219997  -18  \n",
       "219998  -18  \n",
       "219999  -18  \n",
       "\n",
       "[220000 rows x 4 columns]"
      ]
     },
     "execution_count": 10,
     "metadata": {},
     "output_type": "execute_result"
    }
   ],
   "source": [
    "dataset_df"
   ]
  },
  {
   "cell_type": "markdown",
   "id": "a178e471",
   "metadata": {},
   "source": [
    "# Neural network"
   ]
  },
  {
   "cell_type": "markdown",
   "id": "e713de97",
   "metadata": {},
   "source": [
    "## Configuration"
   ]
  },
  {
   "cell_type": "code",
   "execution_count": 11,
   "id": "f7123fb9",
   "metadata": {},
   "outputs": [],
   "source": [
    "TRAINING_SET_DIMENSION = 0.7\n",
    "DROPOUT_RATE = 0.5\n",
    "\n",
    "# Set up some params \n",
    "NB_EPOCH = 100     # number of epochs to train on\n",
    "BATCH_SIZE = 1024  # training batch size"
   ]
  },
  {
   "cell_type": "markdown",
   "id": "6c628c4d",
   "metadata": {},
   "source": [
    "## Data prepare"
   ]
  },
  {
   "cell_type": "code",
   "execution_count": 12,
   "id": "2bba62be",
   "metadata": {},
   "outputs": [],
   "source": [
    "iq_signals = dataset_df[iq_signals_column_dataframe_name].tolist()\n",
    "mp_signals = dataset_df[module_phase_signals_column_dataframe_name].tolist()\n",
    "labels = dataset_df[modulation_label_column_dataframe_name].tolist()\n",
    "\n",
    "# [QPSQ, BPSK, ...]\n",
    "mods = dataset_df[modulation_label_column_dataframe_name].unique().tolist()\n",
    "mods.sort()\n",
    "# [-18, -16, ...]\n",
    "snrs = dataset_df[snr_column_dataframe_name].unique().tolist()\n",
    "snrs.sort()"
   ]
  },
  {
   "cell_type": "markdown",
   "id": "afebf8b3",
   "metadata": {},
   "source": [
    "### Training and Test data partitioning"
   ]
  },
  {
   "cell_type": "code",
   "execution_count": 13,
   "id": "087733f4",
   "metadata": {},
   "outputs": [],
   "source": [
    "# Partition the data\n",
    "#  into training and test sets of the form we can train/test on \n",
    "#  while keeping SNR and Mod labels handy for each\n",
    "\n",
    "# seeding the random numpy object\n",
    "np.random.seed(2016)\n",
    "\n",
    "# 220.000\n",
    "n_examples = len(iq_signals)\n",
    "\n",
    "# take a portion of the dataset as training set\n",
    "n_train = int(n_examples * TRAINING_SET_DIMENSION)\n",
    "\n",
    "# extract datapoints indexes randomly\n",
    "# train_index = [I_1, I_2, ..., I_N_TRAIN]\n",
    "train_index = np.random.choice(range(0,n_examples), size=n_train, replace=False)\n",
    "\n",
    "# obtain the remaining datapoints indexes\n",
    "# test_index = [I_1, I_2, ..., I_HALF_N_EXAMPLES]\n",
    "test_index = list(set(range(0,n_examples)) - set(train_index))\n",
    "\n",
    "iq_signals = np.array(iq_signals)\n",
    "mp_signals = np.array(mp_signals)\n",
    "\n",
    "iq_train = iq_signals[train_index]\n",
    "iq_test =  iq_signals[test_index]\n",
    "\n",
    "mp_train = mp_signals[train_index]\n",
    "mp_test =  mp_signals[test_index]"
   ]
  },
  {
   "cell_type": "markdown",
   "id": "d3119744",
   "metadata": {},
   "source": [
    "### One-hot encoding for Training and Test labels"
   ]
  },
  {
   "cell_type": "code",
   "execution_count": 14,
   "id": "4ac6b4a4",
   "metadata": {},
   "outputs": [],
   "source": [
    "def to_onehot(x):\n",
    "    input_list = list(x)\n",
    "    vectors_number = len(list(input_list))\n",
    "    number_of_elements_for_each_vector = max(input_list, default=0) + 1\n",
    "\n",
    "    # one hot encoding is a vector of zeros, and only a 1 that identifies the class\n",
    "    # producing <vectors_number> vectors of <number_of_elements_for_each_vector> elements\n",
    "    result = np.zeros([vectors_number, number_of_elements_for_each_vector])\n",
    "    \n",
    "    # placing the 1 in the correct place\n",
    "    for i in range(0, vectors_number):\n",
    "        result[i][input_list[i]] = 1\n",
    "    \n",
    "    return result\n",
    "\n",
    "Y_train = to_onehot(map(lambda x: mods.index(labels[x]), train_index))\n",
    "Y_test = to_onehot(map(lambda x: mods.index(labels[x]), test_index))"
   ]
  },
  {
   "cell_type": "markdown",
   "id": "c22c496e",
   "metadata": {},
   "source": [
    "## Build the Neural Network"
   ]
  },
  {
   "cell_type": "code",
   "execution_count": 15,
   "id": "68a376bb",
   "metadata": {},
   "outputs": [
    {
     "name": "stdout",
     "output_type": "stream",
     "text": [
      "(154000, 2, 128)\n",
      "(154000, 2, 128)\n"
     ]
    }
   ],
   "source": [
    "iq_shape = iq_train.shape\n",
    "mp_shape = mp_train.shape\n",
    "print(iq_shape)\n",
    "print(mp_shape)\n",
    "iq_shape = list(iq_shape[1:])\n",
    "mp_shape = list(mp_shape[1:])\n",
    "\n",
    "classes = mods"
   ]
  },
  {
   "cell_type": "code",
   "execution_count": 16,
   "id": "62aaf30a",
   "metadata": {},
   "outputs": [],
   "source": [
    "iq_in = keras.Input(shape=iq_shape, name=\"IQ\")\n",
    "iq_reshape = Reshape([1] + list(iq_shape))(iq_in)\n",
    "iq_zeropadding1 = ZeroPadding2D((0,2))(iq_reshape)\n",
    "iq_conv1 = Convolution2D(256, 1, 3, padding=\"same\", activation=\"relu\", name=\"iq_conv1\")(iq_zeropadding1)\n",
    "iq_dropout1 = Dropout(DROPOUT_RATE)(iq_conv1)\n",
    "iq_zeropadding2 = ZeroPadding2D((0,2))(iq_dropout1)\n",
    "iq_conv2 = Convolution2D(80, 2, 3, padding=\"same\", activation=\"relu\", name=\"iq_conv2\")(iq_zeropadding2)\n",
    "iq_dropout2 = Dropout(DROPOUT_RATE)(iq_conv2)"
   ]
  },
  {
   "cell_type": "code",
   "execution_count": 17,
   "id": "fea85ccb",
   "metadata": {},
   "outputs": [],
   "source": [
    "mp_in = keras.Input(shape=mp_shape, name=\"MP\")\n",
    "mp_reshape = Reshape([1] + list(mp_shape))(mp_in)\n",
    "mp_zeropadding1 = ZeroPadding2D((0,2))(mp_reshape)\n",
    "mp_conv1 = Convolution2D(256, 1, 3, padding=\"same\", activation=\"relu\", name=\"mp_conv1\")(mp_zeropadding1)\n",
    "mp_dropout1 = Dropout(DROPOUT_RATE)(mp_conv1)\n",
    "mp_zeropadding2 = ZeroPadding2D((0,2))(mp_dropout1)\n",
    "mp_conv2 = Convolution2D(80, 2, 3, padding=\"same\", activation=\"relu\", name=\"mp_conv2\")(mp_zeropadding2)\n",
    "mp_dropout2 = Dropout(DROPOUT_RATE)(mp_conv2)"
   ]
  },
  {
   "cell_type": "code",
   "execution_count": 18,
   "id": "59784b23",
   "metadata": {},
   "outputs": [
    {
     "name": "stdout",
     "output_type": "stream",
     "text": [
      "Model: \"model\"\n",
      "__________________________________________________________________________________________________\n",
      "Layer (type)                    Output Shape         Param #     Connected to                     \n",
      "==================================================================================================\n",
      "IQ (InputLayer)                 [(None, 2, 128)]     0                                            \n",
      "__________________________________________________________________________________________________\n",
      "MP (InputLayer)                 [(None, 2, 128)]     0                                            \n",
      "__________________________________________________________________________________________________\n",
      "reshape (Reshape)               (None, 1, 2, 128)    0           IQ[0][0]                         \n",
      "__________________________________________________________________________________________________\n",
      "reshape_1 (Reshape)             (None, 1, 2, 128)    0           MP[0][0]                         \n",
      "__________________________________________________________________________________________________\n",
      "zero_padding2d (ZeroPadding2D)  (None, 1, 6, 128)    0           reshape[0][0]                    \n",
      "__________________________________________________________________________________________________\n",
      "zero_padding2d_2 (ZeroPadding2D (None, 1, 6, 128)    0           reshape_1[0][0]                  \n",
      "__________________________________________________________________________________________________\n",
      "iq_conv1 (Conv2D)               (None, 1, 2, 256)    33024       zero_padding2d[0][0]             \n",
      "__________________________________________________________________________________________________\n",
      "mp_conv1 (Conv2D)               (None, 1, 2, 256)    33024       zero_padding2d_2[0][0]           \n",
      "__________________________________________________________________________________________________\n",
      "dropout (Dropout)               (None, 1, 2, 256)    0           iq_conv1[0][0]                   \n",
      "__________________________________________________________________________________________________\n",
      "dropout_2 (Dropout)             (None, 1, 2, 256)    0           mp_conv1[0][0]                   \n",
      "__________________________________________________________________________________________________\n",
      "zero_padding2d_1 (ZeroPadding2D (None, 1, 6, 256)    0           dropout[0][0]                    \n",
      "__________________________________________________________________________________________________\n",
      "zero_padding2d_3 (ZeroPadding2D (None, 1, 6, 256)    0           dropout_2[0][0]                  \n",
      "__________________________________________________________________________________________________\n",
      "iq_conv2 (Conv2D)               (None, 1, 2, 80)     82000       zero_padding2d_1[0][0]           \n",
      "__________________________________________________________________________________________________\n",
      "mp_conv2 (Conv2D)               (None, 1, 2, 80)     82000       zero_padding2d_3[0][0]           \n",
      "__________________________________________________________________________________________________\n",
      "concatenate (Concatenate)       (None, 1, 2, 160)    0           iq_conv2[0][0]                   \n",
      "                                                                 mp_conv2[0][0]                   \n",
      "__________________________________________________________________________________________________\n",
      "flatten (Flatten)               (None, 320)          0           concatenate[0][0]                \n",
      "__________________________________________________________________________________________________\n",
      "dense1 (Dense)                  (None, 256)          82176       flatten[0][0]                    \n",
      "__________________________________________________________________________________________________\n",
      "dropout_4 (Dropout)             (None, 256)          0           dense1[0][0]                     \n",
      "__________________________________________________________________________________________________\n",
      "dense2 (Dense)                  (None, 11)           2827        dropout_4[0][0]                  \n",
      "__________________________________________________________________________________________________\n",
      "activation (Activation)         (None, 11)           0           dense2[0][0]                     \n",
      "__________________________________________________________________________________________________\n",
      "reshape_2 (Reshape)             (None, 11)           0           activation[0][0]                 \n",
      "==================================================================================================\n",
      "Total params: 315,051\n",
      "Trainable params: 315,051\n",
      "Non-trainable params: 0\n",
      "__________________________________________________________________________________________________\n"
     ]
    }
   ],
   "source": [
    "x = concatenate([iq_conv2, mp_conv2])\n",
    "flat = Flatten()(x)\n",
    "dense1 = Dense(256, activation='relu', name=\"dense1\")(flat)\n",
    "dropout = Dropout(DROPOUT_RATE)(dense1)\n",
    "dense2 = Dense(len(classes), name=\"dense2\")(dropout)\n",
    "act = Activation('softmax')(dense2)\n",
    "output = Reshape([len(classes)])(act)\n",
    "\n",
    "model = keras.Model(inputs=[iq_in, mp_in], outputs=[output])\n",
    "\n",
    "model.compile(loss='categorical_crossentropy', optimizer='adam')\n",
    "model.summary()"
   ]
  },
  {
   "cell_type": "markdown",
   "id": "cf278efc",
   "metadata": {},
   "source": [
    "### Train the model"
   ]
  },
  {
   "cell_type": "code",
   "execution_count": 19,
   "id": "62427643",
   "metadata": {
    "scrolled": false
   },
   "outputs": [
    {
     "name": "stdout",
     "output_type": "stream",
     "text": [
      "Epoch 1/100\n",
      "151/151 [==============================] - 21s 18ms/step - loss: 2.2812 - val_loss: 2.0239\n",
      "Epoch 2/100\n",
      "151/151 [==============================] - 2s 11ms/step - loss: 2.0477 - val_loss: 1.9323\n",
      "Epoch 3/100\n",
      "151/151 [==============================] - 2s 11ms/step - loss: 1.9511 - val_loss: 1.8267\n",
      "Epoch 4/100\n",
      "151/151 [==============================] - 2s 11ms/step - loss: 1.8657 - val_loss: 1.7633\n",
      "Epoch 5/100\n",
      "151/151 [==============================] - 2s 11ms/step - loss: 1.8164 - val_loss: 1.7262\n",
      "Epoch 6/100\n",
      "151/151 [==============================] - 2s 11ms/step - loss: 1.7892 - val_loss: 1.7111\n",
      "Epoch 7/100\n",
      "151/151 [==============================] - 2s 12ms/step - loss: 1.7707 - val_loss: 1.6875\n",
      "Epoch 8/100\n",
      "151/151 [==============================] - 2s 11ms/step - loss: 1.7545 - val_loss: 1.6807\n",
      "Epoch 9/100\n",
      "151/151 [==============================] - 2s 12ms/step - loss: 1.7403 - val_loss: 1.6712\n",
      "Epoch 10/100\n",
      "151/151 [==============================] - 2s 12ms/step - loss: 1.7301 - val_loss: 1.6604\n",
      "Epoch 11/100\n",
      "151/151 [==============================] - 2s 13ms/step - loss: 1.7220 - val_loss: 1.6485\n",
      "Epoch 12/100\n",
      "151/151 [==============================] - 2s 12ms/step - loss: 1.7104 - val_loss: 1.6447\n",
      "Epoch 13/100\n",
      "151/151 [==============================] - 2s 12ms/step - loss: 1.6979 - val_loss: 1.6440\n",
      "Epoch 14/100\n",
      "151/151 [==============================] - 2s 14ms/step - loss: 1.6938 - val_loss: 1.6269\n",
      "Epoch 15/100\n",
      "151/151 [==============================] - 2s 13ms/step - loss: 1.6869 - val_loss: 1.6221\n",
      "Epoch 16/100\n",
      "151/151 [==============================] - 2s 13ms/step - loss: 1.6831 - val_loss: 1.6214\n",
      "Epoch 17/100\n",
      "151/151 [==============================] - 2s 14ms/step - loss: 1.6758 - val_loss: 1.6166\n",
      "Epoch 18/100\n",
      "151/151 [==============================] - 2s 14ms/step - loss: 1.6751 - val_loss: 1.6084\n",
      "Epoch 19/100\n",
      "151/151 [==============================] - 2s 14ms/step - loss: 1.6624 - val_loss: 1.6100\n",
      "Epoch 20/100\n",
      "151/151 [==============================] - 2s 13ms/step - loss: 1.6577 - val_loss: 1.6051\n",
      "Epoch 21/100\n",
      "151/151 [==============================] - 2s 13ms/step - loss: 1.6567 - val_loss: 1.6008\n",
      "Epoch 22/100\n",
      "151/151 [==============================] - 2s 13ms/step - loss: 1.6485 - val_loss: 1.5987\n",
      "Epoch 23/100\n",
      "151/151 [==============================] - 2s 13ms/step - loss: 1.6469 - val_loss: 1.5946\n",
      "Epoch 24/100\n",
      "151/151 [==============================] - 2s 14ms/step - loss: 1.6413 - val_loss: 1.5916\n",
      "Epoch 25/100\n",
      "151/151 [==============================] - 2s 13ms/step - loss: 1.6355 - val_loss: 1.5893\n",
      "Epoch 26/100\n",
      "151/151 [==============================] - 2s 14ms/step - loss: 1.6365 - val_loss: 1.5891\n",
      "Epoch 27/100\n",
      "151/151 [==============================] - 2s 13ms/step - loss: 1.6292 - val_loss: 1.5880\n",
      "Epoch 28/100\n",
      "151/151 [==============================] - 2s 14ms/step - loss: 1.6226 - val_loss: 1.5853\n",
      "Epoch 29/100\n",
      "151/151 [==============================] - 2s 13ms/step - loss: 1.6314 - val_loss: 1.5825\n",
      "Epoch 30/100\n",
      "151/151 [==============================] - 2s 14ms/step - loss: 1.6247 - val_loss: 1.5843\n",
      "Epoch 31/100\n",
      "151/151 [==============================] - 2s 13ms/step - loss: 1.6155 - val_loss: 1.5803\n",
      "Epoch 32/100\n",
      "151/151 [==============================] - 2s 14ms/step - loss: 1.6182 - val_loss: 1.5815\n",
      "Epoch 33/100\n",
      "151/151 [==============================] - 2s 14ms/step - loss: 1.6163 - val_loss: 1.5777\n",
      "Epoch 34/100\n",
      "151/151 [==============================] - 2s 14ms/step - loss: 1.6168 - val_loss: 1.5764\n",
      "Epoch 35/100\n",
      "151/151 [==============================] - 2s 14ms/step - loss: 1.6104 - val_loss: 1.5780\n",
      "Epoch 36/100\n",
      "151/151 [==============================] - 2s 13ms/step - loss: 1.6084 - val_loss: 1.5717\n",
      "Epoch 37/100\n",
      "151/151 [==============================] - 2s 13ms/step - loss: 1.6034 - val_loss: 1.5708\n",
      "Epoch 38/100\n",
      "151/151 [==============================] - 2s 14ms/step - loss: 1.6079 - val_loss: 1.5718\n",
      "Epoch 39/100\n",
      "151/151 [==============================] - 2s 13ms/step - loss: 1.6012 - val_loss: 1.5709\n",
      "Epoch 40/100\n",
      "151/151 [==============================] - 2s 13ms/step - loss: 1.5975 - val_loss: 1.5688\n",
      "Epoch 41/100\n",
      "151/151 [==============================] - 2s 13ms/step - loss: 1.5982 - val_loss: 1.5681\n",
      "Epoch 42/100\n",
      "151/151 [==============================] - 2s 13ms/step - loss: 1.6005 - val_loss: 1.5657\n",
      "Epoch 43/100\n",
      "151/151 [==============================] - 2s 13ms/step - loss: 1.5923 - val_loss: 1.5649\n",
      "Epoch 44/100\n",
      "151/151 [==============================] - 2s 14ms/step - loss: 1.5876 - val_loss: 1.5656\n",
      "Epoch 45/100\n",
      "151/151 [==============================] - 2s 14ms/step - loss: 1.5879 - val_loss: 1.5658\n",
      "Epoch 46/100\n",
      "151/151 [==============================] - 2s 13ms/step - loss: 1.5839 - val_loss: 1.5664\n",
      "Epoch 47/100\n",
      "151/151 [==============================] - 2s 13ms/step - loss: 1.5914 - val_loss: 1.5624\n",
      "Epoch 48/100\n",
      "151/151 [==============================] - 2s 13ms/step - loss: 1.5855 - val_loss: 1.5626\n",
      "Epoch 49/100\n",
      "151/151 [==============================] - 2s 13ms/step - loss: 1.5808 - val_loss: 1.5628\n",
      "Epoch 50/100\n",
      "151/151 [==============================] - 2s 13ms/step - loss: 1.5811 - val_loss: 1.5613\n",
      "Epoch 51/100\n",
      "151/151 [==============================] - 2s 14ms/step - loss: 1.5789 - val_loss: 1.5601\n",
      "Epoch 52/100\n",
      "151/151 [==============================] - 2s 13ms/step - loss: 1.5763 - val_loss: 1.5647\n",
      "Epoch 53/100\n",
      "151/151 [==============================] - 2s 13ms/step - loss: 1.5809 - val_loss: 1.5565\n",
      "Epoch 54/100\n",
      "151/151 [==============================] - 2s 13ms/step - loss: 1.5744 - val_loss: 1.5570\n",
      "Epoch 55/100\n",
      "151/151 [==============================] - 2s 13ms/step - loss: 1.5748 - val_loss: 1.5545\n",
      "Epoch 56/100\n",
      "151/151 [==============================] - 2s 14ms/step - loss: 1.5747 - val_loss: 1.5602\n",
      "Epoch 57/100\n",
      "151/151 [==============================] - 2s 13ms/step - loss: 1.5688 - val_loss: 1.5566\n",
      "Epoch 58/100\n",
      "151/151 [==============================] - 2s 14ms/step - loss: 1.5711 - val_loss: 1.5553\n",
      "Epoch 59/100\n",
      "151/151 [==============================] - 2s 13ms/step - loss: 1.5721 - val_loss: 1.5607\n",
      "Epoch 60/100\n",
      "151/151 [==============================] - 2s 14ms/step - loss: 1.5657 - val_loss: 1.5576\n"
     ]
    }
   ],
   "source": [
    "# perform training ...\n",
    "#   - call the main training loop in keras for our network+dataset\n",
    "filepath = NEURAL_NETWORK_FILENAME\n",
    "\n",
    "history = model.fit(\n",
    "    (iq_train, mp_train),\n",
    "    Y_train,\n",
    "    batch_size=BATCH_SIZE,\n",
    "    epochs=NB_EPOCH,\n",
    "    validation_data=((iq_test, mp_test), Y_test),\n",
    "    callbacks = [\n",
    "        keras.callbacks.ModelCheckpoint(filepath, monitor='val_loss', verbose=0, save_best_only=True, mode='auto'),\n",
    "        keras.callbacks.EarlyStopping(monitor='val_loss', patience=5, verbose=0, mode='auto')\n",
    "    ])\n",
    "\n",
    "# we re-load the best weights once training is finished\n",
    "model.load_weights(filepath)"
   ]
  },
  {
   "cell_type": "markdown",
   "id": "fd714f0e",
   "metadata": {},
   "source": [
    "# Evaluate and Plot Model Performance"
   ]
  },
  {
   "cell_type": "code",
   "execution_count": 20,
   "id": "9da0a9a4",
   "metadata": {},
   "outputs": [
    {
     "name": "stdout",
     "output_type": "stream",
     "text": [
      "65/65 [==============================] - 0s 5ms/step - loss: 1.5545\n",
      "1.5544724464416504\n"
     ]
    }
   ],
   "source": [
    "# Show simple version of performance\n",
    "score = model.evaluate((iq_test, mp_test), Y_test, batch_size=BATCH_SIZE)\n",
    "print(score)"
   ]
  },
  {
   "cell_type": "markdown",
   "id": "daaae36d",
   "metadata": {},
   "source": [
    "## Loss"
   ]
  },
  {
   "cell_type": "code",
   "execution_count": 21,
   "id": "f3482792",
   "metadata": {},
   "outputs": [
    {
     "data": {
      "text/plain": [
       "<matplotlib.legend.Legend at 0x1613761ef40>"
      ]
     },
     "execution_count": 21,
     "metadata": {},
     "output_type": "execute_result"
    },
    {
     "data": {
      "image/png": "[encoded data removed]",
      "text/plain": [
       "<Figure size 432x288 with 1 Axes>"
      ]
     },
     "metadata": {
      "needs_background": "light"
     },
     "output_type": "display_data"
    }
   ],
   "source": [
    "# Show loss curves \n",
    "plt.figure()\n",
    "plt.title('Training performance')\n",
    "plt.plot(history.epoch, history.history['loss'], label='train loss+error')\n",
    "plt.plot(history.epoch, history.history['val_loss'], label='val_error')\n",
    "plt.legend()"
   ]
  },
  {
   "cell_type": "markdown",
   "id": "49b1e29e",
   "metadata": {},
   "source": [
    "## Confusion matrix"
   ]
  },
  {
   "cell_type": "code",
   "execution_count": 22,
   "id": "c9d04f67",
   "metadata": {},
   "outputs": [],
   "source": [
    "def plot_confusion_matrix(cm, title='Confusion matrix', cmap=plt.cm.Blues, labels=[]):\n",
    "    plt.imshow(cm, interpolation='nearest', cmap=cmap)\n",
    "    plt.title(title)\n",
    "    plt.colorbar()\n",
    "    tick_marks = np.arange(len(labels))\n",
    "    plt.xticks(tick_marks, labels, rotation=45)\n",
    "    plt.yticks(tick_marks, labels)\n",
    "    plt.tight_layout()\n",
    "    plt.ylabel('True label')\n",
    "    plt.xlabel('Predicted label')"
   ]
  },
  {
   "cell_type": "code",
   "execution_count": 38,
   "id": "657d1e6e",
   "metadata": {},
   "outputs": [
    {
     "data": {
      "text/plain": [
       "array([0.09314471, 0.04079346, 0.3591785 , 0.09746072, 0.08054355,\n",
       "       0.08596458, 0.04915947, 0.04165322, 0.01951585, 0.08896324,\n",
       "       0.04362267], dtype=float32)"
      ]
     },
     "execution_count": 38,
     "metadata": {},
     "output_type": "execute_result"
    }
   ],
   "source": [
    "model.predict((iq_test, mp_test))[2]"
   ]
  },
  {
   "cell_type": "code",
   "execution_count": 39,
   "id": "186392c4",
   "metadata": {},
   "outputs": [
    {
     "data": {
      "text/plain": [
       "array([0., 0., 0., 0., 0., 0., 0., 0., 0., 1., 0.])"
      ]
     },
     "execution_count": 39,
     "metadata": {},
     "output_type": "execute_result"
    }
   ],
   "source": [
    "Y_test[2]"
   ]
  },
  {
   "cell_type": "code",
   "execution_count": 23,
   "id": "98292f6d",
   "metadata": {},
   "outputs": [
    {
     "ename": "AttributeError",
     "evalue": "'tuple' object has no attribute 'shape'",
     "output_type": "error",
     "traceback": [
      "\u001b[1;31m---------------------------------------------------------------------------\u001b[0m",
      "\u001b[1;31mAttributeError\u001b[0m                            Traceback (most recent call last)",
      "\u001b[1;32mC:\\Users\\FALCHE~1\\AppData\\Local\\Temp/ipykernel_11252/1647277517.py\u001b[0m in \u001b[0;36m<module>\u001b[1;34m\u001b[0m\n\u001b[0;32m      4\u001b[0m \u001b[0mconfnorm\u001b[0m \u001b[1;33m=\u001b[0m \u001b[0mnp\u001b[0m\u001b[1;33m.\u001b[0m\u001b[0mzeros\u001b[0m\u001b[1;33m(\u001b[0m\u001b[1;33m[\u001b[0m\u001b[0mlen\u001b[0m\u001b[1;33m(\u001b[0m\u001b[0mclasses\u001b[0m\u001b[1;33m)\u001b[0m\u001b[1;33m,\u001b[0m\u001b[0mlen\u001b[0m\u001b[1;33m(\u001b[0m\u001b[0mclasses\u001b[0m\u001b[1;33m)\u001b[0m\u001b[1;33m]\u001b[0m\u001b[1;33m)\u001b[0m\u001b[1;33m\u001b[0m\u001b[1;33m\u001b[0m\u001b[0m\n\u001b[0;32m      5\u001b[0m \u001b[1;33m\u001b[0m\u001b[0m\n\u001b[1;32m----> 6\u001b[1;33m \u001b[1;32mfor\u001b[0m \u001b[0mi\u001b[0m \u001b[1;32min\u001b[0m \u001b[0mrange\u001b[0m\u001b[1;33m(\u001b[0m\u001b[1;36m0\u001b[0m\u001b[1;33m,\u001b[0m\u001b[1;33m(\u001b[0m\u001b[0miq_test\u001b[0m\u001b[1;33m,\u001b[0m \u001b[0mmp_test\u001b[0m\u001b[1;33m)\u001b[0m\u001b[1;33m.\u001b[0m\u001b[0mshape\u001b[0m\u001b[1;33m[\u001b[0m\u001b[1;36m0\u001b[0m\u001b[1;33m]\u001b[0m\u001b[1;33m)\u001b[0m\u001b[1;33m:\u001b[0m\u001b[1;33m\u001b[0m\u001b[1;33m\u001b[0m\u001b[0m\n\u001b[0m\u001b[0;32m      7\u001b[0m     \u001b[0mj\u001b[0m \u001b[1;33m=\u001b[0m \u001b[0mlist\u001b[0m\u001b[1;33m(\u001b[0m\u001b[0mY_test\u001b[0m\u001b[1;33m[\u001b[0m\u001b[0mi\u001b[0m\u001b[1;33m,\u001b[0m\u001b[1;33m:\u001b[0m\u001b[1;33m]\u001b[0m\u001b[1;33m)\u001b[0m\u001b[1;33m.\u001b[0m\u001b[0mindex\u001b[0m\u001b[1;33m(\u001b[0m\u001b[1;36m1\u001b[0m\u001b[1;33m)\u001b[0m\u001b[1;33m\u001b[0m\u001b[1;33m\u001b[0m\u001b[0m\n\u001b[0;32m      8\u001b[0m     \u001b[0mk\u001b[0m \u001b[1;33m=\u001b[0m \u001b[0mint\u001b[0m\u001b[1;33m(\u001b[0m\u001b[0mnp\u001b[0m\u001b[1;33m.\u001b[0m\u001b[0margmax\u001b[0m\u001b[1;33m(\u001b[0m\u001b[0mtest_Y_hat\u001b[0m\u001b[1;33m[\u001b[0m\u001b[0mi\u001b[0m\u001b[1;33m,\u001b[0m\u001b[1;33m:\u001b[0m\u001b[1;33m]\u001b[0m\u001b[1;33m)\u001b[0m\u001b[1;33m)\u001b[0m\u001b[1;33m\u001b[0m\u001b[1;33m\u001b[0m\u001b[0m\n",
      "\u001b[1;31mAttributeError\u001b[0m: 'tuple' object has no attribute 'shape'"
     ]
    }
   ],
   "source": [
    "# Plot confusion matrix\n",
    "test_Y_hat = model.predict((iq_test, mp_test), batch_size=BATCH_SIZE)\n",
    "conf = np.zeros([len(classes),len(classes)])\n",
    "confnorm = np.zeros([len(classes),len(classes)])\n",
    "\n",
    "for i in range(0,(iq_test, mp_test).shape[0]):\n",
    "    j = list(Y_test[i,:]).index(1)\n",
    "    k = int(np.argmax(test_Y_hat[i,:]))\n",
    "    conf[j,k] = conf[j,k] + 1\n",
    "\n",
    "for i in range(0,len(classes)):\n",
    "    confnorm[i,:] = conf[i,:] / np.sum(conf[i,:])\n",
    "\n",
    "plot_confusion_matrix(confnorm, labels=classes)"
   ]
  },
  {
   "cell_type": "markdown",
   "id": "5b1f0243",
   "metadata": {},
   "source": [
    "## Confusion matrix for each SNR"
   ]
  },
  {
   "cell_type": "code",
   "execution_count": null,
   "id": "b690101d",
   "metadata": {
    "scrolled": false
   },
   "outputs": [],
   "source": [
    "# Plot confusion matrix\n",
    "acc = {}\n",
    "for snr in snrs:\n",
    "\n",
    "    # extract classes @ SNR\n",
    "    test_SNRs = list(dataset_df[snr_column_dataframe_name][test_index])\n",
    "    this_snr_indexes = np.where(np.array(test_SNRs) == snr)\n",
    "    \n",
    "    test_X_i = X_test[this_snr_indexes]\n",
    "    test_Y_i = Y_test[this_snr_indexes]  \n",
    "\n",
    "    # estimate classes\n",
    "    test_Y_i_hat = model.predict(test_X_i)\n",
    "    conf = np.zeros([len(classes), len(classes)])\n",
    "    confnorm = np.zeros([len(classes), len(classes)])\n",
    "    \n",
    "    for i in range(0,test_X_i.shape[0]):\n",
    "        j = list(test_Y_i[i, :]).index(1)\n",
    "        k = int(np.argmax(test_Y_i_hat[i, :]))\n",
    "        conf[j, k] = conf[j, k] + 1\n",
    "        \n",
    "    for i in range(0,len(classes)):\n",
    "        confnorm[i, :] = conf[i, :] / np.sum(conf[i, :])\n",
    "        \n",
    "    plt.figure()\n",
    "    plot_confusion_matrix(confnorm, labels=classes, title=\"ConvNet Confusion Matrix (SNR=%d)\"%(snr))\n",
    "    \n",
    "    cor = np.sum(np.diag(conf))\n",
    "    ncor = np.sum(conf) - cor\n",
    "    print(\"Overall Accuracy: \", cor / (cor+ncor))\n",
    "    acc[snr] = 1.0*cor/(cor+ncor)"
   ]
  },
  {
   "cell_type": "markdown",
   "id": "26eaef23",
   "metadata": {},
   "source": [
    "## Accuracy performance"
   ]
  },
  {
   "cell_type": "code",
   "execution_count": null,
   "id": "2fe8e792",
   "metadata": {
    "scrolled": true
   },
   "outputs": [],
   "source": [
    "accuracy_perc = {}\n",
    "for el in acc.items():\n",
    "    accuracy_perc[el[0]] = int(el[1] * 100)\n",
    "    \n",
    "accuracy_df = pd.DataFrame(data=accuracy_perc, index=[\"Accuracy %\"])\n",
    "# accuracy_df.columns = [\"SNRs\", \"Accuracy\"]\n",
    "accuracy_df"
   ]
  },
  {
   "cell_type": "code",
   "execution_count": null,
   "id": "bd3936dc",
   "metadata": {},
   "outputs": [],
   "source": [
    "# Save results to a pickle file for plotting later\n",
    "fd = open(OUTPUT_FILENAME,'wb')\n",
    "pickle.dump( (\"CNN2\", 0.5, acc) , fd )"
   ]
  },
  {
   "cell_type": "code",
   "execution_count": null,
   "id": "ceb6c561",
   "metadata": {},
   "outputs": [],
   "source": [
    "# Plot accuracy curve\n",
    "plt.plot(snrs, list(map(lambda x: acc[x], snrs)))\n",
    "plt.xlabel(\"Signal to Noise Ratio\")\n",
    "plt.ylabel(\"Classification Accuracy\")\n",
    "plt.title(\"CNN2 Classification Accuracy on RadioML 2016.10 Alpha\")"
   ]
  }
 ],
 "metadata": {
  "kernelspec": {
   "display_name": "Python 3 (ipykernel)",
   "language": "python",
   "name": "python3"
  },
  "language_info": {
   "codemirror_mode": {
    "name": "ipython",
    "version": 3
   },
   "file_extension": ".py",
   "mimetype": "text/x-python",
   "name": "python",
   "nbconvert_exporter": "python",
   "pygments_lexer": "ipython3",
   "version": "3.9.6"
  }
 },
 "nbformat": 4,
 "nbformat_minor": 5
}
