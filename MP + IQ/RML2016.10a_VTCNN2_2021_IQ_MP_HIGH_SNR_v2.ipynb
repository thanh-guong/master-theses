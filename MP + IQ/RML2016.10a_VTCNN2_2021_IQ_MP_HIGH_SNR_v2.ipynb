{
 "cells": [
  {
   "cell_type": "code",
   "execution_count": 1,
   "id": "17e910c8",
   "metadata": {
    "execution": {
     "iopub.execute_input": "2021-09-24T11:04:30.122030Z",
     "iopub.status.busy": "2021-09-24T11:04:30.121031Z",
     "iopub.status.idle": "2021-09-24T11:04:31.237337Z",
     "shell.execute_reply": "2021-09-24T11:04:31.237337Z"
    },
    "papermill": {
     "duration": 1.137252,
     "end_time": "2021-09-24T11:04:31.237337",
     "exception": false,
     "start_time": "2021-09-24T11:04:30.100085",
     "status": "completed"
    },
    "tags": []
   },
   "outputs": [
    {
     "name": "stdout",
     "output_type": "stream",
     "text": [
      "Requirement already satisfied: matplotlib==3.4.2 in c:\\users\\falchetto\\appdata\\local\\programs\\python\\python39\\lib\\site-packages (from -r ../requirements.txt (line 1)) (3.4.2)\n",
      "Requirement already satisfied: keras==2.4.3 in c:\\users\\falchetto\\appdata\\local\\programs\\python\\python39\\lib\\site-packages (from -r ../requirements.txt (line 2)) (2.4.3)\n",
      "Requirement already satisfied: tensorflow-gpu==2.5.0 in c:\\users\\falchetto\\appdata\\roaming\\python\\python39\\site-packages (from -r ../requirements.txt (line 3)) (2.5.0)\n",
      "Requirement already satisfied: seaborn==0.11.1 in c:\\users\\falchetto\\appdata\\roaming\\python\\python39\\site-packages (from -r ../requirements.txt (line 4)) (0.11.1)\n",
      "Requirement already satisfied: papermill in c:\\users\\falchetto\\appdata\\local\\programs\\python\\python39\\lib\\site-packages (from -r ../requirements.txt (line 5)) (2.3.3)\n",
      "Requirement already satisfied: python-dateutil>=2.7 in c:\\users\\falchetto\\appdata\\local\\programs\\python\\python39\\lib\\site-packages (from matplotlib==3.4.2->-r ../requirements.txt (line 1)) (2.8.2)\n",
      "Requirement already satisfied: pyparsing>=2.2.1 in c:\\users\\falchetto\\appdata\\local\\programs\\python\\python39\\lib\\site-packages (from matplotlib==3.4.2->-r ../requirements.txt (line 1)) (2.4.7)\n",
      "Requirement already satisfied: kiwisolver>=1.0.1 in c:\\users\\falchetto\\appdata\\local\\programs\\python\\python39\\lib\\site-packages (from matplotlib==3.4.2->-r ../requirements.txt (line 1)) (1.3.1)\n",
      "Requirement already satisfied: pillow>=6.2.0 in c:\\users\\falchetto\\appdata\\local\\programs\\python\\python39\\lib\\site-packages (from matplotlib==3.4.2->-r ../requirements.txt (line 1)) (8.3.1)\n",
      "Requirement already satisfied: cycler>=0.10 in c:\\users\\falchetto\\appdata\\local\\programs\\python\\python39\\lib\\site-packages (from matplotlib==3.4.2->-r ../requirements.txt (line 1)) (0.10.0)\n",
      "Requirement already satisfied: numpy>=1.16 in c:\\users\\falchetto\\appdata\\local\\programs\\python\\python39\\lib\\site-packages (from matplotlib==3.4.2->-r ../requirements.txt (line 1)) (1.19.5)\n",
      "Requirement already satisfied: pyyaml in c:\\users\\falchetto\\appdata\\local\\programs\\python\\python39\\lib\\site-packages (from keras==2.4.3->-r ../requirements.txt (line 2)) (5.4.1)\n",
      "Requirement already satisfied: h5py in c:\\users\\falchetto\\appdata\\roaming\\python\\python39\\site-packages (from keras==2.4.3->-r ../requirements.txt (line 2)) (3.1.0)\n",
      "Requirement already satisfied: scipy>=0.14 in c:\\users\\falchetto\\appdata\\local\\programs\\python\\python39\\lib\\site-packages (from keras==2.4.3->-r ../requirements.txt (line 2)) (1.7.0)\n",
      "Requirement already satisfied: wrapt~=1.12.1 in c:\\users\\falchetto\\appdata\\roaming\\python\\python39\\site-packages (from tensorflow-gpu==2.5.0->-r ../requirements.txt (line 3)) (1.12.1)\n",
      "Requirement already satisfied: google-pasta~=0.2 in c:\\users\\falchetto\\appdata\\roaming\\python\\python39\\site-packages (from tensorflow-gpu==2.5.0->-r ../requirements.txt (line 3)) (0.2.0)\n",
      "Requirement already satisfied: tensorboard~=2.5 in c:\\users\\falchetto\\appdata\\roaming\\python\\python39\\site-packages (from tensorflow-gpu==2.5.0->-r ../requirements.txt (line 3)) (2.5.0)\n",
      "Requirement already satisfied: opt-einsum~=3.3.0 in c:\\users\\falchetto\\appdata\\roaming\\python\\python39\\site-packages (from tensorflow-gpu==2.5.0->-r ../requirements.txt (line 3)) (3.3.0)\n",
      "Requirement already satisfied: keras-preprocessing~=1.1.2 in c:\\users\\falchetto\\appdata\\roaming\\python\\python39\\site-packages (from tensorflow-gpu==2.5.0->-r ../requirements.txt (line 3)) (1.1.2)\n",
      "Requirement already satisfied: grpcio~=1.34.0 in c:\\users\\falchetto\\appdata\\roaming\\python\\python39\\site-packages (from tensorflow-gpu==2.5.0->-r ../requirements.txt (line 3)) (1.34.1)\n",
      "Requirement already satisfied: protobuf>=3.9.2 in c:\\users\\falchetto\\appdata\\local\\programs\\python\\python39\\lib\\site-packages (from tensorflow-gpu==2.5.0->-r ../requirements.txt (line 3)) (3.17.3)\n",
      "Requirement already satisfied: tensorflow-estimator<2.6.0,>=2.5.0rc0 in c:\\users\\falchetto\\appdata\\roaming\\python\\python39\\site-packages (from tensorflow-gpu==2.5.0->-r ../requirements.txt (line 3)) (2.5.0)\n",
      "Requirement already satisfied: keras-nightly~=2.5.0.dev in c:\\users\\falchetto\\appdata\\roaming\\python\\python39\\site-packages (from tensorflow-gpu==2.5.0->-r ../requirements.txt (line 3)) (2.5.0.dev2021032900)\n",
      "Requirement already satisfied: absl-py~=0.10 in c:\\users\\falchetto\\appdata\\roaming\\python\\python39\\site-packages (from tensorflow-gpu==2.5.0->-r ../requirements.txt (line 3)) (0.13.0)\n",
      "Requirement already satisfied: termcolor~=1.1.0 in c:\\users\\falchetto\\appdata\\roaming\\python\\python39\\site-packages (from tensorflow-gpu==2.5.0->-r ../requirements.txt (line 3)) (1.1.0)\n",
      "Requirement already satisfied: flatbuffers~=1.12.0 in c:\\users\\falchetto\\appdata\\roaming\\python\\python39\\site-packages (from tensorflow-gpu==2.5.0->-r ../requirements.txt (line 3)) (1.12)\n",
      "Requirement already satisfied: six~=1.15.0 in c:\\users\\falchetto\\appdata\\local\\programs\\python\\python39\\lib\\site-packages (from tensorflow-gpu==2.5.0->-r ../requirements.txt (line 3)) (1.15.0)\n",
      "Requirement already satisfied: wheel~=0.35 in c:\\users\\falchetto\\appdata\\local\\programs\\python\\python39\\lib\\site-packages (from tensorflow-gpu==2.5.0->-r ../requirements.txt (line 3)) (0.36.2)\n",
      "Requirement already satisfied: typing-extensions~=3.7.4 in c:\\users\\falchetto\\appdata\\local\\programs\\python\\python39\\lib\\site-packages (from tensorflow-gpu==2.5.0->-r ../requirements.txt (line 3)) (3.7.4.3)\n",
      "Requirement already satisfied: gast==0.4.0 in c:\\users\\falchetto\\appdata\\roaming\\python\\python39\\site-packages (from tensorflow-gpu==2.5.0->-r ../requirements.txt (line 3)) (0.4.0)\n",
      "Requirement already satisfied: astunparse~=1.6.3 in c:\\users\\falchetto\\appdata\\roaming\\python\\python39\\site-packages (from tensorflow-gpu==2.5.0->-r ../requirements.txt (line 3)) (1.6.3)\n",
      "Requirement already satisfied: pandas>=0.23 in c:\\users\\falchetto\\appdata\\roaming\\python\\python39\\site-packages (from seaborn==0.11.1->-r ../requirements.txt (line 4)) (1.3.1)\n",
      "Requirement already satisfied: pytz>=2017.3 in c:\\users\\falchetto\\appdata\\roaming\\python\\python39\\site-packages (from pandas>=0.23->seaborn==0.11.1->-r ../requirements.txt (line 4)) (2021.1)\n",
      "Requirement already satisfied: setuptools>=41.0.0 in c:\\users\\falchetto\\appdata\\local\\programs\\python\\python39\\lib\\site-packages (from tensorboard~=2.5->tensorflow-gpu==2.5.0->-r ../requirements.txt (line 3)) (56.0.0)\n",
      "Requirement already satisfied: werkzeug>=0.11.15 in c:\\users\\falchetto\\appdata\\local\\programs\\python\\python39\\lib\\site-packages (from tensorboard~=2.5->tensorflow-gpu==2.5.0->-r ../requirements.txt (line 3)) (2.0.1)\n",
      "Requirement already satisfied: google-auth<2,>=1.6.3 in c:\\users\\falchetto\\appdata\\local\\programs\\python\\python39\\lib\\site-packages (from tensorboard~=2.5->tensorflow-gpu==2.5.0->-r ../requirements.txt (line 3)) (1.33.1)\n",
      "Requirement already satisfied: requests<3,>=2.21.0 in c:\\users\\falchetto\\appdata\\local\\programs\\python\\python39\\lib\\site-packages (from tensorboard~=2.5->tensorflow-gpu==2.5.0->-r ../requirements.txt (line 3)) (2.26.0)\n",
      "Requirement already satisfied: tensorboard-data-server<0.7.0,>=0.6.0 in c:\\users\\falchetto\\appdata\\local\\programs\\python\\python39\\lib\\site-packages (from tensorboard~=2.5->tensorflow-gpu==2.5.0->-r ../requirements.txt (line 3)) (0.6.1)\n",
      "Requirement already satisfied: tensorboard-plugin-wit>=1.6.0 in c:\\users\\falchetto\\appdata\\local\\programs\\python\\python39\\lib\\site-packages (from tensorboard~=2.5->tensorflow-gpu==2.5.0->-r ../requirements.txt (line 3)) (1.8.0)\n",
      "Requirement already satisfied: markdown>=2.6.8 in c:\\users\\falchetto\\appdata\\roaming\\python\\python39\\site-packages (from tensorboard~=2.5->tensorflow-gpu==2.5.0->-r ../requirements.txt (line 3)) (3.3.4)\n",
      "Requirement already satisfied: google-auth-oauthlib<0.5,>=0.4.1 in c:\\users\\falchetto\\appdata\\roaming\\python\\python39\\site-packages (from tensorboard~=2.5->tensorflow-gpu==2.5.0->-r ../requirements.txt (line 3)) (0.4.4)\n",
      "Requirement already satisfied: pyasn1-modules>=0.2.1 in c:\\users\\falchetto\\appdata\\local\\programs\\python\\python39\\lib\\site-packages (from google-auth<2,>=1.6.3->tensorboard~=2.5->tensorflow-gpu==2.5.0->-r ../requirements.txt (line 3)) (0.2.8)\n",
      "Requirement already satisfied: cachetools<5.0,>=2.0.0 in c:\\users\\falchetto\\appdata\\local\\programs\\python\\python39\\lib\\site-packages (from google-auth<2,>=1.6.3->tensorboard~=2.5->tensorflow-gpu==2.5.0->-r ../requirements.txt (line 3)) (4.2.2)\n",
      "Requirement already satisfied: rsa<5,>=3.1.4 in c:\\users\\falchetto\\appdata\\local\\programs\\python\\python39\\lib\\site-packages (from google-auth<2,>=1.6.3->tensorboard~=2.5->tensorflow-gpu==2.5.0->-r ../requirements.txt (line 3)) (4.7.2)\n",
      "Requirement already satisfied: requests-oauthlib>=0.7.0 in c:\\users\\falchetto\\appdata\\local\\programs\\python\\python39\\lib\\site-packages (from google-auth-oauthlib<0.5,>=0.4.1->tensorboard~=2.5->tensorflow-gpu==2.5.0->-r ../requirements.txt (line 3)) (1.3.0)\n",
      "Requirement already satisfied: pyasn1<0.5.0,>=0.4.6 in c:\\users\\falchetto\\appdata\\local\\programs\\python\\python39\\lib\\site-packages (from pyasn1-modules>=0.2.1->google-auth<2,>=1.6.3->tensorboard~=2.5->tensorflow-gpu==2.5.0->-r ../requirements.txt (line 3)) (0.4.8)\n",
      "Requirement already satisfied: charset-normalizer~=2.0.0 in c:\\users\\falchetto\\appdata\\local\\programs\\python\\python39\\lib\\site-packages (from requests<3,>=2.21.0->tensorboard~=2.5->tensorflow-gpu==2.5.0->-r ../requirements.txt (line 3)) (2.0.3)\n",
      "Requirement already satisfied: idna<4,>=2.5 in c:\\users\\falchetto\\appdata\\local\\programs\\python\\python39\\lib\\site-packages (from requests<3,>=2.21.0->tensorboard~=2.5->tensorflow-gpu==2.5.0->-r ../requirements.txt (line 3)) (3.2)\n",
      "Requirement already satisfied: urllib3<1.27,>=1.21.1 in c:\\users\\falchetto\\appdata\\local\\programs\\python\\python39\\lib\\site-packages (from requests<3,>=2.21.0->tensorboard~=2.5->tensorflow-gpu==2.5.0->-r ../requirements.txt (line 3)) (1.26.6)\n",
      "Requirement already satisfied: certifi>=2017.4.17 in c:\\users\\falchetto\\appdata\\local\\programs\\python\\python39\\lib\\site-packages (from requests<3,>=2.21.0->tensorboard~=2.5->tensorflow-gpu==2.5.0->-r ../requirements.txt (line 3)) (2021.5.30)\n",
      "Requirement already satisfied: oauthlib>=3.0.0 in c:\\users\\falchetto\\appdata\\local\\programs\\python\\python39\\lib\\site-packages (from requests-oauthlib>=0.7.0->google-auth-oauthlib<0.5,>=0.4.1->tensorboard~=2.5->tensorflow-gpu==2.5.0->-r ../requirements.txt (line 3)) (3.1.1)\n",
      "Requirement already satisfied: tqdm>=4.32.2 in c:\\users\\falchetto\\appdata\\local\\programs\\python\\python39\\lib\\site-packages (from papermill->-r ../requirements.txt (line 5)) (4.62.3)\n",
      "Requirement already satisfied: ansiwrap in c:\\users\\falchetto\\appdata\\local\\programs\\python\\python39\\lib\\site-packages (from papermill->-r ../requirements.txt (line 5)) (0.8.4)\n",
      "Requirement already satisfied: tenacity in c:\\users\\falchetto\\appdata\\local\\programs\\python\\python39\\lib\\site-packages (from papermill->-r ../requirements.txt (line 5)) (8.0.1)\n",
      "Requirement already satisfied: nbclient>=0.2.0 in c:\\users\\falchetto\\appdata\\local\\programs\\python\\python39\\lib\\site-packages (from papermill->-r ../requirements.txt (line 5)) (0.5.3)\n",
      "Requirement already satisfied: entrypoints in c:\\users\\falchetto\\appdata\\local\\programs\\python\\python39\\lib\\site-packages (from papermill->-r ../requirements.txt (line 5)) (0.3)\n",
      "Requirement already satisfied: black in c:\\users\\falchetto\\appdata\\local\\programs\\python\\python39\\lib\\site-packages (from papermill->-r ../requirements.txt (line 5)) (21.7b0)\n",
      "Requirement already satisfied: nbformat>=5.1.2 in c:\\users\\falchetto\\appdata\\local\\programs\\python\\python39\\lib\\site-packages (from papermill->-r ../requirements.txt (line 5)) (5.1.3)\n",
      "Requirement already satisfied: click in c:\\users\\falchetto\\appdata\\local\\programs\\python\\python39\\lib\\site-packages (from papermill->-r ../requirements.txt (line 5)) (8.0.1)\n",
      "Requirement already satisfied: nest-asyncio in c:\\users\\falchetto\\appdata\\local\\programs\\python\\python39\\lib\\site-packages (from nbclient>=0.2.0->papermill->-r ../requirements.txt (line 5)) (1.5.1)\n",
      "Requirement already satisfied: traitlets>=4.2 in c:\\users\\falchetto\\appdata\\local\\programs\\python\\python39\\lib\\site-packages (from nbclient>=0.2.0->papermill->-r ../requirements.txt (line 5)) (5.0.5)\n",
      "Requirement already satisfied: jupyter-client>=6.1.5 in c:\\users\\falchetto\\appdata\\local\\programs\\python\\python39\\lib\\site-packages (from nbclient>=0.2.0->papermill->-r ../requirements.txt (line 5)) (6.1.12)\n",
      "Requirement already satisfied: async-generator in c:\\users\\falchetto\\appdata\\local\\programs\\python\\python39\\lib\\site-packages (from nbclient>=0.2.0->papermill->-r ../requirements.txt (line 5)) (1.10)\n",
      "Requirement already satisfied: pyzmq>=13 in c:\\users\\falchetto\\appdata\\local\\programs\\python\\python39\\lib\\site-packages (from jupyter-client>=6.1.5->nbclient>=0.2.0->papermill->-r ../requirements.txt (line 5)) (22.1.0)\n",
      "Requirement already satisfied: jupyter-core>=4.6.0 in c:\\users\\falchetto\\appdata\\local\\programs\\python\\python39\\lib\\site-packages (from jupyter-client>=6.1.5->nbclient>=0.2.0->papermill->-r ../requirements.txt (line 5)) (4.7.1)\n",
      "Requirement already satisfied: tornado>=4.1 in c:\\users\\falchetto\\appdata\\local\\programs\\python\\python39\\lib\\site-packages (from jupyter-client>=6.1.5->nbclient>=0.2.0->papermill->-r ../requirements.txt (line 5)) (6.1)\n",
      "Requirement already satisfied: pywin32>=1.0 in c:\\users\\falchetto\\appdata\\local\\programs\\python\\python39\\lib\\site-packages (from jupyter-core>=4.6.0->jupyter-client>=6.1.5->nbclient>=0.2.0->papermill->-r ../requirements.txt (line 5)) (301)\n",
      "Requirement already satisfied: jsonschema!=2.5.0,>=2.4 in c:\\users\\falchetto\\appdata\\local\\programs\\python\\python39\\lib\\site-packages (from nbformat>=5.1.2->papermill->-r ../requirements.txt (line 5)) (3.2.0)\n",
      "Requirement already satisfied: ipython-genutils in c:\\users\\falchetto\\appdata\\local\\programs\\python\\python39\\lib\\site-packages (from nbformat>=5.1.2->papermill->-r ../requirements.txt (line 5)) (0.2.0)\n",
      "Requirement already satisfied: attrs>=17.4.0 in c:\\users\\falchetto\\appdata\\local\\programs\\python\\python39\\lib\\site-packages (from jsonschema!=2.5.0,>=2.4->nbformat>=5.1.2->papermill->-r ../requirements.txt (line 5)) (21.2.0)\n",
      "Requirement already satisfied: pyrsistent>=0.14.0 in c:\\users\\falchetto\\appdata\\local\\programs\\python\\python39\\lib\\site-packages (from jsonschema!=2.5.0,>=2.4->nbformat>=5.1.2->papermill->-r ../requirements.txt (line 5)) (0.18.0)\n",
      "Requirement already satisfied: colorama in c:\\users\\falchetto\\appdata\\local\\programs\\python\\python39\\lib\\site-packages (from tqdm>=4.32.2->papermill->-r ../requirements.txt (line 5)) (0.4.4)\n",
      "Requirement already satisfied: textwrap3>=0.9.2 in c:\\users\\falchetto\\appdata\\local\\programs\\python\\python39\\lib\\site-packages (from ansiwrap->papermill->-r ../requirements.txt (line 5)) (0.9.2)\n",
      "Requirement already satisfied: pathspec<1,>=0.8.1 in c:\\users\\falchetto\\appdata\\local\\programs\\python\\python39\\lib\\site-packages (from black->papermill->-r ../requirements.txt (line 5)) (0.9.0)\n",
      "Requirement already satisfied: tomli<2.0.0,>=0.2.6 in c:\\users\\falchetto\\appdata\\local\\programs\\python\\python39\\lib\\site-packages (from black->papermill->-r ../requirements.txt (line 5)) (1.2.1)\n",
      "Requirement already satisfied: mypy-extensions>=0.4.3 in c:\\users\\falchetto\\appdata\\local\\programs\\python\\python39\\lib\\site-packages (from black->papermill->-r ../requirements.txt (line 5)) (0.4.3)\n",
      "Requirement already satisfied: regex>=2020.1.8 in c:\\users\\falchetto\\appdata\\local\\programs\\python\\python39\\lib\\site-packages (from black->papermill->-r ../requirements.txt (line 5)) (2021.8.28)\n",
      "Requirement already satisfied: appdirs in c:\\users\\falchetto\\appdata\\local\\programs\\python\\python39\\lib\\site-packages (from black->papermill->-r ../requirements.txt (line 5)) (1.4.4)\n"
     ]
    },
    {
     "name": "stderr",
     "output_type": "stream",
     "text": [
      "WARNING: You are using pip version 21.1.3; however, version 21.2.4 is available.\n",
      "You should consider upgrading via the 'c:\\users\\falchetto\\appdata\\local\\programs\\python\\python39\\python.exe -m pip install --upgrade pip' command.\n"
     ]
    }
   ],
   "source": [
    "!pip install -r ../requirements.txt"
   ]
  },
  {
   "cell_type": "markdown",
   "id": "a6ffb800",
   "metadata": {
    "papermill": {
     "duration": 0.011997,
     "end_time": "2021-09-24T11:04:31.262368",
     "exception": false,
     "start_time": "2021-09-24T11:04:31.250371",
     "status": "completed"
    },
    "tags": []
   },
   "source": [
    "# Configuration"
   ]
  },
  {
   "cell_type": "code",
   "execution_count": 2,
   "id": "2ea7ff73",
   "metadata": {
    "execution": {
     "iopub.execute_input": "2021-09-24T11:04:31.289338Z",
     "iopub.status.busy": "2021-09-24T11:04:31.289338Z",
     "iopub.status.idle": "2021-09-24T11:04:31.299337Z",
     "shell.execute_reply": "2021-09-24T11:04:31.299337Z"
    },
    "papermill": {
     "duration": 0.024971,
     "end_time": "2021-09-24T11:04:31.299337",
     "exception": false,
     "start_time": "2021-09-24T11:04:31.274366",
     "status": "completed"
    },
    "tags": []
   },
   "outputs": [],
   "source": [
    "ROOT_DIR = \"../\"\n",
    "\n",
    "DATA_DIR = ROOT_DIR + \"data/\"\n",
    "DATASET_2016_10a_FILENAME = DATA_DIR + \"RML2016.10a_dict.pkl\"\n",
    "\n",
    "NEURAL_NETWORK_NAME = 'VTCNN2_v2_iq_mp_HIGH_SNR'\n",
    "\n",
    "OUTPUT_FILENAME = NEURAL_NETWORK_NAME + '.dat'\n",
    "NEURAL_NETWORK_FILENAME = NEURAL_NETWORK_NAME + '.wts.h5'\n",
    "\n",
    "HIGH_SNR_LOWER_BOUND = 10 # dB"
   ]
  },
  {
   "cell_type": "markdown",
   "id": "976fb93a",
   "metadata": {
    "papermill": {
     "duration": 0.012001,
     "end_time": "2021-09-24T11:04:31.323368",
     "exception": false,
     "start_time": "2021-09-24T11:04:31.311367",
     "status": "completed"
    },
    "tags": []
   },
   "source": [
    "# Imports"
   ]
  },
  {
   "cell_type": "code",
   "execution_count": 3,
   "id": "7b91b5f5",
   "metadata": {
    "execution": {
     "iopub.execute_input": "2021-09-24T11:04:31.350337Z",
     "iopub.status.busy": "2021-09-24T11:04:31.350337Z",
     "iopub.status.idle": "2021-09-24T11:04:33.725922Z",
     "shell.execute_reply": "2021-09-24T11:04:33.725922Z"
    },
    "papermill": {
     "duration": 2.390555,
     "end_time": "2021-09-24T11:04:33.725922",
     "exception": false,
     "start_time": "2021-09-24T11:04:31.335367",
     "status": "completed"
    },
    "tags": []
   },
   "outputs": [],
   "source": [
    "import pickle\n",
    "import pandas as pd\n",
    "import h5py\n",
    "import cmath\n",
    "import numpy as np\n",
    "\n",
    "import keras\n",
    "import keras.models as models\n",
    "from keras.layers.core import Reshape,Dense,Dropout,Activation,Flatten\n",
    "from keras.layers.convolutional import Convolution2D, MaxPooling2D, ZeroPadding2D\n",
    "\n",
    "import matplotlib.pyplot as plt\n",
    "\n",
    "import sys\n",
    "sys.path.append(ROOT_DIR)\n",
    "\n",
    "import neural_networks"
   ]
  },
  {
   "cell_type": "markdown",
   "id": "04e35cc0",
   "metadata": {
    "papermill": {
     "duration": 0.011997,
     "end_time": "2021-09-24T11:04:33.750915",
     "exception": false,
     "start_time": "2021-09-24T11:04:33.738918",
     "status": "completed"
    },
    "tags": []
   },
   "source": [
    "# Dataset"
   ]
  },
  {
   "cell_type": "code",
   "execution_count": 4,
   "id": "3f78eea9",
   "metadata": {
    "execution": {
     "iopub.execute_input": "2021-09-24T11:04:33.778928Z",
     "iopub.status.busy": "2021-09-24T11:04:33.778928Z",
     "iopub.status.idle": "2021-09-24T11:04:35.361942Z",
     "shell.execute_reply": "2021-09-24T11:04:35.361942Z"
    },
    "papermill": {
     "duration": 1.599,
     "end_time": "2021-09-24T11:04:35.362918",
     "exception": false,
     "start_time": "2021-09-24T11:04:33.763918",
     "status": "completed"
    },
    "tags": []
   },
   "outputs": [],
   "source": [
    "dataset_filename = DATASET_2016_10a_FILENAME\n",
    "\n",
    "dataset = []\n",
    "\n",
    "with (open(dataset_filename, \"rb\")) as dataset_file:\n",
    "    data = dataset_file.read()\n",
    "    data_dict = pickle.loads(data, encoding='bytes') # unpickle data\n",
    "    keys = data_dict.keys()\n",
    "    \n",
    "    # for each key in dataset keys\n",
    "    for key in keys:\n",
    "        # extract modulation label and snr\n",
    "        modulation, snr = key[0].decode(\"utf-8\") , key[1]\n",
    "        \n",
    "        # for each I/Q signal couple sample\n",
    "        for signal in data_dict[key]:\n",
    "            # save the tuple (signal, modulation_label, snr) in the list\n",
    "            tuple = (signal, modulation, snr)\n",
    "            dataset.append(tuple)"
   ]
  },
  {
   "cell_type": "markdown",
   "id": "6772aa93",
   "metadata": {
    "papermill": {
     "duration": 0.013001,
     "end_time": "2021-09-24T11:04:35.387919",
     "exception": false,
     "start_time": "2021-09-24T11:04:35.374918",
     "status": "completed"
    },
    "tags": []
   },
   "source": [
    "## Dataset in a pandas Dataframe"
   ]
  },
  {
   "cell_type": "code",
   "execution_count": 5,
   "id": "ff028a1f",
   "metadata": {
    "execution": {
     "iopub.execute_input": "2021-09-24T11:04:35.427919Z",
     "iopub.status.busy": "2021-09-24T11:04:35.427919Z",
     "iopub.status.idle": "2021-09-24T11:04:35.470918Z",
     "shell.execute_reply": "2021-09-24T11:04:35.470918Z"
    },
    "papermill": {
     "duration": 0.071,
     "end_time": "2021-09-24T11:04:35.470918",
     "exception": false,
     "start_time": "2021-09-24T11:04:35.399918",
     "status": "completed"
    },
    "tags": []
   },
   "outputs": [],
   "source": [
    "dataset_df = pd.DataFrame(data=dataset)\n",
    "\n",
    "# pandas aesthetics\n",
    "\n",
    "iq_signals_column_dataframe_name = 'IQ signals'\n",
    "modulation_label_column_dataframe_name = 'Modulation_Label'\n",
    "snr_column_dataframe_name = 'SNR'\n",
    "\n",
    "dataset_df.columns = [\n",
    "    iq_signals_column_dataframe_name,\n",
    "    modulation_label_column_dataframe_name,\n",
    "    snr_column_dataframe_name\n",
    "]"
   ]
  },
  {
   "cell_type": "markdown",
   "id": "29e29bfc",
   "metadata": {
    "papermill": {
     "duration": 0.012996,
     "end_time": "2021-09-24T11:04:35.496918",
     "exception": false,
     "start_time": "2021-09-24T11:04:35.483922",
     "status": "completed"
    },
    "tags": []
   },
   "source": [
    "## Raw dataset"
   ]
  },
  {
   "cell_type": "code",
   "execution_count": 6,
   "id": "4fc27f02",
   "metadata": {
    "execution": {
     "iopub.execute_input": "2021-09-24T11:04:35.525918Z",
     "iopub.status.busy": "2021-09-24T11:04:35.525918Z",
     "iopub.status.idle": "2021-09-24T11:04:35.547916Z",
     "shell.execute_reply": "2021-09-24T11:04:35.547916Z"
    },
    "papermill": {
     "duration": 0.037997,
     "end_time": "2021-09-24T11:04:35.547916",
     "exception": false,
     "start_time": "2021-09-24T11:04:35.509919",
     "status": "completed"
    },
    "tags": []
   },
   "outputs": [
    {
     "data": {
      "text/html": [
       "<div>\n",
       "<style scoped>\n",
       "    .dataframe tbody tr th:only-of-type {\n",
       "        vertical-align: middle;\n",
       "    }\n",
       "\n",
       "    .dataframe tbody tr th {\n",
       "        vertical-align: top;\n",
       "    }\n",
       "\n",
       "    .dataframe thead th {\n",
       "        text-align: right;\n",
       "    }\n",
       "</style>\n",
       "<table border=\"1\" class=\"dataframe\">\n",
       "  <thead>\n",
       "    <tr style=\"text-align: right;\">\n",
       "      <th></th>\n",
       "      <th>IQ signals</th>\n",
       "      <th>Modulation_Label</th>\n",
       "      <th>SNR</th>\n",
       "    </tr>\n",
       "  </thead>\n",
       "  <tbody>\n",
       "    <tr>\n",
       "      <th>0</th>\n",
       "      <td>[[-0.0059014712, -0.0023458179, -0.00074506126...</td>\n",
       "      <td>QPSK</td>\n",
       "      <td>2</td>\n",
       "    </tr>\n",
       "    <tr>\n",
       "      <th>1</th>\n",
       "      <td>[[0.0050326153, 0.00094379985, -0.0018932355, ...</td>\n",
       "      <td>QPSK</td>\n",
       "      <td>2</td>\n",
       "    </tr>\n",
       "    <tr>\n",
       "      <th>2</th>\n",
       "      <td>[[0.0052390713, 0.0073890695, 0.007276459, 0.0...</td>\n",
       "      <td>QPSK</td>\n",
       "      <td>2</td>\n",
       "    </tr>\n",
       "    <tr>\n",
       "      <th>3</th>\n",
       "      <td>[[-0.0019859935, -0.0071501383, -0.00527185, -...</td>\n",
       "      <td>QPSK</td>\n",
       "      <td>2</td>\n",
       "    </tr>\n",
       "    <tr>\n",
       "      <th>4</th>\n",
       "      <td>[[0.006674405, 0.0028359746, 0.005630027, 0.00...</td>\n",
       "      <td>QPSK</td>\n",
       "      <td>2</td>\n",
       "    </tr>\n",
       "    <tr>\n",
       "      <th>...</th>\n",
       "      <td>...</td>\n",
       "      <td>...</td>\n",
       "      <td>...</td>\n",
       "    </tr>\n",
       "    <tr>\n",
       "      <th>219995</th>\n",
       "      <td>[[0.0062732296, -0.0050519477, 0.006672171, 0....</td>\n",
       "      <td>BPSK</td>\n",
       "      <td>-18</td>\n",
       "    </tr>\n",
       "    <tr>\n",
       "      <th>219996</th>\n",
       "      <td>[[-0.003903181, -0.0015884301, -0.00633375, 2....</td>\n",
       "      <td>BPSK</td>\n",
       "      <td>-18</td>\n",
       "    </tr>\n",
       "    <tr>\n",
       "      <th>219997</th>\n",
       "      <td>[[-0.0105958255, 0.005601244, -0.012161784, 0....</td>\n",
       "      <td>BPSK</td>\n",
       "      <td>-18</td>\n",
       "    </tr>\n",
       "    <tr>\n",
       "      <th>219998</th>\n",
       "      <td>[[-0.002136606, 0.00995837, 0.0059440527, -0.0...</td>\n",
       "      <td>BPSK</td>\n",
       "      <td>-18</td>\n",
       "    </tr>\n",
       "    <tr>\n",
       "      <th>219999</th>\n",
       "      <td>[[-0.008169517, 0.0013303901, -0.002522387, -0...</td>\n",
       "      <td>BPSK</td>\n",
       "      <td>-18</td>\n",
       "    </tr>\n",
       "  </tbody>\n",
       "</table>\n",
       "<p>220000 rows × 3 columns</p>\n",
       "</div>"
      ],
      "text/plain": [
       "                                               IQ signals Modulation_Label  \\\n",
       "0       [[-0.0059014712, -0.0023458179, -0.00074506126...             QPSK   \n",
       "1       [[0.0050326153, 0.00094379985, -0.0018932355, ...             QPSK   \n",
       "2       [[0.0052390713, 0.0073890695, 0.007276459, 0.0...             QPSK   \n",
       "3       [[-0.0019859935, -0.0071501383, -0.00527185, -...             QPSK   \n",
       "4       [[0.006674405, 0.0028359746, 0.005630027, 0.00...             QPSK   \n",
       "...                                                   ...              ...   \n",
       "219995  [[0.0062732296, -0.0050519477, 0.006672171, 0....             BPSK   \n",
       "219996  [[-0.003903181, -0.0015884301, -0.00633375, 2....             BPSK   \n",
       "219997  [[-0.0105958255, 0.005601244, -0.012161784, 0....             BPSK   \n",
       "219998  [[-0.002136606, 0.00995837, 0.0059440527, -0.0...             BPSK   \n",
       "219999  [[-0.008169517, 0.0013303901, -0.002522387, -0...             BPSK   \n",
       "\n",
       "        SNR  \n",
       "0         2  \n",
       "1         2  \n",
       "2         2  \n",
       "3         2  \n",
       "4         2  \n",
       "...     ...  \n",
       "219995  -18  \n",
       "219996  -18  \n",
       "219997  -18  \n",
       "219998  -18  \n",
       "219999  -18  \n",
       "\n",
       "[220000 rows x 3 columns]"
      ]
     },
     "execution_count": 6,
     "metadata": {},
     "output_type": "execute_result"
    }
   ],
   "source": [
    "dataset_df"
   ]
  },
  {
   "cell_type": "markdown",
   "id": "3f3b42be",
   "metadata": {
    "papermill": {
     "duration": 0.011999,
     "end_time": "2021-09-24T11:04:35.572912",
     "exception": false,
     "start_time": "2021-09-24T11:04:35.560913",
     "status": "completed"
    },
    "tags": []
   },
   "source": [
    "# I/Q samples to Module/Phase conversion\n",
    "\n",
    "Each signal is transformed from an I/Q sample to his Module/Phase representation, and added as a column to the dataset."
   ]
  },
  {
   "cell_type": "code",
   "execution_count": 7,
   "id": "724c78e2",
   "metadata": {
    "execution": {
     "iopub.execute_input": "2021-09-24T11:04:35.602885Z",
     "iopub.status.busy": "2021-09-24T11:04:35.602885Z",
     "iopub.status.idle": "2021-09-24T11:04:35.609883Z",
     "shell.execute_reply": "2021-09-24T11:04:35.609883Z"
    },
    "papermill": {
     "duration": 0.023971,
     "end_time": "2021-09-24T11:04:35.609883",
     "exception": false,
     "start_time": "2021-09-24T11:04:35.585912",
     "status": "completed"
    },
    "tags": []
   },
   "outputs": [],
   "source": [
    "def I_Q_to_module_phase(signal):\n",
    "    modules = []\n",
    "    phases =[]\n",
    "    \n",
    "    # a signal is \n",
    "    I = signal[0]\n",
    "    Q = signal[1]\n",
    "\n",
    "    # for each <i,q> couple\n",
    "    for j in range(0, len(I)):\n",
    "        cmplx = complex(I[j], Q[j]) # <i,q> can be represented as a complex number (i = real part, q = complex part)\n",
    "\n",
    "        modules.append(abs(cmplx))\n",
    "        phases.append(cmath.phase(cmplx))\n",
    "\n",
    "    # return [module_1, module_2, ..., module_n], [phase_1, phase_2, ..., phase_n]\n",
    "    return modules, phases"
   ]
  },
  {
   "cell_type": "markdown",
   "id": "6a66e04f",
   "metadata": {
    "papermill": {
     "duration": 0.013,
     "end_time": "2021-09-24T11:04:35.635912",
     "exception": false,
     "start_time": "2021-09-24T11:04:35.622912",
     "status": "completed"
    },
    "tags": []
   },
   "source": [
    "### Attention\n",
    "\n",
    "This isn't a really heavy computation, but careful executing this block on devices with low computational resources, it may require a long time."
   ]
  },
  {
   "cell_type": "code",
   "execution_count": 8,
   "id": "d6ecebb3",
   "metadata": {
    "execution": {
     "iopub.execute_input": "2021-09-24T11:04:35.665912Z",
     "iopub.status.busy": "2021-09-24T11:04:35.663929Z",
     "iopub.status.idle": "2021-09-24T11:05:00.572992Z",
     "shell.execute_reply": "2021-09-24T11:05:00.572992Z"
    },
    "papermill": {
     "duration": 24.9241,
     "end_time": "2021-09-24T11:05:00.573982",
     "exception": false,
     "start_time": "2021-09-24T11:04:35.649882",
     "status": "completed"
    },
    "tags": []
   },
   "outputs": [],
   "source": [
    "transformed_signals = []\n",
    "\n",
    "for index, row in dataset_df.iterrows():\n",
    "    signal = row[iq_signals_column_dataframe_name]\n",
    "    transformed_signal = I_Q_to_module_phase(signal)\n",
    "    \n",
    "    # transformed_signal is a <modules, phases> couple\n",
    "    transformed_signals.append(transformed_signal)"
   ]
  },
  {
   "cell_type": "code",
   "execution_count": 9,
   "id": "7d2b1ca7",
   "metadata": {
    "execution": {
     "iopub.execute_input": "2021-09-24T11:05:01.378986Z",
     "iopub.status.busy": "2021-09-24T11:05:01.377954Z",
     "iopub.status.idle": "2021-09-24T11:05:01.413995Z",
     "shell.execute_reply": "2021-09-24T11:05:01.413995Z"
    },
    "papermill": {
     "duration": 0.826984,
     "end_time": "2021-09-24T11:05:01.413995",
     "exception": false,
     "start_time": "2021-09-24T11:05:00.587011",
     "status": "completed"
    },
    "tags": []
   },
   "outputs": [],
   "source": [
    "module_phase_signals_column_dataframe_name = 'MP signals'\n",
    "\n",
    "# add Module/Phase signals to pandas Dataframe\n",
    "dataset_df[module_phase_signals_column_dataframe_name] = transformed_signals\n",
    "\n",
    "# (Aesthetics) Rearrange columns to show signal columns, and then other columns\n",
    "df_columns = [\n",
    "    iq_signals_column_dataframe_name,\n",
    "    module_phase_signals_column_dataframe_name,\n",
    "    modulation_label_column_dataframe_name,\n",
    "    snr_column_dataframe_name\n",
    "]\n",
    "dataset_df = dataset_df[df_columns]"
   ]
  },
  {
   "cell_type": "markdown",
   "id": "4289beed",
   "metadata": {
    "papermill": {
     "duration": 0.012997,
     "end_time": "2021-09-24T11:05:01.439983",
     "exception": false,
     "start_time": "2021-09-24T11:05:01.426986",
     "status": "completed"
    },
    "tags": []
   },
   "source": [
    "## The dataset after adding Module/Phase signals"
   ]
  },
  {
   "cell_type": "code",
   "execution_count": 10,
   "id": "56ef7805",
   "metadata": {
    "execution": {
     "iopub.execute_input": "2021-09-24T11:05:01.493991Z",
     "iopub.status.busy": "2021-09-24T11:05:01.474986Z",
     "iopub.status.idle": "2021-09-24T11:05:01.506935Z",
     "shell.execute_reply": "2021-09-24T11:05:01.506935Z"
    },
    "papermill": {
     "duration": 0.053951,
     "end_time": "2021-09-24T11:05:01.506935",
     "exception": false,
     "start_time": "2021-09-24T11:05:01.452984",
     "status": "completed"
    },
    "tags": []
   },
   "outputs": [
    {
     "data": {
      "text/html": [
       "<div>\n",
       "<style scoped>\n",
       "    .dataframe tbody tr th:only-of-type {\n",
       "        vertical-align: middle;\n",
       "    }\n",
       "\n",
       "    .dataframe tbody tr th {\n",
       "        vertical-align: top;\n",
       "    }\n",
       "\n",
       "    .dataframe thead th {\n",
       "        text-align: right;\n",
       "    }\n",
       "</style>\n",
       "<table border=\"1\" class=\"dataframe\">\n",
       "  <thead>\n",
       "    <tr style=\"text-align: right;\">\n",
       "      <th></th>\n",
       "      <th>IQ signals</th>\n",
       "      <th>MP signals</th>\n",
       "      <th>Modulation_Label</th>\n",
       "      <th>SNR</th>\n",
       "    </tr>\n",
       "  </thead>\n",
       "  <tbody>\n",
       "    <tr>\n",
       "      <th>0</th>\n",
       "      <td>[[-0.0059014712, -0.0023458179, -0.00074506126...</td>\n",
       "      <td>([0.009777415810077348, 0.008160794610184235, ...</td>\n",
       "      <td>QPSK</td>\n",
       "      <td>2</td>\n",
       "    </tr>\n",
       "    <tr>\n",
       "      <th>1</th>\n",
       "      <td>[[0.0050326153, 0.00094379985, -0.0018932355, ...</td>\n",
       "      <td>([0.006428271419970337, 0.0018729896699540463,...</td>\n",
       "      <td>QPSK</td>\n",
       "      <td>2</td>\n",
       "    </tr>\n",
       "    <tr>\n",
       "      <th>2</th>\n",
       "      <td>[[0.0052390713, 0.0073890695, 0.007276459, 0.0...</td>\n",
       "      <td>([0.006714471814517775, 0.010443807990507132, ...</td>\n",
       "      <td>QPSK</td>\n",
       "      <td>2</td>\n",
       "    </tr>\n",
       "    <tr>\n",
       "      <th>3</th>\n",
       "      <td>[[-0.0019859935, -0.0071501383, -0.00527185, -...</td>\n",
       "      <td>([0.0036471206082490607, 0.008847963411403753,...</td>\n",
       "      <td>QPSK</td>\n",
       "      <td>2</td>\n",
       "    </tr>\n",
       "    <tr>\n",
       "      <th>4</th>\n",
       "      <td>[[0.006674405, 0.0028359746, 0.005630027, 0.00...</td>\n",
       "      <td>([0.01363757358555227, 0.004953662955395487, 0...</td>\n",
       "      <td>QPSK</td>\n",
       "      <td>2</td>\n",
       "    </tr>\n",
       "    <tr>\n",
       "      <th>...</th>\n",
       "      <td>...</td>\n",
       "      <td>...</td>\n",
       "      <td>...</td>\n",
       "      <td>...</td>\n",
       "    </tr>\n",
       "    <tr>\n",
       "      <th>219995</th>\n",
       "      <td>[[0.0062732296, -0.0050519477, 0.006672171, 0....</td>\n",
       "      <td>([0.007888647836121875, 0.00518580783630137, 0...</td>\n",
       "      <td>BPSK</td>\n",
       "      <td>-18</td>\n",
       "    </tr>\n",
       "    <tr>\n",
       "      <th>219996</th>\n",
       "      <td>[[-0.003903181, -0.0015884301, -0.00633375, 2....</td>\n",
       "      <td>([0.004378196387910148, 0.006676949935829746, ...</td>\n",
       "      <td>BPSK</td>\n",
       "      <td>-18</td>\n",
       "    </tr>\n",
       "    <tr>\n",
       "      <th>219997</th>\n",
       "      <td>[[-0.0105958255, 0.005601244, -0.012161784, 0....</td>\n",
       "      <td>([0.013097595344676685, 0.008587072893700217, ...</td>\n",
       "      <td>BPSK</td>\n",
       "      <td>-18</td>\n",
       "    </tr>\n",
       "    <tr>\n",
       "      <th>219998</th>\n",
       "      <td>[[-0.002136606, 0.00995837, 0.0059440527, -0.0...</td>\n",
       "      <td>([0.004868425922433083, 0.01011580181134021, 0...</td>\n",
       "      <td>BPSK</td>\n",
       "      <td>-18</td>\n",
       "    </tr>\n",
       "    <tr>\n",
       "      <th>219999</th>\n",
       "      <td>[[-0.008169517, 0.0013303901, -0.002522387, -0...</td>\n",
       "      <td>([0.00833586773996405, 0.001378194576230124, 0...</td>\n",
       "      <td>BPSK</td>\n",
       "      <td>-18</td>\n",
       "    </tr>\n",
       "  </tbody>\n",
       "</table>\n",
       "<p>220000 rows × 4 columns</p>\n",
       "</div>"
      ],
      "text/plain": [
       "                                               IQ signals  \\\n",
       "0       [[-0.0059014712, -0.0023458179, -0.00074506126...   \n",
       "1       [[0.0050326153, 0.00094379985, -0.0018932355, ...   \n",
       "2       [[0.0052390713, 0.0073890695, 0.007276459, 0.0...   \n",
       "3       [[-0.0019859935, -0.0071501383, -0.00527185, -...   \n",
       "4       [[0.006674405, 0.0028359746, 0.005630027, 0.00...   \n",
       "...                                                   ...   \n",
       "219995  [[0.0062732296, -0.0050519477, 0.006672171, 0....   \n",
       "219996  [[-0.003903181, -0.0015884301, -0.00633375, 2....   \n",
       "219997  [[-0.0105958255, 0.005601244, -0.012161784, 0....   \n",
       "219998  [[-0.002136606, 0.00995837, 0.0059440527, -0.0...   \n",
       "219999  [[-0.008169517, 0.0013303901, -0.002522387, -0...   \n",
       "\n",
       "                                               MP signals Modulation_Label  \\\n",
       "0       ([0.009777415810077348, 0.008160794610184235, ...             QPSK   \n",
       "1       ([0.006428271419970337, 0.0018729896699540463,...             QPSK   \n",
       "2       ([0.006714471814517775, 0.010443807990507132, ...             QPSK   \n",
       "3       ([0.0036471206082490607, 0.008847963411403753,...             QPSK   \n",
       "4       ([0.01363757358555227, 0.004953662955395487, 0...             QPSK   \n",
       "...                                                   ...              ...   \n",
       "219995  ([0.007888647836121875, 0.00518580783630137, 0...             BPSK   \n",
       "219996  ([0.004378196387910148, 0.006676949935829746, ...             BPSK   \n",
       "219997  ([0.013097595344676685, 0.008587072893700217, ...             BPSK   \n",
       "219998  ([0.004868425922433083, 0.01011580181134021, 0...             BPSK   \n",
       "219999  ([0.00833586773996405, 0.001378194576230124, 0...             BPSK   \n",
       "\n",
       "        SNR  \n",
       "0         2  \n",
       "1         2  \n",
       "2         2  \n",
       "3         2  \n",
       "4         2  \n",
       "...     ...  \n",
       "219995  -18  \n",
       "219996  -18  \n",
       "219997  -18  \n",
       "219998  -18  \n",
       "219999  -18  \n",
       "\n",
       "[220000 rows x 4 columns]"
      ]
     },
     "execution_count": 10,
     "metadata": {},
     "output_type": "execute_result"
    }
   ],
   "source": [
    "dataset_df"
   ]
  },
  {
   "cell_type": "markdown",
   "id": "8bc4f13f",
   "metadata": {
    "papermill": {
     "duration": 0.014,
     "end_time": "2021-09-24T11:05:01.533935",
     "exception": false,
     "start_time": "2021-09-24T11:05:01.519935",
     "status": "completed"
    },
    "tags": []
   },
   "source": [
    "## Filter dataset for training with HIGH SNR only: at least 10 dB SNR"
   ]
  },
  {
   "cell_type": "code",
   "execution_count": 11,
   "id": "d2cf42d2",
   "metadata": {
    "execution": {
     "iopub.execute_input": "2021-09-24T11:05:01.561964Z",
     "iopub.status.busy": "2021-09-24T11:05:01.561964Z",
     "iopub.status.idle": "2021-09-24T11:05:01.601951Z",
     "shell.execute_reply": "2021-09-24T11:05:01.601951Z"
    },
    "papermill": {
     "duration": 0.055016,
     "end_time": "2021-09-24T11:05:01.601951",
     "exception": false,
     "start_time": "2021-09-24T11:05:01.546935",
     "status": "completed"
    },
    "tags": []
   },
   "outputs": [
    {
     "data": {
      "text/html": [
       "<div>\n",
       "<style scoped>\n",
       "    .dataframe tbody tr th:only-of-type {\n",
       "        vertical-align: middle;\n",
       "    }\n",
       "\n",
       "    .dataframe tbody tr th {\n",
       "        vertical-align: top;\n",
       "    }\n",
       "\n",
       "    .dataframe thead th {\n",
       "        text-align: right;\n",
       "    }\n",
       "</style>\n",
       "<table border=\"1\" class=\"dataframe\">\n",
       "  <thead>\n",
       "    <tr style=\"text-align: right;\">\n",
       "      <th></th>\n",
       "      <th>IQ signals</th>\n",
       "      <th>MP signals</th>\n",
       "      <th>Modulation_Label</th>\n",
       "      <th>SNR</th>\n",
       "    </tr>\n",
       "  </thead>\n",
       "  <tbody>\n",
       "    <tr>\n",
       "      <th>5000</th>\n",
       "      <td>[[0.0010849662, 0.0079283025, -0.002837673, 0....</td>\n",
       "      <td>([0.007047495275874654, 0.009946573251027775, ...</td>\n",
       "      <td>AM-SSB</td>\n",
       "      <td>12</td>\n",
       "    </tr>\n",
       "    <tr>\n",
       "      <th>5001</th>\n",
       "      <td>[[-0.0037544249, 0.0034207758, -0.0040703234, ...</td>\n",
       "      <td>([0.0037803616302388293, 0.0038188681224146557...</td>\n",
       "      <td>AM-SSB</td>\n",
       "      <td>12</td>\n",
       "    </tr>\n",
       "    <tr>\n",
       "      <th>5002</th>\n",
       "      <td>[[0.0019210369, -0.010300477, -0.00801645, 0.0...</td>\n",
       "      <td>([0.008914146913599099, 0.013252869317227743, ...</td>\n",
       "      <td>AM-SSB</td>\n",
       "      <td>12</td>\n",
       "    </tr>\n",
       "    <tr>\n",
       "      <th>5003</th>\n",
       "      <td>[[0.0009419464, -0.0010139677, 0.0034730528, -...</td>\n",
       "      <td>([0.005620676898329677, 0.004663349318665007, ...</td>\n",
       "      <td>AM-SSB</td>\n",
       "      <td>12</td>\n",
       "    </tr>\n",
       "    <tr>\n",
       "      <th>5004</th>\n",
       "      <td>[[-0.00891647, 0.0006878033, -0.002268499, 0.0...</td>\n",
       "      <td>([0.020506717733189378, 0.006586326119695563, ...</td>\n",
       "      <td>AM-SSB</td>\n",
       "      <td>12</td>\n",
       "    </tr>\n",
       "    <tr>\n",
       "      <th>...</th>\n",
       "      <td>...</td>\n",
       "      <td>...</td>\n",
       "      <td>...</td>\n",
       "      <td>...</td>\n",
       "    </tr>\n",
       "    <tr>\n",
       "      <th>214995</th>\n",
       "      <td>[[0.00041843185, 0.0006587509, 0.00080177194, ...</td>\n",
       "      <td>([0.007702281656250561, 0.007798998711389672, ...</td>\n",
       "      <td>AM-DSB</td>\n",
       "      <td>12</td>\n",
       "    </tr>\n",
       "    <tr>\n",
       "      <th>214996</th>\n",
       "      <td>[[0.0013838852, 0.0012232062, 0.0010781031, 0....</td>\n",
       "      <td>([0.007985671798632027, 0.0077569131836668125,...</td>\n",
       "      <td>AM-DSB</td>\n",
       "      <td>12</td>\n",
       "    </tr>\n",
       "    <tr>\n",
       "      <th>214997</th>\n",
       "      <td>[[0.0014226807, 0.0016607252, 0.0015581344, 0....</td>\n",
       "      <td>([0.007998592616712956, 0.007767714288546494, ...</td>\n",
       "      <td>AM-DSB</td>\n",
       "      <td>12</td>\n",
       "    </tr>\n",
       "    <tr>\n",
       "      <th>214998</th>\n",
       "      <td>[[0.0011526298, 0.0015653906, 0.0014872396, 0....</td>\n",
       "      <td>([0.007667885147726929, 0.00797276132649378, 0...</td>\n",
       "      <td>AM-DSB</td>\n",
       "      <td>12</td>\n",
       "    </tr>\n",
       "    <tr>\n",
       "      <th>214999</th>\n",
       "      <td>[[0.0017097644, 0.002219525, 0.0020178675, 0.0...</td>\n",
       "      <td>([0.00730780717787878, 0.00800620742329641, 0....</td>\n",
       "      <td>AM-DSB</td>\n",
       "      <td>12</td>\n",
       "    </tr>\n",
       "  </tbody>\n",
       "</table>\n",
       "<p>55000 rows × 4 columns</p>\n",
       "</div>"
      ],
      "text/plain": [
       "                                               IQ signals  \\\n",
       "5000    [[0.0010849662, 0.0079283025, -0.002837673, 0....   \n",
       "5001    [[-0.0037544249, 0.0034207758, -0.0040703234, ...   \n",
       "5002    [[0.0019210369, -0.010300477, -0.00801645, 0.0...   \n",
       "5003    [[0.0009419464, -0.0010139677, 0.0034730528, -...   \n",
       "5004    [[-0.00891647, 0.0006878033, -0.002268499, 0.0...   \n",
       "...                                                   ...   \n",
       "214995  [[0.00041843185, 0.0006587509, 0.00080177194, ...   \n",
       "214996  [[0.0013838852, 0.0012232062, 0.0010781031, 0....   \n",
       "214997  [[0.0014226807, 0.0016607252, 0.0015581344, 0....   \n",
       "214998  [[0.0011526298, 0.0015653906, 0.0014872396, 0....   \n",
       "214999  [[0.0017097644, 0.002219525, 0.0020178675, 0.0...   \n",
       "\n",
       "                                               MP signals Modulation_Label  \\\n",
       "5000    ([0.007047495275874654, 0.009946573251027775, ...           AM-SSB   \n",
       "5001    ([0.0037803616302388293, 0.0038188681224146557...           AM-SSB   \n",
       "5002    ([0.008914146913599099, 0.013252869317227743, ...           AM-SSB   \n",
       "5003    ([0.005620676898329677, 0.004663349318665007, ...           AM-SSB   \n",
       "5004    ([0.020506717733189378, 0.006586326119695563, ...           AM-SSB   \n",
       "...                                                   ...              ...   \n",
       "214995  ([0.007702281656250561, 0.007798998711389672, ...           AM-DSB   \n",
       "214996  ([0.007985671798632027, 0.0077569131836668125,...           AM-DSB   \n",
       "214997  ([0.007998592616712956, 0.007767714288546494, ...           AM-DSB   \n",
       "214998  ([0.007667885147726929, 0.00797276132649378, 0...           AM-DSB   \n",
       "214999  ([0.00730780717787878, 0.00800620742329641, 0....           AM-DSB   \n",
       "\n",
       "        SNR  \n",
       "5000     12  \n",
       "5001     12  \n",
       "5002     12  \n",
       "5003     12  \n",
       "5004     12  \n",
       "...     ...  \n",
       "214995   12  \n",
       "214996   12  \n",
       "214997   12  \n",
       "214998   12  \n",
       "214999   12  \n",
       "\n",
       "[55000 rows x 4 columns]"
      ]
     },
     "execution_count": 11,
     "metadata": {},
     "output_type": "execute_result"
    }
   ],
   "source": [
    "training_dataset_df = dataset_df[dataset_df[snr_column_dataframe_name] >= HIGH_SNR_LOWER_BOUND]\n",
    "training_dataset_df"
   ]
  },
  {
   "cell_type": "markdown",
   "id": "a178e471",
   "metadata": {
    "papermill": {
     "duration": 0.013,
     "end_time": "2021-09-24T11:05:01.628935",
     "exception": false,
     "start_time": "2021-09-24T11:05:01.615935",
     "status": "completed"
    },
    "tags": []
   },
   "source": [
    "# Neural network"
   ]
  },
  {
   "cell_type": "markdown",
   "id": "e713de97",
   "metadata": {
    "papermill": {
     "duration": 0.014005,
     "end_time": "2021-09-24T11:05:01.656970",
     "exception": false,
     "start_time": "2021-09-24T11:05:01.642965",
     "status": "completed"
    },
    "tags": []
   },
   "source": [
    "## Configuration"
   ]
  },
  {
   "cell_type": "code",
   "execution_count": 12,
   "id": "f7123fb9",
   "metadata": {
    "execution": {
     "iopub.execute_input": "2021-09-24T11:05:01.686956Z",
     "iopub.status.busy": "2021-09-24T11:05:01.686956Z",
     "iopub.status.idle": "2021-09-24T11:05:01.693935Z",
     "shell.execute_reply": "2021-09-24T11:05:01.693935Z"
    },
    "papermill": {
     "duration": 0.02297,
     "end_time": "2021-09-24T11:05:01.693935",
     "exception": false,
     "start_time": "2021-09-24T11:05:01.670965",
     "status": "completed"
    },
    "tags": []
   },
   "outputs": [],
   "source": [
    "TRAINING_SET_DIMENSION = 0.7\n",
    "DROPOUT_RATE = 0.5\n",
    "\n",
    "# Set up some params \n",
    "NB_EPOCH = 100     # number of epochs to train on\n",
    "BATCH_SIZE = 1024  # training batch size"
   ]
  },
  {
   "cell_type": "markdown",
   "id": "6c628c4d",
   "metadata": {
    "papermill": {
     "duration": 0.013994,
     "end_time": "2021-09-24T11:05:01.721961",
     "exception": false,
     "start_time": "2021-09-24T11:05:01.707967",
     "status": "completed"
    },
    "tags": []
   },
   "source": [
    "## Data prepare"
   ]
  },
  {
   "cell_type": "code",
   "execution_count": 13,
   "id": "2bba62be",
   "metadata": {
    "execution": {
     "iopub.execute_input": "2021-09-24T11:05:01.770967Z",
     "iopub.status.busy": "2021-09-24T11:05:01.769935Z",
     "iopub.status.idle": "2021-09-24T11:05:04.703935Z",
     "shell.execute_reply": "2021-09-24T11:05:04.703935Z"
    },
    "papermill": {
     "duration": 2.967969,
     "end_time": "2021-09-24T11:05:04.703935",
     "exception": false,
     "start_time": "2021-09-24T11:05:01.735966",
     "status": "completed"
    },
    "tags": []
   },
   "outputs": [],
   "source": [
    "signals = []\n",
    "\n",
    "for i in range(0, len(dataset_df.index)):\n",
    "    signal = []\n",
    "    signal.append(dataset_df[iq_signals_column_dataframe_name][i][0])\n",
    "    signal.append(dataset_df[iq_signals_column_dataframe_name][i][1])\n",
    "    signal.append(dataset_df[module_phase_signals_column_dataframe_name][i][0])\n",
    "    signal.append(dataset_df[module_phase_signals_column_dataframe_name][i][1])\n",
    "    signals.append(signal)\n",
    "\n",
    "labels = dataset_df[modulation_label_column_dataframe_name].tolist()\n",
    "\n",
    "# [QPSQ, BPSK, ...]\n",
    "mods = dataset_df[modulation_label_column_dataframe_name].unique().tolist()\n",
    "mods.sort()\n",
    "# [-18, -16, ...]\n",
    "snrs = dataset_df[snr_column_dataframe_name].unique().tolist()\n",
    "snrs.sort()"
   ]
  },
  {
   "cell_type": "markdown",
   "id": "afebf8b3",
   "metadata": {
    "papermill": {
     "duration": 0.014009,
     "end_time": "2021-09-24T11:05:04.732965",
     "exception": false,
     "start_time": "2021-09-24T11:05:04.718956",
     "status": "completed"
    },
    "tags": []
   },
   "source": [
    "### Training and Test data partitioning"
   ]
  },
  {
   "cell_type": "code",
   "execution_count": 14,
   "id": "087733f4",
   "metadata": {
    "execution": {
     "iopub.execute_input": "2021-09-24T11:05:04.767965Z",
     "iopub.status.busy": "2021-09-24T11:05:04.766963Z",
     "iopub.status.idle": "2021-09-24T11:05:07.050964Z",
     "shell.execute_reply": "2021-09-24T11:05:07.050964Z"
    },
    "papermill": {
     "duration": 2.30597,
     "end_time": "2021-09-24T11:05:07.051936",
     "exception": false,
     "start_time": "2021-09-24T11:05:04.745966",
     "status": "completed"
    },
    "tags": []
   },
   "outputs": [],
   "source": [
    "# Partition the data\n",
    "#  into training and test sets of the form we can train/test on \n",
    "#  while keeping SNR and Mod labels handy for each\n",
    "\n",
    "# seeding the random numpy object\n",
    "np.random.seed(2016)\n",
    "\n",
    "# 220.000\n",
    "n_examples = len(signals)\n",
    "\n",
    "training_datapoints = len(training_dataset_df.index)\n",
    "\n",
    "# take a portion of the dataset as training set\n",
    "n_train = int(training_datapoints * TRAINING_SET_DIMENSION)\n",
    "\n",
    "# extract datapoints indexes randomly\n",
    "# train_index = [I_1, I_2, ..., I_N_TRAIN]\n",
    "train_index = np.random.choice(training_dataset_df.index.values.tolist(), size=n_train, replace=False)\n",
    "\n",
    "# obtain the remaining datapoints indexes\n",
    "# test_index = [I_1, I_2, ..., I_HALF_N_EXAMPLES]\n",
    "test_index = list(set(range(0,n_examples)) - set(train_index))\n",
    "\n",
    "signals = np.array(signals)\n",
    "\n",
    "X_train = signals[train_index]\n",
    "X_test =  signals[test_index]"
   ]
  },
  {
   "cell_type": "markdown",
   "id": "d3119744",
   "metadata": {
    "papermill": {
     "duration": 0.013028,
     "end_time": "2021-09-24T11:05:07.078964",
     "exception": false,
     "start_time": "2021-09-24T11:05:07.065936",
     "status": "completed"
    },
    "tags": []
   },
   "source": [
    "### One-hot encoding for Training and Test labels"
   ]
  },
  {
   "cell_type": "code",
   "execution_count": 15,
   "id": "4ac6b4a4",
   "metadata": {
    "execution": {
     "iopub.execute_input": "2021-09-24T11:05:07.144936Z",
     "iopub.status.busy": "2021-09-24T11:05:07.143969Z",
     "iopub.status.idle": "2021-09-24T11:05:07.191936Z",
     "shell.execute_reply": "2021-09-24T11:05:07.191936Z"
    },
    "papermill": {
     "duration": 0.098971,
     "end_time": "2021-09-24T11:05:07.191936",
     "exception": false,
     "start_time": "2021-09-24T11:05:07.092965",
     "status": "completed"
    },
    "tags": []
   },
   "outputs": [],
   "source": [
    "def to_onehot(x):\n",
    "    input_list = list(x)\n",
    "    vectors_number = len(list(input_list))\n",
    "    number_of_elements_for_each_vector = max(input_list, default=0) + 1\n",
    "\n",
    "    # one hot encoding is a vector of zeros, and only a 1 that identifies the class\n",
    "    # producing <vectors_number> vectors of <number_of_elements_for_each_vector> elements\n",
    "    result = np.zeros([vectors_number, number_of_elements_for_each_vector])\n",
    "    \n",
    "    # placing the 1 in the correct place\n",
    "    for i in range(0, vectors_number):\n",
    "        result[i][input_list[i]] = 1\n",
    "    \n",
    "    return result\n",
    "\n",
    "Y_train = to_onehot(map(lambda x: mods.index(labels[x]), train_index))\n",
    "Y_test = to_onehot(map(lambda x: mods.index(labels[x]), test_index))"
   ]
  },
  {
   "cell_type": "markdown",
   "id": "c22c496e",
   "metadata": {
    "papermill": {
     "duration": 0.01403,
     "end_time": "2021-09-24T11:05:07.219965",
     "exception": false,
     "start_time": "2021-09-24T11:05:07.205935",
     "status": "completed"
    },
    "tags": []
   },
   "source": [
    "## Build the Neural Network"
   ]
  },
  {
   "cell_type": "code",
   "execution_count": 16,
   "id": "68a376bb",
   "metadata": {
    "execution": {
     "iopub.execute_input": "2021-09-24T11:05:07.249966Z",
     "iopub.status.busy": "2021-09-24T11:05:07.249966Z",
     "iopub.status.idle": "2021-09-24T11:05:07.253952Z",
     "shell.execute_reply": "2021-09-24T11:05:07.253952Z"
    },
    "papermill": {
     "duration": 0.019987,
     "end_time": "2021-09-24T11:05:07.253952",
     "exception": false,
     "start_time": "2021-09-24T11:05:07.233965",
     "status": "completed"
    },
    "tags": []
   },
   "outputs": [
    {
     "name": "stdout",
     "output_type": "stream",
     "text": [
      "(38500, 4, 128)\n",
      "[4, 128]\n"
     ]
    }
   ],
   "source": [
    "in_shp = list(X_train.shape[1:])\n",
    "print(X_train.shape)\n",
    "print(in_shp)\n",
    "classes = mods"
   ]
  },
  {
   "cell_type": "code",
   "execution_count": 17,
   "id": "12db3dfa",
   "metadata": {
    "execution": {
     "iopub.execute_input": "2021-09-24T11:05:07.283975Z",
     "iopub.status.busy": "2021-09-24T11:05:07.283975Z",
     "iopub.status.idle": "2021-09-24T11:05:07.879730Z",
     "shell.execute_reply": "2021-09-24T11:05:07.879730Z"
    },
    "papermill": {
     "duration": 0.612763,
     "end_time": "2021-09-24T11:05:07.880729",
     "exception": false,
     "start_time": "2021-09-24T11:05:07.267966",
     "status": "completed"
    },
    "tags": []
   },
   "outputs": [
    {
     "name": "stdout",
     "output_type": "stream",
     "text": [
      "Model: \"sequential\"\n",
      "_________________________________________________________________\n",
      "Layer (type)                 Output Shape              Param #   \n",
      "=================================================================\n",
      "reshape (Reshape)            (None, 1, 4, 128)         0         \n",
      "_________________________________________________________________\n",
      "zero_padding2d (ZeroPadding2 (None, 1, 8, 128)         0         \n",
      "_________________________________________________________________\n",
      "conv1 (Conv2D)               (None, 1, 3, 256)         33024     \n",
      "_________________________________________________________________\n",
      "dropout (Dropout)            (None, 1, 3, 256)         0         \n",
      "_________________________________________________________________\n",
      "zero_padding2d_1 (ZeroPaddin (None, 1, 7, 256)         0         \n",
      "_________________________________________________________________\n",
      "conv2 (Conv2D)               (None, 1, 3, 80)          82000     \n",
      "_________________________________________________________________\n",
      "dropout_1 (Dropout)          (None, 1, 3, 80)          0         \n",
      "_________________________________________________________________\n",
      "flatten (Flatten)            (None, 240)               0         \n",
      "_________________________________________________________________\n",
      "dense1 (Dense)               (None, 256)               61696     \n",
      "_________________________________________________________________\n",
      "dropout_2 (Dropout)          (None, 256)               0         \n",
      "_________________________________________________________________\n",
      "dense2 (Dense)               (None, 11)                2827      \n",
      "_________________________________________________________________\n",
      "activation (Activation)      (None, 11)                0         \n",
      "_________________________________________________________________\n",
      "reshape_1 (Reshape)          (None, 11)                0         \n",
      "=================================================================\n",
      "Total params: 179,547\n",
      "Trainable params: 179,547\n",
      "Non-trainable params: 0\n",
      "_________________________________________________________________\n"
     ]
    }
   ],
   "source": [
    "model = neural_networks.rml201610a_VTCNN2_v2(in_shp)\n",
    "\n",
    "model.summary()"
   ]
  },
  {
   "cell_type": "markdown",
   "id": "cf278efc",
   "metadata": {
    "papermill": {
     "duration": 0.019997,
     "end_time": "2021-09-24T11:05:07.930700",
     "exception": false,
     "start_time": "2021-09-24T11:05:07.910703",
     "status": "completed"
    },
    "tags": []
   },
   "source": [
    "### Train the model"
   ]
  },
  {
   "cell_type": "code",
   "execution_count": 18,
   "id": "62427643",
   "metadata": {
    "execution": {
     "iopub.execute_input": "2021-09-24T11:05:07.962691Z",
     "iopub.status.busy": "2021-09-24T11:05:07.962691Z",
     "iopub.status.idle": "2021-09-24T11:05:31.901750Z",
     "shell.execute_reply": "2021-09-24T11:05:31.901750Z"
    },
    "papermill": {
     "duration": 23.95606,
     "end_time": "2021-09-24T11:05:31.901750",
     "exception": false,
     "start_time": "2021-09-24T11:05:07.945690",
     "status": "completed"
    },
    "scrolled": false,
    "tags": []
   },
   "outputs": [
    {
     "name": "stdout",
     "output_type": "stream",
     "text": [
      "Epoch 1/100\n"
     ]
    },
    {
     "name": "stdout",
     "output_type": "stream",
     "text": [
      "\r",
      " 1/38 [..............................] - ETA: 7:45 - loss: 2.3979"
     ]
    },
    {
     "name": "stdout",
     "output_type": "stream",
     "text": [
      "\b\b\b\b\b\b\b\b\b\b\b\b\b\b\b\b\b\b\b\b\b\b\b\b\b\b\b\b\b\b\b\b\b\b\b\b\b\b\b\b\b\b\b\b\b\b\b\b\b\b\b\b\b\b\b\b\b\b\b\b\b\b\b\b\b\r",
      " 7/38 [====>.........................] - ETA: 0s - loss: 2.3973  "
     ]
    },
    {
     "name": "stdout",
     "output_type": "stream",
     "text": [
      "\b\b\b\b\b\b\b\b\b\b\b\b\b\b\b\b\b\b\b\b\b\b\b\b\b\b\b\b\b\b\b\b\b\b\b\b\b\b\b\b\b\b\b\b\b\b\b\b\b\b\b\b\b\b\b\b\b\b\b\b\b\b\b\r",
      "13/38 [=========>....................] - ETA: 0s - loss: 2.3962"
     ]
    },
    {
     "name": "stdout",
     "output_type": "stream",
     "text": [
      "\b\b\b\b\b\b\b\b\b\b\b\b\b\b\b\b\b\b\b\b\b\b\b\b\b\b\b\b\b\b\b\b\b\b\b\b\b\b\b\b\b\b\b\b\b\b\b\b\b\b\b\b\b\b\b\b\b\b\b\b\b\b\b\r",
      "19/38 [==============>...............] - ETA: 0s - loss: 2.3942"
     ]
    },
    {
     "name": "stdout",
     "output_type": "stream",
     "text": [
      "\b\b\b\b\b\b\b\b\b\b\b\b\b\b\b\b\b\b\b\b\b\b\b\b\b\b\b\b\b\b\b\b\b\b\b\b\b\b\b\b\b\b\b\b\b\b\b\b\b\b\b\b\b\b\b\b\b\b\b\b\b\b\b\r",
      "26/38 [===================>..........] - ETA: 0s - loss: 2.3899"
     ]
    },
    {
     "name": "stdout",
     "output_type": "stream",
     "text": [
      "\b\b\b\b\b\b\b\b\b\b\b\b\b\b\b\b\b\b\b\b\b\b\b\b\b\b\b\b\b\b\b\b\b\b\b\b\b\b\b\b\b\b\b\b\b\b\b\b\b\b\b\b\b\b\b\b\b\b\b\b\b\b\b\r",
      "33/38 [=========================>....] - ETA: 0s - loss: 2.3821"
     ]
    },
    {
     "name": "stdout",
     "output_type": "stream",
     "text": [
      "\b\b\b\b\b\b\b\b\b\b\b\b\b\b\b\b\b\b\b\b\b\b\b\b\b\b\b\b\b\b\b\b\b\b\b\b\b\b\b\b\b\b\b\b\b\b\b\b\b\b\b\b\b\b\b\b\b\b\b\b\b\b\b\r",
      "38/38 [==============================] - ETA: 0s - loss: 2.3745"
     ]
    },
    {
     "name": "stdout",
     "output_type": "stream",
     "text": [
      "\b\b\b\b\b\b\b\b\b\b\b\b\b\b\b\b\b\b\b\b\b\b\b\b\b\b\b\b\b\b\b\b\b\b\b\b\b\b\b\b\b\b\b\b\b\b\b\b\b\b\b\b\b\b\b\b\b\b\b\b\b\b\b\r",
      "38/38 [==============================] - 14s 37ms/step - loss: 2.3730 - val_loss: 2.3019\n"
     ]
    },
    {
     "name": "stdout",
     "output_type": "stream",
     "text": [
      "Epoch 2/100\n",
      "\r",
      " 1/38 [..............................] - ETA: 0s - loss: 2.1423"
     ]
    },
    {
     "name": "stdout",
     "output_type": "stream",
     "text": [
      "\b\b\b\b\b\b\b\b\b\b\b\b\b\b\b\b\b\b\b\b\b\b\b\b\b\b\b\b\b\b\b\b\b\b\b\b\b\b\b\b\b\b\b\b\b\b\b\b\b\b\b\b\b\b\b\b\b\b\b\b\b\b\b\r",
      " 8/38 [=====>........................] - ETA: 0s - loss: 2.1294"
     ]
    },
    {
     "name": "stdout",
     "output_type": "stream",
     "text": [
      "\b\b\b\b\b\b\b\b\b\b\b\b\b\b\b\b\b\b\b\b\b\b\b\b\b\b\b\b\b\b\b\b\b\b\b\b\b\b\b\b\b\b\b\b\b\b\b\b\b\b\b\b\b\b\b\b\b\b\b\b\b\b\b\r",
      "15/38 [==========>...................] - ETA: 0s - loss: 2.1270"
     ]
    },
    {
     "name": "stdout",
     "output_type": "stream",
     "text": [
      "\b\b\b\b\b\b\b\b\b\b\b\b\b\b\b\b\b\b\b\b\b\b\b\b\b\b\b\b\b\b\b\b\b\b\b\b\b\b\b\b\b\b\b\b\b\b\b\b\b\b\b\b\b\b\b\b\b\b\b\b\b\b\b\r",
      "22/38 [================>.............] - ETA: 0s - loss: 2.1270"
     ]
    },
    {
     "name": "stdout",
     "output_type": "stream",
     "text": [
      "\b\b\b\b\b\b\b\b\b\b\b\b\b\b\b\b\b\b\b\b\b\b\b\b\b\b\b\b\b\b\b\b\b\b\b\b\b\b\b\b\b\b\b\b\b\b\b\b\b\b\b\b\b\b\b\b\b\b\b\b\b\b\b\r",
      "29/38 [=====================>........] - ETA: 0s - loss: 2.1267"
     ]
    },
    {
     "name": "stdout",
     "output_type": "stream",
     "text": [
      "\b\b\b\b\b\b\b\b\b\b\b\b\b\b\b\b\b\b\b\b\b\b\b\b\b\b\b\b\b\b\b\b\b\b\b\b\b\b\b\b\b\b\b\b\b\b\b\b\b\b\b\b\b\b\b\b\b\b\b\b\b\b\b"
     ]
    },
    {
     "name": "stdout",
     "output_type": "stream",
     "text": [
      "\r",
      "36/38 [===========================>..] - ETA: 0s - loss: 2.1259"
     ]
    },
    {
     "name": "stdout",
     "output_type": "stream",
     "text": [
      "\b\b\b\b\b\b\b\b\b\b\b\b\b\b\b\b\b\b\b\b\b\b\b\b\b\b\b\b\b\b\b\b\b\b\b\b\b\b\b\b\b\b\b\b\b\b\b\b\b\b\b\b\b\b\b\b\b\b\b\b\b\b\b\r",
      "38/38 [==============================] - 1s 22ms/step - loss: 2.1255 - val_loss: 2.2864\n"
     ]
    },
    {
     "name": "stdout",
     "output_type": "stream",
     "text": [
      "Epoch 3/100\n",
      "\r",
      " 1/38 [..............................] - ETA: 0s - loss: 2.1198"
     ]
    },
    {
     "name": "stdout",
     "output_type": "stream",
     "text": [
      "\b\b\b\b\b\b\b\b\b\b\b\b\b\b\b\b\b\b\b\b\b\b\b\b\b\b\b\b\b\b\b\b\b\b\b\b\b\b\b\b\b\b\b\b\b\b\b\b\b\b\b\b\b\b\b\b\b\b\b\b\b\b\b\r",
      " 8/38 [=====>........................] - ETA: 0s - loss: 2.1076"
     ]
    },
    {
     "name": "stdout",
     "output_type": "stream",
     "text": [
      "\b\b\b\b\b\b\b\b\b\b\b\b\b\b\b\b\b\b\b\b\b\b\b\b\b\b\b\b\b\b\b\b\b\b\b\b\b\b\b\b\b\b\b\b\b\b\b\b\b\b\b\b\b\b\b\b\b\b\b\b\b\b\b\r",
      "15/38 [==========>...................] - ETA: 0s - loss: 2.1067"
     ]
    },
    {
     "name": "stdout",
     "output_type": "stream",
     "text": [
      "\b\b\b\b\b\b\b\b\b\b\b\b\b\b\b\b\b\b\b\b\b\b\b\b\b\b\b\b\b\b\b\b\b\b\b\b\b\b\b\b\b\b\b\b\b\b\b\b\b\b\b\b\b\b\b\b\b\b\b\b\b\b\b\r",
      "22/38 [================>.............] - ETA: 0s - loss: 2.1065"
     ]
    },
    {
     "name": "stdout",
     "output_type": "stream",
     "text": [
      "\b\b\b\b\b\b\b\b\b\b\b\b\b\b\b\b\b\b\b\b\b\b\b\b\b\b\b\b\b\b\b\b\b\b\b\b\b\b\b\b\b\b\b\b\b\b\b\b\b\b\b\b\b\b\b\b\b\b\b\b\b\b\b\r",
      "29/38 [=====================>........] - ETA: 0s - loss: 2.1061"
     ]
    },
    {
     "name": "stdout",
     "output_type": "stream",
     "text": [
      "\b\b\b\b\b\b\b\b\b\b\b\b\b\b\b\b\b\b\b\b\b\b\b\b\b\b\b\b\b\b\b\b\b\b\b\b\b\b\b\b\b\b\b\b\b\b\b\b\b\b\b\b\b\b\b\b\b\b\b\b\b\b\b\r",
      "36/38 [===========================>..] - ETA: 0s - loss: 2.1058"
     ]
    },
    {
     "name": "stdout",
     "output_type": "stream",
     "text": [
      "\b\b\b\b\b\b\b\b\b\b\b\b\b\b\b\b\b\b\b\b\b\b\b\b\b\b\b\b\b\b\b\b\b\b\b\b\b\b\b\b\b\b\b\b\b\b\b\b\b\b\b\b\b\b\b\b\b\b\b\b\b\b\b\r",
      "38/38 [==============================] - 1s 22ms/step - loss: 2.1057 - val_loss: 2.2916\n"
     ]
    },
    {
     "name": "stdout",
     "output_type": "stream",
     "text": [
      "Epoch 4/100\n",
      "\r",
      " 1/38 [..............................] - ETA: 0s - loss: 2.1119"
     ]
    },
    {
     "name": "stdout",
     "output_type": "stream",
     "text": [
      "\b\b\b\b\b\b\b\b\b\b\b\b\b\b\b\b\b\b\b\b\b\b\b\b\b\b\b\b\b\b\b\b\b\b\b\b\b\b\b\b\b\b\b\b\b\b\b\b\b\b\b\b\b\b\b\b\b\b\b\b\b\b\b\r",
      " 8/38 [=====>........................] - ETA: 0s - loss: 2.1058"
     ]
    },
    {
     "name": "stdout",
     "output_type": "stream",
     "text": [
      "\b\b\b\b\b\b\b\b\b\b\b\b\b\b\b\b\b\b\b\b\b\b\b\b\b\b\b\b\b\b\b\b\b\b\b\b\b\b\b\b\b\b\b\b\b\b\b\b\b\b\b\b\b\b\b\b\b\b\b\b\b\b\b\r",
      "15/38 [==========>...................] - ETA: 0s - loss: 2.1032"
     ]
    },
    {
     "name": "stdout",
     "output_type": "stream",
     "text": [
      "\b\b\b\b\b\b\b\b\b\b\b\b\b\b\b\b\b\b\b\b\b\b\b\b\b\b\b\b\b\b\b\b\b\b\b\b\b\b\b\b\b\b\b\b\b\b\b\b\b\b\b\b\b\b\b\b\b\b\b\b\b\b\b\r",
      "22/38 [================>.............] - ETA: 0s - loss: 2.1001"
     ]
    },
    {
     "name": "stdout",
     "output_type": "stream",
     "text": [
      "\b\b\b\b\b\b\b\b\b\b\b\b\b\b\b\b\b\b\b\b\b\b\b\b\b\b\b\b\b\b\b\b\b\b\b\b\b\b\b\b\b\b\b\b\b\b\b\b\b\b\b\b\b\b\b\b\b\b\b\b\b\b\b\r",
      "29/38 [=====================>........] - ETA: 0s - loss: 2.0974"
     ]
    },
    {
     "name": "stdout",
     "output_type": "stream",
     "text": [
      "\b\b\b\b\b\b\b\b\b\b\b\b\b\b\b\b\b\b\b\b\b\b\b\b\b\b\b\b\b\b\b\b\b\b\b\b\b\b\b\b\b\b\b\b\b\b\b\b\b\b\b\b\b\b\b\b\b\b\b\b\b\b\b\r",
      "36/38 [===========================>..] - ETA: 0s - loss: 2.0951"
     ]
    },
    {
     "name": "stdout",
     "output_type": "stream",
     "text": [
      "\b\b\b\b\b\b\b\b\b\b\b\b\b\b\b\b\b\b\b\b\b\b\b\b\b\b\b\b\b\b\b\b\b\b\b\b\b\b\b\b\b\b\b\b\b\b\b\b\b\b\b\b\b\b\b\b\b\b\b\b\b\b\b\r",
      "38/38 [==============================] - 1s 22ms/step - loss: 2.0942 - val_loss: 2.2906\n"
     ]
    },
    {
     "name": "stdout",
     "output_type": "stream",
     "text": [
      "Epoch 5/100\n",
      "\r",
      " 1/38 [..............................] - ETA: 0s - loss: 2.0685"
     ]
    },
    {
     "name": "stdout",
     "output_type": "stream",
     "text": [
      "\b\b\b\b\b\b\b\b\b\b\b\b\b\b\b\b\b\b\b\b\b\b\b\b\b\b\b\b\b\b\b\b\b\b\b\b\b\b\b\b\b\b\b\b\b\b\b\b\b\b\b\b\b\b\b\b\b\b\b\b\b\b\b\r",
      " 8/38 [=====>........................] - ETA: 0s - loss: 2.0579"
     ]
    },
    {
     "name": "stdout",
     "output_type": "stream",
     "text": [
      "\b\b\b\b\b\b\b\b\b\b\b\b\b\b\b\b\b\b\b\b\b\b\b\b\b\b\b\b\b\b\b\b\b\b\b\b\b\b\b\b\b\b\b\b\b\b\b\b\b\b\b\b\b\b\b\b\b\b\b\b\b\b\b\r",
      "15/38 [==========>...................] - ETA: 0s - loss: 2.0557"
     ]
    },
    {
     "name": "stdout",
     "output_type": "stream",
     "text": [
      "\b\b\b\b\b\b\b\b\b\b\b\b\b\b\b\b\b\b\b\b\b\b\b\b\b\b\b\b\b\b\b\b\b\b\b\b\b\b\b\b\b\b\b\b\b\b\b\b\b\b\b\b\b\b\b\b\b\b\b\b\b\b\b\r",
      "22/38 [================>.............] - ETA: 0s - loss: 2.0530"
     ]
    },
    {
     "name": "stdout",
     "output_type": "stream",
     "text": [
      "\b\b\b\b\b\b\b\b\b\b\b\b\b\b\b\b\b\b\b\b\b\b\b\b\b\b\b\b\b\b\b\b\b\b\b\b\b\b\b\b\b\b\b\b\b\b\b\b\b\b\b\b\b\b\b\b\b\b\b\b\b\b\b\r",
      "29/38 [=====================>........] - ETA: 0s - loss: 2.0509"
     ]
    },
    {
     "name": "stdout",
     "output_type": "stream",
     "text": [
      "\b\b\b\b\b\b\b\b\b\b\b\b\b\b\b\b\b\b\b\b\b\b\b\b\b\b\b\b\b\b\b\b\b\b\b\b\b\b\b\b\b\b\b\b\b\b\b\b\b\b\b\b\b\b\b\b\b\b\b\b\b\b\b\r",
      "36/38 [===========================>..] - ETA: 0s - loss: 2.0485"
     ]
    },
    {
     "name": "stdout",
     "output_type": "stream",
     "text": [
      "\b\b\b\b\b\b\b\b\b\b\b\b\b\b\b\b\b\b\b\b\b\b\b\b\b\b\b\b\b\b\b\b\b\b\b\b\b\b\b\b\b\b\b\b\b\b\b\b\b\b\b\b\b\b\b\b\b\b\b\b\b\b\b\r",
      "38/38 [==============================] - 1s 22ms/step - loss: 2.0474 - val_loss: 2.2728\n"
     ]
    },
    {
     "name": "stdout",
     "output_type": "stream",
     "text": [
      "Epoch 6/100\n",
      "\r",
      " 1/38 [..............................] - ETA: 0s - loss: 2.0094"
     ]
    },
    {
     "name": "stdout",
     "output_type": "stream",
     "text": [
      "\b\b\b\b\b\b\b\b\b\b\b\b\b\b\b\b\b\b\b\b\b\b\b\b\b\b\b\b\b\b\b\b\b\b\b\b\b\b\b\b\b\b\b\b\b\b\b\b\b\b\b\b\b\b\b\b\b\b\b\b\b\b\b\r",
      " 8/38 [=====>........................] - ETA: 0s - loss: 1.9977"
     ]
    },
    {
     "name": "stdout",
     "output_type": "stream",
     "text": [
      "\b\b\b\b\b\b\b\b\b\b\b\b\b\b\b\b\b\b\b\b\b\b\b\b\b\b\b\b\b\b\b\b\b\b\b\b\b\b\b\b\b\b\b\b\b\b\b\b\b\b\b\b\b\b\b\b\b\b\b\b\b\b\b\r",
      "15/38 [==========>...................] - ETA: 0s - loss: 1.9923"
     ]
    },
    {
     "name": "stdout",
     "output_type": "stream",
     "text": [
      "\b\b\b\b\b\b\b\b\b\b\b\b\b\b\b\b\b\b\b\b\b\b\b\b\b\b\b\b\b\b\b\b\b\b\b\b\b\b\b\b\b\b\b\b\b\b\b\b\b\b\b\b\b\b\b\b\b\b\b\b\b\b\b\r",
      "22/38 [================>.............] - ETA: 0s - loss: 1.9882"
     ]
    },
    {
     "name": "stdout",
     "output_type": "stream",
     "text": [
      "\b\b\b\b\b\b\b\b\b\b\b\b\b\b\b\b\b\b\b\b\b\b\b\b\b\b\b\b\b\b\b\b\b\b\b\b\b\b\b\b\b\b\b\b\b\b\b\b\b\b\b\b\b\b\b\b\b\b\b\b\b\b\b\r",
      "29/38 [=====================>........] - ETA: 0s - loss: 1.9839"
     ]
    },
    {
     "name": "stdout",
     "output_type": "stream",
     "text": [
      "\b\b\b\b\b\b\b\b\b\b\b\b\b\b\b\b\b\b\b\b\b\b\b\b\b\b\b\b\b\b\b\b\b\b\b\b\b\b\b\b\b\b\b\b\b\b\b\b\b\b\b\b\b\b\b\b\b\b\b\b\b\b\b\r",
      "36/38 [===========================>..] - ETA: 0s - loss: 1.9789"
     ]
    },
    {
     "name": "stdout",
     "output_type": "stream",
     "text": [
      "\b\b\b\b\b\b\b\b\b\b\b\b\b\b\b\b\b\b\b\b\b\b\b\b\b\b\b\b\b\b\b\b\b\b\b\b\b\b\b\b\b\b\b\b\b\b\b\b\b\b\b\b\b\b\b\b\b\b\b\b\b\b\b\r",
      "38/38 [==============================] - 1s 22ms/step - loss: 1.9768 - val_loss: 2.2056\n"
     ]
    },
    {
     "name": "stdout",
     "output_type": "stream",
     "text": [
      "Epoch 7/100\n",
      "\r",
      " 1/38 [..............................] - ETA: 0s - loss: 1.8734"
     ]
    },
    {
     "name": "stdout",
     "output_type": "stream",
     "text": [
      "\b\b\b\b\b\b\b\b\b\b\b\b\b\b\b\b\b\b\b\b\b\b\b\b\b\b\b\b\b\b\b\b\b\b\b\b\b\b\b\b\b\b\b\b\b\b\b\b\b\b\b\b\b\b\b\b\b\b\b\b\b\b\b\r",
      " 8/38 [=====>........................] - ETA: 0s - loss: 1.8776"
     ]
    },
    {
     "name": "stdout",
     "output_type": "stream",
     "text": [
      "\b\b\b\b\b\b\b\b\b\b\b\b\b\b\b\b\b\b\b\b\b\b\b\b\b\b\b\b\b\b\b\b\b\b\b\b\b\b\b\b\b\b\b\b\b\b\b\b\b\b\b\b\b\b\b\b\b\b\b\b\b\b\b\r",
      "15/38 [==========>...................] - ETA: 0s - loss: 1.8709"
     ]
    },
    {
     "name": "stdout",
     "output_type": "stream",
     "text": [
      "\b\b\b\b\b\b\b\b\b\b\b\b\b\b\b\b\b\b\b\b\b\b\b\b\b\b\b\b\b\b\b\b\b\b\b\b\b\b\b\b\b\b\b\b\b\b\b\b\b\b\b\b\b\b\b\b\b\b\b\b\b\b\b\r",
      "22/38 [================>.............] - ETA: 0s - loss: 1.8624"
     ]
    },
    {
     "name": "stdout",
     "output_type": "stream",
     "text": [
      "\b\b\b\b\b\b\b\b\b\b\b\b\b\b\b\b\b\b\b\b\b\b\b\b\b\b\b\b\b\b\b\b\b\b\b\b\b\b\b\b\b\b\b\b\b\b\b\b\b\b\b\b\b\b\b\b\b\b\b\b\b\b\b\r",
      "29/38 [=====================>........] - ETA: 0s - loss: 1.8540"
     ]
    },
    {
     "name": "stdout",
     "output_type": "stream",
     "text": [
      "\b\b\b\b\b\b\b\b\b\b\b\b\b\b\b\b\b\b\b\b\b\b\b\b\b\b\b\b\b\b\b\b\b\b\b\b\b\b\b\b\b\b\b\b\b\b\b\b\b\b\b\b\b\b\b\b\b\b\b\b\b\b\b\r",
      "36/38 [===========================>..] - ETA: 0s - loss: 1.8464"
     ]
    },
    {
     "name": "stdout",
     "output_type": "stream",
     "text": [
      "\b\b\b\b\b\b\b\b\b\b\b\b\b\b\b\b\b\b\b\b\b\b\b\b\b\b\b\b\b\b\b\b\b\b\b\b\b\b\b\b\b\b\b\b\b\b\b\b\b\b\b\b\b\b\b\b\b\b\b\b\b\b\b\r",
      "38/38 [==============================] - 1s 22ms/step - loss: 1.8432 - val_loss: 2.1312\n"
     ]
    },
    {
     "name": "stdout",
     "output_type": "stream",
     "text": [
      "Epoch 8/100\n",
      "\r",
      " 1/38 [..............................] - ETA: 0s - loss: 1.7344"
     ]
    },
    {
     "name": "stdout",
     "output_type": "stream",
     "text": [
      "\b\b\b\b\b\b\b\b\b\b\b\b\b\b\b\b\b\b\b\b\b\b\b\b\b\b\b\b\b\b\b\b\b\b\b\b\b\b\b\b\b\b\b\b\b\b\b\b\b\b\b\b\b\b\b\b\b\b\b\b\b\b\b\r",
      " 8/38 [=====>........................] - ETA: 0s - loss: 1.7432"
     ]
    },
    {
     "name": "stdout",
     "output_type": "stream",
     "text": [
      "\b\b\b\b\b\b\b\b\b\b\b\b\b\b\b\b\b\b\b\b\b\b\b\b\b\b\b\b\b\b\b\b\b\b\b\b\b\b\b\b\b\b\b\b\b\b\b\b\b\b\b\b\b\b\b\b\b\b\b\b\b\b\b\r",
      "15/38 [==========>...................] - ETA: 0s - loss: 1.7374"
     ]
    },
    {
     "name": "stdout",
     "output_type": "stream",
     "text": [
      "\b\b\b\b\b\b\b\b\b\b\b\b\b\b\b\b\b\b\b\b\b\b\b\b\b\b\b\b\b\b\b\b\b\b\b\b\b\b\b\b\b\b\b\b\b\b\b\b\b\b\b\b\b\b\b\b\b\b\b\b\b\b\b\r",
      "22/38 [================>.............] - ETA: 0s - loss: 1.7310"
     ]
    },
    {
     "name": "stdout",
     "output_type": "stream",
     "text": [
      "\b\b\b\b\b\b\b\b\b\b\b\b\b\b\b\b\b\b\b\b\b\b\b\b\b\b\b\b\b\b\b\b\b\b\b\b\b\b\b\b\b\b\b\b\b\b\b\b\b\b\b\b\b\b\b\b\b\b\b\b\b\b\b\r",
      "29/38 [=====================>........] - ETA: 0s - loss: 1.7255"
     ]
    },
    {
     "name": "stdout",
     "output_type": "stream",
     "text": [
      "\b\b\b\b\b\b\b\b\b\b\b\b\b\b\b\b\b\b\b\b\b\b\b\b\b\b\b\b\b\b\b\b\b\b\b\b\b\b\b\b\b\b\b\b\b\b\b\b\b\b\b\b\b\b\b\b\b\b\b\b\b\b\b\r",
      "36/38 [===========================>..] - ETA: 0s - loss: 1.7205"
     ]
    },
    {
     "name": "stdout",
     "output_type": "stream",
     "text": [
      "\b\b\b\b\b\b\b\b\b\b\b\b\b\b\b\b\b\b\b\b\b\b\b\b\b\b\b\b\b\b\b\b\b\b\b\b\b\b\b\b\b\b\b\b\b\b\b\b\b\b\b\b\b\b\b\b\b\b\b\b\b\b\b\r",
      "38/38 [==============================] - 1s 22ms/step - loss: 1.7186 - val_loss: 2.1776\n"
     ]
    },
    {
     "name": "stdout",
     "output_type": "stream",
     "text": [
      "Epoch 9/100\n",
      "\r",
      " 1/38 [..............................] - ETA: 0s - loss: 1.6491"
     ]
    },
    {
     "name": "stdout",
     "output_type": "stream",
     "text": [
      "\b\b\b\b\b\b\b\b\b\b\b\b\b\b\b\b\b\b\b\b\b\b\b\b\b\b\b\b\b\b\b\b\b\b\b\b\b\b\b\b\b\b\b\b\b\b\b\b\b\b\b\b\b\b\b\b\b\b\b\b\b\b\b\r",
      " 8/38 [=====>........................] - ETA: 0s - loss: 1.6454"
     ]
    },
    {
     "name": "stdout",
     "output_type": "stream",
     "text": [
      "\b\b\b\b\b\b\b\b\b\b\b\b\b\b\b\b\b\b\b\b\b\b\b\b\b\b\b\b\b\b\b\b\b\b\b\b\b\b\b\b\b\b\b\b\b\b\b\b\b\b\b\b\b\b\b\b\b\b\b\b\b\b\b\r",
      "15/38 [==========>...................] - ETA: 0s - loss: 1.6438"
     ]
    },
    {
     "name": "stdout",
     "output_type": "stream",
     "text": [
      "\b\b\b\b\b\b\b\b\b\b\b\b\b\b\b\b\b\b\b\b\b\b\b\b\b\b\b\b\b\b\b\b\b\b\b\b\b\b\b\b\b\b\b\b\b\b\b\b\b\b\b\b\b\b\b\b\b\b\b\b\b\b\b\r",
      "22/38 [================>.............] - ETA: 0s - loss: 1.6415"
     ]
    },
    {
     "name": "stdout",
     "output_type": "stream",
     "text": [
      "\b\b\b\b\b\b\b\b\b\b\b\b\b\b\b\b\b\b\b\b\b\b\b\b\b\b\b\b\b\b\b\b\b\b\b\b\b\b\b\b\b\b\b\b\b\b\b\b\b\b\b\b\b\b\b\b\b\b\b\b\b\b\b\r",
      "29/38 [=====================>........] - ETA: 0s - loss: 1.6377"
     ]
    },
    {
     "name": "stdout",
     "output_type": "stream",
     "text": [
      "\b\b\b\b\b\b\b\b\b\b\b\b\b\b\b\b\b\b\b\b\b\b\b\b\b\b\b\b\b\b\b\b\b\b\b\b\b\b\b\b\b\b\b\b\b\b\b\b\b\b\b\b\b\b\b\b\b\b\b\b\b\b\b\r",
      "36/38 [===========================>..] - ETA: 0s - loss: 1.6335"
     ]
    },
    {
     "name": "stdout",
     "output_type": "stream",
     "text": [
      "\b\b\b\b\b\b\b\b\b\b\b\b\b\b\b\b\b\b\b\b\b\b\b\b\b\b\b\b\b\b\b\b\b\b\b\b\b\b\b\b\b\b\b\b\b\b\b\b\b\b\b\b\b\b\b\b\b\b\b\b\b\b\b\r",
      "38/38 [==============================] - 1s 22ms/step - loss: 1.6318 - val_loss: 2.2758\n"
     ]
    },
    {
     "name": "stdout",
     "output_type": "stream",
     "text": [
      "Epoch 10/100\n",
      "\r",
      " 1/38 [..............................] - ETA: 0s - loss: 1.5904"
     ]
    },
    {
     "name": "stdout",
     "output_type": "stream",
     "text": [
      "\b\b\b\b\b\b\b\b\b\b\b\b\b\b\b\b\b\b\b\b\b\b\b\b\b\b\b\b\b\b\b\b\b\b\b\b\b\b\b\b\b\b\b\b\b\b\b\b\b\b\b\b\b\b\b\b\b\b\b\b\b\b\b\r",
      " 8/38 [=====>........................] - ETA: 0s - loss: 1.5874"
     ]
    },
    {
     "name": "stdout",
     "output_type": "stream",
     "text": [
      "\b\b\b\b\b\b\b\b\b\b\b\b\b\b\b\b\b\b\b\b\b\b\b\b\b\b\b\b\b\b\b\b\b\b\b\b\b\b\b\b\b\b\b\b\b\b\b\b\b\b\b\b\b\b\b\b\b\b\b\b\b\b\b\r",
      "15/38 [==========>...................] - ETA: 0s - loss: 1.5772"
     ]
    },
    {
     "name": "stdout",
     "output_type": "stream",
     "text": [
      "\b\b\b\b\b\b\b\b\b\b\b\b\b\b\b\b\b\b\b\b\b\b\b\b\b\b\b\b\b\b\b\b\b\b\b\b\b\b\b\b\b\b\b\b\b\b\b\b\b\b\b\b\b\b\b\b\b\b\b\b\b\b\b\r",
      "22/38 [================>.............] - ETA: 0s - loss: 1.5714"
     ]
    },
    {
     "name": "stdout",
     "output_type": "stream",
     "text": [
      "\b\b\b\b\b\b\b\b\b\b\b\b\b\b\b\b\b\b\b\b\b\b\b\b\b\b\b\b\b\b\b\b\b\b\b\b\b\b\b\b\b\b\b\b\b\b\b\b\b\b\b\b\b\b\b\b\b\b\b\b\b\b\b\r",
      "29/38 [=====================>........] - ETA: 0s - loss: 1.5674"
     ]
    },
    {
     "name": "stdout",
     "output_type": "stream",
     "text": [
      "\b\b\b\b\b\b\b\b\b\b\b\b\b\b\b\b\b\b\b\b\b\b\b\b\b\b\b\b\b\b\b\b\b\b\b\b\b\b\b\b\b\b\b\b\b\b\b\b\b\b\b\b\b\b\b\b\b\b\b\b\b\b\b\r",
      "36/38 [===========================>..] - ETA: 0s - loss: 1.5635"
     ]
    },
    {
     "name": "stdout",
     "output_type": "stream",
     "text": [
      "\b\b\b\b\b\b\b\b\b\b\b\b\b\b\b\b\b\b\b\b\b\b\b\b\b\b\b\b\b\b\b\b\b\b\b\b\b\b\b\b\b\b\b\b\b\b\b\b\b\b\b\b\b\b\b\b\b\b\b\b\b\b\b\r",
      "38/38 [==============================] - 1s 22ms/step - loss: 1.5619 - val_loss: 2.3457\n"
     ]
    },
    {
     "name": "stdout",
     "output_type": "stream",
     "text": [
      "Epoch 11/100\n",
      "\r",
      " 1/38 [..............................] - ETA: 0s - loss: 1.5137"
     ]
    },
    {
     "name": "stdout",
     "output_type": "stream",
     "text": [
      "\b\b\b\b\b\b\b\b\b\b\b\b\b\b\b\b\b\b\b\b\b\b\b\b\b\b\b\b\b\b\b\b\b\b\b\b\b\b\b\b\b\b\b\b\b\b\b\b\b\b\b\b\b\b\b\b\b\b\b\b\b\b\b\r",
      " 8/38 [=====>........................] - ETA: 0s - loss: 1.5153"
     ]
    },
    {
     "name": "stdout",
     "output_type": "stream",
     "text": [
      "\b\b\b\b\b\b\b\b\b\b\b\b\b\b\b\b\b\b\b\b\b\b\b\b\b\b\b\b\b\b\b\b\b\b\b\b\b\b\b\b\b\b\b\b\b\b\b\b\b\b\b\b\b\b\b\b\b\b\b\b\b\b\b\r",
      "15/38 [==========>...................] - ETA: 0s - loss: 1.5097"
     ]
    },
    {
     "name": "stdout",
     "output_type": "stream",
     "text": [
      "\b\b\b\b\b\b\b\b\b\b\b\b\b\b\b\b\b\b\b\b\b\b\b\b\b\b\b\b\b\b\b\b\b\b\b\b\b\b\b\b\b\b\b\b\b\b\b\b\b\b\b\b\b\b\b\b\b\b\b\b\b\b\b\r",
      "22/38 [================>.............] - ETA: 0s - loss: 1.5065"
     ]
    },
    {
     "name": "stdout",
     "output_type": "stream",
     "text": [
      "\b\b\b\b\b\b\b\b\b\b\b\b\b\b\b\b\b\b\b\b\b\b\b\b\b\b\b\b\b\b\b\b\b\b\b\b\b\b\b\b\b\b\b\b\b\b\b\b\b\b\b\b\b\b\b\b\b\b\b\b\b\b\b\r",
      "29/38 [=====================>........] - ETA: 0s - loss: 1.5043"
     ]
    },
    {
     "name": "stdout",
     "output_type": "stream",
     "text": [
      "\b\b\b\b\b\b\b\b\b\b\b\b\b\b\b\b\b\b\b\b\b\b\b\b\b\b\b\b\b\b\b\b\b\b\b\b\b\b\b\b\b\b\b\b\b\b\b\b\b\b\b\b\b\b\b\b\b\b\b\b\b\b\b\r",
      "36/38 [===========================>..] - ETA: 0s - loss: 1.5023"
     ]
    },
    {
     "name": "stdout",
     "output_type": "stream",
     "text": [
      "\b\b\b\b\b\b\b\b\b\b\b\b\b\b\b\b\b\b\b\b\b\b\b\b\b\b\b\b\b\b\b\b\b\b\b\b\b\b\b\b\b\b\b\b\b\b\b\b\b\b\b\b\b\b\b\b\b\b\b\b\b\b\b\r",
      "38/38 [==============================] - 1s 22ms/step - loss: 1.5015 - val_loss: 2.4520\n"
     ]
    },
    {
     "name": "stdout",
     "output_type": "stream",
     "text": [
      "Epoch 12/100\n",
      "\r",
      " 1/38 [..............................] - ETA: 0s - loss: 1.4910"
     ]
    },
    {
     "name": "stdout",
     "output_type": "stream",
     "text": [
      "\b\b\b\b\b\b\b\b\b\b\b\b\b\b\b\b\b\b\b\b\b\b\b\b\b\b\b\b\b\b\b\b\b\b\b\b\b\b\b\b\b\b\b\b\b\b\b\b\b\b\b\b\b\b\b\b\b\b\b\b\b\b\b\r",
      " 8/38 [=====>........................] - ETA: 0s - loss: 1.4935"
     ]
    },
    {
     "name": "stdout",
     "output_type": "stream",
     "text": [
      "\b\b\b\b\b\b\b\b\b\b\b\b\b\b\b\b\b\b\b\b\b\b\b\b\b\b\b\b\b\b\b\b\b\b\b\b\b\b\b\b\b\b\b\b\b\b\b\b\b\b\b\b\b\b\b\b\b\b\b\b\b\b\b\r",
      "15/38 [==========>...................] - ETA: 0s - loss: 1.4850"
     ]
    },
    {
     "name": "stdout",
     "output_type": "stream",
     "text": [
      "\b\b\b\b\b\b\b\b\b\b\b\b\b\b\b\b\b\b\b\b\b\b\b\b\b\b\b\b\b\b\b\b\b\b\b\b\b\b\b\b\b\b\b\b\b\b\b\b\b\b\b\b\b\b\b\b\b\b\b\b\b\b\b\r",
      "22/38 [================>.............] - ETA: 0s - loss: 1.4794"
     ]
    },
    {
     "name": "stdout",
     "output_type": "stream",
     "text": [
      "\b\b\b\b\b\b\b\b\b\b\b\b\b\b\b\b\b\b\b\b\b\b\b\b\b\b\b\b\b\b\b\b\b\b\b\b\b\b\b\b\b\b\b\b\b\b\b\b\b\b\b\b\b\b\b\b\b\b\b\b\b\b\b\r",
      "29/38 [=====================>........] - ETA: 0s - loss: 1.4761"
     ]
    },
    {
     "name": "stdout",
     "output_type": "stream",
     "text": [
      "\b\b\b\b\b\b\b\b\b\b\b\b\b\b\b\b\b\b\b\b\b\b\b\b\b\b\b\b\b\b\b\b\b\b\b\b\b\b\b\b\b\b\b\b\b\b\b\b\b\b\b\b\b\b\b\b\b\b\b\b\b\b\b\r",
      "36/38 [===========================>..] - ETA: 0s - loss: 1.4732"
     ]
    },
    {
     "name": "stdout",
     "output_type": "stream",
     "text": [
      "\b\b\b\b\b\b\b\b\b\b\b\b\b\b\b\b\b\b\b\b\b\b\b\b\b\b\b\b\b\b\b\b\b\b\b\b\b\b\b\b\b\b\b\b\b\b\b\b\b\b\b\b\b\b\b\b\b\b\b\b\b\b\b\r",
      "38/38 [==============================] - 1s 22ms/step - loss: 1.4721 - val_loss: 2.4794\n"
     ]
    }
   ],
   "source": [
    "# perform training ...\n",
    "#   - call the main training loop in keras for our network+dataset\n",
    "filepath = NEURAL_NETWORK_FILENAME\n",
    "\n",
    "history = model.fit(\n",
    "    X_train,\n",
    "    Y_train,\n",
    "    batch_size=BATCH_SIZE,\n",
    "    epochs=NB_EPOCH,\n",
    "    validation_data=(X_test, Y_test),\n",
    "    callbacks = [\n",
    "        keras.callbacks.ModelCheckpoint(filepath, monitor='val_loss', verbose=0, save_best_only=True, mode='auto'),\n",
    "        keras.callbacks.EarlyStopping(monitor='val_loss', patience=5, verbose=0, mode='auto')\n",
    "    ])\n",
    "\n",
    "# we re-load the best weights once training is finished\n",
    "model.load_weights(filepath)"
   ]
  },
  {
   "cell_type": "markdown",
   "id": "fd714f0e",
   "metadata": {
    "papermill": {
     "duration": 0.026998,
     "end_time": "2021-09-24T11:05:31.955724",
     "exception": false,
     "start_time": "2021-09-24T11:05:31.928726",
     "status": "completed"
    },
    "tags": []
   },
   "source": [
    "# Evaluate and Plot Model Performance"
   ]
  },
  {
   "cell_type": "code",
   "execution_count": 19,
   "id": "9da0a9a4",
   "metadata": {
    "execution": {
     "iopub.execute_input": "2021-09-24T11:05:32.011757Z",
     "iopub.status.busy": "2021-09-24T11:05:32.010754Z",
     "iopub.status.idle": "2021-09-24T11:05:32.696571Z",
     "shell.execute_reply": "2021-09-24T11:05:32.696571Z"
    },
    "papermill": {
     "duration": 0.713815,
     "end_time": "2021-09-24T11:05:32.696571",
     "exception": false,
     "start_time": "2021-09-24T11:05:31.982756",
     "status": "completed"
    },
    "tags": []
   },
   "outputs": [
    {
     "name": "stdout",
     "output_type": "stream",
     "text": [
      "\r",
      "  1/178 [..............................] - ETA: 3s - loss: 1.9937"
     ]
    },
    {
     "name": "stdout",
     "output_type": "stream",
     "text": [
      "\b\b\b\b\b\b\b\b\b\b\b\b\b\b\b\b\b\b\b\b\b\b\b\b\b\b\b\b\b\b\b\b\b\b\b\b\b\b\b\b\b\b\b\b\b\b\b\b\b\b\b\b\b\b\b\b\b\b\b\b\b\b\b\b\b\r",
      " 17/178 [=>............................] - ETA: 0s - loss: 2.0559"
     ]
    },
    {
     "name": "stdout",
     "output_type": "stream",
     "text": [
      "\b\b\b\b\b\b\b\b\b\b\b\b\b\b\b\b\b\b\b\b\b\b\b\b\b\b\b\b\b\b\b\b\b\b\b\b\b\b\b\b\b\b\b\b\b\b\b\b\b\b\b\b\b\b\b\b\b\b\b\b\b\b\b\b\b\r",
      " 34/178 [====>.........................] - ETA: 0s - loss: 2.0556"
     ]
    },
    {
     "name": "stdout",
     "output_type": "stream",
     "text": [
      "\b\b\b\b\b\b\b\b\b\b\b\b\b\b\b\b\b\b\b\b\b\b\b\b\b\b\b\b\b\b\b\b\b\b\b\b\b\b\b\b\b\b\b\b\b\b\b\b\b\b\b\b\b\b\b\b\b\b\b\b\b\b\b\b\b\r",
      " 50/178 [=======>......................] - ETA: 0s - loss: 2.0385"
     ]
    },
    {
     "name": "stdout",
     "output_type": "stream",
     "text": [
      "\b\b\b\b\b\b\b\b\b\b\b\b\b\b\b\b\b\b\b\b\b\b\b\b\b\b\b\b\b\b\b\b\b\b\b\b\b\b\b\b\b\b\b\b\b\b\b\b\b\b\b\b\b\b\b\b\b\b\b\b\b\b\b\b\b"
     ]
    },
    {
     "name": "stdout",
     "output_type": "stream",
     "text": [
      "\r",
      " 66/178 [==========>...................] - ETA: 0s - loss: 2.0576"
     ]
    },
    {
     "name": "stdout",
     "output_type": "stream",
     "text": [
      "\b\b\b\b\b\b\b\b\b\b\b\b\b\b\b\b\b\b\b\b\b\b\b\b\b\b\b\b\b\b\b\b\b\b\b\b\b\b\b\b\b\b\b\b\b\b\b\b\b\b\b\b\b\b\b\b\b\b\b\b\b\b\b\b\b\r",
      " 83/178 [============>.................] - ETA: 0s - loss: 2.1262"
     ]
    },
    {
     "name": "stdout",
     "output_type": "stream",
     "text": [
      "\b\b\b\b\b\b\b\b\b\b\b\b\b\b\b\b\b\b\b\b\b\b\b\b\b\b\b\b\b\b\b\b\b\b\b\b\b\b\b\b\b\b\b\b\b\b\b\b\b\b\b\b\b\b\b\b\b\b\b\b\b\b\b\b\b\r",
      "100/178 [===============>..............] - ETA: 0s - loss: 2.1582"
     ]
    },
    {
     "name": "stdout",
     "output_type": "stream",
     "text": [
      "\b\b\b\b\b\b\b\b\b\b\b\b\b\b\b\b\b\b\b\b\b\b\b\b\b\b\b\b\b\b\b\b\b\b\b\b\b\b\b\b\b\b\b\b\b\b\b\b\b\b\b\b\b\b\b\b\b\b\b\b\b\b\b\b\b\r",
      "117/178 [==================>...........] - ETA: 0s - loss: 2.1287"
     ]
    },
    {
     "name": "stdout",
     "output_type": "stream",
     "text": [
      "\b\b\b\b\b\b\b\b\b\b\b\b\b\b\b\b\b\b\b\b\b\b\b\b\b\b\b\b\b\b\b\b\b\b\b\b\b\b\b\b\b\b\b\b\b\b\b\b\b\b\b\b\b\b\b\b\b\b\b\b\b\b\b\b\b\r",
      "134/178 [=====================>........] - ETA: 0s - loss: 2.1049"
     ]
    },
    {
     "name": "stdout",
     "output_type": "stream",
     "text": [
      "\b\b\b\b\b\b\b\b\b\b\b\b\b\b\b\b\b\b\b\b\b\b\b\b\b\b\b\b\b\b\b\b\b\b\b\b\b\b\b\b\b\b\b\b\b\b\b\b\b\b\b\b\b\b\b\b\b\b\b\b\b\b\b\b\b\r",
      "151/178 [========================>.....] - ETA: 0s - loss: 2.1332"
     ]
    },
    {
     "name": "stdout",
     "output_type": "stream",
     "text": [
      "\b\b\b\b\b\b\b\b\b\b\b\b\b\b\b\b\b\b\b\b\b\b\b\b\b\b\b\b\b\b\b\b\b\b\b\b\b\b\b\b\b\b\b\b\b\b\b\b\b\b\b\b\b\b\b\b\b\b\b\b\b\b\b\b\b\r",
      "168/178 [===========================>..] - ETA: 0s - loss: 2.1179"
     ]
    },
    {
     "name": "stdout",
     "output_type": "stream",
     "text": [
      "\b\b\b\b\b\b\b\b\b\b\b\b\b\b\b\b\b\b\b\b\b\b\b\b\b\b\b\b\b\b\b\b\b\b\b\b\b\b\b\b\b\b\b\b\b\b\b\b\b\b\b\b\b\b\b\b\b\b\b\b\b\b\b\b\b\r",
      "178/178 [==============================] - 1s 3ms/step - loss: 2.1312\n"
     ]
    },
    {
     "name": "stdout",
     "output_type": "stream",
     "text": [
      "2.1311795711517334\n"
     ]
    }
   ],
   "source": [
    "# Show simple version of performance\n",
    "score = model.evaluate(X_test, Y_test, batch_size=BATCH_SIZE)\n",
    "print(score)"
   ]
  },
  {
   "cell_type": "markdown",
   "id": "daaae36d",
   "metadata": {
    "papermill": {
     "duration": 0.02903,
     "end_time": "2021-09-24T11:05:32.754600",
     "exception": false,
     "start_time": "2021-09-24T11:05:32.725570",
     "status": "completed"
    },
    "tags": []
   },
   "source": [
    "## Loss"
   ]
  },
  {
   "cell_type": "code",
   "execution_count": 20,
   "id": "f3482792",
   "metadata": {
    "execution": {
     "iopub.execute_input": "2021-09-24T11:05:32.823570Z",
     "iopub.status.busy": "2021-09-24T11:05:32.822570Z",
     "iopub.status.idle": "2021-09-24T11:05:32.929971Z",
     "shell.execute_reply": "2021-09-24T11:05:32.929971Z"
    },
    "papermill": {
     "duration": 0.148372,
     "end_time": "2021-09-24T11:05:32.930972",
     "exception": false,
     "start_time": "2021-09-24T11:05:32.782600",
     "status": "completed"
    },
    "tags": []
   },
   "outputs": [
    {
     "data": {
      "text/plain": [
       "<matplotlib.legend.Legend at 0x220bd312d60>"
      ]
     },
     "execution_count": 20,
     "metadata": {},
     "output_type": "execute_result"
    },
    {
     "data": {
      "image/png": "[encoded data removed]",
      "text/plain": [
       "<Figure size 432x288 with 1 Axes>"
      ]
     },
     "metadata": {
      "needs_background": "light"
     },
     "output_type": "display_data"
    }
   ],
   "source": [
    "# Show loss curves \n",
    "plt.figure()\n",
    "plt.title('Training performance')\n",
    "plt.plot(history.epoch, history.history['loss'], label='train loss+error')\n",
    "plt.plot(history.epoch, history.history['val_loss'], label='val_error')\n",
    "plt.legend()"
   ]
  },
  {
   "cell_type": "markdown",
   "id": "49b1e29e",
   "metadata": {
    "papermill": {
     "duration": 0.02897,
     "end_time": "2021-09-24T11:05:32.988943",
     "exception": false,
     "start_time": "2021-09-24T11:05:32.959973",
     "status": "completed"
    },
    "tags": []
   },
   "source": [
    "## Confusion matrix"
   ]
  },
  {
   "cell_type": "code",
   "execution_count": 21,
   "id": "c9d04f67",
   "metadata": {
    "execution": {
     "iopub.execute_input": "2021-09-24T11:05:33.050969Z",
     "iopub.status.busy": "2021-09-24T11:05:33.050969Z",
     "iopub.status.idle": "2021-09-24T11:05:33.054942Z",
     "shell.execute_reply": "2021-09-24T11:05:33.054942Z"
    },
    "papermill": {
     "duration": 0.036987,
     "end_time": "2021-09-24T11:05:33.054942",
     "exception": false,
     "start_time": "2021-09-24T11:05:33.017955",
     "status": "completed"
    },
    "tags": []
   },
   "outputs": [],
   "source": [
    "def plot_confusion_matrix(cm, title='Confusion matrix', cmap=plt.cm.Blues, labels=[]):\n",
    "    plt.imshow(cm, interpolation='nearest', cmap=cmap)\n",
    "    plt.title(title)\n",
    "    plt.colorbar()\n",
    "    tick_marks = np.arange(len(labels))\n",
    "    plt.xticks(tick_marks, labels, rotation=45)\n",
    "    plt.yticks(tick_marks, labels)\n",
    "    plt.tight_layout()\n",
    "    plt.ylabel('True label')\n",
    "    plt.xlabel('Predicted label')"
   ]
  },
  {
   "cell_type": "code",
   "execution_count": 22,
   "id": "98292f6d",
   "metadata": {
    "execution": {
     "iopub.execute_input": "2021-09-24T11:05:33.118973Z",
     "iopub.status.busy": "2021-09-24T11:05:33.117941Z",
     "iopub.status.idle": "2021-09-24T11:05:34.876993Z",
     "shell.execute_reply": "2021-09-24T11:05:34.876993Z"
    },
    "papermill": {
     "duration": 1.792008,
     "end_time": "2021-09-24T11:05:34.876993",
     "exception": false,
     "start_time": "2021-09-24T11:05:33.084985",
     "status": "completed"
    },
    "tags": []
   },
   "outputs": [
    {
     "data": {
      "image/png": "[encoded data removed]",
      "text/plain": [
       "<Figure size 432x288 with 2 Axes>"
      ]
     },
     "metadata": {
      "needs_background": "light"
     },
     "output_type": "display_data"
    }
   ],
   "source": [
    "# Plot confusion matrix\n",
    "test_Y_hat = model.predict(X_test, batch_size=BATCH_SIZE)\n",
    "conf = np.zeros([len(classes),len(classes)])\n",
    "confnorm = np.zeros([len(classes),len(classes)])\n",
    "\n",
    "for i in range(0,X_test.shape[0]):\n",
    "    j = list(Y_test[i,:]).index(1)\n",
    "    k = int(np.argmax(test_Y_hat[i,:]))\n",
    "    conf[j,k] = conf[j,k] + 1\n",
    "\n",
    "for i in range(0,len(classes)):\n",
    "    confnorm[i,:] = conf[i,:] / np.sum(conf[i,:])\n",
    "\n",
    "plot_confusion_matrix(confnorm, labels=classes)"
   ]
  },
  {
   "cell_type": "markdown",
   "id": "5b1f0243",
   "metadata": {
    "papermill": {
     "duration": 0.028999,
     "end_time": "2021-09-24T11:05:34.935966",
     "exception": false,
     "start_time": "2021-09-24T11:05:34.906967",
     "status": "completed"
    },
    "tags": []
   },
   "source": [
    "## Confusion matrix for each SNR"
   ]
  },
  {
   "cell_type": "code",
   "execution_count": 23,
   "id": "b690101d",
   "metadata": {
    "execution": {
     "iopub.execute_input": "2021-09-24T11:05:35.013967Z",
     "iopub.status.busy": "2021-09-24T11:05:35.013967Z",
     "iopub.status.idle": "2021-09-24T11:05:45.730662Z",
     "shell.execute_reply": "2021-09-24T11:05:45.730662Z"
    },
    "papermill": {
     "duration": 10.765667,
     "end_time": "2021-09-24T11:05:45.730662",
     "exception": false,
     "start_time": "2021-09-24T11:05:34.964995",
     "status": "completed"
    },
    "scrolled": false,
    "tags": []
   },
   "outputs": [
    {
     "name": "stdout",
     "output_type": "stream",
     "text": [
      "Overall Accuracy:  0.091\n"
     ]
    },
    {
     "name": "stdout",
     "output_type": "stream",
     "text": [
      "Overall Accuracy:  0.09081818181818181\n"
     ]
    },
    {
     "name": "stdout",
     "output_type": "stream",
     "text": [
      "Overall Accuracy:  0.09163636363636364\n"
     ]
    },
    {
     "name": "stdout",
     "output_type": "stream",
     "text": [
      "Overall Accuracy:  0.09327272727272727\n"
     ]
    },
    {
     "name": "stdout",
     "output_type": "stream",
     "text": [
      "Overall Accuracy:  0.10109090909090909\n"
     ]
    },
    {
     "name": "stdout",
     "output_type": "stream",
     "text": [
      "Overall Accuracy:  0.123\n"
     ]
    },
    {
     "name": "stdout",
     "output_type": "stream",
     "text": [
      "Overall Accuracy:  0.16272727272727272\n"
     ]
    },
    {
     "name": "stdout",
     "output_type": "stream",
     "text": [
      "Overall Accuracy:  0.222\n"
     ]
    },
    {
     "name": "stdout",
     "output_type": "stream",
     "text": [
      "Overall Accuracy:  0.2913636363636364\n"
     ]
    },
    {
     "name": "stdout",
     "output_type": "stream",
     "text": [
      "Overall Accuracy:  0.34563636363636363\n"
     ]
    },
    {
     "name": "stdout",
     "output_type": "stream",
     "text": [
      "Overall Accuracy:  0.35\n"
     ]
    },
    {
     "name": "stdout",
     "output_type": "stream",
     "text": [
      "Overall Accuracy:  0.3588181818181818\n"
     ]
    },
    {
     "name": "stdout",
     "output_type": "stream",
     "text": [
      "Overall Accuracy:  0.3653636363636364\n"
     ]
    },
    {
     "name": "stdout",
     "output_type": "stream",
     "text": [
      "Overall Accuracy:  0.36263636363636365\n"
     ]
    },
    {
     "name": "stdout",
     "output_type": "stream",
     "text": [
      "Overall Accuracy:  0.36572727272727273\n"
     ]
    },
    {
     "name": "stdout",
     "output_type": "stream",
     "text": [
      "Overall Accuracy:  0.3718100890207715\n"
     ]
    },
    {
     "name": "stdout",
     "output_type": "stream",
     "text": [
      "Overall Accuracy:  0.3688902551490931\n"
     ]
    },
    {
     "name": "stdout",
     "output_type": "stream",
     "text": [
      "Overall Accuracy:  0.3733413751507841\n"
     ]
    },
    {
     "name": "stdout",
     "output_type": "stream",
     "text": [
      "Overall Accuracy:  0.36609038519866544\n"
     ]
    },
    {
     "name": "stdout",
     "output_type": "stream",
     "text": [
      "Overall Accuracy:  0.37806372549019607\n"
     ]
    },
    {
     "data": {
      "image/png": "[encoded data removed]",
      "text/plain": [
       "<Figure size 432x288 with 2 Axes>"
      ]
     },
     "metadata": {
      "needs_background": "light"
     },
     "output_type": "display_data"
    },
    {
     "data": {
      "image/png": "[encoded data removed]",
      "text/plain": [
       "<Figure size 432x288 with 2 Axes>"
      ]
     },
     "metadata": {
      "needs_background": "light"
     },
     "output_type": "display_data"
    },
    {
     "data": {
      "image/png": "[encoded data removed]",
      "text/plain": [
       "<Figure size 432x288 with 2 Axes>"
      ]
     },
     "metadata": {
      "needs_background": "light"
     },
     "output_type": "display_data"
    },
    {
     "data": {
      "image/png": "[encoded data removed]",
      "text/plain": [
       "<Figure size 432x288 with 2 Axes>"
      ]
     },
     "metadata": {
      "needs_background": "light"
     },
     "output_type": "display_data"
    },
    {
     "data": {
      "image/png": "[encoded data removed]",
      "text/plain": [
       "<Figure size 432x288 with 2 Axes>"
      ]
     },
     "metadata": {
      "needs_background": "light"
     },
     "output_type": "display_data"
    },
    {
     "data": {
      "image/png": "[encoded data removed]",
      "text/plain": [
       "<Figure size 432x288 with 2 Axes>"
      ]
     },
     "metadata": {
      "needs_background": "light"
     },
     "output_type": "display_data"
    },
    {
     "data": {
      "image/png": "[encoded data removed]",
      "text/plain": [
       "<Figure size 432x288 with 2 Axes>"
      ]
     },
     "metadata": {
      "needs_background": "light"
     },
     "output_type": "display_data"
    },
    {
     "data": {
      "image/png": "[encoded data removed]",
      "text/plain": [
       "<Figure size 432x288 with 2 Axes>"
      ]
     },
     "metadata": {
      "needs_background": "light"
     },
     "output_type": "display_data"
    },
    {
     "data": {
      "image/png": "[encoded data removed]",
      "text/plain": [
       "<Figure size 432x288 with 2 Axes>"
      ]
     },
     "metadata": {
      "needs_background": "light"
     },
     "output_type": "display_data"
    },
    {
     "data": {
      "image/png": "[encoded data removed]",
      "text/plain": [
       "<Figure size 432x288 with 2 Axes>"
      ]
     },
     "metadata": {
      "needs_background": "light"
     },
     "output_type": "display_data"
    },
    {
     "data": {
      "image/png": "[encoded data removed]",
      "text/plain": [
       "<Figure size 432x288 with 2 Axes>"
      ]
     },
     "metadata": {
      "needs_background": "light"
     },
     "output_type": "display_data"
    },
    {
     "data": {
      "image/png": "[encoded data removed]",
      "text/plain": [
       "<Figure size 432x288 with 2 Axes>"
      ]
     },
     "metadata": {
      "needs_background": "light"
     },
     "output_type": "display_data"
    },
    {
     "data": {
      "image/png": "[encoded data removed]",
      "text/plain": [
       "<Figure size 432x288 with 2 Axes>"
      ]
     },
     "metadata": {
      "needs_background": "light"
     },
     "output_type": "display_data"
    },
    {
     "data": {
      "image/png": "[encoded data removed]",
      "text/plain": [
       "<Figure size 432x288 with 2 Axes>"
      ]
     },
     "metadata": {
      "needs_background": "light"
     },
     "output_type": "display_data"
    },
    {
     "data": {
      "image/png": "[encoded data removed]",
      "text/plain": [
       "<Figure size 432x288 with 2 Axes>"
      ]
     },
     "metadata": {
      "needs_background": "light"
     },
     "output_type": "display_data"
    },
    {
     "data": {
      "image/png": "[encoded data removed]",
      "text/plain": [
       "<Figure size 432x288 with 2 Axes>"
      ]
     },
     "metadata": {
      "needs_background": "light"
     },
     "output_type": "display_data"
    },
    {
     "data": {
      "image/png": "[encoded data removed]",
      "text/plain": [
       "<Figure size 432x288 with 2 Axes>"
      ]
     },
     "metadata": {
      "needs_background": "light"
     },
     "output_type": "display_data"
    },
    {
     "data": {
      "image/png": "[encoded data removed]",
      "text/plain": [
       "<Figure size 432x288 with 2 Axes>"
      ]
     },
     "metadata": {
      "needs_background": "light"
     },
     "output_type": "display_data"
    },
    {
     "data": {
      "image/png": "[encoded data removed]",
      "text/plain": [
       "<Figure size 432x288 with 2 Axes>"
      ]
     },
     "metadata": {
      "needs_background": "light"
     },
     "output_type": "display_data"
    },
    {
     "data": {
      "image/png": "[encoded data removed]",
      "text/plain": [
       "<Figure size 432x288 with 2 Axes>"
      ]
     },
     "metadata": {
      "needs_background": "light"
     },
     "output_type": "display_data"
    }
   ],
   "source": [
    "# Plot confusion matrix\n",
    "acc = {}\n",
    "for snr in snrs:\n",
    "\n",
    "    # extract classes @ SNR\n",
    "    test_SNRs = list(dataset_df[snr_column_dataframe_name][test_index])\n",
    "    this_snr_indexes = np.where(np.array(test_SNRs) == snr)\n",
    "    \n",
    "    test_X_i = X_test[this_snr_indexes]\n",
    "    test_Y_i = Y_test[this_snr_indexes]  \n",
    "\n",
    "    # estimate classes\n",
    "    test_Y_i_hat = model.predict(test_X_i)\n",
    "    conf = np.zeros([len(classes), len(classes)])\n",
    "    confnorm = np.zeros([len(classes), len(classes)])\n",
    "    \n",
    "    for i in range(0,test_X_i.shape[0]):\n",
    "        j = list(test_Y_i[i, :]).index(1)\n",
    "        k = int(np.argmax(test_Y_i_hat[i, :]))\n",
    "        conf[j, k] = conf[j, k] + 1\n",
    "        \n",
    "    for i in range(0,len(classes)):\n",
    "        confnorm[i, :] = conf[i, :] / np.sum(conf[i, :])\n",
    "        \n",
    "    plt.figure()\n",
    "    plot_confusion_matrix(confnorm, labels=classes, title=\"ConvNet Confusion Matrix (SNR=%d)\"%(snr))\n",
    "    \n",
    "    cor = np.sum(np.diag(conf))\n",
    "    ncor = np.sum(conf) - cor\n",
    "    print(\"Overall Accuracy: \", cor / (cor+ncor))\n",
    "    acc[snr] = 1.0*cor/(cor+ncor)"
   ]
  },
  {
   "cell_type": "markdown",
   "id": "26eaef23",
   "metadata": {
    "papermill": {
     "duration": 0.042029,
     "end_time": "2021-09-24T11:05:45.816691",
     "exception": false,
     "start_time": "2021-09-24T11:05:45.774662",
     "status": "completed"
    },
    "tags": []
   },
   "source": [
    "## Accuracy performance"
   ]
  },
  {
   "cell_type": "code",
   "execution_count": 24,
   "id": "2fe8e792",
   "metadata": {
    "execution": {
     "iopub.execute_input": "2021-09-24T11:05:45.910684Z",
     "iopub.status.busy": "2021-09-24T11:05:45.908663Z",
     "iopub.status.idle": "2021-09-24T11:05:45.917940Z",
     "shell.execute_reply": "2021-09-24T11:05:45.917940Z"
    },
    "papermill": {
     "duration": 0.058247,
     "end_time": "2021-09-24T11:05:45.917940",
     "exception": false,
     "start_time": "2021-09-24T11:05:45.859693",
     "status": "completed"
    },
    "scrolled": true,
    "tags": []
   },
   "outputs": [
    {
     "data": {
      "text/html": [
       "<div>\n",
       "<style scoped>\n",
       "    .dataframe tbody tr th:only-of-type {\n",
       "        vertical-align: middle;\n",
       "    }\n",
       "\n",
       "    .dataframe tbody tr th {\n",
       "        vertical-align: top;\n",
       "    }\n",
       "\n",
       "    .dataframe thead th {\n",
       "        text-align: right;\n",
       "    }\n",
       "</style>\n",
       "<table border=\"1\" class=\"dataframe\">\n",
       "  <thead>\n",
       "    <tr style=\"text-align: right;\">\n",
       "      <th></th>\n",
       "      <th>-20</th>\n",
       "      <th>-18</th>\n",
       "      <th>-16</th>\n",
       "      <th>-14</th>\n",
       "      <th>-12</th>\n",
       "      <th>-10</th>\n",
       "      <th>-8</th>\n",
       "      <th>-6</th>\n",
       "      <th>-4</th>\n",
       "      <th>-2</th>\n",
       "      <th>0</th>\n",
       "      <th>2</th>\n",
       "      <th>4</th>\n",
       "      <th>6</th>\n",
       "      <th>8</th>\n",
       "      <th>10</th>\n",
       "      <th>12</th>\n",
       "      <th>14</th>\n",
       "      <th>16</th>\n",
       "      <th>18</th>\n",
       "    </tr>\n",
       "  </thead>\n",
       "  <tbody>\n",
       "    <tr>\n",
       "      <th>Accuracy %</th>\n",
       "      <td>9</td>\n",
       "      <td>9</td>\n",
       "      <td>9</td>\n",
       "      <td>9</td>\n",
       "      <td>10</td>\n",
       "      <td>12</td>\n",
       "      <td>16</td>\n",
       "      <td>22</td>\n",
       "      <td>29</td>\n",
       "      <td>34</td>\n",
       "      <td>35</td>\n",
       "      <td>35</td>\n",
       "      <td>36</td>\n",
       "      <td>36</td>\n",
       "      <td>36</td>\n",
       "      <td>37</td>\n",
       "      <td>36</td>\n",
       "      <td>37</td>\n",
       "      <td>36</td>\n",
       "      <td>37</td>\n",
       "    </tr>\n",
       "  </tbody>\n",
       "</table>\n",
       "</div>"
      ],
      "text/plain": [
       "            -20  -18  -16  -14  -12  -10  -8   -6   -4   -2    0    2    4   \\\n",
       "Accuracy %    9    9    9    9   10   12   16   22   29   34   35   35   36   \n",
       "\n",
       "             6    8    10   12   14   16   18  \n",
       "Accuracy %   36   36   37   36   37   36   37  "
      ]
     },
     "execution_count": 24,
     "metadata": {},
     "output_type": "execute_result"
    }
   ],
   "source": [
    "accuracy_perc = {}\n",
    "for el in acc.items():\n",
    "    accuracy_perc[el[0]] = int(el[1] * 100)\n",
    "    \n",
    "accuracy_df = pd.DataFrame(data=accuracy_perc, index=[\"Accuracy %\"])\n",
    "# accuracy_df.columns = [\"SNRs\", \"Accuracy\"]\n",
    "accuracy_df"
   ]
  },
  {
   "cell_type": "code",
   "execution_count": 25,
   "id": "bd3936dc",
   "metadata": {
    "execution": {
     "iopub.execute_input": "2021-09-24T11:05:46.007984Z",
     "iopub.status.busy": "2021-09-24T11:05:46.006975Z",
     "iopub.status.idle": "2021-09-24T11:05:46.012969Z",
     "shell.execute_reply": "2021-09-24T11:05:46.012969Z"
    },
    "papermill": {
     "duration": 0.05103,
     "end_time": "2021-09-24T11:05:46.012969",
     "exception": false,
     "start_time": "2021-09-24T11:05:45.961939",
     "status": "completed"
    },
    "tags": []
   },
   "outputs": [],
   "source": [
    "# Save results to a pickle file for plotting later\n",
    "fd = open(OUTPUT_FILENAME,'wb')\n",
    "pickle.dump( (\"CNN2\", 0.5, acc) , fd )"
   ]
  },
  {
   "cell_type": "code",
   "execution_count": 26,
   "id": "ceb6c561",
   "metadata": {
    "execution": {
     "iopub.execute_input": "2021-09-24T11:05:46.112970Z",
     "iopub.status.busy": "2021-09-24T11:05:46.111968Z",
     "iopub.status.idle": "2021-09-24T11:05:46.184933Z",
     "shell.execute_reply": "2021-09-24T11:05:46.184933Z"
    },
    "papermill": {
     "duration": 0.128965,
     "end_time": "2021-09-24T11:05:46.184933",
     "exception": false,
     "start_time": "2021-09-24T11:05:46.055968",
     "status": "completed"
    },
    "tags": []
   },
   "outputs": [
    {
     "data": {
      "text/plain": [
       "Text(0.5, 1.0, 'CNN2 Classification Accuracy on RadioML 2016.10 Alpha')"
      ]
     },
     "execution_count": 26,
     "metadata": {},
     "output_type": "execute_result"
    },
    {
     "data": {
      "image/png": "[encoded data removed]",
      "text/plain": [
       "<Figure size 432x288 with 1 Axes>"
      ]
     },
     "metadata": {
      "needs_background": "light"
     },
     "output_type": "display_data"
    }
   ],
   "source": [
    "# Plot accuracy curve\n",
    "plt.plot(snrs, list(map(lambda x: acc[x], snrs)))\n",
    "plt.xlabel(\"Signal to Noise Ratio\")\n",
    "plt.ylabel(\"Classification Accuracy\")\n",
    "plt.title(\"CNN2 Classification Accuracy on RadioML 2016.10 Alpha\")"
   ]
  }
 ],
 "metadata": {
  "kernelspec": {
   "display_name": "Python 3 (ipykernel)",
   "language": "python",
   "name": "python3"
  },
  "language_info": {
   "codemirror_mode": {
    "name": "ipython",
    "version": 3
   },
   "file_extension": ".py",
   "mimetype": "text/x-python",
   "name": "python",
   "nbconvert_exporter": "python",
   "pygments_lexer": "ipython3",
   "version": "3.9.6"
  },
  "papermill": {
   "default_parameters": {},
   "duration": 79.942604,
   "end_time": "2021-09-24T11:05:48.775979",
   "environment_variables": {},
   "exception": null,
   "input_path": "RML2016.10a_VTCNN2_2021_IQ_MP_HIGH_SNR_v2.ipynb",
   "output_path": "RML2016.10a_VTCNN2_2021_IQ_MP_HIGH_SNR_v2.ipynb",
   "parameters": {},
   "start_time": "2021-09-24T11:04:28.833375",
   "version": "2.3.3"
  }
 },
 "nbformat": 4,
 "nbformat_minor": 5
}