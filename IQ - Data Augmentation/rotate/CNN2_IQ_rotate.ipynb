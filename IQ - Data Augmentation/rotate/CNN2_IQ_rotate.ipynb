{
 "cells": [
  {
   "cell_type": "code",
   "execution_count": null,
   "id": "c59af3e9",
   "metadata": {
    "execution": {
     "iopub.execute_input": "2022-01-07T13:46:24.423193Z",
     "iopub.status.busy": "2022-01-07T13:46:24.423193Z",
     "iopub.status.idle": "2022-01-07T13:46:25.537070Z",
     "shell.execute_reply": "2022-01-07T13:46:25.537070Z"
    },
    "papermill": {
     "duration": 1.153823,
     "end_time": "2022-01-07T13:46:25.537070",
     "exception": false,
     "start_time": "2022-01-07T13:46:24.383247",
     "status": "completed"
    },
    "tags": []
   },
   "outputs": [],
   "source": [
    "!pip install -r ../../requirements.txt"
   ]
  },
  {
   "cell_type": "markdown",
   "id": "eb27b835",
   "metadata": {
    "papermill": {
     "duration": 0.010004,
     "end_time": "2022-01-07T13:46:25.558071",
     "exception": false,
     "start_time": "2022-01-07T13:46:25.548067",
     "status": "completed"
    },
    "tags": []
   },
   "source": [
    "# Configuration"
   ]
  },
  {
   "cell_type": "code",
   "execution_count": null,
   "id": "da28f4de",
   "metadata": {
    "execution": {
     "iopub.execute_input": "2022-01-07T13:46:25.581069Z",
     "iopub.status.busy": "2022-01-07T13:46:25.580066Z",
     "iopub.status.idle": "2022-01-07T13:46:25.584038Z",
     "shell.execute_reply": "2022-01-07T13:46:25.584038Z"
    },
    "papermill": {
     "duration": 0.015971,
     "end_time": "2022-01-07T13:46:25.584038",
     "exception": false,
     "start_time": "2022-01-07T13:46:25.568067",
     "status": "completed"
    },
    "tags": []
   },
   "outputs": [],
   "source": [
    "ROOT_DIR = \"../../\"\n",
    "DATA_DIR = ROOT_DIR + \"data/\"\n",
    "\n",
    "DATASET_2016_10a_FILENAME = DATA_DIR + \"RML2016.10a_dict.pkl\"\n",
    "\n",
    "NN_NAME = 'CNN2'\n",
    "\n",
    "DEFAULT_CONFIG_FILENAME = ROOT_DIR + \"default.ini\""
   ]
  },
  {
   "cell_type": "code",
   "execution_count": null,
   "id": "80d7152a",
   "metadata": {
    "execution": {
     "iopub.execute_input": "2022-01-07T13:46:25.607067Z",
     "iopub.status.busy": "2022-01-07T13:46:25.606067Z",
     "iopub.status.idle": "2022-01-07T13:46:25.615086Z",
     "shell.execute_reply": "2022-01-07T13:46:25.615086Z"
    },
    "papermill": {
     "duration": 0.021019,
     "end_time": "2022-01-07T13:46:25.615086",
     "exception": false,
     "start_time": "2022-01-07T13:46:25.594067",
     "status": "completed"
    },
    "tags": []
   },
   "outputs": [],
   "source": [
    "import configparser\n",
    "\n",
    "config = configparser.ConfigParser()\n",
    "config.read(DEFAULT_CONFIG_FILENAME)\n",
    "\n",
    "NEURAL_NETWORK_NAME = config.get('NeuralNetworkNames', NN_NAME)\n",
    "NEURAL_NETWORK_FILENAME = NEURAL_NETWORK_NAME + '.wts.h5'\n",
    "\n",
    "TRAINING_SET_DIMENSION = config.getfloat('TrainingValues', 'TrainingSetSplitPercentage')\n",
    "DROPOUT_RATE = config.getfloat('TrainingValues', 'DropoutRate')\n",
    "\n",
    "# Set up some params \n",
    "NB_EPOCH = config.getint('TrainingValues', 'Epochs') # number of epochs to train on\n",
    "BATCH_SIZE = config.getint('TrainingValues', 'BatchSize') # training batch size"
   ]
  },
  {
   "cell_type": "markdown",
   "id": "4e7a27ae",
   "metadata": {
    "papermill": {
     "duration": 0.010971,
     "end_time": "2022-01-07T13:46:25.636048",
     "exception": false,
     "start_time": "2022-01-07T13:46:25.625077",
     "status": "completed"
    },
    "tags": []
   },
   "source": [
    "# Imports"
   ]
  },
  {
   "cell_type": "code",
   "execution_count": null,
   "id": "714cf843",
   "metadata": {
    "execution": {
     "iopub.execute_input": "2022-01-07T13:46:25.658079Z",
     "iopub.status.busy": "2022-01-07T13:46:25.657078Z",
     "iopub.status.idle": "2022-01-07T13:46:27.951915Z",
     "shell.execute_reply": "2022-01-07T13:46:27.951915Z"
    },
    "papermill": {
     "duration": 2.306868,
     "end_time": "2022-01-07T13:46:27.951915",
     "exception": false,
     "start_time": "2022-01-07T13:46:25.645047",
     "status": "completed"
    },
    "tags": []
   },
   "outputs": [],
   "source": [
    "import sys\n",
    "sys.path.append(ROOT_DIR)\n",
    "\n",
    "import neural_networks\n",
    "import datasetlib\n",
    "import traintestsplitlib\n",
    "import trainlib\n",
    "import evaluationlib\n",
    "import dataaugmentationlib\n",
    "\n",
    "import math"
   ]
  },
  {
   "cell_type": "markdown",
   "id": "47d550d1",
   "metadata": {
    "papermill": {
     "duration": 0.010999,
     "end_time": "2022-01-07T13:46:27.973913",
     "exception": false,
     "start_time": "2022-01-07T13:46:27.962914",
     "status": "completed"
    },
    "tags": []
   },
   "source": [
    "# Dataset"
   ]
  },
  {
   "cell_type": "markdown",
   "id": "3bba0bfd",
   "metadata": {
    "papermill": {
     "duration": 0.010002,
     "end_time": "2022-01-07T13:46:27.993978",
     "exception": false,
     "start_time": "2022-01-07T13:46:27.983976",
     "status": "completed"
    },
    "tags": []
   },
   "source": [
    "## Dataset in a pandas Dataframe"
   ]
  },
  {
   "cell_type": "code",
   "execution_count": null,
   "id": "2f10af44",
   "metadata": {
    "execution": {
     "iopub.execute_input": "2022-01-07T13:46:28.017979Z",
     "iopub.status.busy": "2022-01-07T13:46:28.017979Z",
     "iopub.status.idle": "2022-01-07T13:46:29.681219Z",
     "shell.execute_reply": "2022-01-07T13:46:29.681219Z"
    },
    "papermill": {
     "duration": 1.676239,
     "end_time": "2022-01-07T13:46:29.681219",
     "exception": false,
     "start_time": "2022-01-07T13:46:28.004980",
     "status": "completed"
    },
    "tags": []
   },
   "outputs": [],
   "source": [
    "dataset_df = datasetlib.load_dataset_dataframe(DATASET_2016_10a_FILENAME)"
   ]
  },
  {
   "cell_type": "markdown",
   "id": "ef292fee",
   "metadata": {
    "papermill": {
     "duration": 0.009984,
     "end_time": "2022-01-07T13:46:29.702205",
     "exception": false,
     "start_time": "2022-01-07T13:46:29.692221",
     "status": "completed"
    },
    "tags": []
   },
   "source": [
    "## Raw dataset"
   ]
  },
  {
   "cell_type": "code",
   "execution_count": null,
   "id": "cff17428",
   "metadata": {
    "execution": {
     "iopub.execute_input": "2022-01-07T13:46:29.726210Z",
     "iopub.status.busy": "2022-01-07T13:46:29.726210Z",
     "iopub.status.idle": "2022-01-07T13:46:29.759140Z",
     "shell.execute_reply": "2022-01-07T13:46:29.759140Z"
    },
    "papermill": {
     "duration": 0.046939,
     "end_time": "2022-01-07T13:46:29.759140",
     "exception": false,
     "start_time": "2022-01-07T13:46:29.712201",
     "status": "completed"
    },
    "tags": []
   },
   "outputs": [],
   "source": [
    "dataset_df"
   ]
  },
  {
   "cell_type": "markdown",
   "id": "3b2b5cce",
   "metadata": {
    "papermill": {
     "duration": 0.01,
     "end_time": "2022-01-07T13:46:29.780131",
     "exception": false,
     "start_time": "2022-01-07T13:46:29.770131",
     "status": "completed"
    },
    "tags": []
   },
   "source": [
    "# Neural network"
   ]
  },
  {
   "cell_type": "markdown",
   "id": "60b0af1e",
   "metadata": {
    "papermill": {
     "duration": 0.01,
     "end_time": "2022-01-07T13:46:29.800131",
     "exception": false,
     "start_time": "2022-01-07T13:46:29.790131",
     "status": "completed"
    },
    "tags": []
   },
   "source": [
    "## Configuration"
   ]
  },
  {
   "cell_type": "code",
   "execution_count": null,
   "id": "2a90bb44",
   "metadata": {
    "execution": {
     "iopub.execute_input": "2022-01-07T13:46:29.824128Z",
     "iopub.status.busy": "2022-01-07T13:46:29.823130Z",
     "iopub.status.idle": "2022-01-07T13:46:29.837130Z",
     "shell.execute_reply": "2022-01-07T13:46:29.837130Z"
    },
    "papermill": {
     "duration": 0.026997,
     "end_time": "2022-01-07T13:46:29.837130",
     "exception": false,
     "start_time": "2022-01-07T13:46:29.810133",
     "status": "completed"
    },
    "tags": []
   },
   "outputs": [],
   "source": [
    "config = configparser.ConfigParser()\n",
    "config.read(DEFAULT_CONFIG_FILENAME)\n",
    "\n",
    "NEURAL_NETWORK_NAME = config.get('NeuralNetworkNames', NN_NAME)\n",
    "NEURAL_NETWORK_FILENAME = NEURAL_NETWORK_NAME + '.wts.h5'\n",
    "\n",
    "TRAINING_SET_DIMENSION = config.getfloat('TrainingValues', 'TrainingSetSplitPercentage')\n",
    "DROPOUT_RATE = config.getfloat('TrainingValues', 'DropoutRate')\n",
    "\n",
    "# Set up some params \n",
    "NB_EPOCH = config.getint('TrainingValues', 'Epochs') # number of epochs to train on\n",
    "BATCH_SIZE = config.getint('TrainingValues', 'BatchSize') # training batch size"
   ]
  },
  {
   "cell_type": "markdown",
   "id": "92df4383",
   "metadata": {
    "papermill": {
     "duration": 0.011003,
     "end_time": "2022-01-07T13:46:29.858133",
     "exception": false,
     "start_time": "2022-01-07T13:46:29.847130",
     "status": "completed"
    },
    "tags": []
   },
   "source": [
    "## Data prepare"
   ]
  },
  {
   "cell_type": "code",
   "execution_count": null,
   "id": "81420552",
   "metadata": {
    "execution": {
     "iopub.execute_input": "2022-01-07T13:46:29.888129Z",
     "iopub.status.busy": "2022-01-07T13:46:29.879132Z",
     "iopub.status.idle": "2022-01-07T13:46:29.899100Z",
     "shell.execute_reply": "2022-01-07T13:46:29.899100Z"
    },
    "papermill": {
     "duration": 0.03097,
     "end_time": "2022-01-07T13:46:29.899100",
     "exception": false,
     "start_time": "2022-01-07T13:46:29.868130",
     "status": "completed"
    },
    "tags": []
   },
   "outputs": [],
   "source": [
    "signals = datasetlib.signals(dataset_df)\n",
    "labels = datasetlib.labels(dataset_df)\n",
    "\n",
    "# [QPSQ, BPSK, ...]\n",
    "mods = datasetlib.mods(dataset_df)\n",
    "# [-18, -16, ...]\n",
    "snrs = datasetlib.unique_snrs(dataset_df)"
   ]
  },
  {
   "cell_type": "markdown",
   "id": "48a5279d",
   "metadata": {
    "papermill": {
     "duration": 0.011,
     "end_time": "2022-01-07T13:46:29.920131",
     "exception": false,
     "start_time": "2022-01-07T13:46:29.909131",
     "status": "completed"
    },
    "tags": []
   },
   "source": [
    "### Training and Test data partitioning"
   ]
  },
  {
   "cell_type": "code",
   "execution_count": null,
   "id": "4b93d257",
   "metadata": {
    "execution": {
     "iopub.execute_input": "2022-01-07T13:46:29.964131Z",
     "iopub.status.busy": "2022-01-07T13:46:29.961130Z",
     "iopub.status.idle": "2022-01-07T13:46:31.333101Z",
     "shell.execute_reply": "2022-01-07T13:46:31.333101Z"
    },
    "papermill": {
     "duration": 1.40297,
     "end_time": "2022-01-07T13:46:31.333101",
     "exception": false,
     "start_time": "2022-01-07T13:46:29.930131",
     "status": "completed"
    },
    "scrolled": false,
    "tags": []
   },
   "outputs": [],
   "source": [
    "n_elements = len(signals)\n",
    "training_set_percentage = TRAINING_SET_DIMENSION\n",
    "\n",
    "train_index, test_index = traintestsplitlib.train_test_random_indexes(n_elements, training_set_percentage)\n",
    "\n",
    "X_train, X_test, Y_train, Y_test = traintestsplitlib.split_x_y_train_test(signals, labels, mods, train_index, test_index)\n",
    "\n",
    "X_train, Y_train = dataaugmentationlib.horizontal_and_vertical_flip_and_concatenate_with_signals(X_train, Y_train)"
   ]
  },
  {
   "cell_type": "markdown",
   "id": "2ec39d17",
   "metadata": {
    "papermill": {
     "duration": 0.01,
     "end_time": "2022-01-07T13:46:31.353100",
     "exception": false,
     "start_time": "2022-01-07T13:46:31.343100",
     "status": "completed"
    },
    "tags": []
   },
   "source": [
    "## Build the Neural Network"
   ]
  },
  {
   "cell_type": "code",
   "execution_count": null,
   "id": "1f9ab452",
   "metadata": {
    "execution": {
     "iopub.execute_input": "2022-01-07T13:46:31.376142Z",
     "iopub.status.busy": "2022-01-07T13:46:31.375131Z",
     "iopub.status.idle": "2022-01-07T13:46:31.393082Z",
     "shell.execute_reply": "2022-01-07T13:46:31.393082Z"
    },
    "papermill": {
     "duration": 0.029981,
     "end_time": "2022-01-07T13:46:31.393082",
     "exception": false,
     "start_time": "2022-01-07T13:46:31.363101",
     "status": "completed"
    },
    "tags": []
   },
   "outputs": [],
   "source": [
    "in_shp = list(X_train.shape[1:])\n",
    "print(X_train.shape)\n",
    "print(in_shp)\n",
    "classes = mods"
   ]
  },
  {
   "cell_type": "code",
   "execution_count": null,
   "id": "f2572742",
   "metadata": {
    "execution": {
     "iopub.execute_input": "2022-01-07T13:46:31.416091Z",
     "iopub.status.busy": "2022-01-07T13:46:31.416091Z",
     "iopub.status.idle": "2022-01-07T13:46:32.019179Z",
     "shell.execute_reply": "2022-01-07T13:46:32.019179Z"
    },
    "papermill": {
     "duration": 0.615094,
     "end_time": "2022-01-07T13:46:32.019179",
     "exception": false,
     "start_time": "2022-01-07T13:46:31.404085",
     "status": "completed"
    },
    "tags": []
   },
   "outputs": [],
   "source": [
    "model = neural_networks.rml201610a_VTCNN2_v2(in_shp)\n",
    "\n",
    "model.summary()"
   ]
  },
  {
   "cell_type": "markdown",
   "id": "ec7ccb23",
   "metadata": {
    "papermill": {
     "duration": 0.011005,
     "end_time": "2022-01-07T13:46:32.041180",
     "exception": false,
     "start_time": "2022-01-07T13:46:32.030175",
     "status": "completed"
    },
    "tags": []
   },
   "source": [
    "### Train the model"
   ]
  },
  {
   "cell_type": "code",
   "execution_count": null,
   "id": "a6995c51",
   "metadata": {
    "execution": {
     "iopub.execute_input": "2022-01-07T13:46:32.065146Z",
     "iopub.status.busy": "2022-01-07T13:46:32.065146Z",
     "iopub.status.idle": "2022-01-07T13:47:56.598566Z",
     "shell.execute_reply": "2022-01-07T13:47:56.598566Z"
    },
    "papermill": {
     "duration": 84.546417,
     "end_time": "2022-01-07T13:47:56.598566",
     "exception": false,
     "start_time": "2022-01-07T13:46:32.052149",
     "status": "completed"
    },
    "scrolled": false,
    "tags": []
   },
   "outputs": [],
   "source": [
    "# perform training ...\n",
    "#   - call the main training loop in keras for our network+dataset\n",
    "filepath = NEURAL_NETWORK_FILENAME\n",
    "\n",
    "history, model = trainlib.train(filepath, model, X_train, Y_train, X_test, Y_test, BATCH_SIZE, NB_EPOCH)"
   ]
  },
  {
   "cell_type": "markdown",
   "id": "f839ddb7",
   "metadata": {
    "papermill": {
     "duration": 0.19803,
     "end_time": "2022-01-07T13:47:56.997595",
     "exception": false,
     "start_time": "2022-01-07T13:47:56.799565",
     "status": "completed"
    },
    "tags": []
   },
   "source": [
    "# Evaluate and Plot Model Performance"
   ]
  },
  {
   "cell_type": "code",
   "execution_count": null,
   "id": "c6938319",
   "metadata": {
    "execution": {
     "iopub.execute_input": "2022-01-07T13:47:57.394595Z",
     "iopub.status.busy": "2022-01-07T13:47:57.394595Z",
     "iopub.status.idle": "2022-01-07T13:47:57.589063Z",
     "shell.execute_reply": "2022-01-07T13:47:57.589063Z"
    },
    "papermill": {
     "duration": 0.393468,
     "end_time": "2022-01-07T13:47:57.589063",
     "exception": false,
     "start_time": "2022-01-07T13:47:57.195595",
     "status": "completed"
    },
    "tags": []
   },
   "outputs": [],
   "source": [
    "# Show simple version of performance\n",
    "score = model.evaluate(X_test, Y_test, batch_size=BATCH_SIZE)\n",
    "print(score)"
   ]
  },
  {
   "cell_type": "markdown",
   "id": "5de661d9",
   "metadata": {
    "papermill": {
     "duration": 0.214037,
     "end_time": "2022-01-07T13:47:58.001304",
     "exception": false,
     "start_time": "2022-01-07T13:47:57.787267",
     "status": "completed"
    },
    "tags": []
   },
   "source": [
    "## Loss"
   ]
  },
  {
   "cell_type": "code",
   "execution_count": null,
   "id": "8c788419",
   "metadata": {
    "execution": {
     "iopub.execute_input": "2022-01-07T13:47:58.413743Z",
     "iopub.status.busy": "2022-01-07T13:47:58.413743Z",
     "iopub.status.idle": "2022-01-07T13:47:58.509138Z",
     "shell.execute_reply": "2022-01-07T13:47:58.509138Z"
    },
    "papermill": {
     "duration": 0.303402,
     "end_time": "2022-01-07T13:47:58.509138",
     "exception": false,
     "start_time": "2022-01-07T13:47:58.205736",
     "status": "completed"
    },
    "tags": []
   },
   "outputs": [],
   "source": [
    "evaluationlib.show_loss_curves(history)"
   ]
  },
  {
   "cell_type": "markdown",
   "id": "14855bf6",
   "metadata": {
    "papermill": {
     "duration": 0.202037,
     "end_time": "2022-01-07T13:47:58.909584",
     "exception": false,
     "start_time": "2022-01-07T13:47:58.707547",
     "status": "completed"
    },
    "tags": []
   },
   "source": [
    "## Confusion matrix"
   ]
  },
  {
   "cell_type": "code",
   "execution_count": null,
   "id": "e17a5a1e",
   "metadata": {
    "execution": {
     "iopub.execute_input": "2022-01-07T13:47:59.314584Z",
     "iopub.status.busy": "2022-01-07T13:47:59.313555Z",
     "iopub.status.idle": "2022-01-07T13:48:00.174860Z",
     "shell.execute_reply": "2022-01-07T13:48:00.174860Z"
    },
    "papermill": {
     "duration": 1.065305,
     "end_time": "2022-01-07T13:48:00.174860",
     "exception": false,
     "start_time": "2022-01-07T13:47:59.109555",
     "status": "completed"
    },
    "tags": []
   },
   "outputs": [],
   "source": [
    "evaluationlib.plot_confusion_matrix(model, NEURAL_NETWORK_NAME, X_test, Y_test, BATCH_SIZE, classes)"
   ]
  },
  {
   "cell_type": "markdown",
   "id": "80bc5d09",
   "metadata": {
    "papermill": {
     "duration": 0.206998,
     "end_time": "2022-01-07T13:48:00.582860",
     "exception": false,
     "start_time": "2022-01-07T13:48:00.375862",
     "status": "completed"
    },
    "tags": []
   },
   "source": [
    "## Confusion matrix for each SNR"
   ]
  },
  {
   "cell_type": "code",
   "execution_count": null,
   "id": "fd7b3774",
   "metadata": {
    "execution": {
     "iopub.execute_input": "2022-01-07T13:48:01.008869Z",
     "iopub.status.busy": "2022-01-07T13:48:01.003889Z",
     "iopub.status.idle": "2022-01-07T13:48:07.423023Z",
     "shell.execute_reply": "2022-01-07T13:48:07.423023Z"
    },
    "papermill": {
     "duration": 6.638134,
     "end_time": "2022-01-07T13:48:07.423023",
     "exception": false,
     "start_time": "2022-01-07T13:48:00.784889",
     "status": "completed"
    },
    "scrolled": false,
    "tags": []
   },
   "outputs": [],
   "source": [
    "acc = evaluationlib.plot_confusion_matrix_each_snr(model, NEURAL_NETWORK_NAME, snrs, dataset_df, X_test, Y_test, test_index, classes)"
   ]
  },
  {
   "cell_type": "markdown",
   "id": "d3be7a32",
   "metadata": {
    "papermill": {
     "duration": 0.20903,
     "end_time": "2022-01-07T13:48:07.839038",
     "exception": false,
     "start_time": "2022-01-07T13:48:07.630008",
     "status": "completed"
    },
    "tags": []
   },
   "source": [
    "## Accuracy performance"
   ]
  },
  {
   "cell_type": "code",
   "execution_count": null,
   "id": "3a5f4683",
   "metadata": {
    "execution": {
     "iopub.execute_input": "2022-01-07T13:48:08.260010Z",
     "iopub.status.busy": "2022-01-07T13:48:08.260010Z",
     "iopub.status.idle": "2022-01-07T13:48:08.265106Z",
     "shell.execute_reply": "2022-01-07T13:48:08.265106Z"
    },
    "papermill": {
     "duration": 0.218068,
     "end_time": "2022-01-07T13:48:08.265106",
     "exception": false,
     "start_time": "2022-01-07T13:48:08.047038",
     "status": "completed"
    },
    "scrolled": true,
    "tags": []
   },
   "outputs": [],
   "source": [
    "evaluationlib.accuracy_dataframe(acc)"
   ]
  },
  {
   "cell_type": "code",
   "execution_count": null,
   "id": "b8d2a655",
   "metadata": {
    "execution": {
     "iopub.execute_input": "2022-01-07T13:48:08.686061Z",
     "iopub.status.busy": "2022-01-07T13:48:08.686061Z",
     "iopub.status.idle": "2022-01-07T13:48:08.699475Z",
     "shell.execute_reply": "2022-01-07T13:48:08.699475Z"
    },
    "papermill": {
     "duration": 0.227391,
     "end_time": "2022-01-07T13:48:08.699475",
     "exception": false,
     "start_time": "2022-01-07T13:48:08.472084",
     "status": "completed"
    },
    "tags": []
   },
   "outputs": [],
   "source": [
    "import statistics\n",
    "\n",
    "statistics.mean(acc.values())"
   ]
  },
  {
   "cell_type": "code",
   "execution_count": null,
   "id": "f26c3048",
   "metadata": {
    "execution": {
     "iopub.execute_input": "2022-01-07T13:48:09.127501Z",
     "iopub.status.busy": "2022-01-07T13:48:09.127501Z",
     "iopub.status.idle": "2022-01-07T13:48:09.199079Z",
     "shell.execute_reply": "2022-01-07T13:48:09.199079Z"
    },
    "papermill": {
     "duration": 0.287575,
     "end_time": "2022-01-07T13:48:09.199079",
     "exception": false,
     "start_time": "2022-01-07T13:48:08.911504",
     "status": "completed"
    },
    "scrolled": true,
    "tags": []
   },
   "outputs": [],
   "source": [
    "evaluationlib.accuracy_curve(snrs, acc, NEURAL_NETWORK_NAME)"
   ]
  }
 ],
 "metadata": {
  "kernelspec": {
   "display_name": "Python 3 (ipykernel)",
   "language": "python",
   "name": "python3"
  },
  "language_info": {
   "codemirror_mode": {
    "name": "ipython",
    "version": 3
   },
   "file_extension": ".py",
   "mimetype": "text/x-python",
   "name": "python",
   "nbconvert_exporter": "python",
   "pygments_lexer": "ipython3",
   "version": "3.9.6"
  },
  "papermill": {
   "default_parameters": {},
   "duration": 107.252559,
   "end_time": "2022-01-07T13:48:10.850189",
   "environment_variables": {},
   "exception": null,
   "input_path": "CNN2_IQ_rotate.ipynb",
   "output_path": "CNN2_IQ_rotate.ipynb",
   "parameters": {},
   "start_time": "2022-01-07T13:46:23.597630",
   "version": "2.3.3"
  }
 },
 "nbformat": 4,
 "nbformat_minor": 5
}
