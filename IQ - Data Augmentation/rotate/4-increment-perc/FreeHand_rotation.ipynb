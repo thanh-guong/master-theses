{
 "cells": [
  {
   "cell_type": "code",
   "execution_count": 1,
   "id": "c59af3e9",
   "metadata": {
    "execution": {
     "iopub.execute_input": "2021-09-24T10:22:29.596708Z",
     "iopub.status.busy": "2021-09-24T10:22:29.591709Z",
     "iopub.status.idle": "2021-09-24T10:22:30.797597Z",
     "shell.execute_reply": "2021-09-24T10:22:30.797597Z"
    },
    "papermill": {
     "duration": 1.243834,
     "end_time": "2021-09-24T10:22:30.797597",
     "exception": false,
     "start_time": "2021-09-24T10:22:29.553763",
     "status": "completed"
    },
    "tags": []
   },
   "outputs": [
    {
     "name": "stdout",
     "output_type": "stream",
     "text": [
      "Requirement already satisfied: matplotlib==3.4.2 in c:\\users\\falchetto\\appdata\\local\\programs\\python\\python39\\lib\\site-packages (from -r ../../../requirements.txt (line 1)) (3.4.2)\n",
      "Requirement already satisfied: keras==2.4.3 in c:\\users\\falchetto\\appdata\\local\\programs\\python\\python39\\lib\\site-packages (from -r ../../../requirements.txt (line 2)) (2.4.3)\n",
      "Requirement already satisfied: tensorflow-gpu==2.5.0 in c:\\users\\falchetto\\appdata\\roaming\\python\\python39\\site-packages (from -r ../../../requirements.txt (line 3)) (2.5.0)\n",
      "Requirement already satisfied: seaborn==0.11.1 in c:\\users\\falchetto\\appdata\\roaming\\python\\python39\\site-packages (from -r ../../../requirements.txt (line 4)) (0.11.1)\n",
      "Requirement already satisfied: papermill in c:\\users\\falchetto\\appdata\\local\\programs\\python\\python39\\lib\\site-packages (from -r ../../../requirements.txt (line 5)) (2.3.3)\n",
      "Requirement already satisfied: cycler>=0.10 in c:\\users\\falchetto\\appdata\\local\\programs\\python\\python39\\lib\\site-packages (from matplotlib==3.4.2->-r ../../../requirements.txt (line 1)) (0.10.0)\n",
      "Requirement already satisfied: pyparsing>=2.2.1 in c:\\users\\falchetto\\appdata\\local\\programs\\python\\python39\\lib\\site-packages (from matplotlib==3.4.2->-r ../../../requirements.txt (line 1)) (2.4.7)\n",
      "Requirement already satisfied: pillow>=6.2.0 in c:\\users\\falchetto\\appdata\\local\\programs\\python\\python39\\lib\\site-packages (from matplotlib==3.4.2->-r ../../../requirements.txt (line 1)) (8.3.1)\n",
      "Requirement already satisfied: python-dateutil>=2.7 in c:\\users\\falchetto\\appdata\\local\\programs\\python\\python39\\lib\\site-packages (from matplotlib==3.4.2->-r ../../../requirements.txt (line 1)) (2.8.2)\n",
      "Requirement already satisfied: kiwisolver>=1.0.1 in c:\\users\\falchetto\\appdata\\local\\programs\\python\\python39\\lib\\site-packages (from matplotlib==3.4.2->-r ../../../requirements.txt (line 1)) (1.3.1)\n",
      "Requirement already satisfied: numpy>=1.16 in c:\\users\\falchetto\\appdata\\local\\programs\\python\\python39\\lib\\site-packages (from matplotlib==3.4.2->-r ../../../requirements.txt (line 1)) (1.19.5)\n",
      "Requirement already satisfied: pyyaml in c:\\users\\falchetto\\appdata\\local\\programs\\python\\python39\\lib\\site-packages (from keras==2.4.3->-r ../../../requirements.txt (line 2)) (5.4.1)\n",
      "Requirement already satisfied: h5py in c:\\users\\falchetto\\appdata\\roaming\\python\\python39\\site-packages (from keras==2.4.3->-r ../../../requirements.txt (line 2)) (3.1.0)\n",
      "Requirement already satisfied: scipy>=0.14 in c:\\users\\falchetto\\appdata\\local\\programs\\python\\python39\\lib\\site-packages (from keras==2.4.3->-r ../../../requirements.txt (line 2)) (1.7.0)\n",
      "Requirement already satisfied: tensorboard~=2.5 in c:\\users\\falchetto\\appdata\\roaming\\python\\python39\\site-packages (from tensorflow-gpu==2.5.0->-r ../../../requirements.txt (line 3)) (2.5.0)\n",
      "Requirement already satisfied: tensorflow-estimator<2.6.0,>=2.5.0rc0 in c:\\users\\falchetto\\appdata\\roaming\\python\\python39\\site-packages (from tensorflow-gpu==2.5.0->-r ../../../requirements.txt (line 3)) (2.5.0)\n",
      "Requirement already satisfied: gast==0.4.0 in c:\\users\\falchetto\\appdata\\roaming\\python\\python39\\site-packages (from tensorflow-gpu==2.5.0->-r ../../../requirements.txt (line 3)) (0.4.0)\n",
      "Requirement already satisfied: google-pasta~=0.2 in c:\\users\\falchetto\\appdata\\roaming\\python\\python39\\site-packages (from tensorflow-gpu==2.5.0->-r ../../../requirements.txt (line 3)) (0.2.0)\n",
      "Requirement already satisfied: keras-nightly~=2.5.0.dev in c:\\users\\falchetto\\appdata\\roaming\\python\\python39\\site-packages (from tensorflow-gpu==2.5.0->-r ../../../requirements.txt (line 3)) (2.5.0.dev2021032900)\n",
      "Requirement already satisfied: opt-einsum~=3.3.0 in c:\\users\\falchetto\\appdata\\roaming\\python\\python39\\site-packages (from tensorflow-gpu==2.5.0->-r ../../../requirements.txt (line 3)) (3.3.0)\n",
      "Requirement already satisfied: absl-py~=0.10 in c:\\users\\falchetto\\appdata\\roaming\\python\\python39\\site-packages (from tensorflow-gpu==2.5.0->-r ../../../requirements.txt (line 3)) (0.13.0)\n",
      "Requirement already satisfied: protobuf>=3.9.2 in c:\\users\\falchetto\\appdata\\local\\programs\\python\\python39\\lib\\site-packages (from tensorflow-gpu==2.5.0->-r ../../../requirements.txt (line 3)) (3.17.3)\n",
      "Requirement already satisfied: wrapt~=1.12.1 in c:\\users\\falchetto\\appdata\\roaming\\python\\python39\\site-packages (from tensorflow-gpu==2.5.0->-r ../../../requirements.txt (line 3)) (1.12.1)\n",
      "Requirement already satisfied: grpcio~=1.34.0 in c:\\users\\falchetto\\appdata\\roaming\\python\\python39\\site-packages (from tensorflow-gpu==2.5.0->-r ../../../requirements.txt (line 3)) (1.34.1)\n",
      "Requirement already satisfied: six~=1.15.0 in c:\\users\\falchetto\\appdata\\local\\programs\\python\\python39\\lib\\site-packages (from tensorflow-gpu==2.5.0->-r ../../../requirements.txt (line 3)) (1.15.0)\n",
      "Requirement already satisfied: keras-preprocessing~=1.1.2 in c:\\users\\falchetto\\appdata\\roaming\\python\\python39\\site-packages (from tensorflow-gpu==2.5.0->-r ../../../requirements.txt (line 3)) (1.1.2)\n",
      "Requirement already satisfied: termcolor~=1.1.0 in c:\\users\\falchetto\\appdata\\roaming\\python\\python39\\site-packages (from tensorflow-gpu==2.5.0->-r ../../../requirements.txt (line 3)) (1.1.0)\n",
      "Requirement already satisfied: flatbuffers~=1.12.0 in c:\\users\\falchetto\\appdata\\roaming\\python\\python39\\site-packages (from tensorflow-gpu==2.5.0->-r ../../../requirements.txt (line 3)) (1.12)\n",
      "Requirement already satisfied: typing-extensions~=3.7.4 in c:\\users\\falchetto\\appdata\\local\\programs\\python\\python39\\lib\\site-packages (from tensorflow-gpu==2.5.0->-r ../../../requirements.txt (line 3)) (3.7.4.3)\n",
      "Requirement already satisfied: wheel~=0.35 in c:\\users\\falchetto\\appdata\\local\\programs\\python\\python39\\lib\\site-packages (from tensorflow-gpu==2.5.0->-r ../../../requirements.txt (line 3)) (0.36.2)\n",
      "Requirement already satisfied: astunparse~=1.6.3 in c:\\users\\falchetto\\appdata\\roaming\\python\\python39\\site-packages (from tensorflow-gpu==2.5.0->-r ../../../requirements.txt (line 3)) (1.6.3)\n",
      "Requirement already satisfied: pandas>=0.23 in c:\\users\\falchetto\\appdata\\roaming\\python\\python39\\site-packages (from seaborn==0.11.1->-r ../../../requirements.txt (line 4)) (1.3.1)\n",
      "Requirement already satisfied: pytz>=2017.3 in c:\\users\\falchetto\\appdata\\roaming\\python\\python39\\site-packages (from pandas>=0.23->seaborn==0.11.1->-r ../../../requirements.txt (line 4)) (2021.1)\n",
      "Requirement already satisfied: tensorboard-plugin-wit>=1.6.0 in c:\\users\\falchetto\\appdata\\local\\programs\\python\\python39\\lib\\site-packages (from tensorboard~=2.5->tensorflow-gpu==2.5.0->-r ../../../requirements.txt (line 3)) (1.8.0)\n",
      "Requirement already satisfied: google-auth<2,>=1.6.3 in c:\\users\\falchetto\\appdata\\local\\programs\\python\\python39\\lib\\site-packages (from tensorboard~=2.5->tensorflow-gpu==2.5.0->-r ../../../requirements.txt (line 3)) (1.33.1)\n",
      "Requirement already satisfied: markdown>=2.6.8 in c:\\users\\falchetto\\appdata\\roaming\\python\\python39\\site-packages (from tensorboard~=2.5->tensorflow-gpu==2.5.0->-r ../../../requirements.txt (line 3)) (3.3.4)\n",
      "Requirement already satisfied: werkzeug>=0.11.15 in c:\\users\\falchetto\\appdata\\local\\programs\\python\\python39\\lib\\site-packages (from tensorboard~=2.5->tensorflow-gpu==2.5.0->-r ../../../requirements.txt (line 3)) (2.0.1)\n",
      "Requirement already satisfied: requests<3,>=2.21.0 in c:\\users\\falchetto\\appdata\\local\\programs\\python\\python39\\lib\\site-packages (from tensorboard~=2.5->tensorflow-gpu==2.5.0->-r ../../../requirements.txt (line 3)) (2.26.0)\n",
      "Requirement already satisfied: setuptools>=41.0.0 in c:\\users\\falchetto\\appdata\\local\\programs\\python\\python39\\lib\\site-packages (from tensorboard~=2.5->tensorflow-gpu==2.5.0->-r ../../../requirements.txt (line 3)) (56.0.0)\n",
      "Requirement already satisfied: tensorboard-data-server<0.7.0,>=0.6.0 in c:\\users\\falchetto\\appdata\\local\\programs\\python\\python39\\lib\\site-packages (from tensorboard~=2.5->tensorflow-gpu==2.5.0->-r ../../../requirements.txt (line 3)) (0.6.1)\n",
      "Requirement already satisfied: google-auth-oauthlib<0.5,>=0.4.1 in c:\\users\\falchetto\\appdata\\roaming\\python\\python39\\site-packages (from tensorboard~=2.5->tensorflow-gpu==2.5.0->-r ../../../requirements.txt (line 3)) (0.4.4)\n",
      "Requirement already satisfied: rsa<5,>=3.1.4 in c:\\users\\falchetto\\appdata\\local\\programs\\python\\python39\\lib\\site-packages (from google-auth<2,>=1.6.3->tensorboard~=2.5->tensorflow-gpu==2.5.0->-r ../../../requirements.txt (line 3)) (4.7.2)\n",
      "Requirement already satisfied: cachetools<5.0,>=2.0.0 in c:\\users\\falchetto\\appdata\\local\\programs\\python\\python39\\lib\\site-packages (from google-auth<2,>=1.6.3->tensorboard~=2.5->tensorflow-gpu==2.5.0->-r ../../../requirements.txt (line 3)) (4.2.2)\n",
      "Requirement already satisfied: pyasn1-modules>=0.2.1 in c:\\users\\falchetto\\appdata\\local\\programs\\python\\python39\\lib\\site-packages (from google-auth<2,>=1.6.3->tensorboard~=2.5->tensorflow-gpu==2.5.0->-r ../../../requirements.txt (line 3)) (0.2.8)\n",
      "Requirement already satisfied: requests-oauthlib>=0.7.0 in c:\\users\\falchetto\\appdata\\local\\programs\\python\\python39\\lib\\site-packages (from google-auth-oauthlib<0.5,>=0.4.1->tensorboard~=2.5->tensorflow-gpu==2.5.0->-r ../../../requirements.txt (line 3)) (1.3.0)\n",
      "Requirement already satisfied: pyasn1<0.5.0,>=0.4.6 in c:\\users\\falchetto\\appdata\\local\\programs\\python\\python39\\lib\\site-packages (from pyasn1-modules>=0.2.1->google-auth<2,>=1.6.3->tensorboard~=2.5->tensorflow-gpu==2.5.0->-r ../../../requirements.txt (line 3)) (0.4.8)\n",
      "Requirement already satisfied: urllib3<1.27,>=1.21.1 in c:\\users\\falchetto\\appdata\\local\\programs\\python\\python39\\lib\\site-packages (from requests<3,>=2.21.0->tensorboard~=2.5->tensorflow-gpu==2.5.0->-r ../../../requirements.txt (line 3)) (1.26.6)\n",
      "Requirement already satisfied: idna<4,>=2.5 in c:\\users\\falchetto\\appdata\\local\\programs\\python\\python39\\lib\\site-packages (from requests<3,>=2.21.0->tensorboard~=2.5->tensorflow-gpu==2.5.0->-r ../../../requirements.txt (line 3)) (3.2)\n",
      "Requirement already satisfied: certifi>=2017.4.17 in c:\\users\\falchetto\\appdata\\local\\programs\\python\\python39\\lib\\site-packages (from requests<3,>=2.21.0->tensorboard~=2.5->tensorflow-gpu==2.5.0->-r ../../../requirements.txt (line 3)) (2021.5.30)\n",
      "Requirement already satisfied: charset-normalizer~=2.0.0 in c:\\users\\falchetto\\appdata\\local\\programs\\python\\python39\\lib\\site-packages (from requests<3,>=2.21.0->tensorboard~=2.5->tensorflow-gpu==2.5.0->-r ../../../requirements.txt (line 3)) (2.0.3)\n",
      "Requirement already satisfied: oauthlib>=3.0.0 in c:\\users\\falchetto\\appdata\\local\\programs\\python\\python39\\lib\\site-packages (from requests-oauthlib>=0.7.0->google-auth-oauthlib<0.5,>=0.4.1->tensorboard~=2.5->tensorflow-gpu==2.5.0->-r ../../../requirements.txt (line 3)) (3.1.1)\n",
      "Requirement already satisfied: black in c:\\users\\falchetto\\appdata\\local\\programs\\python\\python39\\lib\\site-packages (from papermill->-r ../../../requirements.txt (line 5)) (21.7b0)\n",
      "Requirement already satisfied: nbformat>=5.1.2 in c:\\users\\falchetto\\appdata\\local\\programs\\python\\python39\\lib\\site-packages (from papermill->-r ../../../requirements.txt (line 5)) (5.1.3)\n",
      "Requirement already satisfied: tenacity in c:\\users\\falchetto\\appdata\\local\\programs\\python\\python39\\lib\\site-packages (from papermill->-r ../../../requirements.txt (line 5)) (8.0.1)\n",
      "Requirement already satisfied: tqdm>=4.32.2 in c:\\users\\falchetto\\appdata\\local\\programs\\python\\python39\\lib\\site-packages (from papermill->-r ../../../requirements.txt (line 5)) (4.62.3)\n",
      "Requirement already satisfied: nbclient>=0.2.0 in c:\\users\\falchetto\\appdata\\local\\programs\\python\\python39\\lib\\site-packages (from papermill->-r ../../../requirements.txt (line 5)) (0.5.3)\n",
      "Requirement already satisfied: ansiwrap in c:\\users\\falchetto\\appdata\\local\\programs\\python\\python39\\lib\\site-packages (from papermill->-r ../../../requirements.txt (line 5)) (0.8.4)\n",
      "Requirement already satisfied: entrypoints in c:\\users\\falchetto\\appdata\\local\\programs\\python\\python39\\lib\\site-packages (from papermill->-r ../../../requirements.txt (line 5)) (0.3)\n",
      "Requirement already satisfied: click in c:\\users\\falchetto\\appdata\\local\\programs\\python\\python39\\lib\\site-packages (from papermill->-r ../../../requirements.txt (line 5)) (8.0.1)\n",
      "Requirement already satisfied: jupyter-client>=6.1.5 in c:\\users\\falchetto\\appdata\\local\\programs\\python\\python39\\lib\\site-packages (from nbclient>=0.2.0->papermill->-r ../../../requirements.txt (line 5)) (6.1.12)\n",
      "Requirement already satisfied: traitlets>=4.2 in c:\\users\\falchetto\\appdata\\local\\programs\\python\\python39\\lib\\site-packages (from nbclient>=0.2.0->papermill->-r ../../../requirements.txt (line 5)) (5.0.5)\n",
      "Requirement already satisfied: nest-asyncio in c:\\users\\falchetto\\appdata\\local\\programs\\python\\python39\\lib\\site-packages (from nbclient>=0.2.0->papermill->-r ../../../requirements.txt (line 5)) (1.5.1)\n",
      "Requirement already satisfied: async-generator in c:\\users\\falchetto\\appdata\\local\\programs\\python\\python39\\lib\\site-packages (from nbclient>=0.2.0->papermill->-r ../../../requirements.txt (line 5)) (1.10)\n",
      "Requirement already satisfied: jupyter-core>=4.6.0 in c:\\users\\falchetto\\appdata\\local\\programs\\python\\python39\\lib\\site-packages (from jupyter-client>=6.1.5->nbclient>=0.2.0->papermill->-r ../../../requirements.txt (line 5)) (4.7.1)\n",
      "Requirement already satisfied: pyzmq>=13 in c:\\users\\falchetto\\appdata\\local\\programs\\python\\python39\\lib\\site-packages (from jupyter-client>=6.1.5->nbclient>=0.2.0->papermill->-r ../../../requirements.txt (line 5)) (22.1.0)\n",
      "Requirement already satisfied: tornado>=4.1 in c:\\users\\falchetto\\appdata\\local\\programs\\python\\python39\\lib\\site-packages (from jupyter-client>=6.1.5->nbclient>=0.2.0->papermill->-r ../../../requirements.txt (line 5)) (6.1)\n",
      "Requirement already satisfied: pywin32>=1.0 in c:\\users\\falchetto\\appdata\\local\\programs\\python\\python39\\lib\\site-packages (from jupyter-core>=4.6.0->jupyter-client>=6.1.5->nbclient>=0.2.0->papermill->-r ../../../requirements.txt (line 5)) (301)\n",
      "Requirement already satisfied: ipython-genutils in c:\\users\\falchetto\\appdata\\local\\programs\\python\\python39\\lib\\site-packages (from nbformat>=5.1.2->papermill->-r ../../../requirements.txt (line 5)) (0.2.0)\n",
      "Requirement already satisfied: jsonschema!=2.5.0,>=2.4 in c:\\users\\falchetto\\appdata\\local\\programs\\python\\python39\\lib\\site-packages (from nbformat>=5.1.2->papermill->-r ../../../requirements.txt (line 5)) (3.2.0)\n",
      "Requirement already satisfied: pyrsistent>=0.14.0 in c:\\users\\falchetto\\appdata\\local\\programs\\python\\python39\\lib\\site-packages (from jsonschema!=2.5.0,>=2.4->nbformat>=5.1.2->papermill->-r ../../../requirements.txt (line 5)) (0.18.0)\n",
      "Requirement already satisfied: attrs>=17.4.0 in c:\\users\\falchetto\\appdata\\local\\programs\\python\\python39\\lib\\site-packages (from jsonschema!=2.5.0,>=2.4->nbformat>=5.1.2->papermill->-r ../../../requirements.txt (line 5)) (21.2.0)\n",
      "Requirement already satisfied: colorama in c:\\users\\falchetto\\appdata\\local\\programs\\python\\python39\\lib\\site-packages (from tqdm>=4.32.2->papermill->-r ../../../requirements.txt (line 5)) (0.4.4)\n",
      "Requirement already satisfied: textwrap3>=0.9.2 in c:\\users\\falchetto\\appdata\\local\\programs\\python\\python39\\lib\\site-packages (from ansiwrap->papermill->-r ../../../requirements.txt (line 5)) (0.9.2)\n",
      "Requirement already satisfied: pathspec<1,>=0.8.1 in c:\\users\\falchetto\\appdata\\local\\programs\\python\\python39\\lib\\site-packages (from black->papermill->-r ../../../requirements.txt (line 5)) (0.9.0)\n",
      "Requirement already satisfied: tomli<2.0.0,>=0.2.6 in c:\\users\\falchetto\\appdata\\local\\programs\\python\\python39\\lib\\site-packages (from black->papermill->-r ../../../requirements.txt (line 5)) (1.2.1)\n",
      "Requirement already satisfied: mypy-extensions>=0.4.3 in c:\\users\\falchetto\\appdata\\local\\programs\\python\\python39\\lib\\site-packages (from black->papermill->-r ../../../requirements.txt (line 5)) (0.4.3)\n",
      "Requirement already satisfied: regex>=2020.1.8 in c:\\users\\falchetto\\appdata\\local\\programs\\python\\python39\\lib\\site-packages (from black->papermill->-r ../../../requirements.txt (line 5)) (2021.8.28)\n",
      "Requirement already satisfied: appdirs in c:\\users\\falchetto\\appdata\\local\\programs\\python\\python39\\lib\\site-packages (from black->papermill->-r ../../../requirements.txt (line 5)) (1.4.4)\n"
     ]
    },
    {
     "name": "stderr",
     "output_type": "stream",
     "text": [
      "WARNING: You are using pip version 21.1.3; however, version 21.3.1 is available.\n",
      "You should consider upgrading via the 'c:\\users\\falchetto\\appdata\\local\\programs\\python\\python39\\python.exe -m pip install --upgrade pip' command.\n"
     ]
    }
   ],
   "source": [
    "!pip install -r ../../../requirements.txt"
   ]
  },
  {
   "cell_type": "markdown",
   "id": "eb27b835",
   "metadata": {
    "papermill": {
     "duration": 0.010039,
     "end_time": "2021-09-24T10:22:30.819624",
     "exception": false,
     "start_time": "2021-09-24T10:22:30.809585",
     "status": "completed"
    },
    "tags": []
   },
   "source": [
    "# Configuration"
   ]
  },
  {
   "cell_type": "code",
   "execution_count": 2,
   "id": "da28f4de",
   "metadata": {
    "execution": {
     "iopub.execute_input": "2021-09-24T10:22:30.842586Z",
     "iopub.status.busy": "2021-09-24T10:22:30.842586Z",
     "iopub.status.idle": "2021-09-24T10:22:30.859963Z",
     "shell.execute_reply": "2021-09-24T10:22:30.859963Z"
    },
    "papermill": {
     "duration": 0.030352,
     "end_time": "2021-09-24T10:22:30.859963",
     "exception": false,
     "start_time": "2021-09-24T10:22:30.829611",
     "status": "completed"
    },
    "tags": []
   },
   "outputs": [],
   "source": [
    "ROOT_DIR = \"../../../\"\n",
    "DATA_DIR = ROOT_DIR + \"data/\"\n",
    "\n",
    "DATASET_2016_10a_FILENAME = DATA_DIR + \"RML2016.10a_dict.pkl\"\n",
    "\n",
    "NN_NAME = 'FreeHandV1'\n",
    "\n",
    "DEFAULT_CONFIG_FILENAME = ROOT_DIR + \"default.ini\""
   ]
  },
  {
   "cell_type": "code",
   "execution_count": 3,
   "id": "80d7152a",
   "metadata": {
    "execution": {
     "iopub.execute_input": "2021-09-24T10:22:30.883967Z",
     "iopub.status.busy": "2021-09-24T10:22:30.882967Z",
     "iopub.status.idle": "2021-09-24T10:22:30.890885Z",
     "shell.execute_reply": "2021-09-24T10:22:30.890885Z"
    },
    "papermill": {
     "duration": 0.020919,
     "end_time": "2021-09-24T10:22:30.890885",
     "exception": false,
     "start_time": "2021-09-24T10:22:30.869966",
     "status": "completed"
    },
    "tags": []
   },
   "outputs": [],
   "source": [
    "import configparser\n",
    "\n",
    "config = configparser.ConfigParser()\n",
    "config.read(DEFAULT_CONFIG_FILENAME)\n",
    "\n",
    "NEURAL_NETWORK_NAME = config.get('NeuralNetworkNames', NN_NAME)\n",
    "NEURAL_NETWORK_FILENAME = NEURAL_NETWORK_NAME + '.wts.h5'\n",
    "\n",
    "TRAINING_SET_DIMENSION = config.getfloat('TrainingValues', 'TrainingSetSplitPercentage')\n",
    "DROPOUT_RATE = config.getfloat('TrainingValues', 'DropoutRate')\n",
    "\n",
    "# Set up some params \n",
    "NB_EPOCH = config.getint('TrainingValues', 'Epochs') # number of epochs to train on\n",
    "BATCH_SIZE = config.getint('TrainingValues', 'BatchSize') # training batch size"
   ]
  },
  {
   "cell_type": "markdown",
   "id": "4e7a27ae",
   "metadata": {
    "papermill": {
     "duration": 0.010004,
     "end_time": "2021-09-24T10:22:30.911916",
     "exception": false,
     "start_time": "2021-09-24T10:22:30.901912",
     "status": "completed"
    },
    "tags": []
   },
   "source": [
    "# Imports"
   ]
  },
  {
   "cell_type": "code",
   "execution_count": 4,
   "id": "714cf843",
   "metadata": {
    "execution": {
     "iopub.execute_input": "2021-09-24T10:22:30.935913Z",
     "iopub.status.busy": "2021-09-24T10:22:30.935913Z",
     "iopub.status.idle": "2021-09-24T10:22:33.307152Z",
     "shell.execute_reply": "2021-09-24T10:22:33.307152Z"
    },
    "papermill": {
     "duration": 2.384239,
     "end_time": "2021-09-24T10:22:33.307152",
     "exception": false,
     "start_time": "2021-09-24T10:22:30.922913",
     "status": "completed"
    },
    "tags": []
   },
   "outputs": [],
   "source": [
    "import sys\n",
    "sys.path.append(ROOT_DIR)\n",
    "\n",
    "import neural_networks\n",
    "import datasetlib\n",
    "import traintestsplitlib\n",
    "import trainlib\n",
    "import evaluationlib\n",
    "import dataaugmentationlib\n",
    "\n",
    "import math"
   ]
  },
  {
   "cell_type": "markdown",
   "id": "47d550d1",
   "metadata": {
    "papermill": {
     "duration": 0.01,
     "end_time": "2021-09-24T10:22:33.328151",
     "exception": false,
     "start_time": "2021-09-24T10:22:33.318151",
     "status": "completed"
    },
    "tags": []
   },
   "source": [
    "# Dataset"
   ]
  },
  {
   "cell_type": "markdown",
   "id": "3bba0bfd",
   "metadata": {
    "papermill": {
     "duration": 0.01,
     "end_time": "2021-09-24T10:22:33.349151",
     "exception": false,
     "start_time": "2021-09-24T10:22:33.339151",
     "status": "completed"
    },
    "tags": []
   },
   "source": [
    "## Dataset in a pandas Dataframe"
   ]
  },
  {
   "cell_type": "code",
   "execution_count": 5,
   "id": "2f10af44",
   "metadata": {
    "execution": {
     "iopub.execute_input": "2021-09-24T10:22:33.374152Z",
     "iopub.status.busy": "2021-09-24T10:22:33.373153Z",
     "iopub.status.idle": "2021-09-24T10:22:35.083151Z",
     "shell.execute_reply": "2021-09-24T10:22:35.083151Z"
    },
    "papermill": {
     "duration": 1.723,
     "end_time": "2021-09-24T10:22:35.083151",
     "exception": false,
     "start_time": "2021-09-24T10:22:33.360151",
     "status": "completed"
    },
    "tags": []
   },
   "outputs": [],
   "source": [
    "dataset_df = datasetlib.load_dataset_dataframe(DATASET_2016_10a_FILENAME)"
   ]
  },
  {
   "cell_type": "markdown",
   "id": "ef292fee",
   "metadata": {
    "papermill": {
     "duration": 0.011,
     "end_time": "2021-09-24T10:22:35.104151",
     "exception": false,
     "start_time": "2021-09-24T10:22:35.093151",
     "status": "completed"
    },
    "tags": []
   },
   "source": [
    "## Raw dataset"
   ]
  },
  {
   "cell_type": "code",
   "execution_count": 6,
   "id": "cff17428",
   "metadata": {
    "execution": {
     "iopub.execute_input": "2021-09-24T10:22:35.130152Z",
     "iopub.status.busy": "2021-09-24T10:22:35.129151Z",
     "iopub.status.idle": "2021-09-24T10:22:35.160152Z",
     "shell.execute_reply": "2021-09-24T10:22:35.160152Z"
    },
    "papermill": {
     "duration": 0.045001,
     "end_time": "2021-09-24T10:22:35.160152",
     "exception": false,
     "start_time": "2021-09-24T10:22:35.115151",
     "status": "completed"
    },
    "tags": []
   },
   "outputs": [
    {
     "data": {
      "text/html": [
       "<div>\n",
       "<style scoped>\n",
       "    .dataframe tbody tr th:only-of-type {\n",
       "        vertical-align: middle;\n",
       "    }\n",
       "\n",
       "    .dataframe tbody tr th {\n",
       "        vertical-align: top;\n",
       "    }\n",
       "\n",
       "    .dataframe thead th {\n",
       "        text-align: right;\n",
       "    }\n",
       "</style>\n",
       "<table border=\"1\" class=\"dataframe\">\n",
       "  <thead>\n",
       "    <tr style=\"text-align: right;\">\n",
       "      <th></th>\n",
       "      <th>IQ signals</th>\n",
       "      <th>Modulation_Label</th>\n",
       "      <th>SNR</th>\n",
       "    </tr>\n",
       "  </thead>\n",
       "  <tbody>\n",
       "    <tr>\n",
       "      <th>0</th>\n",
       "      <td>[[-0.0059014712, -0.0023458179, -0.00074506126...</td>\n",
       "      <td>QPSK</td>\n",
       "      <td>2</td>\n",
       "    </tr>\n",
       "    <tr>\n",
       "      <th>1</th>\n",
       "      <td>[[0.0050326153, 0.00094379985, -0.0018932355, ...</td>\n",
       "      <td>QPSK</td>\n",
       "      <td>2</td>\n",
       "    </tr>\n",
       "    <tr>\n",
       "      <th>2</th>\n",
       "      <td>[[0.0052390713, 0.0073890695, 0.007276459, 0.0...</td>\n",
       "      <td>QPSK</td>\n",
       "      <td>2</td>\n",
       "    </tr>\n",
       "    <tr>\n",
       "      <th>3</th>\n",
       "      <td>[[-0.0019859935, -0.0071501383, -0.00527185, -...</td>\n",
       "      <td>QPSK</td>\n",
       "      <td>2</td>\n",
       "    </tr>\n",
       "    <tr>\n",
       "      <th>4</th>\n",
       "      <td>[[0.006674405, 0.0028359746, 0.005630027, 0.00...</td>\n",
       "      <td>QPSK</td>\n",
       "      <td>2</td>\n",
       "    </tr>\n",
       "    <tr>\n",
       "      <th>...</th>\n",
       "      <td>...</td>\n",
       "      <td>...</td>\n",
       "      <td>...</td>\n",
       "    </tr>\n",
       "    <tr>\n",
       "      <th>219995</th>\n",
       "      <td>[[0.0062732296, -0.0050519477, 0.006672171, 0....</td>\n",
       "      <td>BPSK</td>\n",
       "      <td>-18</td>\n",
       "    </tr>\n",
       "    <tr>\n",
       "      <th>219996</th>\n",
       "      <td>[[-0.003903181, -0.0015884301, -0.00633375, 2....</td>\n",
       "      <td>BPSK</td>\n",
       "      <td>-18</td>\n",
       "    </tr>\n",
       "    <tr>\n",
       "      <th>219997</th>\n",
       "      <td>[[-0.0105958255, 0.005601244, -0.012161784, 0....</td>\n",
       "      <td>BPSK</td>\n",
       "      <td>-18</td>\n",
       "    </tr>\n",
       "    <tr>\n",
       "      <th>219998</th>\n",
       "      <td>[[-0.002136606, 0.00995837, 0.0059440527, -0.0...</td>\n",
       "      <td>BPSK</td>\n",
       "      <td>-18</td>\n",
       "    </tr>\n",
       "    <tr>\n",
       "      <th>219999</th>\n",
       "      <td>[[-0.008169517, 0.0013303901, -0.002522387, -0...</td>\n",
       "      <td>BPSK</td>\n",
       "      <td>-18</td>\n",
       "    </tr>\n",
       "  </tbody>\n",
       "</table>\n",
       "<p>220000 rows × 3 columns</p>\n",
       "</div>"
      ],
      "text/plain": [
       "                                               IQ signals Modulation_Label  \\\n",
       "0       [[-0.0059014712, -0.0023458179, -0.00074506126...             QPSK   \n",
       "1       [[0.0050326153, 0.00094379985, -0.0018932355, ...             QPSK   \n",
       "2       [[0.0052390713, 0.0073890695, 0.007276459, 0.0...             QPSK   \n",
       "3       [[-0.0019859935, -0.0071501383, -0.00527185, -...             QPSK   \n",
       "4       [[0.006674405, 0.0028359746, 0.005630027, 0.00...             QPSK   \n",
       "...                                                   ...              ...   \n",
       "219995  [[0.0062732296, -0.0050519477, 0.006672171, 0....             BPSK   \n",
       "219996  [[-0.003903181, -0.0015884301, -0.00633375, 2....             BPSK   \n",
       "219997  [[-0.0105958255, 0.005601244, -0.012161784, 0....             BPSK   \n",
       "219998  [[-0.002136606, 0.00995837, 0.0059440527, -0.0...             BPSK   \n",
       "219999  [[-0.008169517, 0.0013303901, -0.002522387, -0...             BPSK   \n",
       "\n",
       "        SNR  \n",
       "0         2  \n",
       "1         2  \n",
       "2         2  \n",
       "3         2  \n",
       "4         2  \n",
       "...     ...  \n",
       "219995  -18  \n",
       "219996  -18  \n",
       "219997  -18  \n",
       "219998  -18  \n",
       "219999  -18  \n",
       "\n",
       "[220000 rows x 3 columns]"
      ]
     },
     "execution_count": 6,
     "metadata": {},
     "output_type": "execute_result"
    }
   ],
   "source": [
    "dataset_df"
   ]
  },
  {
   "cell_type": "markdown",
   "id": "3b2b5cce",
   "metadata": {
    "papermill": {
     "duration": 0.009999,
     "end_time": "2021-09-24T10:22:35.181181",
     "exception": false,
     "start_time": "2021-09-24T10:22:35.171182",
     "status": "completed"
    },
    "tags": []
   },
   "source": [
    "# Neural network"
   ]
  },
  {
   "cell_type": "markdown",
   "id": "60b0af1e",
   "metadata": {
    "papermill": {
     "duration": 0.009996,
     "end_time": "2021-09-24T10:22:35.202181",
     "exception": false,
     "start_time": "2021-09-24T10:22:35.192185",
     "status": "completed"
    },
    "tags": []
   },
   "source": [
    "## Configuration"
   ]
  },
  {
   "cell_type": "code",
   "execution_count": 7,
   "id": "2a90bb44",
   "metadata": {
    "execution": {
     "iopub.execute_input": "2021-09-24T10:22:35.227154Z",
     "iopub.status.busy": "2021-09-24T10:22:35.226185Z",
     "iopub.status.idle": "2021-09-24T10:22:35.238152Z",
     "shell.execute_reply": "2021-09-24T10:22:35.238152Z"
    },
    "papermill": {
     "duration": 0.02497,
     "end_time": "2021-09-24T10:22:35.238152",
     "exception": false,
     "start_time": "2021-09-24T10:22:35.213182",
     "status": "completed"
    },
    "tags": []
   },
   "outputs": [],
   "source": [
    "config = configparser.ConfigParser()\n",
    "config.read(DEFAULT_CONFIG_FILENAME)\n",
    "\n",
    "NEURAL_NETWORK_NAME = config.get('NeuralNetworkNames', NN_NAME)\n",
    "NEURAL_NETWORK_FILENAME = NEURAL_NETWORK_NAME + '.wts.h5'\n",
    "\n",
    "TRAINING_SET_DIMENSION = config.getfloat('TrainingValues', 'TrainingSetSplitPercentage')\n",
    "DROPOUT_RATE = config.getfloat('TrainingValues', 'DropoutRate')\n",
    "\n",
    "# Set up some params \n",
    "NB_EPOCH = config.getint('TrainingValues', 'Epochs') # number of epochs to train on\n",
    "BATCH_SIZE = config.getint('TrainingValues', 'BatchSize') # training batch size\n",
    "\n",
    "THETA = math.pi/2"
   ]
  },
  {
   "cell_type": "markdown",
   "id": "92df4383",
   "metadata": {
    "papermill": {
     "duration": 0.009999,
     "end_time": "2021-09-24T10:22:35.260181",
     "exception": false,
     "start_time": "2021-09-24T10:22:35.250182",
     "status": "completed"
    },
    "tags": []
   },
   "source": [
    "## Data prepare"
   ]
  },
  {
   "cell_type": "code",
   "execution_count": 8,
   "id": "81420552",
   "metadata": {
    "execution": {
     "iopub.execute_input": "2021-09-24T10:22:35.292152Z",
     "iopub.status.busy": "2021-09-24T10:22:35.291186Z",
     "iopub.status.idle": "2021-09-24T10:22:35.300158Z",
     "shell.execute_reply": "2021-09-24T10:22:35.300158Z"
    },
    "papermill": {
     "duration": 0.029006,
     "end_time": "2021-09-24T10:22:35.300158",
     "exception": false,
     "start_time": "2021-09-24T10:22:35.271152",
     "status": "completed"
    },
    "tags": []
   },
   "outputs": [],
   "source": [
    "signals = datasetlib.signals(dataset_df)\n",
    "labels = datasetlib.labels(dataset_df)\n",
    "\n",
    "# [QPSQ, BPSK, ...]\n",
    "mods = datasetlib.mods(dataset_df)\n",
    "# [-18, -16, ...]\n",
    "snrs = datasetlib.unique_snrs(dataset_df)"
   ]
  },
  {
   "cell_type": "markdown",
   "id": "48a5279d",
   "metadata": {
    "papermill": {
     "duration": 0.010994,
     "end_time": "2021-09-24T10:22:35.322176",
     "exception": false,
     "start_time": "2021-09-24T10:22:35.311182",
     "status": "completed"
    },
    "tags": []
   },
   "source": [
    "### Training and Test data partitioning"
   ]
  },
  {
   "cell_type": "code",
   "execution_count": 9,
   "id": "4b93d257",
   "metadata": {
    "execution": {
     "iopub.execute_input": "2021-09-24T10:22:35.367151Z",
     "iopub.status.busy": "2021-09-24T10:22:35.363152Z",
     "iopub.status.idle": "2021-09-24T10:22:35.674154Z",
     "shell.execute_reply": "2021-09-24T10:22:35.674154Z"
    },
    "papermill": {
     "duration": 0.341972,
     "end_time": "2021-09-24T10:22:35.674154",
     "exception": false,
     "start_time": "2021-09-24T10:22:35.332182",
     "status": "completed"
    },
    "scrolled": false,
    "tags": []
   },
   "outputs": [],
   "source": [
    "n_elements = len(signals)\n",
    "training_set_percentage = TRAINING_SET_DIMENSION\n",
    "\n",
    "train_index, test_index = traintestsplitlib.train_test_random_indexes(n_elements, training_set_percentage)\n",
    "\n",
    "X_train, X_test, Y_train, Y_test = traintestsplitlib.split_x_y_train_test(signals, labels, mods, train_index, test_index)\n",
    "\n",
    "X_train, Y_train = dataaugmentationlib.rotate_and_concatenate_with_signals(X_train, Y_train, theta=THETA, increment_percentage=4)"
   ]
  },
  {
   "cell_type": "markdown",
   "id": "2ec39d17",
   "metadata": {
    "papermill": {
     "duration": 0.010001,
     "end_time": "2021-09-24T10:22:35.696182",
     "exception": false,
     "start_time": "2021-09-24T10:22:35.686181",
     "status": "completed"
    },
    "tags": []
   },
   "source": [
    "## Build the Neural Network"
   ]
  },
  {
   "cell_type": "code",
   "execution_count": 10,
   "id": "1f9ab452",
   "metadata": {
    "execution": {
     "iopub.execute_input": "2021-09-24T10:22:35.721153Z",
     "iopub.status.busy": "2021-09-24T10:22:35.720157Z",
     "iopub.status.idle": "2021-09-24T10:22:35.736971Z",
     "shell.execute_reply": "2021-09-24T10:22:35.736971Z"
    },
    "papermill": {
     "duration": 0.02979,
     "end_time": "2021-09-24T10:22:35.736971",
     "exception": false,
     "start_time": "2021-09-24T10:22:35.707181",
     "status": "completed"
    },
    "tags": []
   },
   "outputs": [
    {
     "name": "stdout",
     "output_type": "stream",
     "text": [
      "(825000, 2, 128)\n",
      "[2, 128]\n"
     ]
    }
   ],
   "source": [
    "in_shp = list(X_train.shape[1:])\n",
    "print(X_train.shape)\n",
    "print(in_shp)\n",
    "classes = mods"
   ]
  },
  {
   "cell_type": "code",
   "execution_count": 11,
   "id": "f2572742",
   "metadata": {
    "execution": {
     "iopub.execute_input": "2021-09-24T10:22:35.760962Z",
     "iopub.status.busy": "2021-09-24T10:22:35.760962Z",
     "iopub.status.idle": "2021-09-24T10:22:36.423967Z",
     "shell.execute_reply": "2021-09-24T10:22:36.423967Z"
    },
    "papermill": {
     "duration": 0.675996,
     "end_time": "2021-09-24T10:22:36.423967",
     "exception": false,
     "start_time": "2021-09-24T10:22:35.747971",
     "status": "completed"
    },
    "tags": []
   },
   "outputs": [
    {
     "name": "stdout",
     "output_type": "stream",
     "text": [
      "Model: \"model\"\n",
      "_________________________________________________________________\n",
      "Layer (type)                 Output Shape              Param #   \n",
      "=================================================================\n",
      "input_1 (InputLayer)         [(None, 2, 128)]          0         \n",
      "_________________________________________________________________\n",
      "reshape (Reshape)            (None, 2, 128, 1)         0         \n",
      "_________________________________________________________________\n",
      "conv2d (Conv2D)              (None, 2, 128, 16)        80        \n",
      "_________________________________________________________________\n",
      "dense (Dense)                (None, 2, 128, 256)       4352      \n",
      "_________________________________________________________________\n",
      "conv2d_1 (Conv2D)            (None, 2, 128, 16)        16400     \n",
      "_________________________________________________________________\n",
      "max_pooling2d (MaxPooling2D) (None, 1, 64, 16)         0         \n",
      "_________________________________________________________________\n",
      "flatten (Flatten)            (None, 1024)              0         \n",
      "_________________________________________________________________\n",
      "dense_1 (Dense)              (None, 256)               262400    \n",
      "_________________________________________________________________\n",
      "dense_2 (Dense)              (None, 128)               32896     \n",
      "_________________________________________________________________\n",
      "output (Dense)               (None, 11)                1419      \n",
      "=================================================================\n",
      "Total params: 317,547\n",
      "Trainable params: 317,547\n",
      "Non-trainable params: 0\n",
      "_________________________________________________________________\n"
     ]
    }
   ],
   "source": [
    "model = neural_networks.freehand_v1(in_shp)\n",
    "\n",
    "model.summary()"
   ]
  },
  {
   "cell_type": "markdown",
   "id": "ec7ccb23",
   "metadata": {
    "papermill": {
     "duration": 0.011003,
     "end_time": "2021-09-24T10:22:36.446970",
     "exception": false,
     "start_time": "2021-09-24T10:22:36.435967",
     "status": "completed"
    },
    "tags": []
   },
   "source": [
    "### Train the model"
   ]
  },
  {
   "cell_type": "code",
   "execution_count": null,
   "id": "a6995c51",
   "metadata": {
    "execution": {
     "iopub.execute_input": "2021-09-24T10:22:36.472937Z",
     "iopub.status.busy": "2021-09-24T10:22:36.472937Z",
     "iopub.status.idle": "2021-09-24T10:24:23.330138Z",
     "shell.execute_reply": "2021-09-24T10:24:23.330138Z"
    },
    "papermill": {
     "duration": 106.871171,
     "end_time": "2021-09-24T10:24:23.330138",
     "exception": false,
     "start_time": "2021-09-24T10:22:36.458967",
     "status": "completed"
    },
    "scrolled": false,
    "tags": []
   },
   "outputs": [
    {
     "name": "stdout",
     "output_type": "stream",
     "text": [
      "Epoch 1/100\n",
      "726/726 [==============================] - 57s 62ms/step - loss: 2.1804 - val_loss: 1.6337\n",
      "Epoch 2/100\n",
      "726/726 [==============================] - 45s 61ms/step - loss: 1.5770 - val_loss: 1.4449\n",
      "Epoch 3/100\n",
      "726/726 [==============================] - 44s 61ms/step - loss: 1.4389 - val_loss: 1.3939\n",
      "Epoch 4/100\n",
      "726/726 [==============================] - 44s 61ms/step - loss: 1.3686 - val_loss: 1.3522\n",
      "Epoch 5/100\n",
      "726/726 [==============================] - 47s 64ms/step - loss: 1.3139 - val_loss: 1.2830\n",
      "Epoch 6/100\n",
      "726/726 [==============================] - 48s 67ms/step - loss: 1.2770 - val_loss: 1.24250s \n",
      "Epoch 7/100\n",
      "726/726 [==============================] - 49s 68ms/step - loss: 1.2408 - val_loss: 1.2364\n",
      "Epoch 8/100\n",
      "726/726 [==============================] - 46s 63ms/step - loss: 1.2140 - val_loss: 1.1990\n",
      "Epoch 9/100\n",
      "726/726 [==============================] - 46s 63ms/step - loss: 1.1918 - val_loss: 1.1809\n",
      "Epoch 10/100\n",
      "726/726 [==============================] - 48s 66ms/step - loss: 1.1675 - val_loss: 1.1625\n",
      "Epoch 11/100\n",
      "726/726 [==============================] - 45s 62ms/step - loss: 1.1492 - val_loss: 1.1368\n",
      "Epoch 12/100\n",
      "726/726 [==============================] - 45s 62ms/step - loss: 1.1300 - val_loss: 1.1623\n",
      "Epoch 13/100\n",
      "726/726 [==============================] - 43s 59ms/step - loss: 1.1141 - val_loss: 1.1085\n",
      "Epoch 14/100\n",
      "726/726 [==============================] - 43s 59ms/step - loss: 1.0984 - val_loss: 1.0858\n",
      "Epoch 15/100\n",
      "726/726 [==============================] - 44s 60ms/step - loss: 1.0817 - val_loss: 1.0827\n",
      "Epoch 16/100\n",
      "726/726 [==============================] - 44s 60ms/step - loss: 1.0707 - val_loss: 1.0697\n",
      "Epoch 17/100\n",
      "726/726 [==============================] - 45s 62ms/step - loss: 1.0547 - val_loss: 1.0517\n",
      "Epoch 18/100\n",
      "726/726 [==============================] - 44s 60ms/step - loss: 1.0421 - val_loss: 1.0479\n",
      "Epoch 19/100\n",
      "726/726 [==============================] - 44s 60ms/step - loss: 1.0317 - val_loss: 1.0208\n",
      "Epoch 20/100\n",
      "726/726 [==============================] - 44s 61ms/step - loss: 1.0199 - val_loss: 1.0113\n",
      "Epoch 21/100\n",
      "726/726 [==============================] - 44s 60ms/step - loss: 1.0119 - val_loss: 1.0049\n",
      "Epoch 22/100\n",
      "726/726 [==============================] - 44s 60ms/step - loss: 0.9968 - val_loss: 1.0028\n",
      "Epoch 23/100\n",
      "726/726 [==============================] - 45s 61ms/step - loss: 0.9905 - val_loss: 0.9982\n",
      "Epoch 24/100\n",
      "726/726 [==============================] - 44s 60ms/step - loss: 0.9821 - val_loss: 0.9806\n",
      "Epoch 25/100\n",
      "726/726 [==============================] - 44s 60ms/step - loss: 0.9719 - val_loss: 0.9658\n",
      "Epoch 26/100\n",
      "726/726 [==============================] - 44s 60ms/step - loss: 0.9601 - val_loss: 0.9573\n",
      "Epoch 27/100\n",
      "726/726 [==============================] - 44s 61ms/step - loss: 0.9566 - val_loss: 0.9496\n",
      "Epoch 28/100\n",
      "726/726 [==============================] - 43s 60ms/step - loss: 0.9461 - val_loss: 0.9581\n",
      "Epoch 29/100\n",
      "726/726 [==============================] - 44s 60ms/step - loss: 0.9364 - val_loss: 0.9342\n",
      "Epoch 30/100\n",
      "726/726 [==============================] - 44s 61ms/step - loss: 0.9323 - val_loss: 0.9263\n",
      "Epoch 31/100\n",
      "726/726 [==============================] - 44s 61ms/step - loss: 0.9256 - val_loss: 0.9432\n",
      "Epoch 32/100\n",
      "726/726 [==============================] - 44s 61ms/step - loss: 0.9214 - val_loss: 0.9631\n",
      "Epoch 33/100\n",
      "726/726 [==============================] - 44s 61ms/step - loss: 0.9154 - val_loss: 0.9282\n",
      "Epoch 34/100\n",
      "726/726 [==============================] - 44s 61ms/step - loss: 0.9076 - val_loss: 0.9186\n",
      "Epoch 35/100\n",
      "726/726 [==============================] - 44s 60ms/step - loss: 0.9020 - val_loss: 0.8950\n",
      "Epoch 36/100\n",
      "726/726 [==============================] - 44s 60ms/step - loss: 0.8954 - val_loss: 0.8969\n",
      "Epoch 37/100\n",
      "726/726 [==============================] - 44s 61ms/step - loss: 0.8920 - val_loss: 0.8963\n",
      "Epoch 38/100\n",
      "726/726 [==============================] - 44s 60ms/step - loss: 0.8840 - val_loss: 0.8887\n",
      "Epoch 39/100\n",
      "726/726 [==============================] - 44s 60ms/step - loss: 0.8843 - val_loss: 0.8821\n",
      "Epoch 40/100\n",
      "726/726 [==============================] - 44s 61ms/step - loss: 0.8745 - val_loss: 0.8732\n",
      "Epoch 41/100\n",
      "726/726 [==============================] - 44s 60ms/step - loss: 0.8694 - val_loss: 0.8660\n",
      "Epoch 42/100\n",
      "726/726 [==============================] - 43s 60ms/step - loss: 0.8672 - val_loss: 0.8713\n",
      "Epoch 43/100\n",
      "726/726 [==============================] - 45s 62ms/step - loss: 0.8632 - val_loss: 0.8627\n",
      "Epoch 44/100\n",
      "726/726 [==============================] - 46s 63ms/step - loss: 0.8582 - val_loss: 0.8633\n",
      "Epoch 45/100\n",
      "726/726 [==============================] - 44s 61ms/step - loss: 0.8539 - val_loss: 0.8514\n",
      "Epoch 46/100\n",
      "726/726 [==============================] - 44s 60ms/step - loss: 0.8490 - val_loss: 0.8857\n",
      "Epoch 47/100\n",
      "726/726 [==============================] - 43s 60ms/step - loss: 0.8494 - val_loss: 0.8727\n",
      "Epoch 48/100\n",
      "726/726 [==============================] - 43s 60ms/step - loss: 0.8441 - val_loss: 0.8488\n",
      "Epoch 49/100\n",
      "726/726 [==============================] - 44s 60ms/step - loss: 0.8401 - val_loss: 0.8442\n",
      "Epoch 50/100\n",
      "726/726 [==============================] - 44s 61ms/step - loss: 0.8353 - val_loss: 0.8311\n",
      "Epoch 51/100\n",
      "726/726 [==============================] - 45s 62ms/step - loss: 0.8350 - val_loss: 0.8304\n",
      "Epoch 52/100\n",
      "726/726 [==============================] - 46s 63ms/step - loss: 0.8290 - val_loss: 0.8317\n",
      "Epoch 53/100\n",
      "726/726 [==============================] - 44s 61ms/step - loss: 0.8246 - val_loss: 0.8297\n",
      "Epoch 54/100\n",
      "726/726 [==============================] - 44s 61ms/step - loss: 0.8251 - val_loss: 0.8230\n",
      "Epoch 55/100\n",
      "726/726 [==============================] - 43s 60ms/step - loss: 0.8216 - val_loss: 0.8232\n",
      "Epoch 56/100\n",
      "726/726 [==============================] - 43s 59ms/step - loss: 0.8181 - val_loss: 0.8230\n",
      "Epoch 57/100\n",
      "726/726 [==============================] - 43s 59ms/step - loss: 0.8152 - val_loss: 0.8301\n",
      "Epoch 58/100\n",
      "726/726 [==============================] - 43s 59ms/step - loss: 0.8106 - val_loss: 0.8064\n",
      "Epoch 59/100\n",
      "726/726 [==============================] - 43s 59ms/step - loss: 0.8104 - val_loss: 0.8806\n",
      "Epoch 60/100\n",
      "726/726 [==============================] - 43s 59ms/step - loss: 0.8124 - val_loss: 0.8182\n",
      "Epoch 61/100\n",
      "726/726 [==============================] - 44s 60ms/step - loss: 0.8067 - val_loss: 0.8149\n",
      "Epoch 62/100\n",
      "726/726 [==============================] - 45s 61ms/step - loss: 0.8031 - val_loss: 0.8122\n",
      "Epoch 63/100\n",
      "726/726 [==============================] - 44s 61ms/step - loss: 0.8020 - val_loss: 0.7991\n",
      "Epoch 64/100\n",
      "726/726 [==============================] - 44s 61ms/step - loss: 0.7990 - val_loss: 0.7932\n",
      "Epoch 65/100\n",
      "726/726 [==============================] - 45s 61ms/step - loss: 0.7945 - val_loss: 0.7973\n",
      "Epoch 66/100\n",
      "726/726 [==============================] - 44s 61ms/step - loss: 0.7915 - val_loss: 0.7893\n",
      "Epoch 67/100\n",
      "679/726 [===========================>..] - ETA: 2s - loss: 0.7895"
     ]
    }
   ],
   "source": [
    "# perform training ...\n",
    "#   - call the main training loop in keras for our network+dataset\n",
    "filepath = NEURAL_NETWORK_FILENAME\n",
    "\n",
    "history, model = trainlib.train(filepath, model, X_train, Y_train, X_test, Y_test, BATCH_SIZE, NB_EPOCH)"
   ]
  },
  {
   "cell_type": "markdown",
   "id": "f839ddb7",
   "metadata": {
    "papermill": {
     "duration": 0.177999,
     "end_time": "2021-09-24T10:24:23.682168",
     "exception": false,
     "start_time": "2021-09-24T10:24:23.504169",
     "status": "completed"
    },
    "tags": []
   },
   "source": [
    "# Evaluate and Plot Model Performance"
   ]
  },
  {
   "cell_type": "code",
   "execution_count": null,
   "id": "c6938319",
   "metadata": {
    "execution": {
     "iopub.execute_input": "2021-09-24T10:24:24.044138Z",
     "iopub.status.busy": "2021-09-24T10:24:24.044138Z",
     "iopub.status.idle": "2021-09-24T10:24:24.544138Z",
     "shell.execute_reply": "2021-09-24T10:24:24.544138Z"
    },
    "papermill": {
     "duration": 0.679966,
     "end_time": "2021-09-24T10:24:24.544138",
     "exception": false,
     "start_time": "2021-09-24T10:24:23.864172",
     "status": "completed"
    },
    "tags": []
   },
   "outputs": [],
   "source": [
    "# Show simple version of performance\n",
    "score = model.evaluate(X_test, Y_test, batch_size=BATCH_SIZE)\n",
    "print(score)"
   ]
  },
  {
   "cell_type": "markdown",
   "id": "5de661d9",
   "metadata": {
    "papermill": {
     "duration": 0.18097,
     "end_time": "2021-09-24T10:24:24.904139",
     "exception": false,
     "start_time": "2021-09-24T10:24:24.723169",
     "status": "completed"
    },
    "tags": []
   },
   "source": [
    "## Loss"
   ]
  },
  {
   "cell_type": "code",
   "execution_count": null,
   "id": "8c788419",
   "metadata": {
    "execution": {
     "iopub.execute_input": "2021-09-24T10:24:25.273262Z",
     "iopub.status.busy": "2021-09-24T10:24:25.267235Z",
     "iopub.status.idle": "2021-09-24T10:24:25.370266Z",
     "shell.execute_reply": "2021-09-24T10:24:25.370266Z"
    },
    "papermill": {
     "duration": 0.288127,
     "end_time": "2021-09-24T10:24:25.370266",
     "exception": false,
     "start_time": "2021-09-24T10:24:25.082139",
     "status": "completed"
    },
    "tags": []
   },
   "outputs": [],
   "source": [
    "evaluationlib.show_loss_curves(history)"
   ]
  },
  {
   "cell_type": "markdown",
   "id": "14855bf6",
   "metadata": {
    "papermill": {
     "duration": 0.179001,
     "end_time": "2021-09-24T10:24:25.725235",
     "exception": false,
     "start_time": "2021-09-24T10:24:25.546234",
     "status": "completed"
    },
    "tags": []
   },
   "source": [
    "## Confusion matrix"
   ]
  },
  {
   "cell_type": "code",
   "execution_count": null,
   "id": "e17a5a1e",
   "metadata": {
    "execution": {
     "iopub.execute_input": "2021-09-24T10:24:26.084234Z",
     "iopub.status.busy": "2021-09-24T10:24:26.084234Z",
     "iopub.status.idle": "2021-09-24T10:24:27.237268Z",
     "shell.execute_reply": "2021-09-24T10:24:27.237268Z"
    },
    "papermill": {
     "duration": 1.332004,
     "end_time": "2021-09-24T10:24:27.237268",
     "exception": false,
     "start_time": "2021-09-24T10:24:25.905264",
     "status": "completed"
    },
    "tags": []
   },
   "outputs": [],
   "source": [
    "evaluationlib.plot_confusion_matrix(model, NEURAL_NETWORK_NAME, X_test, Y_test, BATCH_SIZE, classes)"
   ]
  },
  {
   "cell_type": "markdown",
   "id": "80bc5d09",
   "metadata": {
    "papermill": {
     "duration": 0.175993,
     "end_time": "2021-09-24T10:24:27.587264",
     "exception": false,
     "start_time": "2021-09-24T10:24:27.411271",
     "status": "completed"
    },
    "tags": []
   },
   "source": [
    "## Confusion matrix for each SNR"
   ]
  },
  {
   "cell_type": "code",
   "execution_count": null,
   "id": "fd7b3774",
   "metadata": {
    "execution": {
     "iopub.execute_input": "2021-09-24T10:24:27.966264Z",
     "iopub.status.busy": "2021-09-24T10:24:27.965267Z",
     "iopub.status.idle": "2021-09-24T10:24:36.501649Z",
     "shell.execute_reply": "2021-09-24T10:24:36.501649Z"
    },
    "papermill": {
     "duration": 8.734383,
     "end_time": "2021-09-24T10:24:36.501649",
     "exception": false,
     "start_time": "2021-09-24T10:24:27.767266",
     "status": "completed"
    },
    "scrolled": false,
    "tags": []
   },
   "outputs": [],
   "source": [
    "acc = evaluationlib.plot_confusion_matrix_each_snr(model, NEURAL_NETWORK_NAME, snrs, dataset_df, X_test, Y_test, test_index, classes)"
   ]
  },
  {
   "cell_type": "markdown",
   "id": "d3be7a32",
   "metadata": {
    "papermill": {
     "duration": 0.193986,
     "end_time": "2021-09-24T10:24:36.888659",
     "exception": false,
     "start_time": "2021-09-24T10:24:36.694673",
     "status": "completed"
    },
    "tags": []
   },
   "source": [
    "## Accuracy performance"
   ]
  },
  {
   "cell_type": "code",
   "execution_count": null,
   "id": "3a5f4683",
   "metadata": {
    "execution": {
     "iopub.execute_input": "2021-09-24T10:24:37.279630Z",
     "iopub.status.busy": "2021-09-24T10:24:37.279630Z",
     "iopub.status.idle": "2021-09-24T10:24:37.291630Z",
     "shell.execute_reply": "2021-09-24T10:24:37.291630Z"
    },
    "papermill": {
     "duration": 0.210999,
     "end_time": "2021-09-24T10:24:37.291630",
     "exception": false,
     "start_time": "2021-09-24T10:24:37.080631",
     "status": "completed"
    },
    "scrolled": true,
    "tags": []
   },
   "outputs": [],
   "source": [
    "evaluationlib.accuracy_dataframe(acc)"
   ]
  },
  {
   "cell_type": "code",
   "execution_count": null,
   "id": "b8d2a655",
   "metadata": {
    "execution": {
     "iopub.execute_input": "2021-09-24T10:24:37.671631Z",
     "iopub.status.busy": "2021-09-24T10:24:37.671631Z",
     "iopub.status.idle": "2021-09-24T10:24:37.682630Z",
     "shell.execute_reply": "2021-09-24T10:24:37.681631Z"
    },
    "papermill": {
     "duration": 0.203969,
     "end_time": "2021-09-24T10:24:37.682630",
     "exception": false,
     "start_time": "2021-09-24T10:24:37.478661",
     "status": "completed"
    },
    "tags": []
   },
   "outputs": [],
   "source": [
    "import statistics\n",
    "\n",
    "statistics.mean(acc.values())"
   ]
  },
  {
   "cell_type": "code",
   "execution_count": null,
   "id": "f26c3048",
   "metadata": {
    "execution": {
     "iopub.execute_input": "2021-09-24T10:24:38.093630Z",
     "iopub.status.busy": "2021-09-24T10:24:38.071644Z",
     "iopub.status.idle": "2021-09-24T10:24:38.148632Z",
     "shell.execute_reply": "2021-09-24T10:24:38.148632Z"
    },
    "papermill": {
     "duration": 0.273,
     "end_time": "2021-09-24T10:24:38.148632",
     "exception": false,
     "start_time": "2021-09-24T10:24:37.875632",
     "status": "completed"
    },
    "scrolled": true,
    "tags": []
   },
   "outputs": [],
   "source": [
    "evaluationlib.accuracy_curve(snrs, acc, NEURAL_NETWORK_NAME)"
   ]
  }
 ],
 "metadata": {
  "kernelspec": {
   "display_name": "Python 3 (ipykernel)",
   "language": "python",
   "name": "python3"
  },
  "language_info": {
   "codemirror_mode": {
    "name": "ipython",
    "version": 3
   },
   "file_extension": ".py",
   "mimetype": "text/x-python",
   "name": "python",
   "nbconvert_exporter": "python",
   "pygments_lexer": "ipython3",
   "version": "3.9.6"
  },
  "papermill": {
   "default_parameters": {},
   "duration": 131.637616,
   "end_time": "2021-09-24T10:24:39.748952",
   "environment_variables": {},
   "exception": null,
   "input_path": "Freehand_NN-v4.ipynb",
   "output_path": "Freehand_NN-v4.ipynb",
   "parameters": {},
   "start_time": "2021-09-24T10:22:28.111336",
   "version": "2.3.3"
  }
 },
 "nbformat": 4,
 "nbformat_minor": 5
}
