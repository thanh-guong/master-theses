{
 "cells": [
  {
   "cell_type": "code",
   "execution_count": null,
   "id": "c59af3e9",
   "metadata": {
    "execution": {
     "iopub.execute_input": "2022-01-07T13:44:35.734544Z",
     "iopub.status.busy": "2022-01-07T13:44:35.733512Z",
     "iopub.status.idle": "2022-01-07T13:44:37.037049Z",
     "shell.execute_reply": "2022-01-07T13:44:37.037049Z"
    },
    "papermill": {
     "duration": 1.322483,
     "end_time": "2022-01-07T13:44:37.037049",
     "exception": false,
     "start_time": "2022-01-07T13:44:35.714566",
     "status": "completed"
    },
    "tags": []
   },
   "outputs": [],
   "source": [
    "!pip install -r ../../requirements.txt"
   ]
  },
  {
   "cell_type": "markdown",
   "id": "eb27b835",
   "metadata": {
    "papermill": {
     "duration": 0.011001,
     "end_time": "2022-01-07T13:44:37.059049",
     "exception": false,
     "start_time": "2022-01-07T13:44:37.048048",
     "status": "completed"
    },
    "tags": []
   },
   "source": [
    "# Configuration"
   ]
  },
  {
   "cell_type": "code",
   "execution_count": null,
   "id": "da28f4de",
   "metadata": {
    "execution": {
     "iopub.execute_input": "2022-01-07T13:44:37.082048Z",
     "iopub.status.busy": "2022-01-07T13:44:37.081048Z",
     "iopub.status.idle": "2022-01-07T13:44:37.085046Z",
     "shell.execute_reply": "2022-01-07T13:44:37.085046Z"
    },
    "papermill": {
     "duration": 0.015998,
     "end_time": "2022-01-07T13:44:37.085046",
     "exception": false,
     "start_time": "2022-01-07T13:44:37.069048",
     "status": "completed"
    },
    "tags": []
   },
   "outputs": [],
   "source": [
    "ROOT_DIR = \"../../\"\n",
    "DATA_DIR = ROOT_DIR + \"data/\"\n",
    "\n",
    "DATASET_2016_10a_FILENAME = DATA_DIR + \"RML2016.10a_dict.pkl\"\n",
    "\n",
    "NN_NAME = 'Baseline'\n",
    "\n",
    "DEFAULT_CONFIG_FILENAME = ROOT_DIR + \"default.ini\""
   ]
  },
  {
   "cell_type": "code",
   "execution_count": null,
   "id": "80d7152a",
   "metadata": {
    "execution": {
     "iopub.execute_input": "2022-01-07T13:44:37.109049Z",
     "iopub.status.busy": "2022-01-07T13:44:37.108048Z",
     "iopub.status.idle": "2022-01-07T13:44:37.116035Z",
     "shell.execute_reply": "2022-01-07T13:44:37.116035Z"
    },
    "papermill": {
     "duration": 0.020987,
     "end_time": "2022-01-07T13:44:37.116035",
     "exception": false,
     "start_time": "2022-01-07T13:44:37.095048",
     "status": "completed"
    },
    "tags": []
   },
   "outputs": [],
   "source": [
    "import configparser\n",
    "\n",
    "config = configparser.ConfigParser()\n",
    "config.read(DEFAULT_CONFIG_FILENAME)\n",
    "\n",
    "NEURAL_NETWORK_NAME = config.get('NeuralNetworkNames', NN_NAME)\n",
    "NEURAL_NETWORK_FILENAME = NEURAL_NETWORK_NAME + '.wts.h5'\n",
    "\n",
    "TRAINING_SET_DIMENSION = config.getfloat('TrainingValues', 'TrainingSetSplitPercentage')\n",
    "DROPOUT_RATE = config.getfloat('TrainingValues', 'DropoutRate')\n",
    "\n",
    "# Set up some params \n",
    "NB_EPOCH = config.getint('TrainingValues', 'Epochs') # number of epochs to train on\n",
    "BATCH_SIZE = config.getint('TrainingValues', 'BatchSize') # training batch size"
   ]
  },
  {
   "cell_type": "markdown",
   "id": "4e7a27ae",
   "metadata": {
    "papermill": {
     "duration": 0.01,
     "end_time": "2022-01-07T13:44:37.137035",
     "exception": false,
     "start_time": "2022-01-07T13:44:37.127035",
     "status": "completed"
    },
    "tags": []
   },
   "source": [
    "# Imports"
   ]
  },
  {
   "cell_type": "code",
   "execution_count": null,
   "id": "714cf843",
   "metadata": {
    "execution": {
     "iopub.execute_input": "2022-01-07T13:44:37.160036Z",
     "iopub.status.busy": "2022-01-07T13:44:37.160036Z",
     "iopub.status.idle": "2022-01-07T13:44:41.400970Z",
     "shell.execute_reply": "2022-01-07T13:44:41.400970Z"
    },
    "papermill": {
     "duration": 4.253934,
     "end_time": "2022-01-07T13:44:41.400970",
     "exception": false,
     "start_time": "2022-01-07T13:44:37.147036",
     "status": "completed"
    },
    "tags": []
   },
   "outputs": [],
   "source": [
    "import sys\n",
    "sys.path.append(ROOT_DIR)\n",
    "\n",
    "import neural_networks\n",
    "import datasetlib\n",
    "import traintestsplitlib\n",
    "import trainlib\n",
    "import evaluationlib\n",
    "import dataaugmentationlib\n",
    "\n",
    "import math"
   ]
  },
  {
   "cell_type": "markdown",
   "id": "47d550d1",
   "metadata": {
    "papermill": {
     "duration": 0.01003,
     "end_time": "2022-01-07T13:44:41.421966",
     "exception": false,
     "start_time": "2022-01-07T13:44:41.411936",
     "status": "completed"
    },
    "tags": []
   },
   "source": [
    "# Dataset"
   ]
  },
  {
   "cell_type": "markdown",
   "id": "3bba0bfd",
   "metadata": {
    "papermill": {
     "duration": 0.010195,
     "end_time": "2022-01-07T13:44:41.442655",
     "exception": false,
     "start_time": "2022-01-07T13:44:41.432460",
     "status": "completed"
    },
    "tags": []
   },
   "source": [
    "## Dataset in a pandas Dataframe"
   ]
  },
  {
   "cell_type": "code",
   "execution_count": null,
   "id": "2f10af44",
   "metadata": {
    "execution": {
     "iopub.execute_input": "2022-01-07T13:44:41.465576Z",
     "iopub.status.busy": "2022-01-07T13:44:41.465576Z",
     "iopub.status.idle": "2022-01-07T13:44:47.214072Z",
     "shell.execute_reply": "2022-01-07T13:44:47.213072Z"
    },
    "papermill": {
     "duration": 5.761482,
     "end_time": "2022-01-07T13:44:47.214072",
     "exception": false,
     "start_time": "2022-01-07T13:44:41.452590",
     "status": "completed"
    },
    "tags": []
   },
   "outputs": [],
   "source": [
    "dataset_df = datasetlib.load_dataset_dataframe(DATASET_2016_10a_FILENAME)"
   ]
  },
  {
   "cell_type": "markdown",
   "id": "ef292fee",
   "metadata": {
    "papermill": {
     "duration": 0.009997,
     "end_time": "2022-01-07T13:44:47.234072",
     "exception": false,
     "start_time": "2022-01-07T13:44:47.224075",
     "status": "completed"
    },
    "tags": []
   },
   "source": [
    "## Raw dataset"
   ]
  },
  {
   "cell_type": "code",
   "execution_count": null,
   "id": "cff17428",
   "metadata": {
    "execution": {
     "iopub.execute_input": "2022-01-07T13:44:47.260586Z",
     "iopub.status.busy": "2022-01-07T13:44:47.260586Z",
     "iopub.status.idle": "2022-01-07T13:44:47.290588Z",
     "shell.execute_reply": "2022-01-07T13:44:47.290588Z"
    },
    "papermill": {
     "duration": 0.046516,
     "end_time": "2022-01-07T13:44:47.290588",
     "exception": false,
     "start_time": "2022-01-07T13:44:47.244072",
     "status": "completed"
    },
    "tags": []
   },
   "outputs": [],
   "source": [
    "dataset_df"
   ]
  },
  {
   "cell_type": "markdown",
   "id": "3b2b5cce",
   "metadata": {
    "papermill": {
     "duration": 0.010028,
     "end_time": "2022-01-07T13:44:47.311615",
     "exception": false,
     "start_time": "2022-01-07T13:44:47.301587",
     "status": "completed"
    },
    "tags": []
   },
   "source": [
    "# Neural network"
   ]
  },
  {
   "cell_type": "markdown",
   "id": "60b0af1e",
   "metadata": {
    "papermill": {
     "duration": 0.010001,
     "end_time": "2022-01-07T13:44:47.331616",
     "exception": false,
     "start_time": "2022-01-07T13:44:47.321615",
     "status": "completed"
    },
    "tags": []
   },
   "source": [
    "## Configuration"
   ]
  },
  {
   "cell_type": "code",
   "execution_count": null,
   "id": "2a90bb44",
   "metadata": {
    "execution": {
     "iopub.execute_input": "2022-01-07T13:44:47.354586Z",
     "iopub.status.busy": "2022-01-07T13:44:47.354586Z",
     "iopub.status.idle": "2022-01-07T13:44:47.368298Z",
     "shell.execute_reply": "2022-01-07T13:44:47.368298Z"
    },
    "papermill": {
     "duration": 0.026682,
     "end_time": "2022-01-07T13:44:47.368298",
     "exception": false,
     "start_time": "2022-01-07T13:44:47.341616",
     "status": "completed"
    },
    "tags": []
   },
   "outputs": [],
   "source": [
    "config = configparser.ConfigParser()\n",
    "config.read(DEFAULT_CONFIG_FILENAME)\n",
    "\n",
    "NEURAL_NETWORK_NAME = config.get('NeuralNetworkNames', NN_NAME)\n",
    "NEURAL_NETWORK_FILENAME = NEURAL_NETWORK_NAME + '.wts.h5'\n",
    "\n",
    "TRAINING_SET_DIMENSION = config.getfloat('TrainingValues', 'TrainingSetSplitPercentage')\n",
    "DROPOUT_RATE = config.getfloat('TrainingValues', 'DropoutRate')\n",
    "\n",
    "# Set up some params \n",
    "NB_EPOCH = config.getint('TrainingValues', 'Epochs') # number of epochs to train on\n",
    "BATCH_SIZE = config.getint('TrainingValues', 'BatchSize') # training batch size"
   ]
  },
  {
   "cell_type": "markdown",
   "id": "92df4383",
   "metadata": {
    "papermill": {
     "duration": 0.01,
     "end_time": "2022-01-07T13:44:47.388320",
     "exception": false,
     "start_time": "2022-01-07T13:44:47.378320",
     "status": "completed"
    },
    "tags": []
   },
   "source": [
    "## Data prepare"
   ]
  },
  {
   "cell_type": "code",
   "execution_count": null,
   "id": "81420552",
   "metadata": {
    "execution": {
     "iopub.execute_input": "2022-01-07T13:44:47.418325Z",
     "iopub.status.busy": "2022-01-07T13:44:47.414391Z",
     "iopub.status.idle": "2022-01-07T13:44:47.430308Z",
     "shell.execute_reply": "2022-01-07T13:44:47.430308Z"
    },
    "papermill": {
     "duration": 0.031985,
     "end_time": "2022-01-07T13:44:47.430308",
     "exception": false,
     "start_time": "2022-01-07T13:44:47.398323",
     "status": "completed"
    },
    "tags": []
   },
   "outputs": [],
   "source": [
    "signals = datasetlib.signals(dataset_df)\n",
    "labels = datasetlib.labels(dataset_df)\n",
    "\n",
    "# [QPSQ, BPSK, ...]\n",
    "mods = datasetlib.mods(dataset_df)\n",
    "# [-18, -16, ...]\n",
    "snrs = datasetlib.unique_snrs(dataset_df)"
   ]
  },
  {
   "cell_type": "markdown",
   "id": "48a5279d",
   "metadata": {
    "papermill": {
     "duration": 0.009996,
     "end_time": "2022-01-07T13:44:47.450324",
     "exception": false,
     "start_time": "2022-01-07T13:44:47.440328",
     "status": "completed"
    },
    "tags": []
   },
   "source": [
    "### Training and Test data partitioning"
   ]
  },
  {
   "cell_type": "code",
   "execution_count": null,
   "id": "4b93d257",
   "metadata": {
    "execution": {
     "iopub.execute_input": "2022-01-07T13:44:47.490334Z",
     "iopub.status.busy": "2022-01-07T13:44:47.490334Z",
     "iopub.status.idle": "2022-01-07T13:44:50.324298Z",
     "shell.execute_reply": "2022-01-07T13:44:50.324298Z"
    },
    "papermill": {
     "duration": 2.864998,
     "end_time": "2022-01-07T13:44:50.325290",
     "exception": false,
     "start_time": "2022-01-07T13:44:47.460292",
     "status": "completed"
    },
    "scrolled": false,
    "tags": []
   },
   "outputs": [],
   "source": [
    "n_elements = len(signals)\n",
    "training_set_percentage = TRAINING_SET_DIMENSION\n",
    "\n",
    "train_index, test_index = traintestsplitlib.train_test_random_indexes(n_elements, training_set_percentage)\n",
    "\n",
    "X_train, X_test, Y_train, Y_test = traintestsplitlib.split_x_y_train_test(signals, labels, mods, train_index, test_index)\n",
    "\n",
    "X_train, Y_train = dataaugmentationlib.rotate_and_concatenate_with_signals(X_train, Y_train)"
   ]
  },
  {
   "cell_type": "markdown",
   "id": "2ec39d17",
   "metadata": {
    "papermill": {
     "duration": 0.01,
     "end_time": "2022-01-07T13:44:50.345290",
     "exception": false,
     "start_time": "2022-01-07T13:44:50.335290",
     "status": "completed"
    },
    "tags": []
   },
   "source": [
    "## Build the Neural Network"
   ]
  },
  {
   "cell_type": "code",
   "execution_count": null,
   "id": "1f9ab452",
   "metadata": {
    "execution": {
     "iopub.execute_input": "2022-01-07T13:44:50.368292Z",
     "iopub.status.busy": "2022-01-07T13:44:50.368292Z",
     "iopub.status.idle": "2022-01-07T13:44:50.371290Z",
     "shell.execute_reply": "2022-01-07T13:44:50.371290Z"
    },
    "papermill": {
     "duration": 0.015999,
     "end_time": "2022-01-07T13:44:50.371290",
     "exception": false,
     "start_time": "2022-01-07T13:44:50.355291",
     "status": "completed"
    },
    "tags": []
   },
   "outputs": [],
   "source": [
    "in_shp = list(X_train.shape[1:])\n",
    "print(X_train.shape)\n",
    "print(in_shp)\n",
    "classes = mods"
   ]
  },
  {
   "cell_type": "code",
   "execution_count": null,
   "id": "f2572742",
   "metadata": {
    "execution": {
     "iopub.execute_input": "2022-01-07T13:44:50.395290Z",
     "iopub.status.busy": "2022-01-07T13:44:50.395290Z",
     "iopub.status.idle": "2022-01-07T13:44:51.859826Z",
     "shell.execute_reply": "2022-01-07T13:44:51.859826Z"
    },
    "papermill": {
     "duration": 1.477536,
     "end_time": "2022-01-07T13:44:51.859826",
     "exception": false,
     "start_time": "2022-01-07T13:44:50.382290",
     "status": "completed"
    },
    "tags": []
   },
   "outputs": [],
   "source": [
    "model = neural_networks.baseline(in_shp)\n",
    "\n",
    "model.summary()"
   ]
  },
  {
   "cell_type": "markdown",
   "id": "ec7ccb23",
   "metadata": {
    "papermill": {
     "duration": 0.01,
     "end_time": "2022-01-07T13:44:51.880854",
     "exception": false,
     "start_time": "2022-01-07T13:44:51.870854",
     "status": "completed"
    },
    "tags": []
   },
   "source": [
    "### Train the model"
   ]
  },
  {
   "cell_type": "code",
   "execution_count": null,
   "id": "a6995c51",
   "metadata": {
    "execution": {
     "iopub.execute_input": "2022-01-07T13:44:51.905827Z",
     "iopub.status.busy": "2022-01-07T13:44:51.904855Z",
     "iopub.status.idle": "2022-01-07T13:46:05.511224Z",
     "shell.execute_reply": "2022-01-07T13:46:05.511224Z"
    },
    "papermill": {
     "duration": 73.6194,
     "end_time": "2022-01-07T13:46:05.511224",
     "exception": false,
     "start_time": "2022-01-07T13:44:51.891824",
     "status": "completed"
    },
    "scrolled": false,
    "tags": []
   },
   "outputs": [],
   "source": [
    "# perform training ...\n",
    "#   - call the main training loop in keras for our network+dataset\n",
    "filepath = NEURAL_NETWORK_FILENAME\n",
    "\n",
    "history, model = trainlib.train(filepath, model, X_train, Y_train, X_test, Y_test, BATCH_SIZE, NB_EPOCH)"
   ]
  },
  {
   "cell_type": "markdown",
   "id": "f839ddb7",
   "metadata": {
    "papermill": {
     "duration": 0.148998,
     "end_time": "2022-01-07T13:46:05.807175",
     "exception": false,
     "start_time": "2022-01-07T13:46:05.658177",
     "status": "completed"
    },
    "tags": []
   },
   "source": [
    "# Evaluate and Plot Model Performance"
   ]
  },
  {
   "cell_type": "code",
   "execution_count": null,
   "id": "c6938319",
   "metadata": {
    "execution": {
     "iopub.execute_input": "2022-01-07T13:46:06.094177Z",
     "iopub.status.busy": "2022-01-07T13:46:06.094177Z",
     "iopub.status.idle": "2022-01-07T13:46:06.476134Z",
     "shell.execute_reply": "2022-01-07T13:46:06.476134Z"
    },
    "papermill": {
     "duration": 0.527957,
     "end_time": "2022-01-07T13:46:06.476134",
     "exception": false,
     "start_time": "2022-01-07T13:46:05.948177",
     "status": "completed"
    },
    "tags": []
   },
   "outputs": [],
   "source": [
    "# Show simple version of performance\n",
    "score = model.evaluate(X_test, Y_test, batch_size=BATCH_SIZE)\n",
    "print(score)"
   ]
  },
  {
   "cell_type": "markdown",
   "id": "5de661d9",
   "metadata": {
    "papermill": {
     "duration": 0.14303,
     "end_time": "2022-01-07T13:46:06.765163",
     "exception": false,
     "start_time": "2022-01-07T13:46:06.622133",
     "status": "completed"
    },
    "tags": []
   },
   "source": [
    "## Loss"
   ]
  },
  {
   "cell_type": "code",
   "execution_count": null,
   "id": "8c788419",
   "metadata": {
    "execution": {
     "iopub.execute_input": "2022-01-07T13:46:07.084378Z",
     "iopub.status.busy": "2022-01-07T13:46:07.072377Z",
     "iopub.status.idle": "2022-01-07T13:46:07.161084Z",
     "shell.execute_reply": "2022-01-07T13:46:07.161084Z"
    },
    "papermill": {
     "duration": 0.250921,
     "end_time": "2022-01-07T13:46:07.161084",
     "exception": false,
     "start_time": "2022-01-07T13:46:06.910163",
     "status": "completed"
    },
    "tags": []
   },
   "outputs": [],
   "source": [
    "evaluationlib.show_loss_curves(history)"
   ]
  },
  {
   "cell_type": "markdown",
   "id": "14855bf6",
   "metadata": {
    "papermill": {
     "duration": 0.147999,
     "end_time": "2022-01-07T13:46:07.454078",
     "exception": false,
     "start_time": "2022-01-07T13:46:07.306079",
     "status": "completed"
    },
    "tags": []
   },
   "source": [
    "## Confusion matrix"
   ]
  },
  {
   "cell_type": "code",
   "execution_count": null,
   "id": "e17a5a1e",
   "metadata": {
    "execution": {
     "iopub.execute_input": "2022-01-07T13:46:07.769049Z",
     "iopub.status.busy": "2022-01-07T13:46:07.769049Z",
     "iopub.status.idle": "2022-01-07T13:46:09.026882Z",
     "shell.execute_reply": "2022-01-07T13:46:09.026882Z"
    },
    "papermill": {
     "duration": 1.422833,
     "end_time": "2022-01-07T13:46:09.026882",
     "exception": false,
     "start_time": "2022-01-07T13:46:07.604049",
     "status": "completed"
    },
    "tags": []
   },
   "outputs": [],
   "source": [
    "evaluationlib.plot_confusion_matrix(model, NEURAL_NETWORK_NAME, X_test, Y_test, BATCH_SIZE, classes)"
   ]
  },
  {
   "cell_type": "markdown",
   "id": "80bc5d09",
   "metadata": {
    "papermill": {
     "duration": 0.159029,
     "end_time": "2022-01-07T13:46:09.339879",
     "exception": false,
     "start_time": "2022-01-07T13:46:09.180850",
     "status": "completed"
    },
    "tags": []
   },
   "source": [
    "## Confusion matrix for each SNR"
   ]
  },
  {
   "cell_type": "code",
   "execution_count": null,
   "id": "fd7b3774",
   "metadata": {
    "execution": {
     "iopub.execute_input": "2022-01-07T13:46:09.667851Z",
     "iopub.status.busy": "2022-01-07T13:46:09.650850Z",
     "iopub.status.idle": "2022-01-07T13:46:19.965852Z",
     "shell.execute_reply": "2022-01-07T13:46:19.965852Z"
    },
    "papermill": {
     "duration": 10.470001,
     "end_time": "2022-01-07T13:46:19.965852",
     "exception": false,
     "start_time": "2022-01-07T13:46:09.495851",
     "status": "completed"
    },
    "scrolled": false,
    "tags": []
   },
   "outputs": [],
   "source": [
    "acc = evaluationlib.plot_confusion_matrix_each_snr(model, NEURAL_NETWORK_NAME, snrs, dataset_df, X_test, Y_test, test_index, classes)"
   ]
  },
  {
   "cell_type": "markdown",
   "id": "d3be7a32",
   "metadata": {
    "papermill": {
     "duration": 0.160031,
     "end_time": "2022-01-07T13:46:20.285883",
     "exception": false,
     "start_time": "2022-01-07T13:46:20.125852",
     "status": "completed"
    },
    "tags": []
   },
   "source": [
    "## Accuracy performance"
   ]
  },
  {
   "cell_type": "code",
   "execution_count": null,
   "id": "3a5f4683",
   "metadata": {
    "execution": {
     "iopub.execute_input": "2022-01-07T13:46:20.610852Z",
     "iopub.status.busy": "2022-01-07T13:46:20.609851Z",
     "iopub.status.idle": "2022-01-07T13:46:20.619155Z",
     "shell.execute_reply": "2022-01-07T13:46:20.619155Z"
    },
    "papermill": {
     "duration": 0.175303,
     "end_time": "2022-01-07T13:46:20.619155",
     "exception": false,
     "start_time": "2022-01-07T13:46:20.443852",
     "status": "completed"
    },
    "scrolled": true,
    "tags": []
   },
   "outputs": [],
   "source": [
    "evaluationlib.accuracy_dataframe(acc)"
   ]
  },
  {
   "cell_type": "code",
   "execution_count": null,
   "id": "b8d2a655",
   "metadata": {
    "execution": {
     "iopub.execute_input": "2022-01-07T13:46:20.940126Z",
     "iopub.status.busy": "2022-01-07T13:46:20.939156Z",
     "iopub.status.idle": "2022-01-07T13:46:20.946157Z",
     "shell.execute_reply": "2022-01-07T13:46:20.946157Z"
    },
    "papermill": {
     "duration": 0.167979,
     "end_time": "2022-01-07T13:46:20.946157",
     "exception": false,
     "start_time": "2022-01-07T13:46:20.778178",
     "status": "completed"
    },
    "tags": []
   },
   "outputs": [],
   "source": [
    "import statistics\n",
    "\n",
    "statistics.mean(acc.values())"
   ]
  },
  {
   "cell_type": "code",
   "execution_count": null,
   "id": "f26c3048",
   "metadata": {
    "execution": {
     "iopub.execute_input": "2022-01-07T13:46:21.295278Z",
     "iopub.status.busy": "2022-01-07T13:46:21.277306Z",
     "iopub.status.idle": "2022-01-07T13:46:21.366278Z",
     "shell.execute_reply": "2022-01-07T13:46:21.366278Z"
    },
    "papermill": {
     "duration": 0.261009,
     "end_time": "2022-01-07T13:46:21.366278",
     "exception": false,
     "start_time": "2022-01-07T13:46:21.105269",
     "status": "completed"
    },
    "scrolled": true,
    "tags": []
   },
   "outputs": [],
   "source": [
    "evaluationlib.accuracy_curve(snrs, acc, NEURAL_NETWORK_NAME)"
   ]
  }
 ],
 "metadata": {
  "kernelspec": {
   "display_name": "Python 3 (ipykernel)",
   "language": "python",
   "name": "python3"
  },
  "language_info": {
   "codemirror_mode": {
    "name": "ipython",
    "version": 3
   },
   "file_extension": ".py",
   "mimetype": "text/x-python",
   "name": "python",
   "nbconvert_exporter": "python",
   "pygments_lexer": "ipython3",
   "version": "3.9.6"
  },
  "papermill": {
   "default_parameters": {},
   "duration": 108.602717,
   "end_time": "2022-01-07T13:46:23.232283",
   "environment_variables": {},
   "exception": null,
   "input_path": "Baseline_rotation.ipynb",
   "output_path": "Baseline_rotation.ipynb",
   "parameters": {},
   "start_time": "2022-01-07T13:44:34.629566",
   "version": "2.3.3"
  }
 },
 "nbformat": 4,
 "nbformat_minor": 5
}
