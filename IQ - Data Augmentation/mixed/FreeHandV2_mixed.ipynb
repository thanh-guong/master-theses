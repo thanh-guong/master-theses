{
 "cells": [
  {
   "cell_type": "code",
   "execution_count": null,
   "id": "c59af3e9",
   "metadata": {
    "execution": {
     "iopub.execute_input": "2022-01-07T21:45:36.853431Z",
     "iopub.status.busy": "2022-01-07T21:45:36.853431Z",
     "iopub.status.idle": "2022-01-07T21:45:37.994979Z",
     "shell.execute_reply": "2022-01-07T21:45:37.994979Z"
    },
    "papermill": {
     "duration": 1.156513,
     "end_time": "2022-01-07T21:45:37.994979",
     "exception": false,
     "start_time": "2022-01-07T21:45:36.838466",
     "status": "completed"
    },
    "tags": []
   },
   "outputs": [],
   "source": [
    "!pip install -r ../../requirements.txt"
   ]
  },
  {
   "cell_type": "markdown",
   "id": "eb27b835",
   "metadata": {
    "papermill": {
     "duration": 0.010971,
     "end_time": "2022-01-07T21:45:38.016979",
     "exception": false,
     "start_time": "2022-01-07T21:45:38.006008",
     "status": "completed"
    },
    "tags": []
   },
   "source": [
    "# Configuration"
   ]
  },
  {
   "cell_type": "code",
   "execution_count": null,
   "id": "da28f4de",
   "metadata": {
    "execution": {
     "iopub.execute_input": "2022-01-07T21:45:38.039979Z",
     "iopub.status.busy": "2022-01-07T21:45:38.039979Z",
     "iopub.status.idle": "2022-01-07T21:45:38.042981Z",
     "shell.execute_reply": "2022-01-07T21:45:38.042981Z"
    },
    "papermill": {
     "duration": 0.016003,
     "end_time": "2022-01-07T21:45:38.042981",
     "exception": false,
     "start_time": "2022-01-07T21:45:38.026978",
     "status": "completed"
    },
    "tags": []
   },
   "outputs": [],
   "source": [
    "ROOT_DIR = \"../../\"\n",
    "DATA_DIR = ROOT_DIR + \"data/\"\n",
    "\n",
    "DATASET_2016_10a_FILENAME = DATA_DIR + \"RML2016.10a_dict.pkl\"\n",
    "\n",
    "NN_NAME = 'FreeHandV2'\n",
    "\n",
    "DEFAULT_CONFIG_FILENAME = ROOT_DIR + \"default.ini\""
   ]
  },
  {
   "cell_type": "code",
   "execution_count": null,
   "id": "80d7152a",
   "metadata": {
    "execution": {
     "iopub.execute_input": "2022-01-07T21:45:38.066979Z",
     "iopub.status.busy": "2022-01-07T21:45:38.065979Z",
     "iopub.status.idle": "2022-01-07T21:45:38.074980Z",
     "shell.execute_reply": "2022-01-07T21:45:38.074980Z"
    },
    "papermill": {
     "duration": 0.021971,
     "end_time": "2022-01-07T21:45:38.074980",
     "exception": false,
     "start_time": "2022-01-07T21:45:38.053009",
     "status": "completed"
    },
    "tags": []
   },
   "outputs": [],
   "source": [
    "import configparser\n",
    "\n",
    "config = configparser.ConfigParser()\n",
    "config.read(DEFAULT_CONFIG_FILENAME)\n",
    "\n",
    "NEURAL_NETWORK_NAME = config.get('NeuralNetworkNames', NN_NAME)\n",
    "NEURAL_NETWORK_FILENAME = NEURAL_NETWORK_NAME + '.wts.h5'\n",
    "\n",
    "TRAINING_SET_DIMENSION = config.getfloat('TrainingValues', 'TrainingSetSplitPercentage')\n",
    "DROPOUT_RATE = config.getfloat('TrainingValues', 'DropoutRate')\n",
    "\n",
    "# Set up some params \n",
    "NB_EPOCH = config.getint('TrainingValues', 'Epochs') # number of epochs to train on\n",
    "BATCH_SIZE = config.getint('TrainingValues', 'BatchSize') # training batch size"
   ]
  },
  {
   "cell_type": "markdown",
   "id": "4e7a27ae",
   "metadata": {
    "papermill": {
     "duration": 0.011002,
     "end_time": "2022-01-07T21:45:38.096000",
     "exception": false,
     "start_time": "2022-01-07T21:45:38.084998",
     "status": "completed"
    },
    "tags": []
   },
   "source": [
    "# Imports"
   ]
  },
  {
   "cell_type": "code",
   "execution_count": null,
   "id": "714cf843",
   "metadata": {
    "execution": {
     "iopub.execute_input": "2022-01-07T21:45:38.118979Z",
     "iopub.status.busy": "2022-01-07T21:45:38.118979Z",
     "iopub.status.idle": "2022-01-07T21:45:40.483176Z",
     "shell.execute_reply": "2022-01-07T21:45:40.482166Z"
    },
    "papermill": {
     "duration": 2.377167,
     "end_time": "2022-01-07T21:45:40.483176",
     "exception": false,
     "start_time": "2022-01-07T21:45:38.106009",
     "status": "completed"
    },
    "tags": []
   },
   "outputs": [],
   "source": [
    "import sys\n",
    "sys.path.append(ROOT_DIR)\n",
    "\n",
    "import neural_networks\n",
    "import datasetlib\n",
    "import traintestsplitlib\n",
    "import trainlib\n",
    "import evaluationlib\n",
    "import dataaugmentationlib\n",
    "\n",
    "import math"
   ]
  },
  {
   "cell_type": "markdown",
   "id": "47d550d1",
   "metadata": {
    "papermill": {
     "duration": 0.01,
     "end_time": "2022-01-07T21:45:40.503165",
     "exception": false,
     "start_time": "2022-01-07T21:45:40.493165",
     "status": "completed"
    },
    "tags": []
   },
   "source": [
    "# Dataset"
   ]
  },
  {
   "cell_type": "markdown",
   "id": "3bba0bfd",
   "metadata": {
    "papermill": {
     "duration": 0.009979,
     "end_time": "2022-01-07T21:45:40.523217",
     "exception": false,
     "start_time": "2022-01-07T21:45:40.513238",
     "status": "completed"
    },
    "tags": []
   },
   "source": [
    "## Dataset in a pandas Dataframe"
   ]
  },
  {
   "cell_type": "code",
   "execution_count": null,
   "id": "2f10af44",
   "metadata": {
    "execution": {
     "iopub.execute_input": "2022-01-07T21:45:40.547172Z",
     "iopub.status.busy": "2022-01-07T21:45:40.546171Z",
     "iopub.status.idle": "2022-01-07T21:45:42.252877Z",
     "shell.execute_reply": "2022-01-07T21:45:42.252877Z"
    },
    "papermill": {
     "duration": 1.719734,
     "end_time": "2022-01-07T21:45:42.253907",
     "exception": false,
     "start_time": "2022-01-07T21:45:40.534173",
     "status": "completed"
    },
    "tags": []
   },
   "outputs": [],
   "source": [
    "dataset_df = datasetlib.load_dataset_dataframe(DATASET_2016_10a_FILENAME)"
   ]
  },
  {
   "cell_type": "markdown",
   "id": "ef292fee",
   "metadata": {
    "papermill": {
     "duration": 0.009969,
     "end_time": "2022-01-07T21:45:42.273877",
     "exception": false,
     "start_time": "2022-01-07T21:45:42.263908",
     "status": "completed"
    },
    "tags": []
   },
   "source": [
    "## Raw dataset"
   ]
  },
  {
   "cell_type": "code",
   "execution_count": null,
   "id": "cff17428",
   "metadata": {
    "execution": {
     "iopub.execute_input": "2022-01-07T21:45:42.298907Z",
     "iopub.status.busy": "2022-01-07T21:45:42.298907Z",
     "iopub.status.idle": "2022-01-07T21:45:42.330878Z",
     "shell.execute_reply": "2022-01-07T21:45:42.330878Z"
    },
    "papermill": {
     "duration": 0.046,
     "end_time": "2022-01-07T21:45:42.330878",
     "exception": false,
     "start_time": "2022-01-07T21:45:42.284878",
     "status": "completed"
    },
    "tags": []
   },
   "outputs": [],
   "source": [
    "dataset_df"
   ]
  },
  {
   "cell_type": "markdown",
   "id": "3b2b5cce",
   "metadata": {
    "papermill": {
     "duration": 0.011,
     "end_time": "2022-01-07T21:45:42.352877",
     "exception": false,
     "start_time": "2022-01-07T21:45:42.341877",
     "status": "completed"
    },
    "tags": []
   },
   "source": [
    "# Neural network"
   ]
  },
  {
   "cell_type": "markdown",
   "id": "60b0af1e",
   "metadata": {
    "papermill": {
     "duration": 0.011028,
     "end_time": "2022-01-07T21:45:42.374906",
     "exception": false,
     "start_time": "2022-01-07T21:45:42.363878",
     "status": "completed"
    },
    "tags": []
   },
   "source": [
    "## Configuration"
   ]
  },
  {
   "cell_type": "code",
   "execution_count": null,
   "id": "2a90bb44",
   "metadata": {
    "execution": {
     "iopub.execute_input": "2022-01-07T21:45:42.399877Z",
     "iopub.status.busy": "2022-01-07T21:45:42.397877Z",
     "iopub.status.idle": "2022-01-07T21:45:42.409878Z",
     "shell.execute_reply": "2022-01-07T21:45:42.409878Z"
    },
    "papermill": {
     "duration": 0.023982,
     "end_time": "2022-01-07T21:45:42.409878",
     "exception": false,
     "start_time": "2022-01-07T21:45:42.385896",
     "status": "completed"
    },
    "tags": []
   },
   "outputs": [],
   "source": [
    "config = configparser.ConfigParser()\n",
    "config.read(DEFAULT_CONFIG_FILENAME)\n",
    "\n",
    "NEURAL_NETWORK_NAME = config.get('NeuralNetworkNames', NN_NAME)\n",
    "NEURAL_NETWORK_FILENAME = NEURAL_NETWORK_NAME + '.wts.h5'\n",
    "\n",
    "TRAINING_SET_DIMENSION = config.getfloat('TrainingValues', 'TrainingSetSplitPercentage')\n",
    "DROPOUT_RATE = config.getfloat('TrainingValues', 'DropoutRate')\n",
    "\n",
    "# Set up some params \n",
    "NB_EPOCH = config.getint('TrainingValues', 'Epochs') # number of epochs to train on\n",
    "BATCH_SIZE = config.getint('TrainingValues', 'BatchSize') # training batch size\n",
    "\n",
    "THETA = math.pi/2\n",
    "STANDARD_DEVIATION = 0.0005"
   ]
  },
  {
   "cell_type": "markdown",
   "id": "92df4383",
   "metadata": {
    "papermill": {
     "duration": 0.009997,
     "end_time": "2022-01-07T21:45:42.430908",
     "exception": false,
     "start_time": "2022-01-07T21:45:42.420911",
     "status": "completed"
    },
    "tags": []
   },
   "source": [
    "## Data prepare"
   ]
  },
  {
   "cell_type": "code",
   "execution_count": null,
   "id": "81420552",
   "metadata": {
    "execution": {
     "iopub.execute_input": "2022-01-07T21:45:42.462876Z",
     "iopub.status.busy": "2022-01-07T21:45:42.462876Z",
     "iopub.status.idle": "2022-01-07T21:45:42.472051Z",
     "shell.execute_reply": "2022-01-07T21:45:42.472051Z"
    },
    "papermill": {
     "duration": 0.030172,
     "end_time": "2022-01-07T21:45:42.472051",
     "exception": false,
     "start_time": "2022-01-07T21:45:42.441879",
     "status": "completed"
    },
    "tags": []
   },
   "outputs": [],
   "source": [
    "signals = datasetlib.signals(dataset_df)\n",
    "labels = datasetlib.labels(dataset_df)\n",
    "\n",
    "# [QPSQ, BPSK, ...]\n",
    "mods = datasetlib.mods(dataset_df)\n",
    "# [-18, -16, ...]\n",
    "snrs = datasetlib.unique_snrs(dataset_df)"
   ]
  },
  {
   "cell_type": "markdown",
   "id": "48a5279d",
   "metadata": {
    "papermill": {
     "duration": 0.01097,
     "end_time": "2022-01-07T21:45:42.494050",
     "exception": false,
     "start_time": "2022-01-07T21:45:42.483080",
     "status": "completed"
    },
    "tags": []
   },
   "source": [
    "### Training and Test data partitioning"
   ]
  },
  {
   "cell_type": "code",
   "execution_count": null,
   "id": "4b93d257",
   "metadata": {
    "execution": {
     "iopub.execute_input": "2022-01-07T21:45:42.537082Z",
     "iopub.status.busy": "2022-01-07T21:45:42.537082Z",
     "iopub.status.idle": "2022-01-07T21:45:52.376051Z",
     "shell.execute_reply": "2022-01-07T21:45:52.375050Z"
    },
    "papermill": {
     "duration": 9.871001,
     "end_time": "2022-01-07T21:45:52.376051",
     "exception": false,
     "start_time": "2022-01-07T21:45:42.505050",
     "status": "completed"
    },
    "scrolled": false,
    "tags": []
   },
   "outputs": [],
   "source": [
    "n_elements = len(signals)\n",
    "training_set_percentage = TRAINING_SET_DIMENSION\n",
    "\n",
    "train_index, test_index = traintestsplitlib.train_test_random_indexes(n_elements, training_set_percentage)\n",
    "\n",
    "X_train, X_test, Y_train, Y_test = traintestsplitlib.split_x_y_train_test(signals, labels, mods, train_index, test_index)\n",
    "\n",
    "X_train, Y_train = dataaugmentationlib.rotate_flip_add_gaussian_noise_and_concatenate_with_signals(X_train, Y_train)"
   ]
  },
  {
   "cell_type": "markdown",
   "id": "2ec39d17",
   "metadata": {
    "papermill": {
     "duration": 0.010999,
     "end_time": "2022-01-07T21:45:52.398075",
     "exception": false,
     "start_time": "2022-01-07T21:45:52.387076",
     "status": "completed"
    },
    "tags": []
   },
   "source": [
    "## Build the Neural Network"
   ]
  },
  {
   "cell_type": "code",
   "execution_count": null,
   "id": "1f9ab452",
   "metadata": {
    "execution": {
     "iopub.execute_input": "2022-01-07T21:45:52.422102Z",
     "iopub.status.busy": "2022-01-07T21:45:52.422102Z",
     "iopub.status.idle": "2022-01-07T21:45:52.439052Z",
     "shell.execute_reply": "2022-01-07T21:45:52.439052Z"
    },
    "papermill": {
     "duration": 0.030972,
     "end_time": "2022-01-07T21:45:52.439052",
     "exception": false,
     "start_time": "2022-01-07T21:45:52.408080",
     "status": "completed"
    },
    "tags": []
   },
   "outputs": [],
   "source": [
    "in_shp = list(X_train.shape[1:])\n",
    "print(X_train.shape)\n",
    "print(in_shp)\n",
    "classes = mods"
   ]
  },
  {
   "cell_type": "code",
   "execution_count": null,
   "id": "f2572742",
   "metadata": {
    "execution": {
     "iopub.execute_input": "2022-01-07T21:45:52.464080Z",
     "iopub.status.busy": "2022-01-07T21:45:52.463080Z",
     "iopub.status.idle": "2022-01-07T21:45:53.129804Z",
     "shell.execute_reply": "2022-01-07T21:45:53.129804Z"
    },
    "papermill": {
     "duration": 0.680752,
     "end_time": "2022-01-07T21:45:53.130832",
     "exception": false,
     "start_time": "2022-01-07T21:45:52.450080",
     "status": "completed"
    },
    "tags": []
   },
   "outputs": [],
   "source": [
    "model = neural_networks.freehand_v2(in_shp)\n",
    "\n",
    "model.summary()"
   ]
  },
  {
   "cell_type": "markdown",
   "id": "ec7ccb23",
   "metadata": {
    "papermill": {
     "duration": 0.01097,
     "end_time": "2022-01-07T21:45:53.152803",
     "exception": false,
     "start_time": "2022-01-07T21:45:53.141833",
     "status": "completed"
    },
    "tags": []
   },
   "source": [
    "### Train the model"
   ]
  },
  {
   "cell_type": "code",
   "execution_count": null,
   "id": "a6995c51",
   "metadata": {
    "execution": {
     "iopub.execute_input": "2022-01-07T21:45:53.178937Z",
     "iopub.status.busy": "2022-01-07T21:45:53.178937Z",
     "iopub.status.idle": "2022-01-07T21:54:36.208913Z",
     "shell.execute_reply": "2022-01-07T21:54:36.209913Z"
    },
    "papermill": {
     "duration": 523.045109,
     "end_time": "2022-01-07T21:54:36.209913",
     "exception": false,
     "start_time": "2022-01-07T21:45:53.164804",
     "status": "completed"
    },
    "scrolled": false,
    "tags": []
   },
   "outputs": [],
   "source": [
    "# perform training ...\n",
    "#   - call the main training loop in keras for our network+dataset\n",
    "filepath = NEURAL_NETWORK_FILENAME\n",
    "\n",
    "history, model = trainlib.train(filepath, model, X_train, Y_train, X_test, Y_test, BATCH_SIZE, NB_EPOCH)"
   ]
  },
  {
   "cell_type": "markdown",
   "id": "f839ddb7",
   "metadata": {
    "papermill": {
     "duration": 1.199994,
     "end_time": "2022-01-07T21:54:38.584913",
     "exception": false,
     "start_time": "2022-01-07T21:54:37.384919",
     "status": "completed"
    },
    "tags": []
   },
   "source": [
    "# Evaluate and Plot Model Performance"
   ]
  },
  {
   "cell_type": "code",
   "execution_count": null,
   "id": "c6938319",
   "metadata": {
    "execution": {
     "iopub.execute_input": "2022-01-07T21:54:40.949883Z",
     "iopub.status.busy": "2022-01-07T21:54:40.949883Z",
     "iopub.status.idle": "2022-01-07T21:54:42.458883Z",
     "shell.execute_reply": "2022-01-07T21:54:42.458883Z"
    },
    "papermill": {
     "duration": 2.690969,
     "end_time": "2022-01-07T21:54:42.458883",
     "exception": false,
     "start_time": "2022-01-07T21:54:39.767914",
     "status": "completed"
    },
    "tags": []
   },
   "outputs": [],
   "source": [
    "# Show simple version of performance\n",
    "score = model.evaluate(X_test, Y_test, batch_size=BATCH_SIZE)\n",
    "print(score)"
   ]
  },
  {
   "cell_type": "markdown",
   "id": "5de661d9",
   "metadata": {
    "papermill": {
     "duration": 1.194003,
     "end_time": "2022-01-07T21:54:44.860916",
     "exception": false,
     "start_time": "2022-01-07T21:54:43.666913",
     "status": "completed"
    },
    "tags": []
   },
   "source": [
    "## Loss"
   ]
  },
  {
   "cell_type": "code",
   "execution_count": null,
   "id": "8c788419",
   "metadata": {
    "execution": {
     "iopub.execute_input": "2022-01-07T21:54:47.264883Z",
     "iopub.status.busy": "2022-01-07T21:54:47.264883Z",
     "iopub.status.idle": "2022-01-07T21:54:47.367104Z",
     "shell.execute_reply": "2022-01-07T21:54:47.367104Z"
    },
    "papermill": {
     "duration": 1.314191,
     "end_time": "2022-01-07T21:54:47.367104",
     "exception": false,
     "start_time": "2022-01-07T21:54:46.052913",
     "status": "completed"
    },
    "tags": []
   },
   "outputs": [],
   "source": [
    "evaluationlib.show_loss_curves(history)"
   ]
  },
  {
   "cell_type": "markdown",
   "id": "14855bf6",
   "metadata": {
    "papermill": {
     "duration": 1.204008,
     "end_time": "2022-01-07T21:54:49.755663",
     "exception": false,
     "start_time": "2022-01-07T21:54:48.551655",
     "status": "completed"
    },
    "tags": []
   },
   "source": [
    "## Confusion matrix"
   ]
  },
  {
   "cell_type": "code",
   "execution_count": null,
   "id": "e17a5a1e",
   "metadata": {
    "execution": {
     "iopub.execute_input": "2022-01-07T21:54:52.138716Z",
     "iopub.status.busy": "2022-01-07T21:54:52.138716Z",
     "iopub.status.idle": "2022-01-07T21:54:53.912809Z",
     "shell.execute_reply": "2022-01-07T21:54:53.911779Z"
    },
    "papermill": {
     "duration": 2.966116,
     "end_time": "2022-01-07T21:54:53.912809",
     "exception": false,
     "start_time": "2022-01-07T21:54:50.946693",
     "status": "completed"
    },
    "tags": []
   },
   "outputs": [],
   "source": [
    "evaluationlib.plot_confusion_matrix(model, NEURAL_NETWORK_NAME, X_test, Y_test, BATCH_SIZE, classes)"
   ]
  },
  {
   "cell_type": "markdown",
   "id": "80bc5d09",
   "metadata": {
    "papermill": {
     "duration": 1.195009,
     "end_time": "2022-01-07T21:54:56.320815",
     "exception": false,
     "start_time": "2022-01-07T21:54:55.125806",
     "status": "completed"
    },
    "tags": []
   },
   "source": [
    "## Confusion matrix for each SNR"
   ]
  },
  {
   "cell_type": "code",
   "execution_count": null,
   "id": "fd7b3774",
   "metadata": {
    "execution": {
     "iopub.execute_input": "2022-01-07T21:54:58.723910Z",
     "iopub.status.busy": "2022-01-07T21:54:58.722911Z",
     "iopub.status.idle": "2022-01-07T21:55:06.453652Z",
     "shell.execute_reply": "2022-01-07T21:55:06.453652Z"
    },
    "papermill": {
     "duration": 8.943842,
     "end_time": "2022-01-07T21:55:06.453652",
     "exception": false,
     "start_time": "2022-01-07T21:54:57.509810",
     "status": "completed"
    },
    "scrolled": false,
    "tags": []
   },
   "outputs": [],
   "source": [
    "acc = evaluationlib.plot_confusion_matrix_each_snr(model, NEURAL_NETWORK_NAME, snrs, dataset_df, X_test, Y_test, test_index, classes)"
   ]
  },
  {
   "cell_type": "markdown",
   "id": "d3be7a32",
   "metadata": {
    "papermill": {
     "duration": 1.208022,
     "end_time": "2022-01-07T21:55:08.862711",
     "exception": false,
     "start_time": "2022-01-07T21:55:07.654689",
     "status": "completed"
    },
    "tags": []
   },
   "source": [
    "## Accuracy performance"
   ]
  },
  {
   "cell_type": "code",
   "execution_count": null,
   "id": "3a5f4683",
   "metadata": {
    "execution": {
     "iopub.execute_input": "2022-01-07T21:55:11.285575Z",
     "iopub.status.busy": "2022-01-07T21:55:11.285575Z",
     "iopub.status.idle": "2022-01-07T21:55:11.299062Z",
     "shell.execute_reply": "2022-01-07T21:55:11.299062Z"
    },
    "papermill": {
     "duration": 1.230404,
     "end_time": "2022-01-07T21:55:11.299062",
     "exception": false,
     "start_time": "2022-01-07T21:55:10.068658",
     "status": "completed"
    },
    "scrolled": true,
    "tags": []
   },
   "outputs": [],
   "source": [
    "evaluationlib.accuracy_dataframe(acc)"
   ]
  },
  {
   "cell_type": "code",
   "execution_count": null,
   "id": "b8d2a655",
   "metadata": {
    "execution": {
     "iopub.execute_input": "2022-01-07T21:55:13.718743Z",
     "iopub.status.busy": "2022-01-07T21:55:13.717742Z",
     "iopub.status.idle": "2022-01-07T21:55:13.736745Z",
     "shell.execute_reply": "2022-01-07T21:55:13.736745Z"
    },
    "papermill": {
     "duration": 1.222995,
     "end_time": "2022-01-07T21:55:13.737743",
     "exception": false,
     "start_time": "2022-01-07T21:55:12.514748",
     "status": "completed"
    },
    "tags": []
   },
   "outputs": [],
   "source": [
    "import statistics\n",
    "\n",
    "statistics.mean(acc.values())"
   ]
  },
  {
   "cell_type": "code",
   "execution_count": null,
   "id": "f26c3048",
   "metadata": {
    "execution": {
     "iopub.execute_input": "2022-01-07T21:55:16.188834Z",
     "iopub.status.busy": "2022-01-07T21:55:16.182833Z",
     "iopub.status.idle": "2022-01-07T21:55:16.246824Z",
     "shell.execute_reply": "2022-01-07T21:55:16.246824Z"
    },
    "papermill": {
     "duration": 1.309073,
     "end_time": "2022-01-07T21:55:16.246824",
     "exception": false,
     "start_time": "2022-01-07T21:55:14.937751",
     "status": "completed"
    },
    "scrolled": true,
    "tags": []
   },
   "outputs": [],
   "source": [
    "evaluationlib.accuracy_curve(snrs, acc, NEURAL_NETWORK_NAME)"
   ]
  }
 ],
 "metadata": {
  "kernelspec": {
   "display_name": "Python 3 (ipykernel)",
   "language": "python",
   "name": "python3"
  },
  "language_info": {
   "codemirror_mode": {
    "name": "ipython",
    "version": 3
   },
   "file_extension": ".py",
   "mimetype": "text/x-python",
   "name": "python",
   "nbconvert_exporter": "python",
   "pygments_lexer": "ipython3",
   "version": "3.9.6"
  },
  "papermill": {
   "default_parameters": {},
   "duration": 583.551837,
   "end_time": "2022-01-07T21:55:18.960732",
   "environment_variables": {},
   "exception": null,
   "input_path": "FreeHandV2_mixed.ipynb",
   "output_path": "FreeHandV2_mixed.ipynb",
   "parameters": {},
   "start_time": "2022-01-07T21:45:35.408895",
   "version": "2.3.3"
  }
 },
 "nbformat": 4,
 "nbformat_minor": 5
}
