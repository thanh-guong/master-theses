{
 "cells": [
  {
   "cell_type": "markdown",
   "metadata": {},
   "source": [
    "## Modulation Recognition Example: RML2016.10a Dataset + VT-CNN2 Mod-Rec Network\n",
    "\n",
    "This work is copyright DeepSig Inc. 2017.\n",
    "It is provided open source under the Create Commons Attribution-NonCommercial 4.0 International (CC BY-NC 4.0) Licence\n",
    "https://creativecommons.org/licenses/by-nc/4.0/\n",
    "\n",
    "Use of this work, or derivitives inspired by this work is permitted for non-commercial usage only and with explicit citaiton of this original work.\n",
    "\n",
    "A more detailed description of this work can be found at\n",
    "https://arxiv.org/abs/1602.04105\n",
    "\n",
    "A more detailed description of the RML2016.10a dataset can be found at\n",
    "http://pubs.gnuradio.org/index.php/grcon/article/view/11\n",
    "\n",
    "Citation of this work is required in derivative works:\n",
    "\n",
    "```\n",
    "@article{convnetmodrec,\n",
    "  title={Convolutional Radio Modulation Recognition Networks},\n",
    "  author={O'Shea, Timothy J and Corgan, Johnathan and Clancy, T. Charles},\n",
    "  journal={arXiv preprint arXiv:1602.04105},\n",
    "  year={2016}\n",
    "}\n",
    "@article{rml_datasets,\n",
    "  title={Radio Machine Learning Dataset Generation with GNU Radio},\n",
    "  author={O'Shea, Timothy J and West, Nathan},\n",
    "  journal={Proceedings of the 6th GNU Radio Conference},\n",
    "  year={2016}\n",
    "}\n",
    "```\n",
    "\n",
    "The RML2016.10a dataset is used for this work (https://radioml.com/datasets/)\n"
   ]
  },
  {
   "cell_type": "markdown",
   "metadata": {},
   "source": [
    "# Configuration"
   ]
  },
  {
   "cell_type": "code",
   "execution_count": 1,
   "metadata": {},
   "outputs": [],
   "source": [
    "SNR_LOWER_ACCEPTANCE_TRESHOLD = 10 # db"
   ]
  },
  {
   "cell_type": "code",
   "execution_count": 2,
   "metadata": {},
   "outputs": [],
   "source": [
    "# Import all the things we need ---\n",
    "#   by setting env variables before Keras import you can set up which backend and which GPU it uses\n",
    "%matplotlib inline\n",
    "import os,random\n",
    "# os.environ[\"KERAS_BACKEND\"] = \"theano\"\n",
    "# os.environ[\"KERAS_BACKEND\"] = \"tensorflow\"\n",
    "# os.environ[\"THEANO_FLAGS\"]  = \"device=cuda\"\n",
    "import numpy as np\n",
    "# import theano as th\n",
    "# import theano.tensor as T\n",
    "from keras.utils import np_utils\n",
    "import keras.models as models\n",
    "from keras.layers.core import Reshape,Dense,Dropout,Activation,Flatten\n",
    "from keras.layers.noise import GaussianNoise\n",
    "from keras.layers.convolutional import Convolution2D, MaxPooling2D, ZeroPadding2D\n",
    "from keras.regularizers import *\n",
    "from tensorflow.keras.optimizers import Adam\n",
    "import matplotlib.pyplot as plt\n",
    "import seaborn as sns\n",
    "import pickle, random, sys, keras\n",
    "import cmath"
   ]
  },
  {
   "cell_type": "code",
   "execution_count": 3,
   "metadata": {},
   "outputs": [
    {
     "name": "stdout",
     "output_type": "stream",
     "text": [
      "Num GPUs Available:  1\n"
     ]
    }
   ],
   "source": [
    "print(\"Num GPUs Available: \", len(tf.config.list_physical_devices('GPU')))"
   ]
  },
  {
   "cell_type": "code",
   "execution_count": 4,
   "metadata": {},
   "outputs": [
    {
     "data": {
      "text/plain": [
       "[PhysicalDevice(name='/physical_device:CPU:0', device_type='CPU'),\n",
       " PhysicalDevice(name='/physical_device:GPU:0', device_type='GPU')]"
      ]
     },
     "execution_count": 4,
     "metadata": {},
     "output_type": "execute_result"
    }
   ],
   "source": [
    "tf.config.list_physical_devices()"
   ]
  },
  {
   "cell_type": "markdown",
   "metadata": {},
   "source": [
    "# Dataset setup"
   ]
  },
  {
   "cell_type": "code",
   "execution_count": 5,
   "metadata": {},
   "outputs": [],
   "source": [
    "# Load the dataset ...\n",
    "#  You will need to seperately download or generate this file\n",
    "\n",
    "dataset_file = pickle.load(open(\"data/RML2016.10a_dict.pkl\",'rb'), encoding='bytes')\n",
    "\n",
    "# snrs = [10, 12, 14, 16, 18]\n",
    "# mods = [8PSK, AM-DSB, AM-SSB, BPSK, CPFSK, GFSK, PAM4, QAM16, QAM64, QPSK, WBFM]\n",
    "snrs, mods = map(lambda j: sorted(list(set(map(lambda x: x[j], dataset_file.keys())))), [1,0])\n",
    "\n",
    "signals = []\n",
    "labels = []\n",
    "\n",
    "def transform_signals_in_module_phase(signals_to_transform):\n",
    "    result = []\n",
    "    \n",
    "    for signal in signals_to_transform:\n",
    "        # conversion from I/Q sample to Module/Phase\n",
    "            I = signal[0]\n",
    "            Q = signal[1]\n",
    "            \n",
    "            modules = []\n",
    "            phases = []\n",
    "            \n",
    "            for j in range(0, len(I)):\n",
    "                complex_number = complex(I[j], Q[j])\n",
    "                module = abs(complex_number)\n",
    "                phase = cmath.phase(complex_number)\n",
    "                \n",
    "                modules.append(module)\n",
    "                phases.append(phase)\n",
    "            \n",
    "            # saving module and phase in the new signal\n",
    "            transformed_signal = []\n",
    "            transformed_signal.append(modules)\n",
    "            transformed_signal.append(phases)\n",
    "\n",
    "            result.append(transformed_signal)\n",
    "        \n",
    "    return result\n",
    "\n",
    "\n",
    "for mod in mods:\n",
    "    for snr in snrs:\n",
    "        transformed_signals = transform_signals_in_module_phase(dataset_file[(mod, snr)])\n",
    "        signals.append(transformed_signals)\n",
    "        for i in range(dataset_file[(mod, snr)].shape[0]):  labels.append((mod, snr))\n",
    "        \n",
    "signals = np.vstack(signals)\n",
    "\n",
    "# signals = [[[I_0],[Q_0]], [[I_1],[Q_1]], ..., [[I_N],[Q_N]]]\n",
    "# labels = [(<MODULATION>, <SNR>), ...]\n",
    "# signals and labels length is the same (they are X and Y sets)"
   ]
  },
  {
   "cell_type": "code",
   "execution_count": 6,
   "metadata": {
    "scrolled": true
   },
   "outputs": [],
   "source": [
    "# Partition the data\n",
    "#  into training and test sets of the form we can train/test on \n",
    "#  while keeping SNR and Mod labels handy for each\n",
    "\n",
    "# seeding the random numpy object\n",
    "np.random.seed(2016)\n",
    "\n",
    "n_examples = signals.shape[0]\n",
    "\n",
    "train_index = []\n",
    "\n",
    "# training set will be \"High SNR\" (SNR more than 10 dB) samples\n",
    "for i in range(0, len(labels) - 1):\n",
    "    if labels[i][1] >= SNR_LOWER_ACCEPTANCE_TRESHOLD:\n",
    "        train_index.append(i)\n",
    "\n",
    "#  using 80% of \"High SNR\" (SNR more than 10 dB) samples as training set\n",
    "n_train = int(len(train_index) * 0.8)\n",
    "\n",
    "# extract 80% of datapoints indexes randomly\n",
    "# train_index = [I_1, I_2, ..., I_N_TRAIN]\n",
    "train_index = np.random.choice(train_index, size=n_train, replace=False)\n",
    "\n",
    "# use the 20% remaining \"High SNR\" datapoints as test set, and all the rest of the dataset as test set\n",
    "# test_index = [I_1, I_2, ..., I_HALF_N_EXAMPLES]\n",
    "all_remaining_indexes = [item for item in range(0, n_examples) if item not in train_index]\n",
    "test_index = np.random.choice(all_remaining_indexes, size=n_train, replace=False)\n",
    "\n",
    "X_train = signals[train_index]\n",
    "X_test =  signals[test_index]\n",
    "\n",
    "def to_onehot(x):\n",
    "    input_list = list(x)\n",
    "    vectors_number = len(list(input_list))\n",
    "    number_of_elements_for_each_vector = max(input_list, default=0) + 1\n",
    "\n",
    "    # one hot encoding is a vector of zeros, and only a 1 that identifies the class\n",
    "    # producing <vectors_number> vectors of <number_of_elements_for_each_vector> elements\n",
    "    result = np.zeros([vectors_number, number_of_elements_for_each_vector])\n",
    "    \n",
    "    # placing the 1 in the correct place\n",
    "    for i in range(0, vectors_number):\n",
    "        result[i][input_list[i]] = 1\n",
    "    \n",
    "    return result\n",
    "\n",
    "Y_train = to_onehot(map(lambda x: mods.index(labels[x][0]), train_index))\n",
    "Y_test = to_onehot(map(lambda x: mods.index(labels[x][0]), test_index))"
   ]
  },
  {
   "cell_type": "code",
   "execution_count": 7,
   "metadata": {
    "scrolled": false
   },
   "outputs": [
    {
     "name": "stdout",
     "output_type": "stream",
     "text": [
      "(43999, 2, 128) [2, 128]\n"
     ]
    }
   ],
   "source": [
    "in_shp = list(X_train.shape[1:])\n",
    "print(X_train.shape, in_shp)\n",
    "classes = mods"
   ]
  },
  {
   "cell_type": "markdown",
   "metadata": {},
   "source": [
    "# Build the NN Model"
   ]
  },
  {
   "cell_type": "code",
   "execution_count": 8,
   "metadata": {},
   "outputs": [
    {
     "name": "stdout",
     "output_type": "stream",
     "text": [
      "Model: \"sequential\"\n",
      "_________________________________________________________________\n",
      "Layer (type)                 Output Shape              Param #   \n",
      "=================================================================\n",
      "reshape (Reshape)            (None, 1, 2, 128)         0         \n",
      "_________________________________________________________________\n",
      "zero_padding2d (ZeroPadding2 (None, 1, 6, 128)         0         \n",
      "_________________________________________________________________\n",
      "conv1 (Conv2D)               (None, 1, 2, 256)         33024     \n",
      "_________________________________________________________________\n",
      "dropout (Dropout)            (None, 1, 2, 256)         0         \n",
      "_________________________________________________________________\n",
      "zero_padding2d_1 (ZeroPaddin (None, 1, 6, 256)         0         \n",
      "_________________________________________________________________\n",
      "conv2 (Conv2D)               (None, 1, 2, 80)          82000     \n",
      "_________________________________________________________________\n",
      "dropout_1 (Dropout)          (None, 1, 2, 80)          0         \n",
      "_________________________________________________________________\n",
      "flatten (Flatten)            (None, 160)               0         \n",
      "_________________________________________________________________\n",
      "dense1 (Dense)               (None, 256)               41216     \n",
      "_________________________________________________________________\n",
      "dropout_2 (Dropout)          (None, 256)               0         \n",
      "_________________________________________________________________\n",
      "dense2 (Dense)               (None, 11)                2827      \n",
      "_________________________________________________________________\n",
      "activation (Activation)      (None, 11)                0         \n",
      "_________________________________________________________________\n",
      "reshape_1 (Reshape)          (None, 11)                0         \n",
      "=================================================================\n",
      "Total params: 159,067\n",
      "Trainable params: 159,067\n",
      "Non-trainable params: 0\n",
      "_________________________________________________________________\n"
     ]
    }
   ],
   "source": [
    "# Build VT-CNN2 Neural Net model using Keras primitives -- \n",
    "#  - Reshape [N,2,128] to [N,1,2,128] on input\n",
    "#  - Pass through 2 2DConv/ReLu layers\n",
    "#  - Pass through 2 Dense layers (ReLu and Softmax)\n",
    "#  - Perform categorical cross entropy optimization\n",
    "\n",
    "dr = 0.5 # dropout rate (%)\n",
    "model = models.Sequential()\n",
    "model.add(Reshape([1] + in_shp, input_shape=in_shp))\n",
    "model.add(ZeroPadding2D((0, 2)))\n",
    "model.add(Convolution2D(256, 1, 3, padding=\"same\", activation=\"relu\", name=\"conv1\"))\n",
    "model.add(Dropout(dr))\n",
    "model.add(ZeroPadding2D((0, 2)))\n",
    "model.add(Convolution2D(80, 2, 3, padding=\"same\", activation=\"relu\", name=\"conv2\"))\n",
    "model.add(Dropout(dr))\n",
    "model.add(Flatten())\n",
    "model.add(Dense(256, activation='relu', name=\"dense1\"))\n",
    "model.add(Dropout(dr))\n",
    "model.add(Dense( len(classes), name=\"dense2\"))\n",
    "model.add(Activation('softmax'))\n",
    "model.add(Reshape([len(classes)]))\n",
    "model.compile(loss='categorical_crossentropy', optimizer='adam')\n",
    "model.summary()"
   ]
  },
  {
   "cell_type": "code",
   "execution_count": 9,
   "metadata": {},
   "outputs": [],
   "source": [
    "# Set up some params \n",
    "nb_epoch = 100     # number of epochs to train on\n",
    "batch_size = 1024  # training batch size"
   ]
  },
  {
   "cell_type": "markdown",
   "metadata": {},
   "source": [
    "# Train the Model"
   ]
  },
  {
   "cell_type": "code",
   "execution_count": null,
   "metadata": {
    "scrolled": false
   },
   "outputs": [
    {
     "name": "stdout",
     "output_type": "stream",
     "text": [
      "Epoch 1/100\n"
     ]
    }
   ],
   "source": [
    "# perform training ...\n",
    "#   - call the main training loop in keras for our network+dataset\n",
    "filepath = 'convmodrecnets_CNN2_0.5.wts.h5'\n",
    "\n",
    "history = model.fit(X_train,\n",
    "    Y_train,\n",
    "    batch_size=batch_size,\n",
    "    epochs=nb_epoch,\n",
    "    # verbose=2,\n",
    "    validation_data=(X_test, Y_test),\n",
    "    callbacks = [\n",
    "        keras.callbacks.ModelCheckpoint(filepath, monitor='val_loss', verbose=0, save_best_only=True, mode='auto'),\n",
    "        keras.callbacks.EarlyStopping(monitor='val_loss', patience=5, verbose=0, mode='auto')\n",
    "    ])\n",
    "\n",
    "# we re-load the best weights once training is finished\n",
    "model.load_weights(filepath)"
   ]
  },
  {
   "cell_type": "markdown",
   "metadata": {},
   "source": [
    "# Evaluate and Plot Model Performance"
   ]
  },
  {
   "cell_type": "code",
   "execution_count": null,
   "metadata": {},
   "outputs": [],
   "source": [
    "# Show simple version of performance\n",
    "score = model.evaluate(X_test, Y_test, batch_size=batch_size)\n",
    "print(score)"
   ]
  },
  {
   "cell_type": "code",
   "execution_count": null,
   "metadata": {},
   "outputs": [],
   "source": [
    "# Show loss curves \n",
    "plt.figure()\n",
    "plt.title('Training performance')\n",
    "plt.plot(history.epoch, history.history['loss'], label='train loss+error')\n",
    "plt.plot(history.epoch, history.history['val_loss'], label='val_error')\n",
    "plt.legend()"
   ]
  },
  {
   "cell_type": "code",
   "execution_count": null,
   "metadata": {},
   "outputs": [],
   "source": [
    "def plot_confusion_matrix(cm, title='Confusion matrix', cmap=plt.cm.Blues, labels=[]):\n",
    "    plt.imshow(cm, interpolation='nearest', cmap=cmap)\n",
    "    plt.title(title)\n",
    "    plt.colorbar()\n",
    "    tick_marks = np.arange(len(labels))\n",
    "    plt.xticks(tick_marks, labels, rotation=45)\n",
    "    plt.yticks(tick_marks, labels)\n",
    "    plt.tight_layout()\n",
    "    plt.ylabel('True label')\n",
    "    plt.xlabel('Predicted label')"
   ]
  },
  {
   "cell_type": "code",
   "execution_count": null,
   "metadata": {},
   "outputs": [],
   "source": [
    "# Plot confusion matrix\n",
    "test_Y_hat = model.predict(X_test, batch_size=batch_size)\n",
    "conf = np.zeros([len(classes),len(classes)])\n",
    "confnorm = np.zeros([len(classes),len(classes)])\n",
    "\n",
    "for i in range(0,X_test.shape[0]):\n",
    "    j = list(Y_test[i,:]).index(1)\n",
    "    k = int(np.argmax(test_Y_hat[i,:]))\n",
    "    conf[j,k] = conf[j,k] + 1\n",
    "\n",
    "for i in range(0,len(classes)):\n",
    "    confnorm[i,:] = conf[i,:] / np.sum(conf[i,:])\n",
    "\n",
    "plot_confusion_matrix(confnorm, labels=classes)"
   ]
  },
  {
   "cell_type": "code",
   "execution_count": null,
   "metadata": {
    "scrolled": false
   },
   "outputs": [],
   "source": [
    "# Plot confusion matrix\n",
    "acc = {}\n",
    "\n",
    "for snr in snrs:\n",
    "    # extract classes @ SNR\n",
    "    test_SNRs = map(lambda x: labels[x][1], test_index)\n",
    "    this_snr_indexes = np.where(np.array(list(test_SNRs))==snr)\n",
    "\n",
    "    test_X_i = X_test[this_snr_indexes]\n",
    "    test_Y_i = Y_test[this_snr_indexes]  \n",
    "\n",
    "    # estimate classes\n",
    "    test_Y_i_hat = model.predict(test_X_i)\n",
    "    conf = np.zeros([len(classes),len(classes)])\n",
    "    confnorm = np.zeros([len(classes),len(classes)])\n",
    "\n",
    "    for i in range(0,test_X_i.shape[0]):\n",
    "        j = list(test_Y_i[i,:]).index(1)\n",
    "        k = int(np.argmax(test_Y_i_hat[i,:]))\n",
    "        conf[j,k] = conf[j,k] + 1\n",
    "\n",
    "    for i in range(0,len(classes)):\n",
    "        confnorm[i,:] = conf[i,:] / np.sum(conf[i,:])\n",
    "\n",
    "    plt.figure()\n",
    "    plot_confusion_matrix(confnorm, labels=classes, title=\"ConvNet Confusion Matrix (SNR=%d)\"%(snr))\n",
    "\n",
    "    cor = np.sum(np.diag(conf))\n",
    "    ncor = np.sum(conf) - cor\n",
    "    print(\"Overall Accuracy: \", cor / (cor+ncor))\n",
    "    acc[snr] = 1.0*cor/(cor+ncor)"
   ]
  },
  {
   "cell_type": "code",
   "execution_count": null,
   "metadata": {
    "scrolled": false
   },
   "outputs": [],
   "source": [
    "# Save results to a pickle file for plotting later\n",
    "print(acc)\n",
    "fd = open('results_cnn2_d0.5.dat','wb')\n",
    "pickle.dump( (\"CNN2\", 0.5, acc) , fd )"
   ]
  },
  {
   "cell_type": "code",
   "execution_count": null,
   "metadata": {
    "scrolled": true
   },
   "outputs": [],
   "source": [
    "# Plot accuracy curve\n",
    "plt.plot(snrs, list(map(lambda x: acc[x], snrs)))\n",
    "plt.xlabel(\"Signal to Noise Ratio\")\n",
    "plt.ylabel(\"Classification Accuracy\")\n",
    "plt.title(\"CNN2 Classification Accuracy on RadioML 2016.10 Alpha\")"
   ]
  },
  {
   "cell_type": "code",
   "execution_count": null,
   "metadata": {},
   "outputs": [],
   "source": []
  }
 ],
 "metadata": {
  "kernelspec": {
   "display_name": "Python 3 (ipykernel)",
   "language": "python",
   "name": "python3"
  },
  "language_info": {
   "codemirror_mode": {
    "name": "ipython",
    "version": 3
   },
   "file_extension": ".py",
   "mimetype": "text/x-python",
   "name": "python",
   "nbconvert_exporter": "python",
   "pygments_lexer": "ipython3",
   "version": "3.9.6"
  }
 },
 "nbformat": 4,
 "nbformat_minor": 1
}
