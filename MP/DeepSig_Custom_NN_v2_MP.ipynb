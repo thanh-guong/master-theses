{
 "cells": [
  {
   "cell_type": "code",
   "execution_count": 1,
   "id": "b2281953",
   "metadata": {
    "execution": {
     "iopub.execute_input": "2021-09-24T10:30:34.002016Z",
     "iopub.status.busy": "2021-09-24T10:30:34.001017Z",
     "iopub.status.idle": "2021-09-24T10:30:35.086877Z",
     "shell.execute_reply": "2021-09-24T10:30:35.087906Z"
    },
    "papermill": {
     "duration": 1.106833,
     "end_time": "2021-09-24T10:30:35.087906",
     "exception": false,
     "start_time": "2021-09-24T10:30:33.981073",
     "status": "completed"
    },
    "tags": []
   },
   "outputs": [
    {
     "name": "stdout",
     "output_type": "stream",
     "text": [
      "Requirement already satisfied: matplotlib==3.4.2 in c:\\users\\falchetto\\appdata\\local\\programs\\python\\python39\\lib\\site-packages (from -r ../requirements.txt (line 1)) (3.4.2)\n",
      "Requirement already satisfied: keras==2.4.3 in c:\\users\\falchetto\\appdata\\local\\programs\\python\\python39\\lib\\site-packages (from -r ../requirements.txt (line 2)) (2.4.3)\n",
      "Requirement already satisfied: tensorflow-gpu==2.5.0 in c:\\users\\falchetto\\appdata\\roaming\\python\\python39\\site-packages (from -r ../requirements.txt (line 3)) (2.5.0)\n",
      "Requirement already satisfied: seaborn==0.11.1 in c:\\users\\falchetto\\appdata\\roaming\\python\\python39\\site-packages (from -r ../requirements.txt (line 4)) (0.11.1)\n",
      "Requirement already satisfied: papermill in c:\\users\\falchetto\\appdata\\local\\programs\\python\\python39\\lib\\site-packages (from -r ../requirements.txt (line 5)) (2.3.3)\n",
      "Requirement already satisfied: pyparsing>=2.2.1 in c:\\users\\falchetto\\appdata\\local\\programs\\python\\python39\\lib\\site-packages (from matplotlib==3.4.2->-r ../requirements.txt (line 1)) (2.4.7)\n",
      "Requirement already satisfied: python-dateutil>=2.7 in c:\\users\\falchetto\\appdata\\local\\programs\\python\\python39\\lib\\site-packages (from matplotlib==3.4.2->-r ../requirements.txt (line 1)) (2.8.2)\n",
      "Requirement already satisfied: pillow>=6.2.0 in c:\\users\\falchetto\\appdata\\local\\programs\\python\\python39\\lib\\site-packages (from matplotlib==3.4.2->-r ../requirements.txt (line 1)) (8.3.1)\n"
     ]
    },
    {
     "name": "stderr",
     "output_type": "stream",
     "text": [
      "WARNING: You are using pip version 21.1.3; however, version 21.2.4 is available.\n",
      "You should consider upgrading via the 'c:\\users\\falchetto\\appdata\\local\\programs\\python\\python39\\python.exe -m pip install --upgrade pip' command.\n"
     ]
    },
    {
     "name": "stdout",
     "output_type": "stream",
     "text": [
      "Requirement already satisfied: numpy>=1.16 in c:\\users\\falchetto\\appdata\\local\\programs\\python\\python39\\lib\\site-packages (from matplotlib==3.4.2->-r ../requirements.txt (line 1)) (1.19.5)\n",
      "Requirement already satisfied: cycler>=0.10 in c:\\users\\falchetto\\appdata\\local\\programs\\python\\python39\\lib\\site-packages (from matplotlib==3.4.2->-r ../requirements.txt (line 1)) (0.10.0)\n",
      "Requirement already satisfied: kiwisolver>=1.0.1 in c:\\users\\falchetto\\appdata\\local\\programs\\python\\python39\\lib\\site-packages (from matplotlib==3.4.2->-r ../requirements.txt (line 1)) (1.3.1)\n",
      "Requirement already satisfied: scipy>=0.14 in c:\\users\\falchetto\\appdata\\local\\programs\\python\\python39\\lib\\site-packages (from keras==2.4.3->-r ../requirements.txt (line 2)) (1.7.0)\n",
      "Requirement already satisfied: pyyaml in c:\\users\\falchetto\\appdata\\local\\programs\\python\\python39\\lib\\site-packages (from keras==2.4.3->-r ../requirements.txt (line 2)) (5.4.1)\n",
      "Requirement already satisfied: h5py in c:\\users\\falchetto\\appdata\\roaming\\python\\python39\\site-packages (from keras==2.4.3->-r ../requirements.txt (line 2)) (3.1.0)\n",
      "Requirement already satisfied: keras-nightly~=2.5.0.dev in c:\\users\\falchetto\\appdata\\roaming\\python\\python39\\site-packages (from tensorflow-gpu==2.5.0->-r ../requirements.txt (line 3)) (2.5.0.dev2021032900)\n",
      "Requirement already satisfied: protobuf>=3.9.2 in c:\\users\\falchetto\\appdata\\local\\programs\\python\\python39\\lib\\site-packages (from tensorflow-gpu==2.5.0->-r ../requirements.txt (line 3)) (3.17.3)\n",
      "Requirement already satisfied: gast==0.4.0 in c:\\users\\falchetto\\appdata\\roaming\\python\\python39\\site-packages (from tensorflow-gpu==2.5.0->-r ../requirements.txt (line 3)) (0.4.0)\n",
      "Requirement already satisfied: google-pasta~=0.2 in c:\\users\\falchetto\\appdata\\roaming\\python\\python39\\site-packages (from tensorflow-gpu==2.5.0->-r ../requirements.txt (line 3)) (0.2.0)\n",
      "Requirement already satisfied: grpcio~=1.34.0 in c:\\users\\falchetto\\appdata\\roaming\\python\\python39\\site-packages (from tensorflow-gpu==2.5.0->-r ../requirements.txt (line 3)) (1.34.1)\n",
      "Requirement already satisfied: keras-preprocessing~=1.1.2 in c:\\users\\falchetto\\appdata\\roaming\\python\\python39\\site-packages (from tensorflow-gpu==2.5.0->-r ../requirements.txt (line 3)) (1.1.2)\n",
      "Requirement already satisfied: absl-py~=0.10 in c:\\users\\falchetto\\appdata\\roaming\\python\\python39\\site-packages (from tensorflow-gpu==2.5.0->-r ../requirements.txt (line 3)) (0.13.0)\n",
      "Requirement already satisfied: astunparse~=1.6.3 in c:\\users\\falchetto\\appdata\\roaming\\python\\python39\\site-packages (from tensorflow-gpu==2.5.0->-r ../requirements.txt (line 3)) (1.6.3)\n",
      "Requirement already satisfied: termcolor~=1.1.0 in c:\\users\\falchetto\\appdata\\roaming\\python\\python39\\site-packages (from tensorflow-gpu==2.5.0->-r ../requirements.txt (line 3)) (1.1.0)\n",
      "Requirement already satisfied: tensorflow-estimator<2.6.0,>=2.5.0rc0 in c:\\users\\falchetto\\appdata\\roaming\\python\\python39\\site-packages (from tensorflow-gpu==2.5.0->-r ../requirements.txt (line 3)) (2.5.0)\n",
      "Requirement already satisfied: typing-extensions~=3.7.4 in c:\\users\\falchetto\\appdata\\local\\programs\\python\\python39\\lib\\site-packages (from tensorflow-gpu==2.5.0->-r ../requirements.txt (line 3)) (3.7.4.3)\n",
      "Requirement already satisfied: wheel~=0.35 in c:\\users\\falchetto\\appdata\\local\\programs\\python\\python39\\lib\\site-packages (from tensorflow-gpu==2.5.0->-r ../requirements.txt (line 3)) (0.36.2)\n",
      "Requirement already satisfied: tensorboard~=2.5 in c:\\users\\falchetto\\appdata\\roaming\\python\\python39\\site-packages (from tensorflow-gpu==2.5.0->-r ../requirements.txt (line 3)) (2.5.0)\n",
      "Requirement already satisfied: opt-einsum~=3.3.0 in c:\\users\\falchetto\\appdata\\roaming\\python\\python39\\site-packages (from tensorflow-gpu==2.5.0->-r ../requirements.txt (line 3)) (3.3.0)\n",
      "Requirement already satisfied: flatbuffers~=1.12.0 in c:\\users\\falchetto\\appdata\\roaming\\python\\python39\\site-packages (from tensorflow-gpu==2.5.0->-r ../requirements.txt (line 3)) (1.12)\n",
      "Requirement already satisfied: six~=1.15.0 in c:\\users\\falchetto\\appdata\\local\\programs\\python\\python39\\lib\\site-packages (from tensorflow-gpu==2.5.0->-r ../requirements.txt (line 3)) (1.15.0)\n",
      "Requirement already satisfied: wrapt~=1.12.1 in c:\\users\\falchetto\\appdata\\roaming\\python\\python39\\site-packages (from tensorflow-gpu==2.5.0->-r ../requirements.txt (line 3)) (1.12.1)\n",
      "Requirement already satisfied: pandas>=0.23 in c:\\users\\falchetto\\appdata\\roaming\\python\\python39\\site-packages (from seaborn==0.11.1->-r ../requirements.txt (line 4)) (1.3.1)\n",
      "Requirement already satisfied: pytz>=2017.3 in c:\\users\\falchetto\\appdata\\roaming\\python\\python39\\site-packages (from pandas>=0.23->seaborn==0.11.1->-r ../requirements.txt (line 4)) (2021.1)\n",
      "Requirement already satisfied: tensorboard-plugin-wit>=1.6.0 in c:\\users\\falchetto\\appdata\\local\\programs\\python\\python39\\lib\\site-packages (from tensorboard~=2.5->tensorflow-gpu==2.5.0->-r ../requirements.txt (line 3)) (1.8.0)\n",
      "Requirement already satisfied: tensorboard-data-server<0.7.0,>=0.6.0 in c:\\users\\falchetto\\appdata\\local\\programs\\python\\python39\\lib\\site-packages (from tensorboard~=2.5->tensorflow-gpu==2.5.0->-r ../requirements.txt (line 3)) (0.6.1)\n",
      "Requirement already satisfied: requests<3,>=2.21.0 in c:\\users\\falchetto\\appdata\\local\\programs\\python\\python39\\lib\\site-packages (from tensorboard~=2.5->tensorflow-gpu==2.5.0->-r ../requirements.txt (line 3)) (2.26.0)\n",
      "Requirement already satisfied: werkzeug>=0.11.15 in c:\\users\\falchetto\\appdata\\local\\programs\\python\\python39\\lib\\site-packages (from tensorboard~=2.5->tensorflow-gpu==2.5.0->-r ../requirements.txt (line 3)) (2.0.1)\n",
      "Requirement already satisfied: google-auth-oauthlib<0.5,>=0.4.1 in c:\\users\\falchetto\\appdata\\roaming\\python\\python39\\site-packages (from tensorboard~=2.5->tensorflow-gpu==2.5.0->-r ../requirements.txt (line 3)) (0.4.4)\n",
      "Requirement already satisfied: setuptools>=41.0.0 in c:\\users\\falchetto\\appdata\\local\\programs\\python\\python39\\lib\\site-packages (from tensorboard~=2.5->tensorflow-gpu==2.5.0->-r ../requirements.txt (line 3)) (56.0.0)\n",
      "Requirement already satisfied: markdown>=2.6.8 in c:\\users\\falchetto\\appdata\\roaming\\python\\python39\\site-packages (from tensorboard~=2.5->tensorflow-gpu==2.5.0->-r ../requirements.txt (line 3)) (3.3.4)\n",
      "Requirement already satisfied: google-auth<2,>=1.6.3 in c:\\users\\falchetto\\appdata\\local\\programs\\python\\python39\\lib\\site-packages (from tensorboard~=2.5->tensorflow-gpu==2.5.0->-r ../requirements.txt (line 3)) (1.33.1)\n",
      "Requirement already satisfied: pyasn1-modules>=0.2.1 in c:\\users\\falchetto\\appdata\\local\\programs\\python\\python39\\lib\\site-packages (from google-auth<2,>=1.6.3->tensorboard~=2.5->tensorflow-gpu==2.5.0->-r ../requirements.txt (line 3)) (0.2.8)\n",
      "Requirement already satisfied: rsa<5,>=3.1.4 in c:\\users\\falchetto\\appdata\\local\\programs\\python\\python39\\lib\\site-packages (from google-auth<2,>=1.6.3->tensorboard~=2.5->tensorflow-gpu==2.5.0->-r ../requirements.txt (line 3)) (4.7.2)\n",
      "Requirement already satisfied: cachetools<5.0,>=2.0.0 in c:\\users\\falchetto\\appdata\\local\\programs\\python\\python39\\lib\\site-packages (from google-auth<2,>=1.6.3->tensorboard~=2.5->tensorflow-gpu==2.5.0->-r ../requirements.txt (line 3)) (4.2.2)\n",
      "Requirement already satisfied: requests-oauthlib>=0.7.0 in c:\\users\\falchetto\\appdata\\local\\programs\\python\\python39\\lib\\site-packages (from google-auth-oauthlib<0.5,>=0.4.1->tensorboard~=2.5->tensorflow-gpu==2.5.0->-r ../requirements.txt (line 3)) (1.3.0)\n",
      "Requirement already satisfied: pyasn1<0.5.0,>=0.4.6 in c:\\users\\falchetto\\appdata\\local\\programs\\python\\python39\\lib\\site-packages (from pyasn1-modules>=0.2.1->google-auth<2,>=1.6.3->tensorboard~=2.5->tensorflow-gpu==2.5.0->-r ../requirements.txt (line 3)) (0.4.8)\n",
      "Requirement already satisfied: certifi>=2017.4.17 in c:\\users\\falchetto\\appdata\\local\\programs\\python\\python39\\lib\\site-packages (from requests<3,>=2.21.0->tensorboard~=2.5->tensorflow-gpu==2.5.0->-r ../requirements.txt (line 3)) (2021.5.30)\n",
      "Requirement already satisfied: idna<4,>=2.5 in c:\\users\\falchetto\\appdata\\local\\programs\\python\\python39\\lib\\site-packages (from requests<3,>=2.21.0->tensorboard~=2.5->tensorflow-gpu==2.5.0->-r ../requirements.txt (line 3)) (3.2)\n",
      "Requirement already satisfied: urllib3<1.27,>=1.21.1 in c:\\users\\falchetto\\appdata\\local\\programs\\python\\python39\\lib\\site-packages (from requests<3,>=2.21.0->tensorboard~=2.5->tensorflow-gpu==2.5.0->-r ../requirements.txt (line 3)) (1.26.6)\n",
      "Requirement already satisfied: charset-normalizer~=2.0.0 in c:\\users\\falchetto\\appdata\\local\\programs\\python\\python39\\lib\\site-packages (from requests<3,>=2.21.0->tensorboard~=2.5->tensorflow-gpu==2.5.0->-r ../requirements.txt (line 3)) (2.0.3)\n",
      "Requirement already satisfied: oauthlib>=3.0.0 in c:\\users\\falchetto\\appdata\\local\\programs\\python\\python39\\lib\\site-packages (from requests-oauthlib>=0.7.0->google-auth-oauthlib<0.5,>=0.4.1->tensorboard~=2.5->tensorflow-gpu==2.5.0->-r ../requirements.txt (line 3)) (3.1.1)\n",
      "Requirement already satisfied: tqdm>=4.32.2 in c:\\users\\falchetto\\appdata\\local\\programs\\python\\python39\\lib\\site-packages (from papermill->-r ../requirements.txt (line 5)) (4.62.3)\n",
      "Requirement already satisfied: nbformat>=5.1.2 in c:\\users\\falchetto\\appdata\\local\\programs\\python\\python39\\lib\\site-packages (from papermill->-r ../requirements.txt (line 5)) (5.1.3)\n",
      "Requirement already satisfied: nbclient>=0.2.0 in c:\\users\\falchetto\\appdata\\local\\programs\\python\\python39\\lib\\site-packages (from papermill->-r ../requirements.txt (line 5)) (0.5.3)\n",
      "Requirement already satisfied: entrypoints in c:\\users\\falchetto\\appdata\\local\\programs\\python\\python39\\lib\\site-packages (from papermill->-r ../requirements.txt (line 5)) (0.3)\n",
      "Requirement already satisfied: tenacity in c:\\users\\falchetto\\appdata\\local\\programs\\python\\python39\\lib\\site-packages (from papermill->-r ../requirements.txt (line 5)) (8.0.1)\n",
      "Requirement already satisfied: ansiwrap in c:\\users\\falchetto\\appdata\\local\\programs\\python\\python39\\lib\\site-packages (from papermill->-r ../requirements.txt (line 5)) (0.8.4)\n",
      "Requirement already satisfied: click in c:\\users\\falchetto\\appdata\\local\\programs\\python\\python39\\lib\\site-packages (from papermill->-r ../requirements.txt (line 5)) (8.0.1)\n",
      "Requirement already satisfied: black in c:\\users\\falchetto\\appdata\\local\\programs\\python\\python39\\lib\\site-packages (from papermill->-r ../requirements.txt (line 5)) (21.7b0)\n",
      "Requirement already satisfied: nest-asyncio in c:\\users\\falchetto\\appdata\\local\\programs\\python\\python39\\lib\\site-packages (from nbclient>=0.2.0->papermill->-r ../requirements.txt (line 5)) (1.5.1)\n",
      "Requirement already satisfied: traitlets>=4.2 in c:\\users\\falchetto\\appdata\\local\\programs\\python\\python39\\lib\\site-packages (from nbclient>=0.2.0->papermill->-r ../requirements.txt (line 5)) (5.0.5)\n",
      "Requirement already satisfied: jupyter-client>=6.1.5 in c:\\users\\falchetto\\appdata\\local\\programs\\python\\python39\\lib\\site-packages (from nbclient>=0.2.0->papermill->-r ../requirements.txt (line 5)) (6.1.12)\n",
      "Requirement already satisfied: async-generator in c:\\users\\falchetto\\appdata\\local\\programs\\python\\python39\\lib\\site-packages (from nbclient>=0.2.0->papermill->-r ../requirements.txt (line 5)) (1.10)\n",
      "Requirement already satisfied: pyzmq>=13 in c:\\users\\falchetto\\appdata\\local\\programs\\python\\python39\\lib\\site-packages (from jupyter-client>=6.1.5->nbclient>=0.2.0->papermill->-r ../requirements.txt (line 5)) (22.1.0)\n",
      "Requirement already satisfied: tornado>=4.1 in c:\\users\\falchetto\\appdata\\local\\programs\\python\\python39\\lib\\site-packages (from jupyter-client>=6.1.5->nbclient>=0.2.0->papermill->-r ../requirements.txt (line 5)) (6.1)\n",
      "Requirement already satisfied: jupyter-core>=4.6.0 in c:\\users\\falchetto\\appdata\\local\\programs\\python\\python39\\lib\\site-packages (from jupyter-client>=6.1.5->nbclient>=0.2.0->papermill->-r ../requirements.txt (line 5)) (4.7.1)\n",
      "Requirement already satisfied: pywin32>=1.0 in c:\\users\\falchetto\\appdata\\local\\programs\\python\\python39\\lib\\site-packages (from jupyter-core>=4.6.0->jupyter-client>=6.1.5->nbclient>=0.2.0->papermill->-r ../requirements.txt (line 5)) (301)\n",
      "Requirement already satisfied: ipython-genutils in c:\\users\\falchetto\\appdata\\local\\programs\\python\\python39\\lib\\site-packages (from nbformat>=5.1.2->papermill->-r ../requirements.txt (line 5)) (0.2.0)\n",
      "Requirement already satisfied: jsonschema!=2.5.0,>=2.4 in c:\\users\\falchetto\\appdata\\local\\programs\\python\\python39\\lib\\site-packages (from nbformat>=5.1.2->papermill->-r ../requirements.txt (line 5)) (3.2.0)\n",
      "Requirement already satisfied: attrs>=17.4.0 in c:\\users\\falchetto\\appdata\\local\\programs\\python\\python39\\lib\\site-packages (from jsonschema!=2.5.0,>=2.4->nbformat>=5.1.2->papermill->-r ../requirements.txt (line 5)) (21.2.0)\n",
      "Requirement already satisfied: pyrsistent>=0.14.0 in c:\\users\\falchetto\\appdata\\local\\programs\\python\\python39\\lib\\site-packages (from jsonschema!=2.5.0,>=2.4->nbformat>=5.1.2->papermill->-r ../requirements.txt (line 5)) (0.18.0)\n",
      "Requirement already satisfied: colorama in c:\\users\\falchetto\\appdata\\local\\programs\\python\\python39\\lib\\site-packages (from tqdm>=4.32.2->papermill->-r ../requirements.txt (line 5)) (0.4.4)\n",
      "Requirement already satisfied: textwrap3>=0.9.2 in c:\\users\\falchetto\\appdata\\local\\programs\\python\\python39\\lib\\site-packages (from ansiwrap->papermill->-r ../requirements.txt (line 5)) (0.9.2)\n",
      "Requirement already satisfied: tomli<2.0.0,>=0.2.6 in c:\\users\\falchetto\\appdata\\local\\programs\\python\\python39\\lib\\site-packages (from black->papermill->-r ../requirements.txt (line 5)) (1.2.1)\n",
      "Requirement already satisfied: mypy-extensions>=0.4.3 in c:\\users\\falchetto\\appdata\\local\\programs\\python\\python39\\lib\\site-packages (from black->papermill->-r ../requirements.txt (line 5)) (0.4.3)\n",
      "Requirement already satisfied: regex>=2020.1.8 in c:\\users\\falchetto\\appdata\\local\\programs\\python\\python39\\lib\\site-packages (from black->papermill->-r ../requirements.txt (line 5)) (2021.8.28)\n",
      "Requirement already satisfied: pathspec<1,>=0.8.1 in c:\\users\\falchetto\\appdata\\local\\programs\\python\\python39\\lib\\site-packages (from black->papermill->-r ../requirements.txt (line 5)) (0.9.0)\n",
      "Requirement already satisfied: appdirs in c:\\users\\falchetto\\appdata\\local\\programs\\python\\python39\\lib\\site-packages (from black->papermill->-r ../requirements.txt (line 5)) (1.4.4)\n"
     ]
    }
   ],
   "source": [
    "!pip install -r ../requirements.txt"
   ]
  },
  {
   "cell_type": "markdown",
   "id": "faca914b",
   "metadata": {
    "papermill": {
     "duration": 0.012,
     "end_time": "2021-09-24T10:30:35.111907",
     "exception": false,
     "start_time": "2021-09-24T10:30:35.099907",
     "status": "completed"
    },
    "tags": []
   },
   "source": [
    "# Configuration"
   ]
  },
  {
   "cell_type": "code",
   "execution_count": 2,
   "id": "2ea7ff73",
   "metadata": {
    "execution": {
     "iopub.execute_input": "2021-09-24T10:30:35.138905Z",
     "iopub.status.busy": "2021-09-24T10:30:35.137907Z",
     "iopub.status.idle": "2021-09-24T10:30:35.148153Z",
     "shell.execute_reply": "2021-09-24T10:30:35.148153Z"
    },
    "papermill": {
     "duration": 0.024246,
     "end_time": "2021-09-24T10:30:35.148153",
     "exception": false,
     "start_time": "2021-09-24T10:30:35.123907",
     "status": "completed"
    },
    "tags": []
   },
   "outputs": [],
   "source": [
    "ROOT_DIR = \"../\"\n",
    "\n",
    "DATA_DIR = ROOT_DIR + \"data/\"\n",
    "DATASET_2016_10a_FILENAME = DATA_DIR + \"RML2016.10a_dict.pkl\"\n",
    "\n",
    "NEURAL_NETWORK_NAME = 'deepsig_custom_v2_mp'\n",
    "\n",
    "OUTPUT_FILENAME = NEURAL_NETWORK_NAME + '.dat'\n",
    "NEURAL_NETWORK_FILENAME = NEURAL_NETWORK_NAME + '.wts.h5'"
   ]
  },
  {
   "cell_type": "markdown",
   "id": "976fb93a",
   "metadata": {
    "papermill": {
     "duration": 0.012,
     "end_time": "2021-09-24T10:30:35.172149",
     "exception": false,
     "start_time": "2021-09-24T10:30:35.160149",
     "status": "completed"
    },
    "tags": []
   },
   "source": [
    "# Imports"
   ]
  },
  {
   "cell_type": "code",
   "execution_count": 3,
   "id": "7b91b5f5",
   "metadata": {
    "execution": {
     "iopub.execute_input": "2021-09-24T10:30:35.200147Z",
     "iopub.status.busy": "2021-09-24T10:30:35.199118Z",
     "iopub.status.idle": "2021-09-24T10:30:37.382695Z",
     "shell.execute_reply": "2021-09-24T10:30:37.382695Z"
    },
    "papermill": {
     "duration": 2.198548,
     "end_time": "2021-09-24T10:30:37.382695",
     "exception": false,
     "start_time": "2021-09-24T10:30:35.184147",
     "status": "completed"
    },
    "tags": []
   },
   "outputs": [],
   "source": [
    "import pickle\n",
    "import pandas as pd\n",
    "import h5py\n",
    "import cmath\n",
    "import numpy as np\n",
    "\n",
    "import keras\n",
    "import keras.models as models\n",
    "from keras.layers.core import Reshape,Dense,Dropout,Activation,Flatten\n",
    "from keras.layers.convolutional import Convolution1D, MaxPooling1D\n",
    "\n",
    "import matplotlib.pyplot as plt\n",
    "\n",
    "import sys\n",
    "sys.path.append(ROOT_DIR)\n",
    "\n",
    "import neural_networks"
   ]
  },
  {
   "cell_type": "markdown",
   "id": "04e35cc0",
   "metadata": {
    "papermill": {
     "duration": 0.011999,
     "end_time": "2021-09-24T10:30:37.406709",
     "exception": false,
     "start_time": "2021-09-24T10:30:37.394710",
     "status": "completed"
    },
    "tags": []
   },
   "source": [
    "# Dataset"
   ]
  },
  {
   "cell_type": "code",
   "execution_count": 4,
   "id": "3f78eea9",
   "metadata": {
    "execution": {
     "iopub.execute_input": "2021-09-24T10:30:37.434709Z",
     "iopub.status.busy": "2021-09-24T10:30:37.433710Z",
     "iopub.status.idle": "2021-09-24T10:30:39.060723Z",
     "shell.execute_reply": "2021-09-24T10:30:39.060723Z"
    },
    "papermill": {
     "duration": 1.642013,
     "end_time": "2021-09-24T10:30:39.060723",
     "exception": false,
     "start_time": "2021-09-24T10:30:37.418710",
     "status": "completed"
    },
    "tags": []
   },
   "outputs": [],
   "source": [
    "dataset_filename = DATASET_2016_10a_FILENAME\n",
    "\n",
    "dataset = []\n",
    "\n",
    "with (open(dataset_filename, \"rb\")) as dataset_file:\n",
    "    data = dataset_file.read()\n",
    "    data_dict = pickle.loads(data, encoding='bytes') # unpickle data\n",
    "    keys = data_dict.keys()\n",
    "    \n",
    "    # for each key in dataset keys\n",
    "    for key in keys:\n",
    "        # extract modulation label and snr\n",
    "        modulation, snr = key[0].decode(\"utf-8\") , key[1]\n",
    "        \n",
    "        # for each I/Q signal couple sample\n",
    "        for signal in data_dict[key]:\n",
    "            # save the tuple (signal, modulation_label, snr) in the list\n",
    "            tuple = (signal, modulation, snr)\n",
    "            dataset.append(tuple)"
   ]
  },
  {
   "cell_type": "markdown",
   "id": "6772aa93",
   "metadata": {
    "papermill": {
     "duration": 0.012032,
     "end_time": "2021-09-24T10:30:39.085713",
     "exception": false,
     "start_time": "2021-09-24T10:30:39.073681",
     "status": "completed"
    },
    "tags": []
   },
   "source": [
    "## Dataset in a pandas Dataframe"
   ]
  },
  {
   "cell_type": "code",
   "execution_count": 5,
   "id": "ff028a1f",
   "metadata": {
    "execution": {
     "iopub.execute_input": "2021-09-24T10:30:39.125680Z",
     "iopub.status.busy": "2021-09-24T10:30:39.125680Z",
     "iopub.status.idle": "2021-09-24T10:30:39.169681Z",
     "shell.execute_reply": "2021-09-24T10:30:39.169681Z"
    },
    "papermill": {
     "duration": 0.071972,
     "end_time": "2021-09-24T10:30:39.169681",
     "exception": false,
     "start_time": "2021-09-24T10:30:39.097709",
     "status": "completed"
    },
    "tags": []
   },
   "outputs": [],
   "source": [
    "dataset_df = pd.DataFrame(data=dataset)\n",
    "\n",
    "# pandas aesthetics\n",
    "\n",
    "iq_signals_column_dataframe_name = 'IQ signals'\n",
    "modulation_label_column_dataframe_name = 'Modulation_Label'\n",
    "snr_column_dataframe_name = 'SNR'\n",
    "\n",
    "dataset_df.columns = [\n",
    "    iq_signals_column_dataframe_name,\n",
    "    modulation_label_column_dataframe_name,\n",
    "    snr_column_dataframe_name\n",
    "]"
   ]
  },
  {
   "cell_type": "markdown",
   "id": "29e29bfc",
   "metadata": {
    "papermill": {
     "duration": 0.012998,
     "end_time": "2021-09-24T10:30:39.195679",
     "exception": false,
     "start_time": "2021-09-24T10:30:39.182681",
     "status": "completed"
    },
    "tags": []
   },
   "source": [
    "## Raw dataset"
   ]
  },
  {
   "cell_type": "code",
   "execution_count": 6,
   "id": "4fc27f02",
   "metadata": {
    "execution": {
     "iopub.execute_input": "2021-09-24T10:30:39.223704Z",
     "iopub.status.busy": "2021-09-24T10:30:39.223704Z",
     "iopub.status.idle": "2021-09-24T10:30:39.245681Z",
     "shell.execute_reply": "2021-09-24T10:30:39.245681Z"
    },
    "papermill": {
     "duration": 0.037972,
     "end_time": "2021-09-24T10:30:39.245681",
     "exception": false,
     "start_time": "2021-09-24T10:30:39.207709",
     "status": "completed"
    },
    "tags": []
   },
   "outputs": [
    {
     "data": {
      "text/html": [
       "<div>\n",
       "<style scoped>\n",
       "    .dataframe tbody tr th:only-of-type {\n",
       "        vertical-align: middle;\n",
       "    }\n",
       "\n",
       "    .dataframe tbody tr th {\n",
       "        vertical-align: top;\n",
       "    }\n",
       "\n",
       "    .dataframe thead th {\n",
       "        text-align: right;\n",
       "    }\n",
       "</style>\n",
       "<table border=\"1\" class=\"dataframe\">\n",
       "  <thead>\n",
       "    <tr style=\"text-align: right;\">\n",
       "      <th></th>\n",
       "      <th>IQ signals</th>\n",
       "      <th>Modulation_Label</th>\n",
       "      <th>SNR</th>\n",
       "    </tr>\n",
       "  </thead>\n",
       "  <tbody>\n",
       "    <tr>\n",
       "      <th>0</th>\n",
       "      <td>[[-0.0059014712, -0.0023458179, -0.00074506126...</td>\n",
       "      <td>QPSK</td>\n",
       "      <td>2</td>\n",
       "    </tr>\n",
       "    <tr>\n",
       "      <th>1</th>\n",
       "      <td>[[0.0050326153, 0.00094379985, -0.0018932355, ...</td>\n",
       "      <td>QPSK</td>\n",
       "      <td>2</td>\n",
       "    </tr>\n",
       "    <tr>\n",
       "      <th>2</th>\n",
       "      <td>[[0.0052390713, 0.0073890695, 0.007276459, 0.0...</td>\n",
       "      <td>QPSK</td>\n",
       "      <td>2</td>\n",
       "    </tr>\n",
       "    <tr>\n",
       "      <th>3</th>\n",
       "      <td>[[-0.0019859935, -0.0071501383, -0.00527185, -...</td>\n",
       "      <td>QPSK</td>\n",
       "      <td>2</td>\n",
       "    </tr>\n",
       "    <tr>\n",
       "      <th>4</th>\n",
       "      <td>[[0.006674405, 0.0028359746, 0.005630027, 0.00...</td>\n",
       "      <td>QPSK</td>\n",
       "      <td>2</td>\n",
       "    </tr>\n",
       "    <tr>\n",
       "      <th>...</th>\n",
       "      <td>...</td>\n",
       "      <td>...</td>\n",
       "      <td>...</td>\n",
       "    </tr>\n",
       "    <tr>\n",
       "      <th>219995</th>\n",
       "      <td>[[0.0062732296, -0.0050519477, 0.006672171, 0....</td>\n",
       "      <td>BPSK</td>\n",
       "      <td>-18</td>\n",
       "    </tr>\n",
       "    <tr>\n",
       "      <th>219996</th>\n",
       "      <td>[[-0.003903181, -0.0015884301, -0.00633375, 2....</td>\n",
       "      <td>BPSK</td>\n",
       "      <td>-18</td>\n",
       "    </tr>\n",
       "    <tr>\n",
       "      <th>219997</th>\n",
       "      <td>[[-0.0105958255, 0.005601244, -0.012161784, 0....</td>\n",
       "      <td>BPSK</td>\n",
       "      <td>-18</td>\n",
       "    </tr>\n",
       "    <tr>\n",
       "      <th>219998</th>\n",
       "      <td>[[-0.002136606, 0.00995837, 0.0059440527, -0.0...</td>\n",
       "      <td>BPSK</td>\n",
       "      <td>-18</td>\n",
       "    </tr>\n",
       "    <tr>\n",
       "      <th>219999</th>\n",
       "      <td>[[-0.008169517, 0.0013303901, -0.002522387, -0...</td>\n",
       "      <td>BPSK</td>\n",
       "      <td>-18</td>\n",
       "    </tr>\n",
       "  </tbody>\n",
       "</table>\n",
       "<p>220000 rows × 3 columns</p>\n",
       "</div>"
      ],
      "text/plain": [
       "                                               IQ signals Modulation_Label  \\\n",
       "0       [[-0.0059014712, -0.0023458179, -0.00074506126...             QPSK   \n",
       "1       [[0.0050326153, 0.00094379985, -0.0018932355, ...             QPSK   \n",
       "2       [[0.0052390713, 0.0073890695, 0.007276459, 0.0...             QPSK   \n",
       "3       [[-0.0019859935, -0.0071501383, -0.00527185, -...             QPSK   \n",
       "4       [[0.006674405, 0.0028359746, 0.005630027, 0.00...             QPSK   \n",
       "...                                                   ...              ...   \n",
       "219995  [[0.0062732296, -0.0050519477, 0.006672171, 0....             BPSK   \n",
       "219996  [[-0.003903181, -0.0015884301, -0.00633375, 2....             BPSK   \n",
       "219997  [[-0.0105958255, 0.005601244, -0.012161784, 0....             BPSK   \n",
       "219998  [[-0.002136606, 0.00995837, 0.0059440527, -0.0...             BPSK   \n",
       "219999  [[-0.008169517, 0.0013303901, -0.002522387, -0...             BPSK   \n",
       "\n",
       "        SNR  \n",
       "0         2  \n",
       "1         2  \n",
       "2         2  \n",
       "3         2  \n",
       "4         2  \n",
       "...     ...  \n",
       "219995  -18  \n",
       "219996  -18  \n",
       "219997  -18  \n",
       "219998  -18  \n",
       "219999  -18  \n",
       "\n",
       "[220000 rows x 3 columns]"
      ]
     },
     "execution_count": 6,
     "metadata": {},
     "output_type": "execute_result"
    }
   ],
   "source": [
    "dataset_df"
   ]
  },
  {
   "cell_type": "markdown",
   "id": "4ca47381",
   "metadata": {
    "papermill": {
     "duration": 0.011993,
     "end_time": "2021-09-24T10:30:39.270710",
     "exception": false,
     "start_time": "2021-09-24T10:30:39.258717",
     "status": "completed"
    },
    "tags": []
   },
   "source": [
    "# I/Q samples to Module/Phase conversion\n",
    "\n",
    "Each signal is transformed from an I/Q sample to his Module/Phase representation, and added as a column to the dataset."
   ]
  },
  {
   "cell_type": "code",
   "execution_count": 7,
   "id": "4f1ef7eb",
   "metadata": {
    "execution": {
     "iopub.execute_input": "2021-09-24T10:30:39.299681Z",
     "iopub.status.busy": "2021-09-24T10:30:39.299681Z",
     "iopub.status.idle": "2021-09-24T10:30:39.307681Z",
     "shell.execute_reply": "2021-09-24T10:30:39.307681Z"
    },
    "papermill": {
     "duration": 0.023971,
     "end_time": "2021-09-24T10:30:39.307681",
     "exception": false,
     "start_time": "2021-09-24T10:30:39.283710",
     "status": "completed"
    },
    "tags": []
   },
   "outputs": [],
   "source": [
    "def I_Q_to_module_phase(signal):\n",
    "    modules = []\n",
    "    phases =[]\n",
    "    \n",
    "    # a signal is \n",
    "    I = signal[0]\n",
    "    Q = signal[1]\n",
    "\n",
    "    # for each <i,q> couple\n",
    "    for j in range(0, len(I)):\n",
    "        cmplx = complex(I[j], Q[j]) # <i,q> can be represented as a complex number (i = real part, q = complex part)\n",
    "\n",
    "        modules.append(abs(cmplx))\n",
    "        phases.append(cmath.phase(cmplx))\n",
    "\n",
    "    # return [module_1, module_2, ..., module_n], [phase_1, phase_2, ..., phase_n]\n",
    "    return modules, phases"
   ]
  },
  {
   "cell_type": "markdown",
   "id": "95a50f14",
   "metadata": {
    "papermill": {
     "duration": 0.011997,
     "end_time": "2021-09-24T10:30:39.332708",
     "exception": false,
     "start_time": "2021-09-24T10:30:39.320711",
     "status": "completed"
    },
    "tags": []
   },
   "source": [
    "### Attention\n",
    "\n",
    "This isn't a really heavy computation, but careful executing this block on devices with low computational resources, it may require a long time."
   ]
  },
  {
   "cell_type": "code",
   "execution_count": 8,
   "id": "412bec1f",
   "metadata": {
    "execution": {
     "iopub.execute_input": "2021-09-24T10:30:39.430680Z",
     "iopub.status.busy": "2021-09-24T10:30:39.369679Z",
     "iopub.status.idle": "2021-09-24T10:31:04.628060Z",
     "shell.execute_reply": "2021-09-24T10:31:04.628060Z"
    },
    "papermill": {
     "duration": 25.282355,
     "end_time": "2021-09-24T10:31:04.628060",
     "exception": false,
     "start_time": "2021-09-24T10:30:39.345705",
     "status": "completed"
    },
    "tags": []
   },
   "outputs": [],
   "source": [
    "transformed_signals = []\n",
    "\n",
    "for index, row in dataset_df.iterrows():\n",
    "    signal = row[iq_signals_column_dataframe_name]\n",
    "    transformed_signal = I_Q_to_module_phase(signal)\n",
    "    \n",
    "    # transformed_signal is a <modules, phases> couple\n",
    "    transformed_signals.append(transformed_signal)"
   ]
  },
  {
   "cell_type": "code",
   "execution_count": 9,
   "id": "3372b3d6",
   "metadata": {
    "execution": {
     "iopub.execute_input": "2021-09-24T10:31:05.450058Z",
     "iopub.status.busy": "2021-09-24T10:31:05.449086Z",
     "iopub.status.idle": "2021-09-24T10:31:05.454056Z",
     "shell.execute_reply": "2021-09-24T10:31:05.454056Z"
    },
    "papermill": {
     "duration": 0.81297,
     "end_time": "2021-09-24T10:31:05.454056",
     "exception": false,
     "start_time": "2021-09-24T10:31:04.641086",
     "status": "completed"
    },
    "tags": []
   },
   "outputs": [],
   "source": [
    "module_phase_signals_column_dataframe_name = 'MP signals'\n",
    "\n",
    "# add Module/Phase signals to pandas Dataframe\n",
    "dataset_df[module_phase_signals_column_dataframe_name] = transformed_signals\n",
    "\n",
    "# (Aesthetics) Rearrange columns to show signal columns, and then other columns\n",
    "df_columns = [\n",
    "    iq_signals_column_dataframe_name,\n",
    "    module_phase_signals_column_dataframe_name,\n",
    "    modulation_label_column_dataframe_name,\n",
    "    snr_column_dataframe_name\n",
    "]\n",
    "dataset_df = dataset_df[df_columns]"
   ]
  },
  {
   "cell_type": "markdown",
   "id": "0aa1ec6d",
   "metadata": {
    "papermill": {
     "duration": 0.012979,
     "end_time": "2021-09-24T10:31:05.480078",
     "exception": false,
     "start_time": "2021-09-24T10:31:05.467099",
     "status": "completed"
    },
    "tags": []
   },
   "source": [
    "## The dataset after adding Module/Phase signals"
   ]
  },
  {
   "cell_type": "code",
   "execution_count": 10,
   "id": "67f9d67f",
   "metadata": {
    "execution": {
     "iopub.execute_input": "2021-09-24T10:31:05.533088Z",
     "iopub.status.busy": "2021-09-24T10:31:05.515088Z",
     "iopub.status.idle": "2021-09-24T10:31:05.547311Z",
     "shell.execute_reply": "2021-09-24T10:31:05.547311Z"
    },
    "papermill": {
     "duration": 0.055225,
     "end_time": "2021-09-24T10:31:05.547311",
     "exception": false,
     "start_time": "2021-09-24T10:31:05.492086",
     "status": "completed"
    },
    "tags": []
   },
   "outputs": [
    {
     "data": {
      "text/html": [
       "<div>\n",
       "<style scoped>\n",
       "    .dataframe tbody tr th:only-of-type {\n",
       "        vertical-align: middle;\n",
       "    }\n",
       "\n",
       "    .dataframe tbody tr th {\n",
       "        vertical-align: top;\n",
       "    }\n",
       "\n",
       "    .dataframe thead th {\n",
       "        text-align: right;\n",
       "    }\n",
       "</style>\n",
       "<table border=\"1\" class=\"dataframe\">\n",
       "  <thead>\n",
       "    <tr style=\"text-align: right;\">\n",
       "      <th></th>\n",
       "      <th>IQ signals</th>\n",
       "      <th>MP signals</th>\n",
       "      <th>Modulation_Label</th>\n",
       "      <th>SNR</th>\n",
       "    </tr>\n",
       "  </thead>\n",
       "  <tbody>\n",
       "    <tr>\n",
       "      <th>0</th>\n",
       "      <td>[[-0.0059014712, -0.0023458179, -0.00074506126...</td>\n",
       "      <td>([0.009777415810077348, 0.008160794610184235, ...</td>\n",
       "      <td>QPSK</td>\n",
       "      <td>2</td>\n",
       "    </tr>\n",
       "    <tr>\n",
       "      <th>1</th>\n",
       "      <td>[[0.0050326153, 0.00094379985, -0.0018932355, ...</td>\n",
       "      <td>([0.006428271419970337, 0.0018729896699540463,...</td>\n",
       "      <td>QPSK</td>\n",
       "      <td>2</td>\n",
       "    </tr>\n",
       "    <tr>\n",
       "      <th>2</th>\n",
       "      <td>[[0.0052390713, 0.0073890695, 0.007276459, 0.0...</td>\n",
       "      <td>([0.006714471814517775, 0.010443807990507132, ...</td>\n",
       "      <td>QPSK</td>\n",
       "      <td>2</td>\n",
       "    </tr>\n",
       "    <tr>\n",
       "      <th>3</th>\n",
       "      <td>[[-0.0019859935, -0.0071501383, -0.00527185, -...</td>\n",
       "      <td>([0.0036471206082490607, 0.008847963411403753,...</td>\n",
       "      <td>QPSK</td>\n",
       "      <td>2</td>\n",
       "    </tr>\n",
       "    <tr>\n",
       "      <th>4</th>\n",
       "      <td>[[0.006674405, 0.0028359746, 0.005630027, 0.00...</td>\n",
       "      <td>([0.01363757358555227, 0.004953662955395487, 0...</td>\n",
       "      <td>QPSK</td>\n",
       "      <td>2</td>\n",
       "    </tr>\n",
       "    <tr>\n",
       "      <th>...</th>\n",
       "      <td>...</td>\n",
       "      <td>...</td>\n",
       "      <td>...</td>\n",
       "      <td>...</td>\n",
       "    </tr>\n",
       "    <tr>\n",
       "      <th>219995</th>\n",
       "      <td>[[0.0062732296, -0.0050519477, 0.006672171, 0....</td>\n",
       "      <td>([0.007888647836121875, 0.00518580783630137, 0...</td>\n",
       "      <td>BPSK</td>\n",
       "      <td>-18</td>\n",
       "    </tr>\n",
       "    <tr>\n",
       "      <th>219996</th>\n",
       "      <td>[[-0.003903181, -0.0015884301, -0.00633375, 2....</td>\n",
       "      <td>([0.004378196387910148, 0.006676949935829746, ...</td>\n",
       "      <td>BPSK</td>\n",
       "      <td>-18</td>\n",
       "    </tr>\n",
       "    <tr>\n",
       "      <th>219997</th>\n",
       "      <td>[[-0.0105958255, 0.005601244, -0.012161784, 0....</td>\n",
       "      <td>([0.013097595344676685, 0.008587072893700217, ...</td>\n",
       "      <td>BPSK</td>\n",
       "      <td>-18</td>\n",
       "    </tr>\n",
       "    <tr>\n",
       "      <th>219998</th>\n",
       "      <td>[[-0.002136606, 0.00995837, 0.0059440527, -0.0...</td>\n",
       "      <td>([0.004868425922433083, 0.01011580181134021, 0...</td>\n",
       "      <td>BPSK</td>\n",
       "      <td>-18</td>\n",
       "    </tr>\n",
       "    <tr>\n",
       "      <th>219999</th>\n",
       "      <td>[[-0.008169517, 0.0013303901, -0.002522387, -0...</td>\n",
       "      <td>([0.00833586773996405, 0.001378194576230124, 0...</td>\n",
       "      <td>BPSK</td>\n",
       "      <td>-18</td>\n",
       "    </tr>\n",
       "  </tbody>\n",
       "</table>\n",
       "<p>220000 rows × 4 columns</p>\n",
       "</div>"
      ],
      "text/plain": [
       "                                               IQ signals  \\\n",
       "0       [[-0.0059014712, -0.0023458179, -0.00074506126...   \n",
       "1       [[0.0050326153, 0.00094379985, -0.0018932355, ...   \n",
       "2       [[0.0052390713, 0.0073890695, 0.007276459, 0.0...   \n",
       "3       [[-0.0019859935, -0.0071501383, -0.00527185, -...   \n",
       "4       [[0.006674405, 0.0028359746, 0.005630027, 0.00...   \n",
       "...                                                   ...   \n",
       "219995  [[0.0062732296, -0.0050519477, 0.006672171, 0....   \n",
       "219996  [[-0.003903181, -0.0015884301, -0.00633375, 2....   \n",
       "219997  [[-0.0105958255, 0.005601244, -0.012161784, 0....   \n",
       "219998  [[-0.002136606, 0.00995837, 0.0059440527, -0.0...   \n",
       "219999  [[-0.008169517, 0.0013303901, -0.002522387, -0...   \n",
       "\n",
       "                                               MP signals Modulation_Label  \\\n",
       "0       ([0.009777415810077348, 0.008160794610184235, ...             QPSK   \n",
       "1       ([0.006428271419970337, 0.0018729896699540463,...             QPSK   \n",
       "2       ([0.006714471814517775, 0.010443807990507132, ...             QPSK   \n",
       "3       ([0.0036471206082490607, 0.008847963411403753,...             QPSK   \n",
       "4       ([0.01363757358555227, 0.004953662955395487, 0...             QPSK   \n",
       "...                                                   ...              ...   \n",
       "219995  ([0.007888647836121875, 0.00518580783630137, 0...             BPSK   \n",
       "219996  ([0.004378196387910148, 0.006676949935829746, ...             BPSK   \n",
       "219997  ([0.013097595344676685, 0.008587072893700217, ...             BPSK   \n",
       "219998  ([0.004868425922433083, 0.01011580181134021, 0...             BPSK   \n",
       "219999  ([0.00833586773996405, 0.001378194576230124, 0...             BPSK   \n",
       "\n",
       "        SNR  \n",
       "0         2  \n",
       "1         2  \n",
       "2         2  \n",
       "3         2  \n",
       "4         2  \n",
       "...     ...  \n",
       "219995  -18  \n",
       "219996  -18  \n",
       "219997  -18  \n",
       "219998  -18  \n",
       "219999  -18  \n",
       "\n",
       "[220000 rows x 4 columns]"
      ]
     },
     "execution_count": 10,
     "metadata": {},
     "output_type": "execute_result"
    }
   ],
   "source": [
    "dataset_df"
   ]
  },
  {
   "cell_type": "markdown",
   "id": "a178e471",
   "metadata": {
    "papermill": {
     "duration": 0.013,
     "end_time": "2021-09-24T10:31:05.573308",
     "exception": false,
     "start_time": "2021-09-24T10:31:05.560308",
     "status": "completed"
    },
    "tags": []
   },
   "source": [
    "# Neural network"
   ]
  },
  {
   "cell_type": "markdown",
   "id": "e713de97",
   "metadata": {
    "papermill": {
     "duration": 0.013001,
     "end_time": "2021-09-24T10:31:05.598313",
     "exception": false,
     "start_time": "2021-09-24T10:31:05.585312",
     "status": "completed"
    },
    "tags": []
   },
   "source": [
    "## Configuration"
   ]
  },
  {
   "cell_type": "code",
   "execution_count": 11,
   "id": "f7123fb9",
   "metadata": {
    "execution": {
     "iopub.execute_input": "2021-09-24T10:31:05.627308Z",
     "iopub.status.busy": "2021-09-24T10:31:05.626313Z",
     "iopub.status.idle": "2021-09-24T10:31:05.641320Z",
     "shell.execute_reply": "2021-09-24T10:31:05.641320Z"
    },
    "papermill": {
     "duration": 0.030008,
     "end_time": "2021-09-24T10:31:05.641320",
     "exception": false,
     "start_time": "2021-09-24T10:31:05.611312",
     "status": "completed"
    },
    "tags": []
   },
   "outputs": [],
   "source": [
    "TRAINING_SET_DIMENSION = 0.7\n",
    "DROPOUT_RATE = 0.5\n",
    "\n",
    "# Set up some params \n",
    "NB_EPOCH = 100     # number of epochs to train on\n",
    "BATCH_SIZE = 1024  # training batch size"
   ]
  },
  {
   "cell_type": "markdown",
   "id": "6c628c4d",
   "metadata": {
    "papermill": {
     "duration": 0.013,
     "end_time": "2021-09-24T10:31:05.667308",
     "exception": false,
     "start_time": "2021-09-24T10:31:05.654308",
     "status": "completed"
    },
    "tags": []
   },
   "source": [
    "## Data prepare"
   ]
  },
  {
   "cell_type": "code",
   "execution_count": 12,
   "id": "2bba62be",
   "metadata": {
    "execution": {
     "iopub.execute_input": "2021-09-24T10:31:05.704278Z",
     "iopub.status.busy": "2021-09-24T10:31:05.704278Z",
     "iopub.status.idle": "2021-09-24T10:31:05.719312Z",
     "shell.execute_reply": "2021-09-24T10:31:05.719312Z"
    },
    "papermill": {
     "duration": 0.039,
     "end_time": "2021-09-24T10:31:05.719312",
     "exception": false,
     "start_time": "2021-09-24T10:31:05.680312",
     "status": "completed"
    },
    "tags": []
   },
   "outputs": [],
   "source": [
    "signals = dataset_df[module_phase_signals_column_dataframe_name].tolist()\n",
    "labels = dataset_df[modulation_label_column_dataframe_name].tolist()\n",
    "\n",
    "# [QPSQ, BPSK, ...]\n",
    "mods = dataset_df[modulation_label_column_dataframe_name].unique().tolist()\n",
    "mods.sort()\n",
    "# [-18, -16, ...]\n",
    "snrs = dataset_df[snr_column_dataframe_name].unique().tolist()\n",
    "snrs.sort()"
   ]
  },
  {
   "cell_type": "markdown",
   "id": "afebf8b3",
   "metadata": {
    "papermill": {
     "duration": 0.013005,
     "end_time": "2021-09-24T10:31:05.746313",
     "exception": false,
     "start_time": "2021-09-24T10:31:05.733308",
     "status": "completed"
    },
    "tags": []
   },
   "source": [
    "### Training and Test data partitioning"
   ]
  },
  {
   "cell_type": "code",
   "execution_count": 13,
   "id": "087733f4",
   "metadata": {
    "execution": {
     "iopub.execute_input": "2021-09-24T10:31:05.797308Z",
     "iopub.status.busy": "2021-09-24T10:31:05.797308Z",
     "iopub.status.idle": "2021-09-24T10:31:07.805344Z",
     "shell.execute_reply": "2021-09-24T10:31:07.805344Z"
    },
    "papermill": {
     "duration": 2.046036,
     "end_time": "2021-09-24T10:31:07.805344",
     "exception": false,
     "start_time": "2021-09-24T10:31:05.759308",
     "status": "completed"
    },
    "tags": []
   },
   "outputs": [],
   "source": [
    "# Partition the data\n",
    "#  into training and test sets of the form we can train/test on \n",
    "#  while keeping SNR and Mod labels handy for each\n",
    "\n",
    "# seeding the random numpy object\n",
    "np.random.seed(2016)\n",
    "\n",
    "# 220.000\n",
    "n_examples = len(signals)\n",
    "\n",
    "# take a portion of the dataset as training set\n",
    "n_train = int(n_examples * TRAINING_SET_DIMENSION)\n",
    "\n",
    "# extract datapoints indexes randomly\n",
    "# train_index = [I_1, I_2, ..., I_N_TRAIN]\n",
    "train_index = np.random.choice(range(0,n_examples), size=n_train, replace=False)\n",
    "\n",
    "# obtain the remaining datapoints indexes\n",
    "# test_index = [I_1, I_2, ..., I_HALF_N_EXAMPLES]\n",
    "test_index = list(set(range(0,n_examples)) - set(train_index))\n",
    "\n",
    "signals = np.array(signals)\n",
    "\n",
    "X_train = signals[train_index]\n",
    "X_test =  signals[test_index]"
   ]
  },
  {
   "cell_type": "markdown",
   "id": "d3119744",
   "metadata": {
    "papermill": {
     "duration": 0.012999,
     "end_time": "2021-09-24T10:31:07.832308",
     "exception": false,
     "start_time": "2021-09-24T10:31:07.819309",
     "status": "completed"
    },
    "tags": []
   },
   "source": [
    "### One-hot encoding for Training and Test labels"
   ]
  },
  {
   "cell_type": "code",
   "execution_count": 14,
   "id": "4ac6b4a4",
   "metadata": {
    "execution": {
     "iopub.execute_input": "2021-09-24T10:31:07.899310Z",
     "iopub.status.busy": "2021-09-24T10:31:07.882309Z",
     "iopub.status.idle": "2021-09-24T10:31:07.975913Z",
     "shell.execute_reply": "2021-09-24T10:31:07.975913Z"
    },
    "papermill": {
     "duration": 0.130605,
     "end_time": "2021-09-24T10:31:07.975913",
     "exception": false,
     "start_time": "2021-09-24T10:31:07.845308",
     "status": "completed"
    },
    "tags": []
   },
   "outputs": [],
   "source": [
    "def to_onehot(x):\n",
    "    input_list = list(x)\n",
    "    vectors_number = len(list(input_list))\n",
    "    number_of_elements_for_each_vector = max(input_list, default=0) + 1\n",
    "\n",
    "    # one hot encoding is a vector of zeros, and only a 1 that identifies the class\n",
    "    # producing <vectors_number> vectors of <number_of_elements_for_each_vector> elements\n",
    "    result = np.zeros([vectors_number, number_of_elements_for_each_vector])\n",
    "    \n",
    "    # placing the 1 in the correct place\n",
    "    for i in range(0, vectors_number):\n",
    "        result[i][input_list[i]] = 1\n",
    "    \n",
    "    return result\n",
    "\n",
    "Y_train = to_onehot(map(lambda x: mods.index(labels[x]), train_index))\n",
    "Y_test = to_onehot(map(lambda x: mods.index(labels[x]), test_index))"
   ]
  },
  {
   "cell_type": "markdown",
   "id": "c22c496e",
   "metadata": {
    "papermill": {
     "duration": 0.012997,
     "end_time": "2021-09-24T10:31:08.002922",
     "exception": false,
     "start_time": "2021-09-24T10:31:07.989925",
     "status": "completed"
    },
    "tags": []
   },
   "source": [
    "## Build the Neural Network"
   ]
  },
  {
   "cell_type": "code",
   "execution_count": 15,
   "id": "68a376bb",
   "metadata": {
    "execution": {
     "iopub.execute_input": "2021-09-24T10:31:08.031921Z",
     "iopub.status.busy": "2021-09-24T10:31:08.030940Z",
     "iopub.status.idle": "2021-09-24T10:31:08.037932Z",
     "shell.execute_reply": "2021-09-24T10:31:08.037932Z"
    },
    "papermill": {
     "duration": 0.02201,
     "end_time": "2021-09-24T10:31:08.037932",
     "exception": false,
     "start_time": "2021-09-24T10:31:08.015922",
     "status": "completed"
    },
    "tags": []
   },
   "outputs": [
    {
     "name": "stdout",
     "output_type": "stream",
     "text": [
      "(154000, 2, 128)\n",
      "[2, 128]\n"
     ]
    }
   ],
   "source": [
    "in_shp = list(X_train.shape[1:])\n",
    "print(X_train.shape)\n",
    "print(in_shp)\n",
    "classes = mods"
   ]
  },
  {
   "cell_type": "code",
   "execution_count": 16,
   "id": "12db3dfa",
   "metadata": {
    "execution": {
     "iopub.execute_input": "2021-09-24T10:31:08.066922Z",
     "iopub.status.busy": "2021-09-24T10:31:08.066922Z",
     "iopub.status.idle": "2021-09-24T10:31:08.722050Z",
     "shell.execute_reply": "2021-09-24T10:31:08.722050Z"
    },
    "papermill": {
     "duration": 0.671128,
     "end_time": "2021-09-24T10:31:08.722050",
     "exception": false,
     "start_time": "2021-09-24T10:31:08.050922",
     "status": "completed"
    },
    "tags": []
   },
   "outputs": [
    {
     "name": "stdout",
     "output_type": "stream",
     "text": [
      "Model: \"model\"\n",
      "_________________________________________________________________\n",
      "Layer (type)                 Output Shape              Param #   \n",
      "=================================================================\n",
      "IQ (InputLayer)              [(None, 2, 128)]          0         \n",
      "_________________________________________________________________\n",
      "conv1d (Conv1D)              (None, 2, 36)             9252      \n",
      "_________________________________________________________________\n",
      "dense (Dense)                (None, 2, 256)            9472      \n",
      "_________________________________________________________________\n",
      "conv1d_1 (Conv1D)            (None, 2, 18)             18450     \n",
      "_________________________________________________________________\n",
      "max_pooling1d (MaxPooling1D) (None, 1, 18)             0         \n",
      "_________________________________________________________________\n",
      "flatten (Flatten)            (None, 18)                0         \n",
      "_________________________________________________________________\n",
      "dense_1 (Dense)              (None, 256)               4864      \n",
      "_________________________________________________________________\n",
      "dense_2 (Dense)              (None, 128)               32896     \n",
      "_________________________________________________________________\n",
      "output (Dense)               (None, 11)                1419      \n",
      "=================================================================\n",
      "Total params: 76,353\n",
      "Trainable params: 76,353\n",
      "Non-trainable params: 0\n",
      "_________________________________________________________________\n"
     ]
    }
   ],
   "source": [
    "model = neural_networks.custom_deepsig_v2(in_shp)\n",
    "\n",
    "model.summary()"
   ]
  },
  {
   "cell_type": "markdown",
   "id": "cf278efc",
   "metadata": {
    "papermill": {
     "duration": 0.013998,
     "end_time": "2021-09-24T10:31:08.750078",
     "exception": false,
     "start_time": "2021-09-24T10:31:08.736080",
     "status": "completed"
    },
    "tags": []
   },
   "source": [
    "### Train the model"
   ]
  },
  {
   "cell_type": "code",
   "execution_count": 17,
   "id": "62427643",
   "metadata": {
    "execution": {
     "iopub.execute_input": "2021-09-24T10:31:08.782078Z",
     "iopub.status.busy": "2021-09-24T10:31:08.782078Z",
     "iopub.status.idle": "2021-09-24T10:31:41.434202Z",
     "shell.execute_reply": "2021-09-24T10:31:41.434202Z"
    },
    "papermill": {
     "duration": 32.67012,
     "end_time": "2021-09-24T10:31:41.434202",
     "exception": false,
     "start_time": "2021-09-24T10:31:08.764082",
     "status": "completed"
    },
    "scrolled": false,
    "tags": []
   },
   "outputs": [
    {
     "name": "stdout",
     "output_type": "stream",
     "text": [
      "Epoch 1/100\n"
     ]
    },
    {
     "name": "stdout",
     "output_type": "stream",
     "text": [
      "\r",
      "  1/151 [..............................] - ETA: 30:25 - loss: 2.4008"
     ]
    },
    {
     "name": "stdout",
     "output_type": "stream",
     "text": [
      "\b\b\b\b\b\b\b\b\b\b\b\b\b\b\b\b\b\b\b\b\b\b\b\b\b\b\b\b\b\b\b\b\b\b\b\b\b\b\b\b\b\b\b\b\b\b\b\b\b\b\b\b\b\b\b\b\b\b\b\b\b\b\b\b\b\b\b\b\r",
      " 10/151 [>.............................] - ETA: 0s - loss: 2.3809   "
     ]
    },
    {
     "name": "stdout",
     "output_type": "stream",
     "text": [
      "\b\b\b\b\b\b\b\b\b\b\b\b\b\b\b\b\b\b\b\b\b\b\b\b\b\b\b\b\b\b\b\b\b\b\b\b\b\b\b\b\b\b\b\b\b\b\b\b\b\b\b\b\b\b\b\b\b\b\b\b\b\b\b\b\b\r",
      " 19/151 [==>...........................] - ETA: 0s - loss: 2.3544"
     ]
    },
    {
     "name": "stdout",
     "output_type": "stream",
     "text": [
      "\b\b\b\b\b\b\b\b\b\b\b\b\b\b\b\b\b\b\b\b\b\b\b\b\b\b\b\b\b\b\b\b\b\b\b\b\b\b\b\b\b\b\b\b\b\b\b\b\b\b\b\b\b\b\b\b\b\b\b\b\b\b\b\b\b\r",
      " 29/151 [====>.........................] - ETA: 0s - loss: 2.3318"
     ]
    },
    {
     "name": "stdout",
     "output_type": "stream",
     "text": [
      "\b\b\b\b\b\b\b\b\b\b\b\b\b\b\b\b\b\b\b\b\b\b\b\b\b\b\b\b\b\b\b\b\b\b\b\b\b\b\b\b\b\b\b\b\b\b\b\b\b\b\b\b\b\b\b\b\b\b\b\b\b\b\b\b\b\r",
      " 38/151 [======>.......................] - ETA: 0s - loss: 2.3155"
     ]
    },
    {
     "name": "stdout",
     "output_type": "stream",
     "text": [
      "\b\b\b\b\b\b\b\b\b\b\b\b\b\b\b\b\b\b\b\b\b\b\b\b\b\b\b\b\b\b\b\b\b\b\b\b\b\b\b\b\b\b\b\b\b\b\b\b\b\b\b\b\b\b\b\b\b\b\b\b\b\b\b\b\b\r",
      " 48/151 [========>.....................] - ETA: 0s - loss: 2.3001"
     ]
    },
    {
     "name": "stdout",
     "output_type": "stream",
     "text": [
      "\b\b\b\b\b\b\b\b\b\b\b\b\b\b\b\b\b\b\b\b\b\b\b\b\b\b\b\b\b\b\b\b\b\b\b\b\b\b\b\b\b\b\b\b\b\b\b\b\b\b\b\b\b\b\b\b\b\b\b\b\b\b\b\b\b\r",
      " 57/151 [==========>...................] - ETA: 0s - loss: 2.2877"
     ]
    },
    {
     "name": "stdout",
     "output_type": "stream",
     "text": [
      "\b\b\b\b\b\b\b\b\b\b\b\b\b\b\b\b\b\b\b\b\b\b\b\b\b\b\b\b\b\b\b\b\b\b\b\b\b\b\b\b\b\b\b\b\b\b\b\b\b\b\b\b\b\b\b\b\b\b\b\b\b\b\b\b\b\r",
      " 67/151 [============>.................] - ETA: 0s - loss: 2.2753"
     ]
    },
    {
     "name": "stdout",
     "output_type": "stream",
     "text": [
      "\b\b\b\b\b\b\b\b\b\b\b\b\b\b\b\b\b\b\b\b\b\b\b\b\b\b\b\b\b\b\b\b\b\b\b\b\b\b\b\b\b\b\b\b\b\b\b\b\b\b\b\b\b\b\b\b\b\b\b\b\b\b\b\b\b\r",
      " 77/151 [==============>...............] - ETA: 0s - loss: 2.2641"
     ]
    },
    {
     "name": "stdout",
     "output_type": "stream",
     "text": [
      "\b\b\b\b\b\b\b\b\b\b\b\b\b\b\b\b\b\b\b\b\b\b\b\b\b\b\b\b\b\b\b\b\b\b\b\b\b\b\b\b\b\b\b\b\b\b\b\b\b\b\b\b\b\b\b\b\b\b\b\b\b\b\b\b\b\r",
      " 87/151 [================>.............] - ETA: 0s - loss: 2.2537"
     ]
    },
    {
     "name": "stdout",
     "output_type": "stream",
     "text": [
      "\b\b\b\b\b\b\b\b\b\b\b\b\b\b\b\b\b\b\b\b\b\b\b\b\b\b\b\b\b\b\b\b\b\b\b\b\b\b\b\b\b\b\b\b\b\b\b\b\b\b\b\b\b\b\b\b\b\b\b\b\b\b\b\b\b\r",
      " 97/151 [==================>...........] - ETA: 0s - loss: 2.2440"
     ]
    },
    {
     "name": "stdout",
     "output_type": "stream",
     "text": [
      "\b\b\b\b\b\b\b\b\b\b\b\b\b\b\b\b\b\b\b\b\b\b\b\b\b\b\b\b\b\b\b\b\b\b\b\b\b\b\b\b\b\b\b\b\b\b\b\b\b\b\b\b\b\b\b\b\b\b\b\b\b\b\b\b\b"
     ]
    },
    {
     "name": "stdout",
     "output_type": "stream",
     "text": [
      "\r",
      "107/151 [====================>.........] - ETA: 0s - loss: 2.2350"
     ]
    },
    {
     "name": "stdout",
     "output_type": "stream",
     "text": [
      "\b\b\b\b\b\b\b\b\b\b\b\b\b\b\b\b\b\b\b\b\b\b\b\b\b\b\b\b\b\b\b\b\b\b\b\b\b\b\b\b\b\b\b\b\b\b\b\b\b\b\b\b\b\b\b\b\b\b\b\b\b\b\b\b\b\r",
      "116/151 [======================>.......] - ETA: 0s - loss: 2.2275"
     ]
    },
    {
     "name": "stdout",
     "output_type": "stream",
     "text": [
      "\b\b\b\b\b\b\b\b\b\b\b\b\b\b\b\b\b\b\b\b\b\b\b\b\b\b\b\b\b\b\b\b\b\b\b\b\b\b\b\b\b\b\b\b\b\b\b\b\b\b\b\b\b\b\b\b\b\b\b\b\b\b\b\b\b\r",
      "126/151 [========================>.....] - ETA: 0s - loss: 2.2196"
     ]
    },
    {
     "name": "stdout",
     "output_type": "stream",
     "text": [
      "\b\b\b\b\b\b\b\b\b\b\b\b\b\b\b\b\b\b\b\b\b\b\b\b\b\b\b\b\b\b\b\b\b\b\b\b\b\b\b\b\b\b\b\b\b\b\b\b\b\b\b\b\b\b\b\b\b\b\b\b\b\b\b\b\b\r",
      "135/151 [=========================>....] - ETA: 0s - loss: 2.2130"
     ]
    },
    {
     "name": "stdout",
     "output_type": "stream",
     "text": [
      "\b\b\b\b\b\b\b\b\b\b\b\b\b\b\b\b\b\b\b\b\b\b\b\b\b\b\b\b\b\b\b\b\b\b\b\b\b\b\b\b\b\b\b\b\b\b\b\b\b\b\b\b\b\b\b\b\b\b\b\b\b\b\b\b\b\r",
      "144/151 [===========================>..] - ETA: 0s - loss: 2.2066"
     ]
    },
    {
     "name": "stdout",
     "output_type": "stream",
     "text": [
      "\b\b\b\b\b\b\b\b\b\b\b\b\b\b\b\b\b\b\b\b\b\b\b\b\b\b\b\b\b\b\b\b\b\b\b\b\b\b\b\b\b\b\b\b\b\b\b\b\b\b\b\b\b\b\b\b\b\b\b\b\b\b\b\b\b\r",
      "151/151 [==============================] - ETA: 0s - loss: 2.2019"
     ]
    },
    {
     "name": "stdout",
     "output_type": "stream",
     "text": [
      "\b\b\b\b\b\b\b\b\b\b\b\b\b\b\b\b\b\b\b\b\b\b\b\b\b\b\b\b\b\b\b\b\b\b\b\b\b\b\b\b\b\b\b\b\b\b\b\b\b\b\b\b\b\b\b\b\b\b\b\b\b\b\b\b\b\r",
      "151/151 [==============================] - 14s 10ms/step - loss: 2.2012 - val_loss: 1.9856\n"
     ]
    },
    {
     "name": "stdout",
     "output_type": "stream",
     "text": [
      "Epoch 2/100\n",
      "\r",
      "  1/151 [..............................] - ETA: 1s - loss: 1.9814"
     ]
    },
    {
     "name": "stdout",
     "output_type": "stream",
     "text": [
      "\b\b\b\b\b\b\b\b\b\b\b\b\b\b\b\b\b\b\b\b\b\b\b\b\b\b\b\b\b\b\b\b\b\b\b\b\b\b\b\b\b\b\b\b\b\b\b\b\b\b\b\b\b\b\b\b\b\b\b\b\b\b\b\b\b\r",
      " 10/151 [>.............................] - ETA: 0s - loss: 1.9690"
     ]
    },
    {
     "name": "stdout",
     "output_type": "stream",
     "text": [
      "\b\b\b\b\b\b\b\b\b\b\b\b\b\b\b\b\b\b\b\b\b\b\b\b\b\b\b\b\b\b\b\b\b\b\b\b\b\b\b\b\b\b\b\b\b\b\b\b\b\b\b\b\b\b\b\b\b\b\b\b\b\b\b\b\b\r",
      " 19/151 [==>...........................] - ETA: 0s - loss: 1.9671"
     ]
    },
    {
     "name": "stdout",
     "output_type": "stream",
     "text": [
      "\b\b\b\b\b\b\b\b\b\b\b\b\b\b\b\b\b\b\b\b\b\b\b\b\b\b\b\b\b\b\b\b\b\b\b\b\b\b\b\b\b\b\b\b\b\b\b\b\b\b\b\b\b\b\b\b\b\b\b\b\b\b\b\b\b\r",
      " 29/151 [====>.........................] - ETA: 0s - loss: 1.9677"
     ]
    },
    {
     "name": "stdout",
     "output_type": "stream",
     "text": [
      "\b\b\b\b\b\b\b\b\b\b\b\b\b\b\b\b\b\b\b\b\b\b\b\b\b\b\b\b\b\b\b\b\b\b\b\b\b\b\b\b\b\b\b\b\b\b\b\b\b\b\b\b\b\b\b\b\b\b\b\b\b\b\b\b\b\r",
      " 39/151 [======>.......................] - ETA: 0s - loss: 1.9682"
     ]
    },
    {
     "name": "stdout",
     "output_type": "stream",
     "text": [
      "\b\b\b\b\b\b\b\b\b\b\b\b\b\b\b\b\b\b\b\b\b\b\b\b\b\b\b\b\b\b\b\b\b\b\b\b\b\b\b\b\b\b\b\b\b\b\b\b\b\b\b\b\b\b\b\b\b\b\b\b\b\b\b\b\b\r",
      " 49/151 [========>.....................] - ETA: 0s - loss: 1.9682"
     ]
    },
    {
     "name": "stdout",
     "output_type": "stream",
     "text": [
      "\b\b\b\b\b\b\b\b\b\b\b\b\b\b\b\b\b\b\b\b\b\b\b\b\b\b\b\b\b\b\b\b\b\b\b\b\b\b\b\b\b\b\b\b\b\b\b\b\b\b\b\b\b\b\b\b\b\b\b\b\b\b\b\b\b\r",
      " 59/151 [==========>...................] - ETA: 0s - loss: 1.9680"
     ]
    },
    {
     "name": "stdout",
     "output_type": "stream",
     "text": [
      "\b\b\b\b\b\b\b\b\b\b\b\b\b\b\b\b\b\b\b\b\b\b\b\b\b\b\b\b\b\b\b\b\b\b\b\b\b\b\b\b\b\b\b\b\b\b\b\b\b\b\b\b\b\b\b\b\b\b\b\b\b\b\b\b\b\r",
      " 69/151 [============>.................] - ETA: 0s - loss: 1.9676"
     ]
    },
    {
     "name": "stdout",
     "output_type": "stream",
     "text": [
      "\b\b\b\b\b\b\b\b\b\b\b\b\b\b\b\b\b\b\b\b\b\b\b\b\b\b\b\b\b\b\b\b\b\b\b\b\b\b\b\b\b\b\b\b\b\b\b\b\b\b\b\b\b\b\b\b\b\b\b\b\b\b\b\b\b\r",
      " 79/151 [==============>...............] - ETA: 0s - loss: 1.9672"
     ]
    },
    {
     "name": "stdout",
     "output_type": "stream",
     "text": [
      "\b\b\b\b\b\b\b\b\b\b\b\b\b\b\b\b\b\b\b\b\b\b\b\b\b\b\b\b\b\b\b\b\b\b\b\b\b\b\b\b\b\b\b\b\b\b\b\b\b\b\b\b\b\b\b\b\b\b\b\b\b\b\b\b\b\r",
      " 89/151 [================>.............] - ETA: 0s - loss: 1.9666"
     ]
    },
    {
     "name": "stdout",
     "output_type": "stream",
     "text": [
      "\b\b\b\b\b\b\b\b\b\b\b\b\b\b\b\b\b\b\b\b\b\b\b\b\b\b\b\b\b\b\b\b\b\b\b\b\b\b\b\b\b\b\b\b\b\b\b\b\b\b\b\b\b\b\b\b\b\b\b\b\b\b\b\b\b\r",
      " 99/151 [==================>...........] - ETA: 0s - loss: 1.9661"
     ]
    },
    {
     "name": "stdout",
     "output_type": "stream",
     "text": [
      "\b\b\b\b\b\b\b\b\b\b\b\b\b\b\b\b\b\b\b\b\b\b\b\b\b\b\b\b\b\b\b\b\b\b\b\b\b\b\b\b\b\b\b\b\b\b\b\b\b\b\b\b\b\b\b\b\b\b\b\b\b\b\b\b\b\r",
      "109/151 [====================>.........] - ETA: 0s - loss: 1.9654"
     ]
    },
    {
     "name": "stdout",
     "output_type": "stream",
     "text": [
      "\b\b\b\b\b\b\b\b\b\b\b\b\b\b\b\b\b\b\b\b\b\b\b\b\b\b\b\b\b\b\b\b\b\b\b\b\b\b\b\b\b\b\b\b\b\b\b\b\b\b\b\b\b\b\b\b\b\b\b\b\b\b\b\b\b\r",
      "118/151 [======================>.......] - ETA: 0s - loss: 1.9647"
     ]
    },
    {
     "name": "stdout",
     "output_type": "stream",
     "text": [
      "\b\b\b\b\b\b\b\b\b\b\b\b\b\b\b\b\b\b\b\b\b\b\b\b\b\b\b\b\b\b\b\b\b\b\b\b\b\b\b\b\b\b\b\b\b\b\b\b\b\b\b\b\b\b\b\b\b\b\b\b\b\b\b\b\b\r",
      "127/151 [========================>.....] - ETA: 0s - loss: 1.9641"
     ]
    },
    {
     "name": "stdout",
     "output_type": "stream",
     "text": [
      "\b\b\b\b\b\b\b\b\b\b\b\b\b\b\b\b\b\b\b\b\b\b\b\b\b\b\b\b\b\b\b\b\b\b\b\b\b\b\b\b\b\b\b\b\b\b\b\b\b\b\b\b\b\b\b\b\b\b\b\b\b\b\b\b\b"
     ]
    },
    {
     "name": "stdout",
     "output_type": "stream",
     "text": [
      "\r",
      "137/151 [==========================>...] - ETA: 0s - loss: 1.9634"
     ]
    },
    {
     "name": "stdout",
     "output_type": "stream",
     "text": [
      "\b\b\b\b\b\b\b\b\b\b\b\b\b\b\b\b\b\b\b\b\b\b\b\b\b\b\b\b\b\b\b\b\b\b\b\b\b\b\b\b\b\b\b\b\b\b\b\b\b\b\b\b\b\b\b\b\b\b\b\b\b\b\b\b\b\r",
      "147/151 [============================>.] - ETA: 0s - loss: 1.9626"
     ]
    },
    {
     "name": "stdout",
     "output_type": "stream",
     "text": [
      "\b\b\b\b\b\b\b\b\b\b\b\b\b\b\b\b\b\b\b\b\b\b\b\b\b\b\b\b\b\b\b\b\b\b\b\b\b\b\b\b\b\b\b\b\b\b\b\b\b\b\b\b\b\b\b\b\b\b\b\b\b\b\b\b\b\r",
      "151/151 [==============================] - 1s 7ms/step - loss: 1.9623 - val_loss: 1.9451\n"
     ]
    },
    {
     "name": "stdout",
     "output_type": "stream",
     "text": [
      "Epoch 3/100\n",
      "\r",
      "  1/151 [..............................] - ETA: 1s - loss: 1.8762"
     ]
    },
    {
     "name": "stdout",
     "output_type": "stream",
     "text": [
      "\b\b\b\b\b\b\b\b\b\b\b\b\b\b\b\b\b\b\b\b\b\b\b\b\b\b\b\b\b\b\b\b\b\b\b\b\b\b\b\b\b\b\b\b\b\b\b\b\b\b\b\b\b\b\b\b\b\b\b\b\b\b\b\b\b\r",
      " 10/151 [>.............................] - ETA: 0s - loss: 1.8957"
     ]
    },
    {
     "name": "stdout",
     "output_type": "stream",
     "text": [
      "\b\b\b\b\b\b\b\b\b\b\b\b\b\b\b\b\b\b\b\b\b\b\b\b\b\b\b\b\b\b\b\b\b\b\b\b\b\b\b\b\b\b\b\b\b\b\b\b\b\b\b\b\b\b\b\b\b\b\b\b\b\b\b\b\b\r",
      " 20/151 [==>...........................] - ETA: 0s - loss: 1.9034"
     ]
    },
    {
     "name": "stdout",
     "output_type": "stream",
     "text": [
      "\b\b\b\b\b\b\b\b\b\b\b\b\b\b\b\b\b\b\b\b\b\b\b\b\b\b\b\b\b\b\b\b\b\b\b\b\b\b\b\b\b\b\b\b\b\b\b\b\b\b\b\b\b\b\b\b\b\b\b\b\b\b\b\b\b\r",
      " 30/151 [====>.........................] - ETA: 0s - loss: 1.9071"
     ]
    },
    {
     "name": "stdout",
     "output_type": "stream",
     "text": [
      "\b\b\b\b\b\b\b\b\b\b\b\b\b\b\b\b\b\b\b\b\b\b\b\b\b\b\b\b\b\b\b\b\b\b\b\b\b\b\b\b\b\b\b\b\b\b\b\b\b\b\b\b\b\b\b\b\b\b\b\b\b\b\b\b\b\r",
      " 40/151 [======>.......................] - ETA: 0s - loss: 1.9092"
     ]
    },
    {
     "name": "stdout",
     "output_type": "stream",
     "text": [
      "\b\b\b\b\b\b\b\b\b\b\b\b\b\b\b\b\b\b\b\b\b\b\b\b\b\b\b\b\b\b\b\b\b\b\b\b\b\b\b\b\b\b\b\b\b\b\b\b\b\b\b\b\b\b\b\b\b\b\b\b\b\b\b\b\b\r",
      " 50/151 [========>.....................] - ETA: 0s - loss: 1.9103"
     ]
    },
    {
     "name": "stdout",
     "output_type": "stream",
     "text": [
      "\b\b\b\b\b\b\b\b\b\b\b\b\b\b\b\b\b\b\b\b\b\b\b\b\b\b\b\b\b\b\b\b\b\b\b\b\b\b\b\b\b\b\b\b\b\b\b\b\b\b\b\b\b\b\b\b\b\b\b\b\b\b\b\b\b\r",
      " 59/151 [==========>...................] - ETA: 0s - loss: 1.9113"
     ]
    },
    {
     "name": "stdout",
     "output_type": "stream",
     "text": [
      "\b\b\b\b\b\b\b\b\b\b\b\b\b\b\b\b\b\b\b\b\b\b\b\b\b\b\b\b\b\b\b\b\b\b\b\b\b\b\b\b\b\b\b\b\b\b\b\b\b\b\b\b\b\b\b\b\b\b\b\b\b\b\b\b\b\r",
      " 68/151 [============>.................] - ETA: 0s - loss: 1.9122"
     ]
    },
    {
     "name": "stdout",
     "output_type": "stream",
     "text": [
      "\b\b\b\b\b\b\b\b\b\b\b\b\b\b\b\b\b\b\b\b\b\b\b\b\b\b\b\b\b\b\b\b\b\b\b\b\b\b\b\b\b\b\b\b\b\b\b\b\b\b\b\b\b\b\b\b\b\b\b\b\b\b\b\b\b\r",
      " 78/151 [==============>...............] - ETA: 0s - loss: 1.9130"
     ]
    },
    {
     "name": "stdout",
     "output_type": "stream",
     "text": [
      "\b\b\b\b\b\b\b\b\b\b\b\b\b\b\b\b\b\b\b\b\b\b\b\b\b\b\b\b\b\b\b\b\b\b\b\b\b\b\b\b\b\b\b\b\b\b\b\b\b\b\b\b\b\b\b\b\b\b\b\b\b\b\b\b\b\r",
      " 88/151 [================>.............] - ETA: 0s - loss: 1.9134"
     ]
    },
    {
     "name": "stdout",
     "output_type": "stream",
     "text": [
      "\b\b\b\b\b\b\b\b\b\b\b\b\b\b\b\b\b\b\b\b\b\b\b\b\b\b\b\b\b\b\b\b\b\b\b\b\b\b\b\b\b\b\b\b\b\b\b\b\b\b\b\b\b\b\b\b\b\b\b\b\b\b\b\b\b\r",
      " 98/151 [==================>...........] - ETA: 0s - loss: 1.9138"
     ]
    },
    {
     "name": "stdout",
     "output_type": "stream",
     "text": [
      "\b\b\b\b\b\b\b\b\b\b\b\b\b\b\b\b\b\b\b\b\b\b\b\b\b\b\b\b\b\b\b\b\b\b\b\b\b\b\b\b\b\b\b\b\b\b\b\b\b\b\b\b\b\b\b\b\b\b\b\b\b\b\b\b\b\r",
      "108/151 [====================>.........] - ETA: 0s - loss: 1.9140"
     ]
    },
    {
     "name": "stdout",
     "output_type": "stream",
     "text": [
      "\b\b\b\b\b\b\b\b\b\b\b\b\b\b\b\b\b\b\b\b\b\b\b\b\b\b\b\b\b\b\b\b\b\b\b\b\b\b\b\b\b\b\b\b\b\b\b\b\b\b\b\b\b\b\b\b\b\b\b\b\b\b\b\b\b\r",
      "118/151 [======================>.......] - ETA: 0s - loss: 1.9141"
     ]
    },
    {
     "name": "stdout",
     "output_type": "stream",
     "text": [
      "\b\b\b\b\b\b\b\b\b\b\b\b\b\b\b\b\b\b\b\b\b\b\b\b\b\b\b\b\b\b\b\b\b\b\b\b\b\b\b\b\b\b\b\b\b\b\b\b\b\b\b\b\b\b\b\b\b\b\b\b\b\b\b\b\b\r",
      "128/151 [========================>.....] - ETA: 0s - loss: 1.9143"
     ]
    },
    {
     "name": "stdout",
     "output_type": "stream",
     "text": [
      "\b\b\b\b\b\b\b\b\b\b\b\b\b\b\b\b\b\b\b\b\b\b\b\b\b\b\b\b\b\b\b\b\b\b\b\b\b\b\b\b\b\b\b\b\b\b\b\b\b\b\b\b\b\b\b\b\b\b\b\b\b\b\b\b\b\r",
      "138/151 [==========================>...] - ETA: 0s - loss: 1.9144"
     ]
    },
    {
     "name": "stdout",
     "output_type": "stream",
     "text": [
      "\b\b\b\b\b\b\b\b\b\b\b\b\b\b\b\b\b\b\b\b\b\b\b\b\b\b\b\b\b\b\b\b\b\b\b\b\b\b\b\b\b\b\b\b\b\b\b\b\b\b\b\b\b\b\b\b\b\b\b\b\b\b\b\b\b\r",
      "148/151 [============================>.] - ETA: 0s - loss: 1.9144"
     ]
    },
    {
     "name": "stdout",
     "output_type": "stream",
     "text": [
      "\b\b\b\b\b\b\b\b\b\b\b\b\b\b\b\b\b\b\b\b\b\b\b\b\b\b\b\b\b\b\b\b\b\b\b\b\b\b\b\b\b\b\b\b\b\b\b\b\b\b\b\b\b\b\b\b\b\b\b\b\b\b\b\b\b\r",
      "151/151 [==============================] - 1s 7ms/step - loss: 1.9145 - val_loss: 1.9266\n"
     ]
    },
    {
     "name": "stdout",
     "output_type": "stream",
     "text": [
      "Epoch 4/100\n",
      "\r",
      "  1/151 [..............................] - ETA: 1s - loss: 1.8974"
     ]
    },
    {
     "name": "stdout",
     "output_type": "stream",
     "text": [
      "\b\b\b\b\b\b\b\b\b\b\b\b\b\b\b\b\b\b\b\b\b\b\b\b\b\b\b\b\b\b\b\b\b\b\b\b\b\b\b\b\b\b\b\b\b\b\b\b\b\b\b\b\b\b\b\b\b\b\b\b\b\b\b\b\b\r",
      " 10/151 [>.............................] - ETA: 0s - loss: 1.8860"
     ]
    },
    {
     "name": "stdout",
     "output_type": "stream",
     "text": [
      "\b\b\b\b\b\b\b\b\b\b\b\b\b\b\b\b\b\b\b\b\b\b\b\b\b\b\b\b\b\b\b\b\b\b\b\b\b\b\b\b\b\b\b\b\b\b\b\b\b\b\b\b\b\b\b\b\b\b\b\b\b\b\b\b\b\r",
      " 20/151 [==>...........................] - ETA: 0s - loss: 1.8891"
     ]
    },
    {
     "name": "stdout",
     "output_type": "stream",
     "text": [
      "\b\b\b\b\b\b\b\b\b\b\b\b\b\b\b\b\b\b\b\b\b\b\b\b\b\b\b\b\b\b\b\b\b\b\b\b\b\b\b\b\b\b\b\b\b\b\b\b\b\b\b\b\b\b\b\b\b\b\b\b\b\b\b\b\b\r",
      " 29/151 [====>.........................] - ETA: 0s - loss: 1.8899"
     ]
    },
    {
     "name": "stdout",
     "output_type": "stream",
     "text": [
      "\b\b\b\b\b\b\b\b\b\b\b\b\b\b\b\b\b\b\b\b\b\b\b\b\b\b\b\b\b\b\b\b\b\b\b\b\b\b\b\b\b\b\b\b\b\b\b\b\b\b\b\b\b\b\b\b\b\b\b\b\b\b\b\b\b\r",
      " 39/151 [======>.......................] - ETA: 0s - loss: 1.8911"
     ]
    },
    {
     "name": "stdout",
     "output_type": "stream",
     "text": [
      "\b\b\b\b\b\b\b\b\b\b\b\b\b\b\b\b\b\b\b\b\b\b\b\b\b\b\b\b\b\b\b\b\b\b\b\b\b\b\b\b\b\b\b\b\b\b\b\b\b\b\b\b\b\b\b\b\b\b\b\b\b\b\b\b\b"
     ]
    },
    {
     "name": "stdout",
     "output_type": "stream",
     "text": [
      "\r",
      " 49/151 [========>.....................] - ETA: 0s - loss: 1.8915"
     ]
    },
    {
     "name": "stdout",
     "output_type": "stream",
     "text": [
      "\b\b\b\b\b\b\b\b\b\b\b\b\b\b\b\b\b\b\b\b\b\b\b\b\b\b\b\b\b\b\b\b\b\b\b\b\b\b\b\b\b\b\b\b\b\b\b\b\b\b\b\b\b\b\b\b\b\b\b\b\b\b\b\b\b\r",
      " 59/151 [==========>...................] - ETA: 0s - loss: 1.8917"
     ]
    },
    {
     "name": "stdout",
     "output_type": "stream",
     "text": [
      "\b\b\b\b\b\b\b\b\b\b\b\b\b\b\b\b\b\b\b\b\b\b\b\b\b\b\b\b\b\b\b\b\b\b\b\b\b\b\b\b\b\b\b\b\b\b\b\b\b\b\b\b\b\b\b\b\b\b\b\b\b\b\b\b\b\r",
      " 69/151 [============>.................] - ETA: 0s - loss: 1.8916"
     ]
    },
    {
     "name": "stdout",
     "output_type": "stream",
     "text": [
      "\b\b\b\b\b\b\b\b\b\b\b\b\b\b\b\b\b\b\b\b\b\b\b\b\b\b\b\b\b\b\b\b\b\b\b\b\b\b\b\b\b\b\b\b\b\b\b\b\b\b\b\b\b\b\b\b\b\b\b\b\b\b\b\b\b\r",
      " 78/151 [==============>...............] - ETA: 0s - loss: 1.8916"
     ]
    },
    {
     "name": "stdout",
     "output_type": "stream",
     "text": [
      "\b\b\b\b\b\b\b\b\b\b\b\b\b\b\b\b\b\b\b\b\b\b\b\b\b\b\b\b\b\b\b\b\b\b\b\b\b\b\b\b\b\b\b\b\b\b\b\b\b\b\b\b\b\b\b\b\b\b\b\b\b\b\b\b\b\r",
      " 88/151 [================>.............] - ETA: 0s - loss: 1.8917"
     ]
    },
    {
     "name": "stdout",
     "output_type": "stream",
     "text": [
      "\b\b\b\b\b\b\b\b\b\b\b\b\b\b\b\b\b\b\b\b\b\b\b\b\b\b\b\b\b\b\b\b\b\b\b\b\b\b\b\b\b\b\b\b\b\b\b\b\b\b\b\b\b\b\b\b\b\b\b\b\b\b\b\b\b\r",
      " 98/151 [==================>...........] - ETA: 0s - loss: 1.8919"
     ]
    },
    {
     "name": "stdout",
     "output_type": "stream",
     "text": [
      "\b\b\b\b\b\b\b\b\b\b\b\b\b\b\b\b\b\b\b\b\b\b\b\b\b\b\b\b\b\b\b\b\b\b\b\b\b\b\b\b\b\b\b\b\b\b\b\b\b\b\b\b\b\b\b\b\b\b\b\b\b\b\b\b\b\r",
      "108/151 [====================>.........] - ETA: 0s - loss: 1.8921"
     ]
    },
    {
     "name": "stdout",
     "output_type": "stream",
     "text": [
      "\b\b\b\b\b\b\b\b\b\b\b\b\b\b\b\b\b\b\b\b\b\b\b\b\b\b\b\b\b\b\b\b\b\b\b\b\b\b\b\b\b\b\b\b\b\b\b\b\b\b\b\b\b\b\b\b\b\b\b\b\b\b\b\b\b\r",
      "118/151 [======================>.......] - ETA: 0s - loss: 1.8924"
     ]
    },
    {
     "name": "stdout",
     "output_type": "stream",
     "text": [
      "\b\b\b\b\b\b\b\b\b\b\b\b\b\b\b\b\b\b\b\b\b\b\b\b\b\b\b\b\b\b\b\b\b\b\b\b\b\b\b\b\b\b\b\b\b\b\b\b\b\b\b\b\b\b\b\b\b\b\b\b\b\b\b\b\b\r",
      "128/151 [========================>.....] - ETA: 0s - loss: 1.8925"
     ]
    },
    {
     "name": "stdout",
     "output_type": "stream",
     "text": [
      "\b\b\b\b\b\b\b\b\b\b\b\b\b\b\b\b\b\b\b\b\b\b\b\b\b\b\b\b\b\b\b\b\b\b\b\b\b\b\b\b\b\b\b\b\b\b\b\b\b\b\b\b\b\b\b\b\b\b\b\b\b\b\b\b\b\r",
      "137/151 [==========================>...] - ETA: 0s - loss: 1.8926"
     ]
    },
    {
     "name": "stdout",
     "output_type": "stream",
     "text": [
      "\b\b\b\b\b\b\b\b\b\b\b\b\b\b\b\b\b\b\b\b\b\b\b\b\b\b\b\b\b\b\b\b\b\b\b\b\b\b\b\b\b\b\b\b\b\b\b\b\b\b\b\b\b\b\b\b\b\b\b\b\b\b\b\b\b"
     ]
    },
    {
     "name": "stdout",
     "output_type": "stream",
     "text": [
      "\r",
      "146/151 [============================>.] - ETA: 0s - loss: 1.8927"
     ]
    },
    {
     "name": "stdout",
     "output_type": "stream",
     "text": [
      "\b\b\b\b\b\b\b\b\b\b\b\b\b\b\b\b\b\b\b\b\b\b\b\b\b\b\b\b\b\b\b\b\b\b\b\b\b\b\b\b\b\b\b\b\b\b\b\b\b\b\b\b\b\b\b\b\b\b\b\b\b\b\b\b\b\r",
      "151/151 [==============================] - 1s 7ms/step - loss: 1.8927 - val_loss: 1.9266\n"
     ]
    },
    {
     "name": "stdout",
     "output_type": "stream",
     "text": [
      "Epoch 5/100\n",
      "\r",
      "  1/151 [..............................] - ETA: 1s - loss: 1.8452"
     ]
    },
    {
     "name": "stdout",
     "output_type": "stream",
     "text": [
      "\b\b\b\b\b\b\b\b\b\b\b\b\b\b\b\b\b\b\b\b\b\b\b\b\b\b\b\b\b\b\b\b\b\b\b\b\b\b\b\b\b\b\b\b\b\b\b\b\b\b\b\b\b\b\b\b\b\b\b\b\b\b\b\b\b\r",
      " 11/151 [=>............................] - ETA: 0s - loss: 1.8710"
     ]
    },
    {
     "name": "stdout",
     "output_type": "stream",
     "text": [
      "\b\b\b\b\b\b\b\b\b\b\b\b\b\b\b\b\b\b\b\b\b\b\b\b\b\b\b\b\b\b\b\b\b\b\b\b\b\b\b\b\b\b\b\b\b\b\b\b\b\b\b\b\b\b\b\b\b\b\b\b\b\b\b\b\b\r",
      " 20/151 [==>...........................] - ETA: 0s - loss: 1.8757"
     ]
    },
    {
     "name": "stdout",
     "output_type": "stream",
     "text": [
      "\b\b\b\b\b\b\b\b\b\b\b\b\b\b\b\b\b\b\b\b\b\b\b\b\b\b\b\b\b\b\b\b\b\b\b\b\b\b\b\b\b\b\b\b\b\b\b\b\b\b\b\b\b\b\b\b\b\b\b\b\b\b\b\b\b\r",
      " 30/151 [====>.........................] - ETA: 0s - loss: 1.8779"
     ]
    },
    {
     "name": "stdout",
     "output_type": "stream",
     "text": [
      "\b\b\b\b\b\b\b\b\b\b\b\b\b\b\b\b\b\b\b\b\b\b\b\b\b\b\b\b\b\b\b\b\b\b\b\b\b\b\b\b\b\b\b\b\b\b\b\b\b\b\b\b\b\b\b\b\b\b\b\b\b\b\b\b\b\r",
      " 39/151 [======>.......................] - ETA: 0s - loss: 1.8789"
     ]
    },
    {
     "name": "stdout",
     "output_type": "stream",
     "text": [
      "\b\b\b\b\b\b\b\b\b\b\b\b\b\b\b\b\b\b\b\b\b\b\b\b\b\b\b\b\b\b\b\b\b\b\b\b\b\b\b\b\b\b\b\b\b\b\b\b\b\b\b\b\b\b\b\b\b\b\b\b\b\b\b\b\b\r",
      " 48/151 [========>.....................] - ETA: 0s - loss: 1.8788"
     ]
    },
    {
     "name": "stdout",
     "output_type": "stream",
     "text": [
      "\b\b\b\b\b\b\b\b\b\b\b\b\b\b\b\b\b\b\b\b\b\b\b\b\b\b\b\b\b\b\b\b\b\b\b\b\b\b\b\b\b\b\b\b\b\b\b\b\b\b\b\b\b\b\b\b\b\b\b\b\b\b\b\b\b\r",
      " 58/151 [==========>...................] - ETA: 0s - loss: 1.8785"
     ]
    },
    {
     "name": "stdout",
     "output_type": "stream",
     "text": [
      "\b\b\b\b\b\b\b\b\b\b\b\b\b\b\b\b\b\b\b\b\b\b\b\b\b\b\b\b\b\b\b\b\b\b\b\b\b\b\b\b\b\b\b\b\b\b\b\b\b\b\b\b\b\b\b\b\b\b\b\b\b\b\b\b\b\r",
      " 68/151 [============>.................] - ETA: 0s - loss: 1.8783"
     ]
    },
    {
     "name": "stdout",
     "output_type": "stream",
     "text": [
      "\b\b\b\b\b\b\b\b\b\b\b\b\b\b\b\b\b\b\b\b\b\b\b\b\b\b\b\b\b\b\b\b\b\b\b\b\b\b\b\b\b\b\b\b\b\b\b\b\b\b\b\b\b\b\b\b\b\b\b\b\b\b\b\b\b\r",
      " 78/151 [==============>...............] - ETA: 0s - loss: 1.8782"
     ]
    },
    {
     "name": "stdout",
     "output_type": "stream",
     "text": [
      "\b\b\b\b\b\b\b\b\b\b\b\b\b\b\b\b\b\b\b\b\b\b\b\b\b\b\b\b\b\b\b\b\b\b\b\b\b\b\b\b\b\b\b\b\b\b\b\b\b\b\b\b\b\b\b\b\b\b\b\b\b\b\b\b\b\r",
      " 88/151 [================>.............] - ETA: 0s - loss: 1.8781"
     ]
    },
    {
     "name": "stdout",
     "output_type": "stream",
     "text": [
      "\b\b\b\b\b\b\b\b\b\b\b\b\b\b\b\b\b\b\b\b\b\b\b\b\b\b\b\b\b\b\b\b\b\b\b\b\b\b\b\b\b\b\b\b\b\b\b\b\b\b\b\b\b\b\b\b\b\b\b\b\b\b\b\b\b\r",
      " 98/151 [==================>...........] - ETA: 0s - loss: 1.8780"
     ]
    },
    {
     "name": "stdout",
     "output_type": "stream",
     "text": [
      "\b\b\b\b\b\b\b\b\b\b\b\b\b\b\b\b\b\b\b\b\b\b\b\b\b\b\b\b\b\b\b\b\b\b\b\b\b\b\b\b\b\b\b\b\b\b\b\b\b\b\b\b\b\b\b\b\b\b\b\b\b\b\b\b\b\r",
      "108/151 [====================>.........] - ETA: 0s - loss: 1.8779"
     ]
    },
    {
     "name": "stdout",
     "output_type": "stream",
     "text": [
      "\b\b\b\b\b\b\b\b\b\b\b\b\b\b\b\b\b\b\b\b\b\b\b\b\b\b\b\b\b\b\b\b\b\b\b\b\b\b\b\b\b\b\b\b\b\b\b\b\b\b\b\b\b\b\b\b\b\b\b\b\b\b\b\b\b\r",
      "117/151 [======================>.......] - ETA: 0s - loss: 1.8778"
     ]
    },
    {
     "name": "stdout",
     "output_type": "stream",
     "text": [
      "\b\b\b\b\b\b\b\b\b\b\b\b\b\b\b\b\b\b\b\b\b\b\b\b\b\b\b\b\b\b\b\b\b\b\b\b\b\b\b\b\b\b\b\b\b\b\b\b\b\b\b\b\b\b\b\b\b\b\b\b\b\b\b\b\b\r",
      "127/151 [========================>.....] - ETA: 0s - loss: 1.8777"
     ]
    },
    {
     "name": "stdout",
     "output_type": "stream",
     "text": [
      "\b\b\b\b\b\b\b\b\b\b\b\b\b\b\b\b\b\b\b\b\b\b\b\b\b\b\b\b\b\b\b\b\b\b\b\b\b\b\b\b\b\b\b\b\b\b\b\b\b\b\b\b\b\b\b\b\b\b\b\b\b\b\b\b\b\r",
      "136/151 [==========================>...] - ETA: 0s - loss: 1.8777"
     ]
    },
    {
     "name": "stdout",
     "output_type": "stream",
     "text": [
      "\b\b\b\b\b\b\b\b\b\b\b\b\b\b\b\b\b\b\b\b\b\b\b\b\b\b\b\b\b\b\b\b\b\b\b\b\b\b\b\b\b\b\b\b\b\b\b\b\b\b\b\b\b\b\b\b\b\b\b\b\b\b\b\b\b\r",
      "146/151 [============================>.] - ETA: 0s - loss: 1.8775"
     ]
    },
    {
     "name": "stdout",
     "output_type": "stream",
     "text": [
      "\b\b\b\b\b\b\b\b\b\b\b\b\b\b\b\b\b\b\b\b\b\b\b\b\b\b\b\b\b\b\b\b\b\b\b\b\b\b\b\b\b\b\b\b\b\b\b\b\b\b\b\b\b\b\b\b\b\b\b\b\b\b\b\b\b\r",
      "151/151 [==============================] - 1s 7ms/step - loss: 1.8775 - val_loss: 1.9115\n"
     ]
    },
    {
     "name": "stdout",
     "output_type": "stream",
     "text": [
      "Epoch 6/100\n",
      "\r",
      "  1/151 [..............................] - ETA: 1s - loss: 1.8504"
     ]
    },
    {
     "name": "stdout",
     "output_type": "stream",
     "text": [
      "\b\b\b\b\b\b\b\b\b\b\b\b\b\b\b\b\b\b\b\b\b\b\b\b\b\b\b\b\b\b\b\b\b\b\b\b\b\b\b\b\b\b\b\b\b\b\b\b\b\b\b\b\b\b\b\b\b\b\b\b\b\b\b\b\b\r",
      " 11/151 [=>............................] - ETA: 0s - loss: 1.8573"
     ]
    },
    {
     "name": "stdout",
     "output_type": "stream",
     "text": [
      "\b\b\b\b\b\b\b\b\b\b\b\b\b\b\b\b\b\b\b\b\b\b\b\b\b\b\b\b\b\b\b\b\b\b\b\b\b\b\b\b\b\b\b\b\b\b\b\b\b\b\b\b\b\b\b\b\b\b\b\b\b\b\b\b\b\r",
      " 21/151 [===>..........................] - ETA: 0s - loss: 1.8533"
     ]
    },
    {
     "name": "stdout",
     "output_type": "stream",
     "text": [
      "\b\b\b\b\b\b\b\b\b\b\b\b\b\b\b\b\b\b\b\b\b\b\b\b\b\b\b\b\b\b\b\b\b\b\b\b\b\b\b\b\b\b\b\b\b\b\b\b\b\b\b\b\b\b\b\b\b\b\b\b\b\b\b\b\b\r",
      " 30/151 [====>.........................] - ETA: 0s - loss: 1.8526"
     ]
    },
    {
     "name": "stdout",
     "output_type": "stream",
     "text": [
      "\b\b\b\b\b\b\b\b\b\b\b\b\b\b\b\b\b\b\b\b\b\b\b\b\b\b\b\b\b\b\b\b\b\b\b\b\b\b\b\b\b\b\b\b\b\b\b\b\b\b\b\b\b\b\b\b\b\b\b\b\b\b\b\b\b\r",
      " 40/151 [======>.......................] - ETA: 0s - loss: 1.8527"
     ]
    },
    {
     "name": "stdout",
     "output_type": "stream",
     "text": [
      "\b\b\b\b\b\b\b\b\b\b\b\b\b\b\b\b\b\b\b\b\b\b\b\b\b\b\b\b\b\b\b\b\b\b\b\b\b\b\b\b\b\b\b\b\b\b\b\b\b\b\b\b\b\b\b\b\b\b\b\b\b\b\b\b\b\r",
      " 49/151 [========>.....................] - ETA: 0s - loss: 1.8533"
     ]
    },
    {
     "name": "stdout",
     "output_type": "stream",
     "text": [
      "\b\b\b\b\b\b\b\b\b\b\b\b\b\b\b\b\b\b\b\b\b\b\b\b\b\b\b\b\b\b\b\b\b\b\b\b\b\b\b\b\b\b\b\b\b\b\b\b\b\b\b\b\b\b\b\b\b\b\b\b\b\b\b\b\b\r",
      " 58/151 [==========>...................] - ETA: 0s - loss: 1.8540"
     ]
    },
    {
     "name": "stdout",
     "output_type": "stream",
     "text": [
      "\b\b\b\b\b\b\b\b\b\b\b\b\b\b\b\b\b\b\b\b\b\b\b\b\b\b\b\b\b\b\b\b\b\b\b\b\b\b\b\b\b\b\b\b\b\b\b\b\b\b\b\b\b\b\b\b\b\b\b\b\b\b\b\b\b\r",
      " 67/151 [============>.................] - ETA: 0s - loss: 1.8546"
     ]
    },
    {
     "name": "stdout",
     "output_type": "stream",
     "text": [
      "\b\b\b\b\b\b\b\b\b\b\b\b\b\b\b\b\b\b\b\b\b\b\b\b\b\b\b\b\b\b\b\b\b\b\b\b\b\b\b\b\b\b\b\b\b\b\b\b\b\b\b\b\b\b\b\b\b\b\b\b\b\b\b\b\b\r",
      " 76/151 [==============>...............] - ETA: 0s - loss: 1.8550"
     ]
    },
    {
     "name": "stdout",
     "output_type": "stream",
     "text": [
      "\b\b\b\b\b\b\b\b\b\b\b\b\b\b\b\b\b\b\b\b\b\b\b\b\b\b\b\b\b\b\b\b\b\b\b\b\b\b\b\b\b\b\b\b\b\b\b\b\b\b\b\b\b\b\b\b\b\b\b\b\b\b\b\b\b\r",
      " 85/151 [===============>..............] - ETA: 0s - loss: 1.8554"
     ]
    },
    {
     "name": "stdout",
     "output_type": "stream",
     "text": [
      "\b\b\b\b\b\b\b\b\b\b\b\b\b\b\b\b\b\b\b\b\b\b\b\b\b\b\b\b\b\b\b\b\b\b\b\b\b\b\b\b\b\b\b\b\b\b\b\b\b\b\b\b\b\b\b\b\b\b\b\b\b\b\b\b\b\r",
      " 95/151 [=================>............] - ETA: 0s - loss: 1.8559"
     ]
    },
    {
     "name": "stdout",
     "output_type": "stream",
     "text": [
      "\b\b\b\b\b\b\b\b\b\b\b\b\b\b\b\b\b\b\b\b\b\b\b\b\b\b\b\b\b\b\b\b\b\b\b\b\b\b\b\b\b\b\b\b\b\b\b\b\b\b\b\b\b\b\b\b\b\b\b\b\b\b\b\b\b\r",
      "104/151 [===================>..........] - ETA: 0s - loss: 1.8562"
     ]
    },
    {
     "name": "stdout",
     "output_type": "stream",
     "text": [
      "\b\b\b\b\b\b\b\b\b\b\b\b\b\b\b\b\b\b\b\b\b\b\b\b\b\b\b\b\b\b\b\b\b\b\b\b\b\b\b\b\b\b\b\b\b\b\b\b\b\b\b\b\b\b\b\b\b\b\b\b\b\b\b\b\b\r",
      "113/151 [=====================>........] - ETA: 0s - loss: 1.8565"
     ]
    },
    {
     "name": "stdout",
     "output_type": "stream",
     "text": [
      "\b\b\b\b\b\b\b\b\b\b\b\b\b\b\b\b\b\b\b\b\b\b\b\b\b\b\b\b\b\b\b\b\b\b\b\b\b\b\b\b\b\b\b\b\b\b\b\b\b\b\b\b\b\b\b\b\b\b\b\b\b\b\b\b\b\r",
      "122/151 [=======================>......] - ETA: 0s - loss: 1.8567"
     ]
    },
    {
     "name": "stdout",
     "output_type": "stream",
     "text": [
      "\b\b\b\b\b\b\b\b\b\b\b\b\b\b\b\b\b\b\b\b\b\b\b\b\b\b\b\b\b\b\b\b\b\b\b\b\b\b\b\b\b\b\b\b\b\b\b\b\b\b\b\b\b\b\b\b\b\b\b\b\b\b\b\b\b\r",
      "132/151 [=========================>....] - ETA: 0s - loss: 1.8570"
     ]
    },
    {
     "name": "stdout",
     "output_type": "stream",
     "text": [
      "\b\b\b\b\b\b\b\b\b\b\b\b\b\b\b\b\b\b\b\b\b\b\b\b\b\b\b\b\b\b\b\b\b\b\b\b\b\b\b\b\b\b\b\b\b\b\b\b\b\b\b\b\b\b\b\b\b\b\b\b\b\b\b\b\b\r",
      "141/151 [===========================>..] - ETA: 0s - loss: 1.8572"
     ]
    },
    {
     "name": "stdout",
     "output_type": "stream",
     "text": [
      "\b\b\b\b\b\b\b\b\b\b\b\b\b\b\b\b\b\b\b\b\b\b\b\b\b\b\b\b\b\b\b\b\b\b\b\b\b\b\b\b\b\b\b\b\b\b\b\b\b\b\b\b\b\b\b\b\b\b\b\b\b\b\b\b\b\r",
      "151/151 [==============================] - ETA: 0s - loss: 1.8574"
     ]
    },
    {
     "name": "stdout",
     "output_type": "stream",
     "text": [
      "\b\b\b\b\b\b\b\b\b\b\b\b\b\b\b\b\b\b\b\b\b\b\b\b\b\b\b\b\b\b\b\b\b\b\b\b\b\b\b\b\b\b\b\b\b\b\b\b\b\b\b\b\b\b\b\b\b\b\b\b\b\b\b\b\b"
     ]
    },
    {
     "name": "stdout",
     "output_type": "stream",
     "text": [
      "\r",
      "151/151 [==============================] - 1s 7ms/step - loss: 1.8574 - val_loss: 1.9097\n"
     ]
    },
    {
     "name": "stdout",
     "output_type": "stream",
     "text": [
      "Epoch 7/100\n",
      "\r",
      "  1/151 [..............................] - ETA: 0s - loss: 1.8520"
     ]
    },
    {
     "name": "stdout",
     "output_type": "stream",
     "text": [
      "\b\b\b\b\b\b\b\b\b\b\b\b\b\b\b\b\b\b\b\b\b\b\b\b\b\b\b\b\b\b\b\b\b\b\b\b\b\b\b\b\b\b\b\b\b\b\b\b\b\b\b\b\b\b\b\b\b\b\b\b\b\b\b\b\b\r",
      " 10/151 [>.............................] - ETA: 0s - loss: 1.8529"
     ]
    },
    {
     "name": "stdout",
     "output_type": "stream",
     "text": [
      "\b\b\b\b\b\b\b\b\b\b\b\b\b\b\b\b\b\b\b\b\b\b\b\b\b\b\b\b\b\b\b\b\b\b\b\b\b\b\b\b\b\b\b\b\b\b\b\b\b\b\b\b\b\b\b\b\b\b\b\b\b\b\b\b\b\r",
      " 19/151 [==>...........................] - ETA: 0s - loss: 1.8514"
     ]
    },
    {
     "name": "stdout",
     "output_type": "stream",
     "text": [
      "\b\b\b\b\b\b\b\b\b\b\b\b\b\b\b\b\b\b\b\b\b\b\b\b\b\b\b\b\b\b\b\b\b\b\b\b\b\b\b\b\b\b\b\b\b\b\b\b\b\b\b\b\b\b\b\b\b\b\b\b\b\b\b\b\b\r",
      " 29/151 [====>.........................] - ETA: 0s - loss: 1.8503"
     ]
    },
    {
     "name": "stdout",
     "output_type": "stream",
     "text": [
      "\b\b\b\b\b\b\b\b\b\b\b\b\b\b\b\b\b\b\b\b\b\b\b\b\b\b\b\b\b\b\b\b\b\b\b\b\b\b\b\b\b\b\b\b\b\b\b\b\b\b\b\b\b\b\b\b\b\b\b\b\b\b\b\b\b\r",
      " 39/151 [======>.......................] - ETA: 0s - loss: 1.8495"
     ]
    },
    {
     "name": "stdout",
     "output_type": "stream",
     "text": [
      "\b\b\b\b\b\b\b\b\b\b\b\b\b\b\b\b\b\b\b\b\b\b\b\b\b\b\b\b\b\b\b\b\b\b\b\b\b\b\b\b\b\b\b\b\b\b\b\b\b\b\b\b\b\b\b\b\b\b\b\b\b\b\b\b\b\r",
      " 49/151 [========>.....................] - ETA: 0s - loss: 1.8491"
     ]
    },
    {
     "name": "stdout",
     "output_type": "stream",
     "text": [
      "\b\b\b\b\b\b\b\b\b\b\b\b\b\b\b\b\b\b\b\b\b\b\b\b\b\b\b\b\b\b\b\b\b\b\b\b\b\b\b\b\b\b\b\b\b\b\b\b\b\b\b\b\b\b\b\b\b\b\b\b\b\b\b\b\b\r",
      " 58/151 [==========>...................] - ETA: 0s - loss: 1.8489"
     ]
    },
    {
     "name": "stdout",
     "output_type": "stream",
     "text": [
      "\b\b\b\b\b\b\b\b\b\b\b\b\b\b\b\b\b\b\b\b\b\b\b\b\b\b\b\b\b\b\b\b\b\b\b\b\b\b\b\b\b\b\b\b\b\b\b\b\b\b\b\b\b\b\b\b\b\b\b\b\b\b\b\b\b\r",
      " 68/151 [============>.................] - ETA: 0s - loss: 1.8488"
     ]
    },
    {
     "name": "stdout",
     "output_type": "stream",
     "text": [
      "\b\b\b\b\b\b\b\b\b\b\b\b\b\b\b\b\b\b\b\b\b\b\b\b\b\b\b\b\b\b\b\b\b\b\b\b\b\b\b\b\b\b\b\b\b\b\b\b\b\b\b\b\b\b\b\b\b\b\b\b\b\b\b\b\b\r",
      " 78/151 [==============>...............] - ETA: 0s - loss: 1.8486"
     ]
    },
    {
     "name": "stdout",
     "output_type": "stream",
     "text": [
      "\b\b\b\b\b\b\b\b\b\b\b\b\b\b\b\b\b\b\b\b\b\b\b\b\b\b\b\b\b\b\b\b\b\b\b\b\b\b\b\b\b\b\b\b\b\b\b\b\b\b\b\b\b\b\b\b\b\b\b\b\b\b\b\b\b\r",
      " 88/151 [================>.............] - ETA: 0s - loss: 1.8483"
     ]
    },
    {
     "name": "stdout",
     "output_type": "stream",
     "text": [
      "\b\b\b\b\b\b\b\b\b\b\b\b\b\b\b\b\b\b\b\b\b\b\b\b\b\b\b\b\b\b\b\b\b\b\b\b\b\b\b\b\b\b\b\b\b\b\b\b\b\b\b\b\b\b\b\b\b\b\b\b\b\b\b\b\b\r",
      " 98/151 [==================>...........] - ETA: 0s - loss: 1.8481"
     ]
    },
    {
     "name": "stdout",
     "output_type": "stream",
     "text": [
      "\b\b\b\b\b\b\b\b\b\b\b\b\b\b\b\b\b\b\b\b\b\b\b\b\b\b\b\b\b\b\b\b\b\b\b\b\b\b\b\b\b\b\b\b\b\b\b\b\b\b\b\b\b\b\b\b\b\b\b\b\b\b\b\b\b\r",
      "108/151 [====================>.........] - ETA: 0s - loss: 1.8480"
     ]
    },
    {
     "name": "stdout",
     "output_type": "stream",
     "text": [
      "\b\b\b\b\b\b\b\b\b\b\b\b\b\b\b\b\b\b\b\b\b\b\b\b\b\b\b\b\b\b\b\b\b\b\b\b\b\b\b\b\b\b\b\b\b\b\b\b\b\b\b\b\b\b\b\b\b\b\b\b\b\b\b\b\b\r",
      "118/151 [======================>.......] - ETA: 0s - loss: 1.8478"
     ]
    },
    {
     "name": "stdout",
     "output_type": "stream",
     "text": [
      "\b\b\b\b\b\b\b\b\b\b\b\b\b\b\b\b\b\b\b\b\b\b\b\b\b\b\b\b\b\b\b\b\b\b\b\b\b\b\b\b\b\b\b\b\b\b\b\b\b\b\b\b\b\b\b\b\b\b\b\b\b\b\b\b\b\r",
      "127/151 [========================>.....] - ETA: 0s - loss: 1.8477"
     ]
    },
    {
     "name": "stdout",
     "output_type": "stream",
     "text": [
      "\b\b\b\b\b\b\b\b\b\b\b\b\b\b\b\b\b\b\b\b\b\b\b\b\b\b\b\b\b\b\b\b\b\b\b\b\b\b\b\b\b\b\b\b\b\b\b\b\b\b\b\b\b\b\b\b\b\b\b\b\b\b\b\b\b\r",
      "137/151 [==========================>...] - ETA: 0s - loss: 1.8476"
     ]
    },
    {
     "name": "stdout",
     "output_type": "stream",
     "text": [
      "\b\b\b\b\b\b\b\b\b\b\b\b\b\b\b\b\b\b\b\b\b\b\b\b\b\b\b\b\b\b\b\b\b\b\b\b\b\b\b\b\b\b\b\b\b\b\b\b\b\b\b\b\b\b\b\b\b\b\b\b\b\b\b\b\b\r",
      "146/151 [============================>.] - ETA: 0s - loss: 1.8476"
     ]
    },
    {
     "name": "stdout",
     "output_type": "stream",
     "text": [
      "\b\b\b\b\b\b\b\b\b\b\b\b\b\b\b\b\b\b\b\b\b\b\b\b\b\b\b\b\b\b\b\b\b\b\b\b\b\b\b\b\b\b\b\b\b\b\b\b\b\b\b\b\b\b\b\b\b\b\b\b\b\b\b\b\b\r",
      "151/151 [==============================] - 1s 7ms/step - loss: 1.8475 - val_loss: 1.8952\n"
     ]
    },
    {
     "name": "stdout",
     "output_type": "stream",
     "text": [
      "Epoch 8/100\n",
      "\r",
      "  1/151 [..............................] - ETA: 1s - loss: 1.8066"
     ]
    },
    {
     "name": "stdout",
     "output_type": "stream",
     "text": [
      "\b\b\b\b\b\b\b\b\b\b\b\b\b\b\b\b\b\b\b\b\b\b\b\b\b\b\b\b\b\b\b\b\b\b\b\b\b\b\b\b\b\b\b\b\b\b\b\b\b\b\b\b\b\b\b\b\b\b\b\b\b\b\b\b\b\r",
      " 10/151 [>.............................] - ETA: 0s - loss: 1.8207"
     ]
    },
    {
     "name": "stdout",
     "output_type": "stream",
     "text": [
      "\b\b\b\b\b\b\b\b\b\b\b\b\b\b\b\b\b\b\b\b\b\b\b\b\b\b\b\b\b\b\b\b\b\b\b\b\b\b\b\b\b\b\b\b\b\b\b\b\b\b\b\b\b\b\b\b\b\b\b\b\b\b\b\b\b\r",
      " 19/151 [==>...........................] - ETA: 0s - loss: 1.8186"
     ]
    },
    {
     "name": "stdout",
     "output_type": "stream",
     "text": [
      "\b\b\b\b\b\b\b\b\b\b\b\b\b\b\b\b\b\b\b\b\b\b\b\b\b\b\b\b\b\b\b\b\b\b\b\b\b\b\b\b\b\b\b\b\b\b\b\b\b\b\b\b\b\b\b\b\b\b\b\b\b\b\b\b\b\r",
      " 29/151 [====>.........................] - ETA: 0s - loss: 1.8206"
     ]
    },
    {
     "name": "stdout",
     "output_type": "stream",
     "text": [
      "\b\b\b\b\b\b\b\b\b\b\b\b\b\b\b\b\b\b\b\b\b\b\b\b\b\b\b\b\b\b\b\b\b\b\b\b\b\b\b\b\b\b\b\b\b\b\b\b\b\b\b\b\b\b\b\b\b\b\b\b\b\b\b\b\b\r",
      " 39/151 [======>.......................] - ETA: 0s - loss: 1.8228"
     ]
    },
    {
     "name": "stdout",
     "output_type": "stream",
     "text": [
      "\b\b\b\b\b\b\b\b\b\b\b\b\b\b\b\b\b\b\b\b\b\b\b\b\b\b\b\b\b\b\b\b\b\b\b\b\b\b\b\b\b\b\b\b\b\b\b\b\b\b\b\b\b\b\b\b\b\b\b\b\b\b\b\b\b\r",
      " 49/151 [========>.....................] - ETA: 0s - loss: 1.8245"
     ]
    },
    {
     "name": "stdout",
     "output_type": "stream",
     "text": [
      "\b\b\b\b\b\b\b\b\b\b\b\b\b\b\b\b\b\b\b\b\b\b\b\b\b\b\b\b\b\b\b\b\b\b\b\b\b\b\b\b\b\b\b\b\b\b\b\b\b\b\b\b\b\b\b\b\b\b\b\b\b\b\b\b\b\r",
      " 58/151 [==========>...................] - ETA: 0s - loss: 1.8253"
     ]
    },
    {
     "name": "stdout",
     "output_type": "stream",
     "text": [
      "\b\b\b\b\b\b\b\b\b\b\b\b\b\b\b\b\b\b\b\b\b\b\b\b\b\b\b\b\b\b\b\b\b\b\b\b\b\b\b\b\b\b\b\b\b\b\b\b\b\b\b\b\b\b\b\b\b\b\b\b\b\b\b\b\b\r",
      " 67/151 [============>.................] - ETA: 0s - loss: 1.8258"
     ]
    },
    {
     "name": "stdout",
     "output_type": "stream",
     "text": [
      "\b\b\b\b\b\b\b\b\b\b\b\b\b\b\b\b\b\b\b\b\b\b\b\b\b\b\b\b\b\b\b\b\b\b\b\b\b\b\b\b\b\b\b\b\b\b\b\b\b\b\b\b\b\b\b\b\b\b\b\b\b\b\b\b\b\r",
      " 77/151 [==============>...............] - ETA: 0s - loss: 1.8262"
     ]
    },
    {
     "name": "stdout",
     "output_type": "stream",
     "text": [
      "\b\b\b\b\b\b\b\b\b\b\b\b\b\b\b\b\b\b\b\b\b\b\b\b\b\b\b\b\b\b\b\b\b\b\b\b\b\b\b\b\b\b\b\b\b\b\b\b\b\b\b\b\b\b\b\b\b\b\b\b\b\b\b\b\b\r",
      " 87/151 [================>.............] - ETA: 0s - loss: 1.8264"
     ]
    },
    {
     "name": "stdout",
     "output_type": "stream",
     "text": [
      "\b\b\b\b\b\b\b\b\b\b\b\b\b\b\b\b\b\b\b\b\b\b\b\b\b\b\b\b\b\b\b\b\b\b\b\b\b\b\b\b\b\b\b\b\b\b\b\b\b\b\b\b\b\b\b\b\b\b\b\b\b\b\b\b\b\r",
      " 97/151 [==================>...........] - ETA: 0s - loss: 1.8265"
     ]
    },
    {
     "name": "stdout",
     "output_type": "stream",
     "text": [
      "\b\b\b\b\b\b\b\b\b\b\b\b\b\b\b\b\b\b\b\b\b\b\b\b\b\b\b\b\b\b\b\b\b\b\b\b\b\b\b\b\b\b\b\b\b\b\b\b\b\b\b\b\b\b\b\b\b\b\b\b\b\b\b\b\b\r",
      "107/151 [====================>.........] - ETA: 0s - loss: 1.8268"
     ]
    },
    {
     "name": "stdout",
     "output_type": "stream",
     "text": [
      "\b\b\b\b\b\b\b\b\b\b\b\b\b\b\b\b\b\b\b\b\b\b\b\b\b\b\b\b\b\b\b\b\b\b\b\b\b\b\b\b\b\b\b\b\b\b\b\b\b\b\b\b\b\b\b\b\b\b\b\b\b\b\b\b\b\r",
      "117/151 [======================>.......] - ETA: 0s - loss: 1.8271"
     ]
    },
    {
     "name": "stdout",
     "output_type": "stream",
     "text": [
      "\b\b\b\b\b\b\b\b\b\b\b\b\b\b\b\b\b\b\b\b\b\b\b\b\b\b\b\b\b\b\b\b\b\b\b\b\b\b\b\b\b\b\b\b\b\b\b\b\b\b\b\b\b\b\b\b\b\b\b\b\b\b\b\b\b\r",
      "126/151 [========================>.....] - ETA: 0s - loss: 1.8273"
     ]
    },
    {
     "name": "stdout",
     "output_type": "stream",
     "text": [
      "\b\b\b\b\b\b\b\b\b\b\b\b\b\b\b\b\b\b\b\b\b\b\b\b\b\b\b\b\b\b\b\b\b\b\b\b\b\b\b\b\b\b\b\b\b\b\b\b\b\b\b\b\b\b\b\b\b\b\b\b\b\b\b\b\b\r",
      "136/151 [==========================>...] - ETA: 0s - loss: 1.8276"
     ]
    },
    {
     "name": "stdout",
     "output_type": "stream",
     "text": [
      "\b\b\b\b\b\b\b\b\b\b\b\b\b\b\b\b\b\b\b\b\b\b\b\b\b\b\b\b\b\b\b\b\b\b\b\b\b\b\b\b\b\b\b\b\b\b\b\b\b\b\b\b\b\b\b\b\b\b\b\b\b\b\b\b\b\r",
      "146/151 [============================>.] - ETA: 0s - loss: 1.8278"
     ]
    },
    {
     "name": "stdout",
     "output_type": "stream",
     "text": [
      "\b\b\b\b\b\b\b\b\b\b\b\b\b\b\b\b\b\b\b\b\b\b\b\b\b\b\b\b\b\b\b\b\b\b\b\b\b\b\b\b\b\b\b\b\b\b\b\b\b\b\b\b\b\b\b\b\b\b\b\b\b\b\b\b\b\r",
      "151/151 [==============================] - 1s 7ms/step - loss: 1.8279 - val_loss: 1.9047\n"
     ]
    },
    {
     "name": "stdout",
     "output_type": "stream",
     "text": [
      "Epoch 9/100\n",
      "\r",
      "  1/151 [..............................] - ETA: 0s - loss: 1.8086"
     ]
    },
    {
     "name": "stdout",
     "output_type": "stream",
     "text": [
      "\b\b\b\b\b\b\b\b\b\b\b\b\b\b\b\b\b\b\b\b\b\b\b\b\b\b\b\b\b\b\b\b\b\b\b\b\b\b\b\b\b\b\b\b\b\b\b\b\b\b\b\b\b\b\b\b\b\b\b\b\b\b\b\b\b\r",
      " 11/151 [=>............................] - ETA: 0s - loss: 1.8225"
     ]
    },
    {
     "name": "stdout",
     "output_type": "stream",
     "text": [
      "\b\b\b\b\b\b\b\b\b\b\b\b\b\b\b\b\b\b\b\b\b\b\b\b\b\b\b\b\b\b\b\b\b\b\b\b\b\b\b\b\b\b\b\b\b\b\b\b\b\b\b\b\b\b\b\b\b\b\b\b\b\b\b\b\b\r",
      " 21/151 [===>..........................] - ETA: 0s - loss: 1.8216"
     ]
    },
    {
     "name": "stdout",
     "output_type": "stream",
     "text": [
      "\b\b\b\b\b\b\b\b\b\b\b\b\b\b\b\b\b\b\b\b\b\b\b\b\b\b\b\b\b\b\b\b\b\b\b\b\b\b\b\b\b\b\b\b\b\b\b\b\b\b\b\b\b\b\b\b\b\b\b\b\b\b\b\b\b\r",
      " 31/151 [=====>........................] - ETA: 0s - loss: 1.8213"
     ]
    },
    {
     "name": "stdout",
     "output_type": "stream",
     "text": [
      "\b\b\b\b\b\b\b\b\b\b\b\b\b\b\b\b\b\b\b\b\b\b\b\b\b\b\b\b\b\b\b\b\b\b\b\b\b\b\b\b\b\b\b\b\b\b\b\b\b\b\b\b\b\b\b\b\b\b\b\b\b\b\b\b\b\r",
      " 41/151 [=======>......................] - ETA: 0s - loss: 1.8202"
     ]
    },
    {
     "name": "stdout",
     "output_type": "stream",
     "text": [
      "\b\b\b\b\b\b\b\b\b\b\b\b\b\b\b\b\b\b\b\b\b\b\b\b\b\b\b\b\b\b\b\b\b\b\b\b\b\b\b\b\b\b\b\b\b\b\b\b\b\b\b\b\b\b\b\b\b\b\b\b\b\b\b\b\b\r",
      " 50/151 [========>.....................] - ETA: 0s - loss: 1.8192"
     ]
    },
    {
     "name": "stdout",
     "output_type": "stream",
     "text": [
      "\b\b\b\b\b\b\b\b\b\b\b\b\b\b\b\b\b\b\b\b\b\b\b\b\b\b\b\b\b\b\b\b\b\b\b\b\b\b\b\b\b\b\b\b\b\b\b\b\b\b\b\b\b\b\b\b\b\b\b\b\b\b\b\b\b\r",
      " 60/151 [==========>...................] - ETA: 0s - loss: 1.8184"
     ]
    },
    {
     "name": "stdout",
     "output_type": "stream",
     "text": [
      "\b\b\b\b\b\b\b\b\b\b\b\b\b\b\b\b\b\b\b\b\b\b\b\b\b\b\b\b\b\b\b\b\b\b\b\b\b\b\b\b\b\b\b\b\b\b\b\b\b\b\b\b\b\b\b\b\b\b\b\b\b\b\b\b\b\r",
      " 70/151 [============>.................] - ETA: 0s - loss: 1.8179"
     ]
    },
    {
     "name": "stdout",
     "output_type": "stream",
     "text": [
      "\b\b\b\b\b\b\b\b\b\b\b\b\b\b\b\b\b\b\b\b\b\b\b\b\b\b\b\b\b\b\b\b\b\b\b\b\b\b\b\b\b\b\b\b\b\b\b\b\b\b\b\b\b\b\b\b\b\b\b\b\b\b\b\b\b\r",
      " 80/151 [==============>...............] - ETA: 0s - loss: 1.8176"
     ]
    },
    {
     "name": "stdout",
     "output_type": "stream",
     "text": [
      "\b\b\b\b\b\b\b\b\b\b\b\b\b\b\b\b\b\b\b\b\b\b\b\b\b\b\b\b\b\b\b\b\b\b\b\b\b\b\b\b\b\b\b\b\b\b\b\b\b\b\b\b\b\b\b\b\b\b\b\b\b\b\b\b\b\r",
      " 90/151 [================>.............] - ETA: 0s - loss: 1.8174"
     ]
    },
    {
     "name": "stdout",
     "output_type": "stream",
     "text": [
      "\b\b\b\b\b\b\b\b\b\b\b\b\b\b\b\b\b\b\b\b\b\b\b\b\b\b\b\b\b\b\b\b\b\b\b\b\b\b\b\b\b\b\b\b\b\b\b\b\b\b\b\b\b\b\b\b\b\b\b\b\b\b\b\b\b\r",
      "100/151 [==================>...........] - ETA: 0s - loss: 1.8173"
     ]
    },
    {
     "name": "stdout",
     "output_type": "stream",
     "text": [
      "\b\b\b\b\b\b\b\b\b\b\b\b\b\b\b\b\b\b\b\b\b\b\b\b\b\b\b\b\b\b\b\b\b\b\b\b\b\b\b\b\b\b\b\b\b\b\b\b\b\b\b\b\b\b\b\b\b\b\b\b\b\b\b\b\b\r",
      "109/151 [====================>.........] - ETA: 0s - loss: 1.8174"
     ]
    },
    {
     "name": "stdout",
     "output_type": "stream",
     "text": [
      "\b\b\b\b\b\b\b\b\b\b\b\b\b\b\b\b\b\b\b\b\b\b\b\b\b\b\b\b\b\b\b\b\b\b\b\b\b\b\b\b\b\b\b\b\b\b\b\b\b\b\b\b\b\b\b\b\b\b\b\b\b\b\b\b\b\r",
      "119/151 [======================>.......] - ETA: 0s - loss: 1.8174"
     ]
    },
    {
     "name": "stdout",
     "output_type": "stream",
     "text": [
      "\b\b\b\b\b\b\b\b\b\b\b\b\b\b\b\b\b\b\b\b\b\b\b\b\b\b\b\b\b\b\b\b\b\b\b\b\b\b\b\b\b\b\b\b\b\b\b\b\b\b\b\b\b\b\b\b\b\b\b\b\b\b\b\b\b"
     ]
    },
    {
     "name": "stdout",
     "output_type": "stream",
     "text": [
      "\r",
      "129/151 [========================>.....] - ETA: 0s - loss: 1.8174"
     ]
    },
    {
     "name": "stdout",
     "output_type": "stream",
     "text": [
      "\b\b\b\b\b\b\b\b\b\b\b\b\b\b\b\b\b\b\b\b\b\b\b\b\b\b\b\b\b\b\b\b\b\b\b\b\b\b\b\b\b\b\b\b\b\b\b\b\b\b\b\b\b\b\b\b\b\b\b\b\b\b\b\b\b\r",
      "138/151 [==========================>...] - ETA: 0s - loss: 1.8174"
     ]
    },
    {
     "name": "stdout",
     "output_type": "stream",
     "text": [
      "\b\b\b\b\b\b\b\b\b\b\b\b\b\b\b\b\b\b\b\b\b\b\b\b\b\b\b\b\b\b\b\b\b\b\b\b\b\b\b\b\b\b\b\b\b\b\b\b\b\b\b\b\b\b\b\b\b\b\b\b\b\b\b\b\b\r",
      "147/151 [============================>.] - ETA: 0s - loss: 1.8174"
     ]
    },
    {
     "name": "stdout",
     "output_type": "stream",
     "text": [
      "\b\b\b\b\b\b\b\b\b\b\b\b\b\b\b\b\b\b\b\b\b\b\b\b\b\b\b\b\b\b\b\b\b\b\b\b\b\b\b\b\b\b\b\b\b\b\b\b\b\b\b\b\b\b\b\b\b\b\b\b\b\b\b\b\b\r",
      "151/151 [==============================] - 1s 7ms/step - loss: 1.8174 - val_loss: 1.8887\n"
     ]
    },
    {
     "name": "stdout",
     "output_type": "stream",
     "text": [
      "Epoch 10/100\n",
      "\r",
      "  1/151 [..............................] - ETA: 0s - loss: 1.8070"
     ]
    },
    {
     "name": "stdout",
     "output_type": "stream",
     "text": [
      "\b\b\b\b\b\b\b\b\b\b\b\b\b\b\b\b\b\b\b\b\b\b\b\b\b\b\b\b\b\b\b\b\b\b\b\b\b\b\b\b\b\b\b\b\b\b\b\b\b\b\b\b\b\b\b\b\b\b\b\b\b\b\b\b\b\r",
      " 10/151 [>.............................] - ETA: 0s - loss: 1.8044"
     ]
    },
    {
     "name": "stdout",
     "output_type": "stream",
     "text": [
      "\b\b\b\b\b\b\b\b\b\b\b\b\b\b\b\b\b\b\b\b\b\b\b\b\b\b\b\b\b\b\b\b\b\b\b\b\b\b\b\b\b\b\b\b\b\b\b\b\b\b\b\b\b\b\b\b\b\b\b\b\b\b\b\b\b\r",
      " 20/151 [==>...........................] - ETA: 0s - loss: 1.8032"
     ]
    },
    {
     "name": "stdout",
     "output_type": "stream",
     "text": [
      "\b\b\b\b\b\b\b\b\b\b\b\b\b\b\b\b\b\b\b\b\b\b\b\b\b\b\b\b\b\b\b\b\b\b\b\b\b\b\b\b\b\b\b\b\b\b\b\b\b\b\b\b\b\b\b\b\b\b\b\b\b\b\b\b\b\r",
      " 30/151 [====>.........................] - ETA: 0s - loss: 1.8001"
     ]
    },
    {
     "name": "stdout",
     "output_type": "stream",
     "text": [
      "\b\b\b\b\b\b\b\b\b\b\b\b\b\b\b\b\b\b\b\b\b\b\b\b\b\b\b\b\b\b\b\b\b\b\b\b\b\b\b\b\b\b\b\b\b\b\b\b\b\b\b\b\b\b\b\b\b\b\b\b\b\b\b\b\b\r",
      " 40/151 [======>.......................] - ETA: 0s - loss: 1.7985"
     ]
    },
    {
     "name": "stdout",
     "output_type": "stream",
     "text": [
      "\b\b\b\b\b\b\b\b\b\b\b\b\b\b\b\b\b\b\b\b\b\b\b\b\b\b\b\b\b\b\b\b\b\b\b\b\b\b\b\b\b\b\b\b\b\b\b\b\b\b\b\b\b\b\b\b\b\b\b\b\b\b\b\b\b\r",
      " 50/151 [========>.....................] - ETA: 0s - loss: 1.7982"
     ]
    },
    {
     "name": "stdout",
     "output_type": "stream",
     "text": [
      "\b\b\b\b\b\b\b\b\b\b\b\b\b\b\b\b\b\b\b\b\b\b\b\b\b\b\b\b\b\b\b\b\b\b\b\b\b\b\b\b\b\b\b\b\b\b\b\b\b\b\b\b\b\b\b\b\b\b\b\b\b\b\b\b\b\r",
      " 60/151 [==========>...................] - ETA: 0s - loss: 1.7982"
     ]
    },
    {
     "name": "stdout",
     "output_type": "stream",
     "text": [
      "\b\b\b\b\b\b\b\b\b\b\b\b\b\b\b\b\b\b\b\b\b\b\b\b\b\b\b\b\b\b\b\b\b\b\b\b\b\b\b\b\b\b\b\b\b\b\b\b\b\b\b\b\b\b\b\b\b\b\b\b\b\b\b\b\b\r",
      " 70/151 [============>.................] - ETA: 0s - loss: 1.7982"
     ]
    },
    {
     "name": "stdout",
     "output_type": "stream",
     "text": [
      "\b\b\b\b\b\b\b\b\b\b\b\b\b\b\b\b\b\b\b\b\b\b\b\b\b\b\b\b\b\b\b\b\b\b\b\b\b\b\b\b\b\b\b\b\b\b\b\b\b\b\b\b\b\b\b\b\b\b\b\b\b\b\b\b\b\r",
      " 80/151 [==============>...............] - ETA: 0s - loss: 1.7983"
     ]
    },
    {
     "name": "stdout",
     "output_type": "stream",
     "text": [
      "\b\b\b\b\b\b\b\b\b\b\b\b\b\b\b\b\b\b\b\b\b\b\b\b\b\b\b\b\b\b\b\b\b\b\b\b\b\b\b\b\b\b\b\b\b\b\b\b\b\b\b\b\b\b\b\b\b\b\b\b\b\b\b\b\b\r",
      " 90/151 [================>.............] - ETA: 0s - loss: 1.7985"
     ]
    },
    {
     "name": "stdout",
     "output_type": "stream",
     "text": [
      "\b\b\b\b\b\b\b\b\b\b\b\b\b\b\b\b\b\b\b\b\b\b\b\b\b\b\b\b\b\b\b\b\b\b\b\b\b\b\b\b\b\b\b\b\b\b\b\b\b\b\b\b\b\b\b\b\b\b\b\b\b\b\b\b\b"
     ]
    },
    {
     "name": "stdout",
     "output_type": "stream",
     "text": [
      "\r",
      "100/151 [==================>...........] - ETA: 0s - loss: 1.7985"
     ]
    },
    {
     "name": "stdout",
     "output_type": "stream",
     "text": [
      "\b\b\b\b\b\b\b\b\b\b\b\b\b\b\b\b\b\b\b\b\b\b\b\b\b\b\b\b\b\b\b\b\b\b\b\b\b\b\b\b\b\b\b\b\b\b\b\b\b\b\b\b\b\b\b\b\b\b\b\b\b\b\b\b\b\r",
      "110/151 [====================>.........] - ETA: 0s - loss: 1.7986"
     ]
    },
    {
     "name": "stdout",
     "output_type": "stream",
     "text": [
      "\b\b\b\b\b\b\b\b\b\b\b\b\b\b\b\b\b\b\b\b\b\b\b\b\b\b\b\b\b\b\b\b\b\b\b\b\b\b\b\b\b\b\b\b\b\b\b\b\b\b\b\b\b\b\b\b\b\b\b\b\b\b\b\b\b\r",
      "120/151 [======================>.......] - ETA: 0s - loss: 1.7987"
     ]
    },
    {
     "name": "stdout",
     "output_type": "stream",
     "text": [
      "\b\b\b\b\b\b\b\b\b\b\b\b\b\b\b\b\b\b\b\b\b\b\b\b\b\b\b\b\b\b\b\b\b\b\b\b\b\b\b\b\b\b\b\b\b\b\b\b\b\b\b\b\b\b\b\b\b\b\b\b\b\b\b\b\b\r",
      "130/151 [========================>.....] - ETA: 0s - loss: 1.7988"
     ]
    },
    {
     "name": "stdout",
     "output_type": "stream",
     "text": [
      "\b\b\b\b\b\b\b\b\b\b\b\b\b\b\b\b\b\b\b\b\b\b\b\b\b\b\b\b\b\b\b\b\b\b\b\b\b\b\b\b\b\b\b\b\b\b\b\b\b\b\b\b\b\b\b\b\b\b\b\b\b\b\b\b\b\r",
      "140/151 [==========================>...] - ETA: 0s - loss: 1.7989"
     ]
    },
    {
     "name": "stdout",
     "output_type": "stream",
     "text": [
      "\b\b\b\b\b\b\b\b\b\b\b\b\b\b\b\b\b\b\b\b\b\b\b\b\b\b\b\b\b\b\b\b\b\b\b\b\b\b\b\b\b\b\b\b\b\b\b\b\b\b\b\b\b\b\b\b\b\b\b\b\b\b\b\b\b\r",
      "150/151 [============================>.] - ETA: 0s - loss: 1.7990"
     ]
    },
    {
     "name": "stdout",
     "output_type": "stream",
     "text": [
      "\b\b\b\b\b\b\b\b\b\b\b\b\b\b\b\b\b\b\b\b\b\b\b\b\b\b\b\b\b\b\b\b\b\b\b\b\b\b\b\b\b\b\b\b\b\b\b\b\b\b\b\b\b\b\b\b\b\b\b\b\b\b\b\b\b\r",
      "151/151 [==============================] - 1s 7ms/step - loss: 1.7991 - val_loss: 1.8905\n"
     ]
    },
    {
     "name": "stdout",
     "output_type": "stream",
     "text": [
      "Epoch 11/100\n",
      "\r",
      "  1/151 [..............................] - ETA: 0s - loss: 1.7976"
     ]
    },
    {
     "name": "stdout",
     "output_type": "stream",
     "text": [
      "\b\b\b\b\b\b\b\b\b\b\b\b\b\b\b\b\b\b\b\b\b\b\b\b\b\b\b\b\b\b\b\b\b\b\b\b\b\b\b\b\b\b\b\b\b\b\b\b\b\b\b\b\b\b\b\b\b\b\b\b\b\b\b\b\b\r",
      " 11/151 [=>............................] - ETA: 0s - loss: 1.8005"
     ]
    },
    {
     "name": "stdout",
     "output_type": "stream",
     "text": [
      "\b\b\b\b\b\b\b\b\b\b\b\b\b\b\b\b\b\b\b\b\b\b\b\b\b\b\b\b\b\b\b\b\b\b\b\b\b\b\b\b\b\b\b\b\b\b\b\b\b\b\b\b\b\b\b\b\b\b\b\b\b\b\b\b\b\r",
      " 21/151 [===>..........................] - ETA: 0s - loss: 1.7945"
     ]
    },
    {
     "name": "stdout",
     "output_type": "stream",
     "text": [
      "\b\b\b\b\b\b\b\b\b\b\b\b\b\b\b\b\b\b\b\b\b\b\b\b\b\b\b\b\b\b\b\b\b\b\b\b\b\b\b\b\b\b\b\b\b\b\b\b\b\b\b\b\b\b\b\b\b\b\b\b\b\b\b\b\b\r",
      " 31/151 [=====>........................] - ETA: 0s - loss: 1.7919"
     ]
    },
    {
     "name": "stdout",
     "output_type": "stream",
     "text": [
      "\b\b\b\b\b\b\b\b\b\b\b\b\b\b\b\b\b\b\b\b\b\b\b\b\b\b\b\b\b\b\b\b\b\b\b\b\b\b\b\b\b\b\b\b\b\b\b\b\b\b\b\b\b\b\b\b\b\b\b\b\b\b\b\b\b\r",
      " 41/151 [=======>......................] - ETA: 0s - loss: 1.7905"
     ]
    },
    {
     "name": "stdout",
     "output_type": "stream",
     "text": [
      "\b\b\b\b\b\b\b\b\b\b\b\b\b\b\b\b\b\b\b\b\b\b\b\b\b\b\b\b\b\b\b\b\b\b\b\b\b\b\b\b\b\b\b\b\b\b\b\b\b\b\b\b\b\b\b\b\b\b\b\b\b\b\b\b\b\r",
      " 51/151 [=========>....................] - ETA: 0s - loss: 1.7892"
     ]
    },
    {
     "name": "stdout",
     "output_type": "stream",
     "text": [
      "\b\b\b\b\b\b\b\b\b\b\b\b\b\b\b\b\b\b\b\b\b\b\b\b\b\b\b\b\b\b\b\b\b\b\b\b\b\b\b\b\b\b\b\b\b\b\b\b\b\b\b\b\b\b\b\b\b\b\b\b\b\b\b\b\b\r",
      " 61/151 [===========>..................] - ETA: 0s - loss: 1.7882"
     ]
    },
    {
     "name": "stdout",
     "output_type": "stream",
     "text": [
      "\b\b\b\b\b\b\b\b\b\b\b\b\b\b\b\b\b\b\b\b\b\b\b\b\b\b\b\b\b\b\b\b\b\b\b\b\b\b\b\b\b\b\b\b\b\b\b\b\b\b\b\b\b\b\b\b\b\b\b\b\b\b\b\b\b\r",
      " 71/151 [=============>................] - ETA: 0s - loss: 1.7878"
     ]
    },
    {
     "name": "stdout",
     "output_type": "stream",
     "text": [
      "\b\b\b\b\b\b\b\b\b\b\b\b\b\b\b\b\b\b\b\b\b\b\b\b\b\b\b\b\b\b\b\b\b\b\b\b\b\b\b\b\b\b\b\b\b\b\b\b\b\b\b\b\b\b\b\b\b\b\b\b\b\b\b\b\b"
     ]
    },
    {
     "name": "stdout",
     "output_type": "stream",
     "text": [
      "\r",
      " 81/151 [===============>..............] - ETA: 0s - loss: 1.7875"
     ]
    },
    {
     "name": "stdout",
     "output_type": "stream",
     "text": [
      "\b\b\b\b\b\b\b\b\b\b\b\b\b\b\b\b\b\b\b\b\b\b\b\b\b\b\b\b\b\b\b\b\b\b\b\b\b\b\b\b\b\b\b\b\b\b\b\b\b\b\b\b\b\b\b\b\b\b\b\b\b\b\b\b\b\r",
      " 91/151 [=================>............] - ETA: 0s - loss: 1.7871"
     ]
    },
    {
     "name": "stdout",
     "output_type": "stream",
     "text": [
      "\b\b\b\b\b\b\b\b\b\b\b\b\b\b\b\b\b\b\b\b\b\b\b\b\b\b\b\b\b\b\b\b\b\b\b\b\b\b\b\b\b\b\b\b\b\b\b\b\b\b\b\b\b\b\b\b\b\b\b\b\b\b\b\b\b\r",
      "100/151 [==================>...........] - ETA: 0s - loss: 1.7868"
     ]
    },
    {
     "name": "stdout",
     "output_type": "stream",
     "text": [
      "\b\b\b\b\b\b\b\b\b\b\b\b\b\b\b\b\b\b\b\b\b\b\b\b\b\b\b\b\b\b\b\b\b\b\b\b\b\b\b\b\b\b\b\b\b\b\b\b\b\b\b\b\b\b\b\b\b\b\b\b\b\b\b\b\b\r",
      "110/151 [====================>.........] - ETA: 0s - loss: 1.7867"
     ]
    },
    {
     "name": "stdout",
     "output_type": "stream",
     "text": [
      "\b\b\b\b\b\b\b\b\b\b\b\b\b\b\b\b\b\b\b\b\b\b\b\b\b\b\b\b\b\b\b\b\b\b\b\b\b\b\b\b\b\b\b\b\b\b\b\b\b\b\b\b\b\b\b\b\b\b\b\b\b\b\b\b\b\r",
      "120/151 [======================>.......] - ETA: 0s - loss: 1.7866"
     ]
    },
    {
     "name": "stdout",
     "output_type": "stream",
     "text": [
      "\b\b\b\b\b\b\b\b\b\b\b\b\b\b\b\b\b\b\b\b\b\b\b\b\b\b\b\b\b\b\b\b\b\b\b\b\b\b\b\b\b\b\b\b\b\b\b\b\b\b\b\b\b\b\b\b\b\b\b\b\b\b\b\b\b\r",
      "130/151 [========================>.....] - ETA: 0s - loss: 1.7866"
     ]
    },
    {
     "name": "stdout",
     "output_type": "stream",
     "text": [
      "\b\b\b\b\b\b\b\b\b\b\b\b\b\b\b\b\b\b\b\b\b\b\b\b\b\b\b\b\b\b\b\b\b\b\b\b\b\b\b\b\b\b\b\b\b\b\b\b\b\b\b\b\b\b\b\b\b\b\b\b\b\b\b\b\b\r",
      "139/151 [==========================>...] - ETA: 0s - loss: 1.7866"
     ]
    },
    {
     "name": "stdout",
     "output_type": "stream",
     "text": [
      "\b\b\b\b\b\b\b\b\b\b\b\b\b\b\b\b\b\b\b\b\b\b\b\b\b\b\b\b\b\b\b\b\b\b\b\b\b\b\b\b\b\b\b\b\b\b\b\b\b\b\b\b\b\b\b\b\b\b\b\b\b\b\b\b\b\r",
      "149/151 [============================>.] - ETA: 0s - loss: 1.7866"
     ]
    },
    {
     "name": "stdout",
     "output_type": "stream",
     "text": [
      "\b\b\b\b\b\b\b\b\b\b\b\b\b\b\b\b\b\b\b\b\b\b\b\b\b\b\b\b\b\b\b\b\b\b\b\b\b\b\b\b\b\b\b\b\b\b\b\b\b\b\b\b\b\b\b\b\b\b\b\b\b\b\b\b\b\r",
      "151/151 [==============================] - 1s 7ms/step - loss: 1.7866 - val_loss: 1.8838\n"
     ]
    },
    {
     "name": "stdout",
     "output_type": "stream",
     "text": [
      "Epoch 12/100\n",
      "\r",
      "  1/151 [..............................] - ETA: 0s - loss: 1.7424"
     ]
    },
    {
     "name": "stdout",
     "output_type": "stream",
     "text": [
      "\b\b\b\b\b\b\b\b\b\b\b\b\b\b\b\b\b\b\b\b\b\b\b\b\b\b\b\b\b\b\b\b\b\b\b\b\b\b\b\b\b\b\b\b\b\b\b\b\b\b\b\b\b\b\b\b\b\b\b\b\b\b\b\b\b\r",
      " 11/151 [=>............................] - ETA: 0s - loss: 1.7557"
     ]
    },
    {
     "name": "stdout",
     "output_type": "stream",
     "text": [
      "\b\b\b\b\b\b\b\b\b\b\b\b\b\b\b\b\b\b\b\b\b\b\b\b\b\b\b\b\b\b\b\b\b\b\b\b\b\b\b\b\b\b\b\b\b\b\b\b\b\b\b\b\b\b\b\b\b\b\b\b\b\b\b\b\b\r",
      " 21/151 [===>..........................] - ETA: 0s - loss: 1.7589"
     ]
    },
    {
     "name": "stdout",
     "output_type": "stream",
     "text": [
      "\b\b\b\b\b\b\b\b\b\b\b\b\b\b\b\b\b\b\b\b\b\b\b\b\b\b\b\b\b\b\b\b\b\b\b\b\b\b\b\b\b\b\b\b\b\b\b\b\b\b\b\b\b\b\b\b\b\b\b\b\b\b\b\b\b\r",
      " 31/151 [=====>........................] - ETA: 0s - loss: 1.7611"
     ]
    },
    {
     "name": "stdout",
     "output_type": "stream",
     "text": [
      "\b\b\b\b\b\b\b\b\b\b\b\b\b\b\b\b\b\b\b\b\b\b\b\b\b\b\b\b\b\b\b\b\b\b\b\b\b\b\b\b\b\b\b\b\b\b\b\b\b\b\b\b\b\b\b\b\b\b\b\b\b\b\b\b\b\r",
      " 41/151 [=======>......................] - ETA: 0s - loss: 1.7630"
     ]
    },
    {
     "name": "stdout",
     "output_type": "stream",
     "text": [
      "\b\b\b\b\b\b\b\b\b\b\b\b\b\b\b\b\b\b\b\b\b\b\b\b\b\b\b\b\b\b\b\b\b\b\b\b\b\b\b\b\b\b\b\b\b\b\b\b\b\b\b\b\b\b\b\b\b\b\b\b\b\b\b\b\b\r",
      " 50/151 [========>.....................] - ETA: 0s - loss: 1.7640"
     ]
    },
    {
     "name": "stdout",
     "output_type": "stream",
     "text": [
      "\b\b\b\b\b\b\b\b\b\b\b\b\b\b\b\b\b\b\b\b\b\b\b\b\b\b\b\b\b\b\b\b\b\b\b\b\b\b\b\b\b\b\b\b\b\b\b\b\b\b\b\b\b\b\b\b\b\b\b\b\b\b\b\b\b\r",
      " 59/151 [==========>...................] - ETA: 0s - loss: 1.7649"
     ]
    },
    {
     "name": "stdout",
     "output_type": "stream",
     "text": [
      "\b\b\b\b\b\b\b\b\b\b\b\b\b\b\b\b\b\b\b\b\b\b\b\b\b\b\b\b\b\b\b\b\b\b\b\b\b\b\b\b\b\b\b\b\b\b\b\b\b\b\b\b\b\b\b\b\b\b\b\b\b\b\b\b\b\r",
      " 69/151 [============>.................] - ETA: 0s - loss: 1.7658"
     ]
    },
    {
     "name": "stdout",
     "output_type": "stream",
     "text": [
      "\b\b\b\b\b\b\b\b\b\b\b\b\b\b\b\b\b\b\b\b\b\b\b\b\b\b\b\b\b\b\b\b\b\b\b\b\b\b\b\b\b\b\b\b\b\b\b\b\b\b\b\b\b\b\b\b\b\b\b\b\b\b\b\b\b\r",
      " 79/151 [==============>...............] - ETA: 0s - loss: 1.7666"
     ]
    },
    {
     "name": "stdout",
     "output_type": "stream",
     "text": [
      "\b\b\b\b\b\b\b\b\b\b\b\b\b\b\b\b\b\b\b\b\b\b\b\b\b\b\b\b\b\b\b\b\b\b\b\b\b\b\b\b\b\b\b\b\b\b\b\b\b\b\b\b\b\b\b\b\b\b\b\b\b\b\b\b\b\r",
      " 88/151 [================>.............] - ETA: 0s - loss: 1.7671"
     ]
    },
    {
     "name": "stdout",
     "output_type": "stream",
     "text": [
      "\b\b\b\b\b\b\b\b\b\b\b\b\b\b\b\b\b\b\b\b\b\b\b\b\b\b\b\b\b\b\b\b\b\b\b\b\b\b\b\b\b\b\b\b\b\b\b\b\b\b\b\b\b\b\b\b\b\b\b\b\b\b\b\b\b\r",
      " 98/151 [==================>...........] - ETA: 0s - loss: 1.7677"
     ]
    },
    {
     "name": "stdout",
     "output_type": "stream",
     "text": [
      "\b\b\b\b\b\b\b\b\b\b\b\b\b\b\b\b\b\b\b\b\b\b\b\b\b\b\b\b\b\b\b\b\b\b\b\b\b\b\b\b\b\b\b\b\b\b\b\b\b\b\b\b\b\b\b\b\b\b\b\b\b\b\b\b\b\r",
      "108/151 [====================>.........] - ETA: 0s - loss: 1.7682"
     ]
    },
    {
     "name": "stdout",
     "output_type": "stream",
     "text": [
      "\b\b\b\b\b\b\b\b\b\b\b\b\b\b\b\b\b\b\b\b\b\b\b\b\b\b\b\b\b\b\b\b\b\b\b\b\b\b\b\b\b\b\b\b\b\b\b\b\b\b\b\b\b\b\b\b\b\b\b\b\b\b\b\b\b\r",
      "118/151 [======================>.......] - ETA: 0s - loss: 1.7686"
     ]
    },
    {
     "name": "stdout",
     "output_type": "stream",
     "text": [
      "\b\b\b\b\b\b\b\b\b\b\b\b\b\b\b\b\b\b\b\b\b\b\b\b\b\b\b\b\b\b\b\b\b\b\b\b\b\b\b\b\b\b\b\b\b\b\b\b\b\b\b\b\b\b\b\b\b\b\b\b\b\b\b\b\b\r",
      "128/151 [========================>.....] - ETA: 0s - loss: 1.7689"
     ]
    },
    {
     "name": "stdout",
     "output_type": "stream",
     "text": [
      "\b\b\b\b\b\b\b\b\b\b\b\b\b\b\b\b\b\b\b\b\b\b\b\b\b\b\b\b\b\b\b\b\b\b\b\b\b\b\b\b\b\b\b\b\b\b\b\b\b\b\b\b\b\b\b\b\b\b\b\b\b\b\b\b\b\r",
      "137/151 [==========================>...] - ETA: 0s - loss: 1.7692"
     ]
    },
    {
     "name": "stdout",
     "output_type": "stream",
     "text": [
      "\b\b\b\b\b\b\b\b\b\b\b\b\b\b\b\b\b\b\b\b\b\b\b\b\b\b\b\b\b\b\b\b\b\b\b\b\b\b\b\b\b\b\b\b\b\b\b\b\b\b\b\b\b\b\b\b\b\b\b\b\b\b\b\b\b\r",
      "146/151 [============================>.] - ETA: 0s - loss: 1.7695"
     ]
    },
    {
     "name": "stdout",
     "output_type": "stream",
     "text": [
      "\b\b\b\b\b\b\b\b\b\b\b\b\b\b\b\b\b\b\b\b\b\b\b\b\b\b\b\b\b\b\b\b\b\b\b\b\b\b\b\b\b\b\b\b\b\b\b\b\b\b\b\b\b\b\b\b\b\b\b\b\b\b\b\b\b\r",
      "151/151 [==============================] - 1s 7ms/step - loss: 1.7697 - val_loss: 1.8862\n"
     ]
    },
    {
     "name": "stdout",
     "output_type": "stream",
     "text": [
      "Epoch 13/100\n",
      "\r",
      "  1/151 [..............................] - ETA: 0s - loss: 1.7319"
     ]
    },
    {
     "name": "stdout",
     "output_type": "stream",
     "text": [
      "\b\b\b\b\b\b\b\b\b\b\b\b\b\b\b\b\b\b\b\b\b\b\b\b\b\b\b\b\b\b\b\b\b\b\b\b\b\b\b\b\b\b\b\b\b\b\b\b\b\b\b\b\b\b\b\b\b\b\b\b\b\b\b\b\b\r",
      " 10/151 [>.............................] - ETA: 0s - loss: 1.7464"
     ]
    },
    {
     "name": "stdout",
     "output_type": "stream",
     "text": [
      "\b\b\b\b\b\b\b\b\b\b\b\b\b\b\b\b\b\b\b\b\b\b\b\b\b\b\b\b\b\b\b\b\b\b\b\b\b\b\b\b\b\b\b\b\b\b\b\b\b\b\b\b\b\b\b\b\b\b\b\b\b\b\b\b\b\r",
      " 19/151 [==>...........................] - ETA: 0s - loss: 1.7510"
     ]
    },
    {
     "name": "stdout",
     "output_type": "stream",
     "text": [
      "\b\b\b\b\b\b\b\b\b\b\b\b\b\b\b\b\b\b\b\b\b\b\b\b\b\b\b\b\b\b\b\b\b\b\b\b\b\b\b\b\b\b\b\b\b\b\b\b\b\b\b\b\b\b\b\b\b\b\b\b\b\b\b\b\b\r",
      " 29/151 [====>.........................] - ETA: 0s - loss: 1.7528"
     ]
    },
    {
     "name": "stdout",
     "output_type": "stream",
     "text": [
      "\b\b\b\b\b\b\b\b\b\b\b\b\b\b\b\b\b\b\b\b\b\b\b\b\b\b\b\b\b\b\b\b\b\b\b\b\b\b\b\b\b\b\b\b\b\b\b\b\b\b\b\b\b\b\b\b\b\b\b\b\b\b\b\b\b\r",
      " 39/151 [======>.......................] - ETA: 0s - loss: 1.7536"
     ]
    },
    {
     "name": "stdout",
     "output_type": "stream",
     "text": [
      "\b\b\b\b\b\b\b\b\b\b\b\b\b\b\b\b\b\b\b\b\b\b\b\b\b\b\b\b\b\b\b\b\b\b\b\b\b\b\b\b\b\b\b\b\b\b\b\b\b\b\b\b\b\b\b\b\b\b\b\b\b\b\b\b\b\r",
      " 49/151 [========>.....................] - ETA: 0s - loss: 1.7533"
     ]
    },
    {
     "name": "stdout",
     "output_type": "stream",
     "text": [
      "\b\b\b\b\b\b\b\b\b\b\b\b\b\b\b\b\b\b\b\b\b\b\b\b\b\b\b\b\b\b\b\b\b\b\b\b\b\b\b\b\b\b\b\b\b\b\b\b\b\b\b\b\b\b\b\b\b\b\b\b\b\b\b\b\b\r",
      " 59/151 [==========>...................] - ETA: 0s - loss: 1.7533"
     ]
    },
    {
     "name": "stdout",
     "output_type": "stream",
     "text": [
      "\b\b\b\b\b\b\b\b\b\b\b\b\b\b\b\b\b\b\b\b\b\b\b\b\b\b\b\b\b\b\b\b\b\b\b\b\b\b\b\b\b\b\b\b\b\b\b\b\b\b\b\b\b\b\b\b\b\b\b\b\b\b\b\b\b\r",
      " 69/151 [============>.................] - ETA: 0s - loss: 1.7536"
     ]
    },
    {
     "name": "stdout",
     "output_type": "stream",
     "text": [
      "\b\b\b\b\b\b\b\b\b\b\b\b\b\b\b\b\b\b\b\b\b\b\b\b\b\b\b\b\b\b\b\b\b\b\b\b\b\b\b\b\b\b\b\b\b\b\b\b\b\b\b\b\b\b\b\b\b\b\b\b\b\b\b\b\b\r",
      " 79/151 [==============>...............] - ETA: 0s - loss: 1.7537"
     ]
    },
    {
     "name": "stdout",
     "output_type": "stream",
     "text": [
      "\b\b\b\b\b\b\b\b\b\b\b\b\b\b\b\b\b\b\b\b\b\b\b\b\b\b\b\b\b\b\b\b\b\b\b\b\b\b\b\b\b\b\b\b\b\b\b\b\b\b\b\b\b\b\b\b\b\b\b\b\b\b\b\b\b\r",
      " 88/151 [================>.............] - ETA: 0s - loss: 1.7538"
     ]
    },
    {
     "name": "stdout",
     "output_type": "stream",
     "text": [
      "\b\b\b\b\b\b\b\b\b\b\b\b\b\b\b\b\b\b\b\b\b\b\b\b\b\b\b\b\b\b\b\b\b\b\b\b\b\b\b\b\b\b\b\b\b\b\b\b\b\b\b\b\b\b\b\b\b\b\b\b\b\b\b\b\b\r",
      " 97/151 [==================>...........] - ETA: 0s - loss: 1.7539"
     ]
    },
    {
     "name": "stdout",
     "output_type": "stream",
     "text": [
      "\b\b\b\b\b\b\b\b\b\b\b\b\b\b\b\b\b\b\b\b\b\b\b\b\b\b\b\b\b\b\b\b\b\b\b\b\b\b\b\b\b\b\b\b\b\b\b\b\b\b\b\b\b\b\b\b\b\b\b\b\b\b\b\b\b\r",
      "107/151 [====================>.........] - ETA: 0s - loss: 1.7543"
     ]
    },
    {
     "name": "stdout",
     "output_type": "stream",
     "text": [
      "\b\b\b\b\b\b\b\b\b\b\b\b\b\b\b\b\b\b\b\b\b\b\b\b\b\b\b\b\b\b\b\b\b\b\b\b\b\b\b\b\b\b\b\b\b\b\b\b\b\b\b\b\b\b\b\b\b\b\b\b\b\b\b\b\b\r",
      "117/151 [======================>.......] - ETA: 0s - loss: 1.7547"
     ]
    },
    {
     "name": "stdout",
     "output_type": "stream",
     "text": [
      "\b\b\b\b\b\b\b\b\b\b\b\b\b\b\b\b\b\b\b\b\b\b\b\b\b\b\b\b\b\b\b\b\b\b\b\b\b\b\b\b\b\b\b\b\b\b\b\b\b\b\b\b\b\b\b\b\b\b\b\b\b\b\b\b\b\r",
      "127/151 [========================>.....] - ETA: 0s - loss: 1.7552"
     ]
    },
    {
     "name": "stdout",
     "output_type": "stream",
     "text": [
      "\b\b\b\b\b\b\b\b\b\b\b\b\b\b\b\b\b\b\b\b\b\b\b\b\b\b\b\b\b\b\b\b\b\b\b\b\b\b\b\b\b\b\b\b\b\b\b\b\b\b\b\b\b\b\b\b\b\b\b\b\b\b\b\b\b\r",
      "136/151 [==========================>...] - ETA: 0s - loss: 1.7557"
     ]
    },
    {
     "name": "stdout",
     "output_type": "stream",
     "text": [
      "\b\b\b\b\b\b\b\b\b\b\b\b\b\b\b\b\b\b\b\b\b\b\b\b\b\b\b\b\b\b\b\b\b\b\b\b\b\b\b\b\b\b\b\b\b\b\b\b\b\b\b\b\b\b\b\b\b\b\b\b\b\b\b\b\b\r",
      "146/151 [============================>.] - ETA: 0s - loss: 1.7562"
     ]
    },
    {
     "name": "stdout",
     "output_type": "stream",
     "text": [
      "\b\b\b\b\b\b\b\b\b\b\b\b\b\b\b\b\b\b\b\b\b\b\b\b\b\b\b\b\b\b\b\b\b\b\b\b\b\b\b\b\b\b\b\b\b\b\b\b\b\b\b\b\b\b\b\b\b\b\b\b\b\b\b\b\b\r",
      "151/151 [==============================] - 1s 7ms/step - loss: 1.7565 - val_loss: 1.8737\n"
     ]
    },
    {
     "name": "stdout",
     "output_type": "stream",
     "text": [
      "Epoch 14/100\n",
      "\r",
      "  1/151 [..............................] - ETA: 0s - loss: 1.7477"
     ]
    },
    {
     "name": "stdout",
     "output_type": "stream",
     "text": [
      "\b\b\b\b\b\b\b\b\b\b\b\b\b\b\b\b\b\b\b\b\b\b\b\b\b\b\b\b\b\b\b\b\b\b\b\b\b\b\b\b\b\b\b\b\b\b\b\b\b\b\b\b\b\b\b\b\b\b\b\b\b\b\b\b\b\r",
      " 10/151 [>.............................] - ETA: 0s - loss: 1.7399"
     ]
    },
    {
     "name": "stdout",
     "output_type": "stream",
     "text": [
      "\b\b\b\b\b\b\b\b\b\b\b\b\b\b\b\b\b\b\b\b\b\b\b\b\b\b\b\b\b\b\b\b\b\b\b\b\b\b\b\b\b\b\b\b\b\b\b\b\b\b\b\b\b\b\b\b\b\b\b\b\b\b\b\b\b\r",
      " 20/151 [==>...........................] - ETA: 0s - loss: 1.7383"
     ]
    },
    {
     "name": "stdout",
     "output_type": "stream",
     "text": [
      "\b\b\b\b\b\b\b\b\b\b\b\b\b\b\b\b\b\b\b\b\b\b\b\b\b\b\b\b\b\b\b\b\b\b\b\b\b\b\b\b\b\b\b\b\b\b\b\b\b\b\b\b\b\b\b\b\b\b\b\b\b\b\b\b\b\r",
      " 29/151 [====>.........................] - ETA: 0s - loss: 1.7396"
     ]
    },
    {
     "name": "stdout",
     "output_type": "stream",
     "text": [
      "\b\b\b\b\b\b\b\b\b\b\b\b\b\b\b\b\b\b\b\b\b\b\b\b\b\b\b\b\b\b\b\b\b\b\b\b\b\b\b\b\b\b\b\b\b\b\b\b\b\b\b\b\b\b\b\b\b\b\b\b\b\b\b\b\b\r",
      " 39/151 [======>.......................] - ETA: 0s - loss: 1.7409"
     ]
    },
    {
     "name": "stdout",
     "output_type": "stream",
     "text": [
      "\b\b\b\b\b\b\b\b\b\b\b\b\b\b\b\b\b\b\b\b\b\b\b\b\b\b\b\b\b\b\b\b\b\b\b\b\b\b\b\b\b\b\b\b\b\b\b\b\b\b\b\b\b\b\b\b\b\b\b\b\b\b\b\b\b\r",
      " 48/151 [========>.....................] - ETA: 0s - loss: 1.7421"
     ]
    },
    {
     "name": "stdout",
     "output_type": "stream",
     "text": [
      "\b\b\b\b\b\b\b\b\b\b\b\b\b\b\b\b\b\b\b\b\b\b\b\b\b\b\b\b\b\b\b\b\b\b\b\b\b\b\b\b\b\b\b\b\b\b\b\b\b\b\b\b\b\b\b\b\b\b\b\b\b\b\b\b\b\r",
      " 58/151 [==========>...................] - ETA: 0s - loss: 1.7433"
     ]
    },
    {
     "name": "stdout",
     "output_type": "stream",
     "text": [
      "\b\b\b\b\b\b\b\b\b\b\b\b\b\b\b\b\b\b\b\b\b\b\b\b\b\b\b\b\b\b\b\b\b\b\b\b\b\b\b\b\b\b\b\b\b\b\b\b\b\b\b\b\b\b\b\b\b\b\b\b\b\b\b\b\b\r",
      " 68/151 [============>.................] - ETA: 0s - loss: 1.7443"
     ]
    },
    {
     "name": "stdout",
     "output_type": "stream",
     "text": [
      "\b\b\b\b\b\b\b\b\b\b\b\b\b\b\b\b\b\b\b\b\b\b\b\b\b\b\b\b\b\b\b\b\b\b\b\b\b\b\b\b\b\b\b\b\b\b\b\b\b\b\b\b\b\b\b\b\b\b\b\b\b\b\b\b\b\r",
      " 78/151 [==============>...............] - ETA: 0s - loss: 1.7450"
     ]
    },
    {
     "name": "stdout",
     "output_type": "stream",
     "text": [
      "\b\b\b\b\b\b\b\b\b\b\b\b\b\b\b\b\b\b\b\b\b\b\b\b\b\b\b\b\b\b\b\b\b\b\b\b\b\b\b\b\b\b\b\b\b\b\b\b\b\b\b\b\b\b\b\b\b\b\b\b\b\b\b\b\b\r",
      " 88/151 [================>.............] - ETA: 0s - loss: 1.7457"
     ]
    },
    {
     "name": "stdout",
     "output_type": "stream",
     "text": [
      "\b\b\b\b\b\b\b\b\b\b\b\b\b\b\b\b\b\b\b\b\b\b\b\b\b\b\b\b\b\b\b\b\b\b\b\b\b\b\b\b\b\b\b\b\b\b\b\b\b\b\b\b\b\b\b\b\b\b\b\b\b\b\b\b\b\r",
      " 98/151 [==================>...........] - ETA: 0s - loss: 1.7465"
     ]
    },
    {
     "name": "stdout",
     "output_type": "stream",
     "text": [
      "\b\b\b\b\b\b\b\b\b\b\b\b\b\b\b\b\b\b\b\b\b\b\b\b\b\b\b\b\b\b\b\b\b\b\b\b\b\b\b\b\b\b\b\b\b\b\b\b\b\b\b\b\b\b\b\b\b\b\b\b\b\b\b\b\b\r",
      "107/151 [====================>.........] - ETA: 0s - loss: 1.7472"
     ]
    },
    {
     "name": "stdout",
     "output_type": "stream",
     "text": [
      "\b\b\b\b\b\b\b\b\b\b\b\b\b\b\b\b\b\b\b\b\b\b\b\b\b\b\b\b\b\b\b\b\b\b\b\b\b\b\b\b\b\b\b\b\b\b\b\b\b\b\b\b\b\b\b\b\b\b\b\b\b\b\b\b\b"
     ]
    },
    {
     "name": "stdout",
     "output_type": "stream",
     "text": [
      "\r",
      "116/151 [======================>.......] - ETA: 0s - loss: 1.7477"
     ]
    },
    {
     "name": "stdout",
     "output_type": "stream",
     "text": [
      "\b\b\b\b\b\b\b\b\b\b\b\b\b\b\b\b\b\b\b\b\b\b\b\b\b\b\b\b\b\b\b\b\b\b\b\b\b\b\b\b\b\b\b\b\b\b\b\b\b\b\b\b\b\b\b\b\b\b\b\b\b\b\b\b\b\r",
      "126/151 [========================>.....] - ETA: 0s - loss: 1.7483"
     ]
    },
    {
     "name": "stdout",
     "output_type": "stream",
     "text": [
      "\b\b\b\b\b\b\b\b\b\b\b\b\b\b\b\b\b\b\b\b\b\b\b\b\b\b\b\b\b\b\b\b\b\b\b\b\b\b\b\b\b\b\b\b\b\b\b\b\b\b\b\b\b\b\b\b\b\b\b\b\b\b\b\b\b\r",
      "136/151 [==========================>...] - ETA: 0s - loss: 1.7487"
     ]
    },
    {
     "name": "stdout",
     "output_type": "stream",
     "text": [
      "\b\b\b\b\b\b\b\b\b\b\b\b\b\b\b\b\b\b\b\b\b\b\b\b\b\b\b\b\b\b\b\b\b\b\b\b\b\b\b\b\b\b\b\b\b\b\b\b\b\b\b\b\b\b\b\b\b\b\b\b\b\b\b\b\b\r",
      "145/151 [===========================>..] - ETA: 0s - loss: 1.7490"
     ]
    },
    {
     "name": "stdout",
     "output_type": "stream",
     "text": [
      "\b\b\b\b\b\b\b\b\b\b\b\b\b\b\b\b\b\b\b\b\b\b\b\b\b\b\b\b\b\b\b\b\b\b\b\b\b\b\b\b\b\b\b\b\b\b\b\b\b\b\b\b\b\b\b\b\b\b\b\b\b\b\b\b\b\r",
      "151/151 [==============================] - 1s 7ms/step - loss: 1.7493 - val_loss: 1.8822\n"
     ]
    },
    {
     "name": "stdout",
     "output_type": "stream",
     "text": [
      "Epoch 15/100\n",
      "\r",
      "  1/151 [..............................] - ETA: 0s - loss: 1.7437"
     ]
    },
    {
     "name": "stdout",
     "output_type": "stream",
     "text": [
      "\b\b\b\b\b\b\b\b\b\b\b\b\b\b\b\b\b\b\b\b\b\b\b\b\b\b\b\b\b\b\b\b\b\b\b\b\b\b\b\b\b\b\b\b\b\b\b\b\b\b\b\b\b\b\b\b\b\b\b\b\b\b\b\b\b\r",
      " 11/151 [=>............................] - ETA: 0s - loss: 1.7361"
     ]
    },
    {
     "name": "stdout",
     "output_type": "stream",
     "text": [
      "\b\b\b\b\b\b\b\b\b\b\b\b\b\b\b\b\b\b\b\b\b\b\b\b\b\b\b\b\b\b\b\b\b\b\b\b\b\b\b\b\b\b\b\b\b\b\b\b\b\b\b\b\b\b\b\b\b\b\b\b\b\b\b\b\b\r",
      " 20/151 [==>...........................] - ETA: 0s - loss: 1.7346"
     ]
    },
    {
     "name": "stdout",
     "output_type": "stream",
     "text": [
      "\b\b\b\b\b\b\b\b\b\b\b\b\b\b\b\b\b\b\b\b\b\b\b\b\b\b\b\b\b\b\b\b\b\b\b\b\b\b\b\b\b\b\b\b\b\b\b\b\b\b\b\b\b\b\b\b\b\b\b\b\b\b\b\b\b\r",
      " 30/151 [====>.........................] - ETA: 0s - loss: 1.7345"
     ]
    },
    {
     "name": "stdout",
     "output_type": "stream",
     "text": [
      "\b\b\b\b\b\b\b\b\b\b\b\b\b\b\b\b\b\b\b\b\b\b\b\b\b\b\b\b\b\b\b\b\b\b\b\b\b\b\b\b\b\b\b\b\b\b\b\b\b\b\b\b\b\b\b\b\b\b\b\b\b\b\b\b\b\r",
      " 40/151 [======>.......................] - ETA: 0s - loss: 1.7343"
     ]
    },
    {
     "name": "stdout",
     "output_type": "stream",
     "text": [
      "\b\b\b\b\b\b\b\b\b\b\b\b\b\b\b\b\b\b\b\b\b\b\b\b\b\b\b\b\b\b\b\b\b\b\b\b\b\b\b\b\b\b\b\b\b\b\b\b\b\b\b\b\b\b\b\b\b\b\b\b\b\b\b\b\b\r",
      " 50/151 [========>.....................] - ETA: 0s - loss: 1.7342"
     ]
    },
    {
     "name": "stdout",
     "output_type": "stream",
     "text": [
      "\b\b\b\b\b\b\b\b\b\b\b\b\b\b\b\b\b\b\b\b\b\b\b\b\b\b\b\b\b\b\b\b\b\b\b\b\b\b\b\b\b\b\b\b\b\b\b\b\b\b\b\b\b\b\b\b\b\b\b\b\b\b\b\b\b\r",
      " 60/151 [==========>...................] - ETA: 0s - loss: 1.7342"
     ]
    },
    {
     "name": "stdout",
     "output_type": "stream",
     "text": [
      "\b\b\b\b\b\b\b\b\b\b\b\b\b\b\b\b\b\b\b\b\b\b\b\b\b\b\b\b\b\b\b\b\b\b\b\b\b\b\b\b\b\b\b\b\b\b\b\b\b\b\b\b\b\b\b\b\b\b\b\b\b\b\b\b\b\r",
      " 70/151 [============>.................] - ETA: 0s - loss: 1.7344"
     ]
    },
    {
     "name": "stdout",
     "output_type": "stream",
     "text": [
      "\b\b\b\b\b\b\b\b\b\b\b\b\b\b\b\b\b\b\b\b\b\b\b\b\b\b\b\b\b\b\b\b\b\b\b\b\b\b\b\b\b\b\b\b\b\b\b\b\b\b\b\b\b\b\b\b\b\b\b\b\b\b\b\b\b\r",
      " 80/151 [==============>...............] - ETA: 0s - loss: 1.7346"
     ]
    },
    {
     "name": "stdout",
     "output_type": "stream",
     "text": [
      "\b\b\b\b\b\b\b\b\b\b\b\b\b\b\b\b\b\b\b\b\b\b\b\b\b\b\b\b\b\b\b\b\b\b\b\b\b\b\b\b\b\b\b\b\b\b\b\b\b\b\b\b\b\b\b\b\b\b\b\b\b\b\b\b\b\r",
      " 89/151 [================>.............] - ETA: 0s - loss: 1.7348"
     ]
    },
    {
     "name": "stdout",
     "output_type": "stream",
     "text": [
      "\b\b\b\b\b\b\b\b\b\b\b\b\b\b\b\b\b\b\b\b\b\b\b\b\b\b\b\b\b\b\b\b\b\b\b\b\b\b\b\b\b\b\b\b\b\b\b\b\b\b\b\b\b\b\b\b\b\b\b\b\b\b\b\b\b"
     ]
    },
    {
     "name": "stdout",
     "output_type": "stream",
     "text": [
      "\r",
      " 99/151 [==================>...........] - ETA: 0s - loss: 1.7352"
     ]
    },
    {
     "name": "stdout",
     "output_type": "stream",
     "text": [
      "\b\b\b\b\b\b\b\b\b\b\b\b\b\b\b\b\b\b\b\b\b\b\b\b\b\b\b\b\b\b\b\b\b\b\b\b\b\b\b\b\b\b\b\b\b\b\b\b\b\b\b\b\b\b\b\b\b\b\b\b\b\b\b\b\b\r",
      "109/151 [====================>.........] - ETA: 0s - loss: 1.7357"
     ]
    },
    {
     "name": "stdout",
     "output_type": "stream",
     "text": [
      "\b\b\b\b\b\b\b\b\b\b\b\b\b\b\b\b\b\b\b\b\b\b\b\b\b\b\b\b\b\b\b\b\b\b\b\b\b\b\b\b\b\b\b\b\b\b\b\b\b\b\b\b\b\b\b\b\b\b\b\b\b\b\b\b\b"
     ]
    },
    {
     "name": "stdout",
     "output_type": "stream",
     "text": [
      "\r",
      "119/151 [======================>.......] - ETA: 0s - loss: 1.7362"
     ]
    },
    {
     "name": "stdout",
     "output_type": "stream",
     "text": [
      "\b\b\b\b\b\b\b\b\b\b\b\b\b\b\b\b\b\b\b\b\b\b\b\b\b\b\b\b\b\b\b\b\b\b\b\b\b\b\b\b\b\b\b\b\b\b\b\b\b\b\b\b\b\b\b\b\b\b\b\b\b\b\b\b\b\r",
      "129/151 [========================>.....] - ETA: 0s - loss: 1.7368"
     ]
    },
    {
     "name": "stdout",
     "output_type": "stream",
     "text": [
      "\b\b\b\b\b\b\b\b\b\b\b\b\b\b\b\b\b\b\b\b\b\b\b\b\b\b\b\b\b\b\b\b\b\b\b\b\b\b\b\b\b\b\b\b\b\b\b\b\b\b\b\b\b\b\b\b\b\b\b\b\b\b\b\b\b\r",
      "139/151 [==========================>...] - ETA: 0s - loss: 1.7372"
     ]
    },
    {
     "name": "stdout",
     "output_type": "stream",
     "text": [
      "\b\b\b\b\b\b\b\b\b\b\b\b\b\b\b\b\b\b\b\b\b\b\b\b\b\b\b\b\b\b\b\b\b\b\b\b\b\b\b\b\b\b\b\b\b\b\b\b\b\b\b\b\b\b\b\b\b\b\b\b\b\b\b\b\b\r",
      "149/151 [============================>.] - ETA: 0s - loss: 1.7376"
     ]
    },
    {
     "name": "stdout",
     "output_type": "stream",
     "text": [
      "\b\b\b\b\b\b\b\b\b\b\b\b\b\b\b\b\b\b\b\b\b\b\b\b\b\b\b\b\b\b\b\b\b\b\b\b\b\b\b\b\b\b\b\b\b\b\b\b\b\b\b\b\b\b\b\b\b\b\b\b\b\b\b\b\b\r",
      "151/151 [==============================] - 1s 7ms/step - loss: 1.7377 - val_loss: 1.8850\n"
     ]
    },
    {
     "name": "stdout",
     "output_type": "stream",
     "text": [
      "Epoch 16/100\n",
      "\r",
      "  1/151 [..............................] - ETA: 0s - loss: 1.6874"
     ]
    },
    {
     "name": "stdout",
     "output_type": "stream",
     "text": [
      "\b\b\b\b\b\b\b\b\b\b\b\b\b\b\b\b\b\b\b\b\b\b\b\b\b\b\b\b\b\b\b\b\b\b\b\b\b\b\b\b\b\b\b\b\b\b\b\b\b\b\b\b\b\b\b\b\b\b\b\b\b\b\b\b\b\r",
      " 11/151 [=>............................] - ETA: 0s - loss: 1.7127"
     ]
    },
    {
     "name": "stdout",
     "output_type": "stream",
     "text": [
      "\b\b\b\b\b\b\b\b\b\b\b\b\b\b\b\b\b\b\b\b\b\b\b\b\b\b\b\b\b\b\b\b\b\b\b\b\b\b\b\b\b\b\b\b\b\b\b\b\b\b\b\b\b\b\b\b\b\b\b\b\b\b\b\b\b\r",
      " 21/151 [===>..........................] - ETA: 0s - loss: 1.7164"
     ]
    },
    {
     "name": "stdout",
     "output_type": "stream",
     "text": [
      "\b\b\b\b\b\b\b\b\b\b\b\b\b\b\b\b\b\b\b\b\b\b\b\b\b\b\b\b\b\b\b\b\b\b\b\b\b\b\b\b\b\b\b\b\b\b\b\b\b\b\b\b\b\b\b\b\b\b\b\b\b\b\b\b\b\r",
      " 31/151 [=====>........................] - ETA: 0s - loss: 1.7198"
     ]
    },
    {
     "name": "stdout",
     "output_type": "stream",
     "text": [
      "\b\b\b\b\b\b\b\b\b\b\b\b\b\b\b\b\b\b\b\b\b\b\b\b\b\b\b\b\b\b\b\b\b\b\b\b\b\b\b\b\b\b\b\b\b\b\b\b\b\b\b\b\b\b\b\b\b\b\b\b\b\b\b\b\b\r",
      " 41/151 [=======>......................] - ETA: 0s - loss: 1.7218"
     ]
    },
    {
     "name": "stdout",
     "output_type": "stream",
     "text": [
      "\b\b\b\b\b\b\b\b\b\b\b\b\b\b\b\b\b\b\b\b\b\b\b\b\b\b\b\b\b\b\b\b\b\b\b\b\b\b\b\b\b\b\b\b\b\b\b\b\b\b\b\b\b\b\b\b\b\b\b\b\b\b\b\b\b\r",
      " 50/151 [========>.....................] - ETA: 0s - loss: 1.7234"
     ]
    },
    {
     "name": "stdout",
     "output_type": "stream",
     "text": [
      "\b\b\b\b\b\b\b\b\b\b\b\b\b\b\b\b\b\b\b\b\b\b\b\b\b\b\b\b\b\b\b\b\b\b\b\b\b\b\b\b\b\b\b\b\b\b\b\b\b\b\b\b\b\b\b\b\b\b\b\b\b\b\b\b\b\r",
      " 59/151 [==========>...................] - ETA: 0s - loss: 1.7245"
     ]
    },
    {
     "name": "stdout",
     "output_type": "stream",
     "text": [
      "\b\b\b\b\b\b\b\b\b\b\b\b\b\b\b\b\b\b\b\b\b\b\b\b\b\b\b\b\b\b\b\b\b\b\b\b\b\b\b\b\b\b\b\b\b\b\b\b\b\b\b\b\b\b\b\b\b\b\b\b\b\b\b\b\b\r",
      " 69/151 [============>.................] - ETA: 0s - loss: 1.7259"
     ]
    },
    {
     "name": "stdout",
     "output_type": "stream",
     "text": [
      "\b\b\b\b\b\b\b\b\b\b\b\b\b\b\b\b\b\b\b\b\b\b\b\b\b\b\b\b\b\b\b\b\b\b\b\b\b\b\b\b\b\b\b\b\b\b\b\b\b\b\b\b\b\b\b\b\b\b\b\b\b\b\b\b\b\r",
      " 79/151 [==============>...............] - ETA: 0s - loss: 1.7267"
     ]
    },
    {
     "name": "stdout",
     "output_type": "stream",
     "text": [
      "\b\b\b\b\b\b\b\b\b\b\b\b\b\b\b\b\b\b\b\b\b\b\b\b\b\b\b\b\b\b\b\b\b\b\b\b\b\b\b\b\b\b\b\b\b\b\b\b\b\b\b\b\b\b\b\b\b\b\b\b\b\b\b\b\b\r",
      " 89/151 [================>.............] - ETA: 0s - loss: 1.7272"
     ]
    },
    {
     "name": "stdout",
     "output_type": "stream",
     "text": [
      "\b\b\b\b\b\b\b\b\b\b\b\b\b\b\b\b\b\b\b\b\b\b\b\b\b\b\b\b\b\b\b\b\b\b\b\b\b\b\b\b\b\b\b\b\b\b\b\b\b\b\b\b\b\b\b\b\b\b\b\b\b\b\b\b\b\r",
      " 99/151 [==================>...........] - ETA: 0s - loss: 1.7279"
     ]
    },
    {
     "name": "stdout",
     "output_type": "stream",
     "text": [
      "\b\b\b\b\b\b\b\b\b\b\b\b\b\b\b\b\b\b\b\b\b\b\b\b\b\b\b\b\b\b\b\b\b\b\b\b\b\b\b\b\b\b\b\b\b\b\b\b\b\b\b\b\b\b\b\b\b\b\b\b\b\b\b\b\b\r",
      "109/151 [====================>.........] - ETA: 0s - loss: 1.7284"
     ]
    },
    {
     "name": "stdout",
     "output_type": "stream",
     "text": [
      "\b\b\b\b\b\b\b\b\b\b\b\b\b\b\b\b\b\b\b\b\b\b\b\b\b\b\b\b\b\b\b\b\b\b\b\b\b\b\b\b\b\b\b\b\b\b\b\b\b\b\b\b\b\b\b\b\b\b\b\b\b\b\b\b\b\r",
      "119/151 [======================>.......] - ETA: 0s - loss: 1.7289"
     ]
    },
    {
     "name": "stdout",
     "output_type": "stream",
     "text": [
      "\b\b\b\b\b\b\b\b\b\b\b\b\b\b\b\b\b\b\b\b\b\b\b\b\b\b\b\b\b\b\b\b\b\b\b\b\b\b\b\b\b\b\b\b\b\b\b\b\b\b\b\b\b\b\b\b\b\b\b\b\b\b\b\b\b\r",
      "129/151 [========================>.....] - ETA: 0s - loss: 1.7294"
     ]
    },
    {
     "name": "stdout",
     "output_type": "stream",
     "text": [
      "\b\b\b\b\b\b\b\b\b\b\b\b\b\b\b\b\b\b\b\b\b\b\b\b\b\b\b\b\b\b\b\b\b\b\b\b\b\b\b\b\b\b\b\b\b\b\b\b\b\b\b\b\b\b\b\b\b\b\b\b\b\b\b\b\b\r",
      "139/151 [==========================>...] - ETA: 0s - loss: 1.7299"
     ]
    },
    {
     "name": "stdout",
     "output_type": "stream",
     "text": [
      "\b\b\b\b\b\b\b\b\b\b\b\b\b\b\b\b\b\b\b\b\b\b\b\b\b\b\b\b\b\b\b\b\b\b\b\b\b\b\b\b\b\b\b\b\b\b\b\b\b\b\b\b\b\b\b\b\b\b\b\b\b\b\b\b\b\r",
      "149/151 [============================>.] - ETA: 0s - loss: 1.7304"
     ]
    },
    {
     "name": "stdout",
     "output_type": "stream",
     "text": [
      "\b\b\b\b\b\b\b\b\b\b\b\b\b\b\b\b\b\b\b\b\b\b\b\b\b\b\b\b\b\b\b\b\b\b\b\b\b\b\b\b\b\b\b\b\b\b\b\b\b\b\b\b\b\b\b\b\b\b\b\b\b\b\b\b\b\r",
      "151/151 [==============================] - 1s 7ms/step - loss: 1.7306 - val_loss: 1.8851\n"
     ]
    },
    {
     "name": "stdout",
     "output_type": "stream",
     "text": [
      "Epoch 17/100\n",
      "\r",
      "  1/151 [..............................] - ETA: 0s - loss: 1.7455"
     ]
    },
    {
     "name": "stdout",
     "output_type": "stream",
     "text": [
      "\b\b\b\b\b\b\b\b\b\b\b\b\b\b\b\b\b\b\b\b\b\b\b\b\b\b\b\b\b\b\b\b\b\b\b\b\b\b\b\b\b\b\b\b\b\b\b\b\b\b\b\b\b\b\b\b\b\b\b\b\b\b\b\b\b\r",
      " 10/151 [>.............................] - ETA: 0s - loss: 1.7187"
     ]
    },
    {
     "name": "stdout",
     "output_type": "stream",
     "text": [
      "\b\b\b\b\b\b\b\b\b\b\b\b\b\b\b\b\b\b\b\b\b\b\b\b\b\b\b\b\b\b\b\b\b\b\b\b\b\b\b\b\b\b\b\b\b\b\b\b\b\b\b\b\b\b\b\b\b\b\b\b\b\b\b\b\b\r",
      " 20/151 [==>...........................] - ETA: 0s - loss: 1.7138"
     ]
    },
    {
     "name": "stdout",
     "output_type": "stream",
     "text": [
      "\b\b\b\b\b\b\b\b\b\b\b\b\b\b\b\b\b\b\b\b\b\b\b\b\b\b\b\b\b\b\b\b\b\b\b\b\b\b\b\b\b\b\b\b\b\b\b\b\b\b\b\b\b\b\b\b\b\b\b\b\b\b\b\b\b\r",
      " 30/151 [====>.........................] - ETA: 0s - loss: 1.7123"
     ]
    },
    {
     "name": "stdout",
     "output_type": "stream",
     "text": [
      "\b\b\b\b\b\b\b\b\b\b\b\b\b\b\b\b\b\b\b\b\b\b\b\b\b\b\b\b\b\b\b\b\b\b\b\b\b\b\b\b\b\b\b\b\b\b\b\b\b\b\b\b\b\b\b\b\b\b\b\b\b\b\b\b\b\r",
      " 40/151 [======>.......................] - ETA: 0s - loss: 1.7127"
     ]
    },
    {
     "name": "stdout",
     "output_type": "stream",
     "text": [
      "\b\b\b\b\b\b\b\b\b\b\b\b\b\b\b\b\b\b\b\b\b\b\b\b\b\b\b\b\b\b\b\b\b\b\b\b\b\b\b\b\b\b\b\b\b\b\b\b\b\b\b\b\b\b\b\b\b\b\b\b\b\b\b\b\b\r",
      " 50/151 [========>.....................] - ETA: 0s - loss: 1.7129"
     ]
    },
    {
     "name": "stdout",
     "output_type": "stream",
     "text": [
      "\b\b\b\b\b\b\b\b\b\b\b\b\b\b\b\b\b\b\b\b\b\b\b\b\b\b\b\b\b\b\b\b\b\b\b\b\b\b\b\b\b\b\b\b\b\b\b\b\b\b\b\b\b\b\b\b\b\b\b\b\b\b\b\b\b\r",
      " 60/151 [==========>...................] - ETA: 0s - loss: 1.7137"
     ]
    },
    {
     "name": "stdout",
     "output_type": "stream",
     "text": [
      "\b\b\b\b\b\b\b\b\b\b\b\b\b\b\b\b\b\b\b\b\b\b\b\b\b\b\b\b\b\b\b\b\b\b\b\b\b\b\b\b\b\b\b\b\b\b\b\b\b\b\b\b\b\b\b\b\b\b\b\b\b\b\b\b\b\r",
      " 70/151 [============>.................] - ETA: 0s - loss: 1.7146"
     ]
    },
    {
     "name": "stdout",
     "output_type": "stream",
     "text": [
      "\b\b\b\b\b\b\b\b\b\b\b\b\b\b\b\b\b\b\b\b\b\b\b\b\b\b\b\b\b\b\b\b\b\b\b\b\b\b\b\b\b\b\b\b\b\b\b\b\b\b\b\b\b\b\b\b\b\b\b\b\b\b\b\b\b\r",
      " 80/151 [==============>...............] - ETA: 0s - loss: 1.7153"
     ]
    },
    {
     "name": "stdout",
     "output_type": "stream",
     "text": [
      "\b\b\b\b\b\b\b\b\b\b\b\b\b\b\b\b\b\b\b\b\b\b\b\b\b\b\b\b\b\b\b\b\b\b\b\b\b\b\b\b\b\b\b\b\b\b\b\b\b\b\b\b\b\b\b\b\b\b\b\b\b\b\b\b\b\r",
      " 90/151 [================>.............] - ETA: 0s - loss: 1.7160"
     ]
    },
    {
     "name": "stdout",
     "output_type": "stream",
     "text": [
      "\b\b\b\b\b\b\b\b\b\b\b\b\b\b\b\b\b\b\b\b\b\b\b\b\b\b\b\b\b\b\b\b\b\b\b\b\b\b\b\b\b\b\b\b\b\b\b\b\b\b\b\b\b\b\b\b\b\b\b\b\b\b\b\b\b\r",
      "100/151 [==================>...........] - ETA: 0s - loss: 1.7166"
     ]
    },
    {
     "name": "stdout",
     "output_type": "stream",
     "text": [
      "\b\b\b\b\b\b\b\b\b\b\b\b\b\b\b\b\b\b\b\b\b\b\b\b\b\b\b\b\b\b\b\b\b\b\b\b\b\b\b\b\b\b\b\b\b\b\b\b\b\b\b\b\b\b\b\b\b\b\b\b\b\b\b\b\b\r",
      "110/151 [====================>.........] - ETA: 0s - loss: 1.7171"
     ]
    },
    {
     "name": "stdout",
     "output_type": "stream",
     "text": [
      "\b\b\b\b\b\b\b\b\b\b\b\b\b\b\b\b\b\b\b\b\b\b\b\b\b\b\b\b\b\b\b\b\b\b\b\b\b\b\b\b\b\b\b\b\b\b\b\b\b\b\b\b\b\b\b\b\b\b\b\b\b\b\b\b\b\r",
      "120/151 [======================>.......] - ETA: 0s - loss: 1.7177"
     ]
    },
    {
     "name": "stdout",
     "output_type": "stream",
     "text": [
      "\b\b\b\b\b\b\b\b\b\b\b\b\b\b\b\b\b\b\b\b\b\b\b\b\b\b\b\b\b\b\b\b\b\b\b\b\b\b\b\b\b\b\b\b\b\b\b\b\b\b\b\b\b\b\b\b\b\b\b\b\b\b\b\b\b\r",
      "130/151 [========================>.....] - ETA: 0s - loss: 1.7184"
     ]
    },
    {
     "name": "stdout",
     "output_type": "stream",
     "text": [
      "\b\b\b\b\b\b\b\b\b\b\b\b\b\b\b\b\b\b\b\b\b\b\b\b\b\b\b\b\b\b\b\b\b\b\b\b\b\b\b\b\b\b\b\b\b\b\b\b\b\b\b\b\b\b\b\b\b\b\b\b\b\b\b\b\b\r",
      "140/151 [==========================>...] - ETA: 0s - loss: 1.7189"
     ]
    },
    {
     "name": "stdout",
     "output_type": "stream",
     "text": [
      "\b\b\b\b\b\b\b\b\b\b\b\b\b\b\b\b\b\b\b\b\b\b\b\b\b\b\b\b\b\b\b\b\b\b\b\b\b\b\b\b\b\b\b\b\b\b\b\b\b\b\b\b\b\b\b\b\b\b\b\b\b\b\b\b\b\r",
      "150/151 [============================>.] - ETA: 0s - loss: 1.7195"
     ]
    },
    {
     "name": "stdout",
     "output_type": "stream",
     "text": [
      "\b\b\b\b\b\b\b\b\b\b\b\b\b\b\b\b\b\b\b\b\b\b\b\b\b\b\b\b\b\b\b\b\b\b\b\b\b\b\b\b\b\b\b\b\b\b\b\b\b\b\b\b\b\b\b\b\b\b\b\b\b\b\b\b\b\r",
      "151/151 [==============================] - 1s 7ms/step - loss: 1.7196 - val_loss: 1.8783\n"
     ]
    },
    {
     "name": "stdout",
     "output_type": "stream",
     "text": [
      "Epoch 18/100\n",
      "\r",
      "  1/151 [..............................] - ETA: 0s - loss: 1.7003"
     ]
    },
    {
     "name": "stdout",
     "output_type": "stream",
     "text": [
      "\b\b\b\b\b\b\b\b\b\b\b\b\b\b\b\b\b\b\b\b\b\b\b\b\b\b\b\b\b\b\b\b\b\b\b\b\b\b\b\b\b\b\b\b\b\b\b\b\b\b\b\b\b\b\b\b\b\b\b\b\b\b\b\b\b\r",
      " 11/151 [=>............................] - ETA: 0s - loss: 1.6911"
     ]
    },
    {
     "name": "stdout",
     "output_type": "stream",
     "text": [
      "\b\b\b\b\b\b\b\b\b\b\b\b\b\b\b\b\b\b\b\b\b\b\b\b\b\b\b\b\b\b\b\b\b\b\b\b\b\b\b\b\b\b\b\b\b\b\b\b\b\b\b\b\b\b\b\b\b\b\b\b\b\b\b\b\b\r",
      " 21/151 [===>..........................] - ETA: 0s - loss: 1.6945"
     ]
    },
    {
     "name": "stdout",
     "output_type": "stream",
     "text": [
      "\b\b\b\b\b\b\b\b\b\b\b\b\b\b\b\b\b\b\b\b\b\b\b\b\b\b\b\b\b\b\b\b\b\b\b\b\b\b\b\b\b\b\b\b\b\b\b\b\b\b\b\b\b\b\b\b\b\b\b\b\b\b\b\b\b\r",
      " 31/151 [=====>........................] - ETA: 0s - loss: 1.6964"
     ]
    },
    {
     "name": "stdout",
     "output_type": "stream",
     "text": [
      "\b\b\b\b\b\b\b\b\b\b\b\b\b\b\b\b\b\b\b\b\b\b\b\b\b\b\b\b\b\b\b\b\b\b\b\b\b\b\b\b\b\b\b\b\b\b\b\b\b\b\b\b\b\b\b\b\b\b\b\b\b\b\b\b\b\r",
      " 40/151 [======>.......................] - ETA: 0s - loss: 1.6983"
     ]
    },
    {
     "name": "stdout",
     "output_type": "stream",
     "text": [
      "\b\b\b\b\b\b\b\b\b\b\b\b\b\b\b\b\b\b\b\b\b\b\b\b\b\b\b\b\b\b\b\b\b\b\b\b\b\b\b\b\b\b\b\b\b\b\b\b\b\b\b\b\b\b\b\b\b\b\b\b\b\b\b\b\b\r",
      " 50/151 [========>.....................] - ETA: 0s - loss: 1.6999"
     ]
    },
    {
     "name": "stdout",
     "output_type": "stream",
     "text": [
      "\b\b\b\b\b\b\b\b\b\b\b\b\b\b\b\b\b\b\b\b\b\b\b\b\b\b\b\b\b\b\b\b\b\b\b\b\b\b\b\b\b\b\b\b\b\b\b\b\b\b\b\b\b\b\b\b\b\b\b\b\b\b\b\b\b\r",
      " 60/151 [==========>...................] - ETA: 0s - loss: 1.7009"
     ]
    },
    {
     "name": "stdout",
     "output_type": "stream",
     "text": [
      "\b\b\b\b\b\b\b\b\b\b\b\b\b\b\b\b\b\b\b\b\b\b\b\b\b\b\b\b\b\b\b\b\b\b\b\b\b\b\b\b\b\b\b\b\b\b\b\b\b\b\b\b\b\b\b\b\b\b\b\b\b\b\b\b\b\r",
      " 69/151 [============>.................] - ETA: 0s - loss: 1.7016"
     ]
    },
    {
     "name": "stdout",
     "output_type": "stream",
     "text": [
      "\b\b\b\b\b\b\b\b\b\b\b\b\b\b\b\b\b\b\b\b\b\b\b\b\b\b\b\b\b\b\b\b\b\b\b\b\b\b\b\b\b\b\b\b\b\b\b\b\b\b\b\b\b\b\b\b\b\b\b\b\b\b\b\b\b\r",
      " 79/151 [==============>...............] - ETA: 0s - loss: 1.7024"
     ]
    },
    {
     "name": "stdout",
     "output_type": "stream",
     "text": [
      "\b\b\b\b\b\b\b\b\b\b\b\b\b\b\b\b\b\b\b\b\b\b\b\b\b\b\b\b\b\b\b\b\b\b\b\b\b\b\b\b\b\b\b\b\b\b\b\b\b\b\b\b\b\b\b\b\b\b\b\b\b\b\b\b\b\r",
      " 88/151 [================>.............] - ETA: 0s - loss: 1.7030"
     ]
    },
    {
     "name": "stdout",
     "output_type": "stream",
     "text": [
      "\b\b\b\b\b\b\b\b\b\b\b\b\b\b\b\b\b\b\b\b\b\b\b\b\b\b\b\b\b\b\b\b\b\b\b\b\b\b\b\b\b\b\b\b\b\b\b\b\b\b\b\b\b\b\b\b\b\b\b\b\b\b\b\b\b\r",
      " 98/151 [==================>...........] - ETA: 0s - loss: 1.7038"
     ]
    },
    {
     "name": "stdout",
     "output_type": "stream",
     "text": [
      "\b\b\b\b\b\b\b\b\b\b\b\b\b\b\b\b\b\b\b\b\b\b\b\b\b\b\b\b\b\b\b\b\b\b\b\b\b\b\b\b\b\b\b\b\b\b\b\b\b\b\b\b\b\b\b\b\b\b\b\b\b\b\b\b\b\r",
      "108/151 [====================>.........] - ETA: 0s - loss: 1.7045"
     ]
    },
    {
     "name": "stdout",
     "output_type": "stream",
     "text": [
      "\b\b\b\b\b\b\b\b\b\b\b\b\b\b\b\b\b\b\b\b\b\b\b\b\b\b\b\b\b\b\b\b\b\b\b\b\b\b\b\b\b\b\b\b\b\b\b\b\b\b\b\b\b\b\b\b\b\b\b\b\b\b\b\b\b\r",
      "118/151 [======================>.......] - ETA: 0s - loss: 1.7053"
     ]
    },
    {
     "name": "stdout",
     "output_type": "stream",
     "text": [
      "\b\b\b\b\b\b\b\b\b\b\b\b\b\b\b\b\b\b\b\b\b\b\b\b\b\b\b\b\b\b\b\b\b\b\b\b\b\b\b\b\b\b\b\b\b\b\b\b\b\b\b\b\b\b\b\b\b\b\b\b\b\b\b\b\b\r",
      "128/151 [========================>.....] - ETA: 0s - loss: 1.7060"
     ]
    },
    {
     "name": "stdout",
     "output_type": "stream",
     "text": [
      "\b\b\b\b\b\b\b\b\b\b\b\b\b\b\b\b\b\b\b\b\b\b\b\b\b\b\b\b\b\b\b\b\b\b\b\b\b\b\b\b\b\b\b\b\b\b\b\b\b\b\b\b\b\b\b\b\b\b\b\b\b\b\b\b\b\r",
      "137/151 [==========================>...] - ETA: 0s - loss: 1.7066"
     ]
    },
    {
     "name": "stdout",
     "output_type": "stream",
     "text": [
      "\b\b\b\b\b\b\b\b\b\b\b\b\b\b\b\b\b\b\b\b\b\b\b\b\b\b\b\b\b\b\b\b\b\b\b\b\b\b\b\b\b\b\b\b\b\b\b\b\b\b\b\b\b\b\b\b\b\b\b\b\b\b\b\b\b\r",
      "147/151 [============================>.] - ETA: 0s - loss: 1.7073"
     ]
    },
    {
     "name": "stdout",
     "output_type": "stream",
     "text": [
      "\b\b\b\b\b\b\b\b\b\b\b\b\b\b\b\b\b\b\b\b\b\b\b\b\b\b\b\b\b\b\b\b\b\b\b\b\b\b\b\b\b\b\b\b\b\b\b\b\b\b\b\b\b\b\b\b\b\b\b\b\b\b\b\b\b\r",
      "151/151 [==============================] - 1s 7ms/step - loss: 1.7076 - val_loss: 1.8965\n"
     ]
    }
   ],
   "source": [
    "# perform training ...\n",
    "#   - call the main training loop in keras for our network+dataset\n",
    "filepath = NEURAL_NETWORK_FILENAME\n",
    "\n",
    "history = model.fit(\n",
    "    X_train,\n",
    "    Y_train,\n",
    "    batch_size=BATCH_SIZE,\n",
    "    epochs=NB_EPOCH,\n",
    "    validation_data=(X_test, Y_test),\n",
    "    callbacks = [\n",
    "        keras.callbacks.ModelCheckpoint(filepath, monitor='val_loss', verbose=0, save_best_only=True, mode='auto'),\n",
    "        keras.callbacks.EarlyStopping(monitor='val_loss', patience=5, verbose=0, mode='auto')\n",
    "    ])\n",
    "\n",
    "# we re-load the best weights once training is finished\n",
    "model.load_weights(filepath)"
   ]
  },
  {
   "cell_type": "markdown",
   "id": "fd714f0e",
   "metadata": {
    "papermill": {
     "duration": 0.058003,
     "end_time": "2021-09-24T10:31:41.549201",
     "exception": false,
     "start_time": "2021-09-24T10:31:41.491198",
     "status": "completed"
    },
    "tags": []
   },
   "source": [
    "# Evaluate and Plot Model Performance"
   ]
  },
  {
   "cell_type": "code",
   "execution_count": 18,
   "id": "9da0a9a4",
   "metadata": {
    "execution": {
     "iopub.execute_input": "2021-09-24T10:31:41.666170Z",
     "iopub.status.busy": "2021-09-24T10:31:41.666170Z",
     "iopub.status.idle": "2021-09-24T10:31:41.914744Z",
     "shell.execute_reply": "2021-09-24T10:31:41.914744Z"
    },
    "papermill": {
     "duration": 0.309545,
     "end_time": "2021-09-24T10:31:41.914744",
     "exception": false,
     "start_time": "2021-09-24T10:31:41.605199",
     "status": "completed"
    },
    "tags": []
   },
   "outputs": [
    {
     "name": "stdout",
     "output_type": "stream",
     "text": [
      "\r",
      " 1/65 [..............................] - ETA: 0s - loss: 2.0638"
     ]
    },
    {
     "name": "stdout",
     "output_type": "stream",
     "text": [
      "\b\b\b\b\b\b\b\b\b\b\b\b\b\b\b\b\b\b\b\b\b\b\b\b\b\b\b\b\b\b\b\b\b\b\b\b\b\b\b\b\b\b\b\b\b\b\b\b\b\b\b\b\b\b\b\b\b\b\b\b\b\b\b\r",
      "17/65 [======>.......................] - ETA: 0s - loss: 1.8251"
     ]
    },
    {
     "name": "stdout",
     "output_type": "stream",
     "text": [
      "\b\b\b\b\b\b\b\b\b\b\b\b\b\b\b\b\b\b\b\b\b\b\b\b\b\b\b\b\b\b\b\b\b\b\b\b\b\b\b\b\b\b\b\b\b\b\b\b\b\b\b\b\b\b\b\b\b\b\b\b\b\b\b\r",
      "35/65 [===============>..............] - ETA: 0s - loss: 1.8250"
     ]
    },
    {
     "name": "stdout",
     "output_type": "stream",
     "text": [
      "\b\b\b\b\b\b\b\b\b\b\b\b\b\b\b\b\b\b\b\b\b\b\b\b\b\b\b\b\b\b\b\b\b\b\b\b\b\b\b\b\b\b\b\b\b\b\b\b\b\b\b\b\b\b\b\b\b\b\b\b\b\b\b\r",
      "53/65 [=======================>......] - ETA: 0s - loss: 1.8574"
     ]
    },
    {
     "name": "stdout",
     "output_type": "stream",
     "text": [
      "\b\b\b\b\b\b\b\b\b\b\b\b\b\b\b\b\b\b\b\b\b\b\b\b\b\b\b\b\b\b\b\b\b\b\b\b\b\b\b\b\b\b\b\b\b\b\b\b\b\b\b\b\b\b\b\b\b\b\b\b\b\b\b\r",
      "65/65 [==============================] - 0s 3ms/step - loss: 1.8737\n"
     ]
    },
    {
     "name": "stdout",
     "output_type": "stream",
     "text": [
      "1.873748779296875\n"
     ]
    }
   ],
   "source": [
    "# Show simple version of performance\n",
    "score = model.evaluate(X_test, Y_test, batch_size=BATCH_SIZE)\n",
    "print(score)"
   ]
  },
  {
   "cell_type": "markdown",
   "id": "daaae36d",
   "metadata": {
    "papermill": {
     "duration": 0.059016,
     "end_time": "2021-09-24T10:31:42.032748",
     "exception": false,
     "start_time": "2021-09-24T10:31:41.973732",
     "status": "completed"
    },
    "tags": []
   },
   "source": [
    "## Loss"
   ]
  },
  {
   "cell_type": "code",
   "execution_count": 19,
   "id": "f3482792",
   "metadata": {
    "execution": {
     "iopub.execute_input": "2021-09-24T10:31:42.171717Z",
     "iopub.status.busy": "2021-09-24T10:31:42.164718Z",
     "iopub.status.idle": "2021-09-24T10:31:42.273717Z",
     "shell.execute_reply": "2021-09-24T10:31:42.273717Z"
    },
    "papermill": {
     "duration": 0.179967,
     "end_time": "2021-09-24T10:31:42.273717",
     "exception": false,
     "start_time": "2021-09-24T10:31:42.093750",
     "status": "completed"
    },
    "tags": []
   },
   "outputs": [
    {
     "data": {
      "text/plain": [
       "<matplotlib.legend.Legend at 0x19a127034f0>"
      ]
     },
     "execution_count": 19,
     "metadata": {},
     "output_type": "execute_result"
    },
    {
     "data": {
      "image/png": "[encoded data removed]",
      "text/plain": [
       "<Figure size 432x288 with 1 Axes>"
      ]
     },
     "metadata": {
      "needs_background": "light"
     },
     "output_type": "display_data"
    }
   ],
   "source": [
    "# Show loss curves \n",
    "plt.figure()\n",
    "plt.title('Training performance')\n",
    "plt.plot(history.epoch, history.history['loss'], label='train loss+error')\n",
    "plt.plot(history.epoch, history.history['val_loss'], label='val_error')\n",
    "plt.legend()"
   ]
  },
  {
   "cell_type": "markdown",
   "id": "49b1e29e",
   "metadata": {
    "papermill": {
     "duration": 0.059006,
     "end_time": "2021-09-24T10:31:42.391754",
     "exception": false,
     "start_time": "2021-09-24T10:31:42.332748",
     "status": "completed"
    },
    "tags": []
   },
   "source": [
    "## Confusion matrix"
   ]
  },
  {
   "cell_type": "code",
   "execution_count": 20,
   "id": "c9d04f67",
   "metadata": {
    "execution": {
     "iopub.execute_input": "2021-09-24T10:31:42.512748Z",
     "iopub.status.busy": "2021-09-24T10:31:42.511769Z",
     "iopub.status.idle": "2021-09-24T10:31:42.521744Z",
     "shell.execute_reply": "2021-09-24T10:31:42.521744Z"
    },
    "papermill": {
     "duration": 0.071995,
     "end_time": "2021-09-24T10:31:42.521744",
     "exception": false,
     "start_time": "2021-09-24T10:31:42.449749",
     "status": "completed"
    },
    "tags": []
   },
   "outputs": [],
   "source": [
    "def plot_confusion_matrix(cm, title='Confusion matrix', cmap=plt.cm.Blues, labels=[]):\n",
    "    plt.imshow(cm, interpolation='nearest', cmap=cmap)\n",
    "    plt.title(title)\n",
    "    plt.colorbar()\n",
    "    tick_marks = np.arange(len(labels))\n",
    "    plt.xticks(tick_marks, labels, rotation=45)\n",
    "    plt.yticks(tick_marks, labels)\n",
    "    plt.tight_layout()\n",
    "    plt.ylabel('True label')\n",
    "    plt.xlabel('Predicted label')"
   ]
  },
  {
   "cell_type": "code",
   "execution_count": 21,
   "id": "98292f6d",
   "metadata": {
    "execution": {
     "iopub.execute_input": "2021-09-24T10:31:42.643748Z",
     "iopub.status.busy": "2021-09-24T10:31:42.642748Z",
     "iopub.status.idle": "2021-09-24T10:31:43.515752Z",
     "shell.execute_reply": "2021-09-24T10:31:43.515752Z"
    },
    "papermill": {
     "duration": 0.935035,
     "end_time": "2021-09-24T10:31:43.515752",
     "exception": false,
     "start_time": "2021-09-24T10:31:42.580717",
     "status": "completed"
    },
    "tags": []
   },
   "outputs": [
    {
     "data": {
      "image/png": "[encoded data removed]",
      "text/plain": [
       "<Figure size 432x288 with 2 Axes>"
      ]
     },
     "metadata": {
      "needs_background": "light"
     },
     "output_type": "display_data"
    }
   ],
   "source": [
    "# Plot confusion matrix\n",
    "test_Y_hat = model.predict(X_test, batch_size=BATCH_SIZE)\n",
    "conf = np.zeros([len(classes),len(classes)])\n",
    "confnorm = np.zeros([len(classes),len(classes)])\n",
    "\n",
    "for i in range(0,X_test.shape[0]):\n",
    "    j = list(Y_test[i,:]).index(1)\n",
    "    k = int(np.argmax(test_Y_hat[i,:]))\n",
    "    conf[j,k] = conf[j,k] + 1\n",
    "\n",
    "for i in range(0,len(classes)):\n",
    "    confnorm[i,:] = conf[i,:] / np.sum(conf[i,:])\n",
    "\n",
    "plot_confusion_matrix(confnorm, labels=classes)"
   ]
  },
  {
   "cell_type": "markdown",
   "id": "5b1f0243",
   "metadata": {
    "papermill": {
     "duration": 0.059029,
     "end_time": "2021-09-24T10:31:43.633748",
     "exception": false,
     "start_time": "2021-09-24T10:31:43.574719",
     "status": "completed"
    },
    "tags": []
   },
   "source": [
    "## Confusion matrix for each SNR"
   ]
  },
  {
   "cell_type": "code",
   "execution_count": 22,
   "id": "b690101d",
   "metadata": {
    "execution": {
     "iopub.execute_input": "2021-09-24T10:31:43.762749Z",
     "iopub.status.busy": "2021-09-24T10:31:43.762749Z",
     "iopub.status.idle": "2021-09-24T10:31:51.688721Z",
     "shell.execute_reply": "2021-09-24T10:31:51.688721Z"
    },
    "papermill": {
     "duration": 7.995972,
     "end_time": "2021-09-24T10:31:51.688721",
     "exception": false,
     "start_time": "2021-09-24T10:31:43.692749",
     "status": "completed"
    },
    "scrolled": false,
    "tags": []
   },
   "outputs": [
    {
     "name": "stdout",
     "output_type": "stream",
     "text": [
      "Overall Accuracy:  0.09497882637628555\n"
     ]
    },
    {
     "name": "stdout",
     "output_type": "stream",
     "text": [
      "Overall Accuracy:  0.08970099667774087\n"
     ]
    },
    {
     "name": "stdout",
     "output_type": "stream",
     "text": [
      "Overall Accuracy:  0.09576703692584809\n"
     ]
    },
    {
     "name": "stdout",
     "output_type": "stream",
     "text": [
      "Overall Accuracy:  0.11194253217599522\n"
     ]
    },
    {
     "name": "stdout",
     "output_type": "stream",
     "text": [
      "Overall Accuracy:  0.11818993748139327\n"
     ]
    },
    {
     "name": "stdout",
     "output_type": "stream",
     "text": [
      "Overall Accuracy:  0.14159561510353227\n"
     ]
    },
    {
     "name": "stdout",
     "output_type": "stream",
     "text": [
      "Overall Accuracy:  0.18874773139745918\n"
     ]
    },
    {
     "name": "stdout",
     "output_type": "stream",
     "text": [
      "Overall Accuracy:  0.2725615314494075\n"
     ]
    },
    {
     "name": "stdout",
     "output_type": "stream",
     "text": [
      "Overall Accuracy:  0.30027132951462165\n"
     ]
    },
    {
     "name": "stdout",
     "output_type": "stream",
     "text": [
      "Overall Accuracy:  0.3767498478393183\n"
     ]
    },
    {
     "name": "stdout",
     "output_type": "stream",
     "text": [
      "Overall Accuracy:  0.3684210526315789\n"
     ]
    },
    {
     "name": "stdout",
     "output_type": "stream",
     "text": [
      "Overall Accuracy:  0.40758579169175196\n"
     ]
    },
    {
     "name": "stdout",
     "output_type": "stream",
     "text": [
      "Overall Accuracy:  0.4065015479876161\n"
     ]
    },
    {
     "name": "stdout",
     "output_type": "stream",
     "text": [
      "Overall Accuracy:  0.4250229990800368\n"
     ]
    },
    {
     "name": "stdout",
     "output_type": "stream",
     "text": [
      "Overall Accuracy:  0.3966205837173579\n"
     ]
    },
    {
     "name": "stdout",
     "output_type": "stream",
     "text": [
      "Overall Accuracy:  0.40931076178960096\n"
     ]
    },
    {
     "name": "stdout",
     "output_type": "stream",
     "text": [
      "Overall Accuracy:  0.4291350531107739\n"
     ]
    },
    {
     "name": "stdout",
     "output_type": "stream",
     "text": [
      "Overall Accuracy:  0.41369047619047616\n"
     ]
    },
    {
     "name": "stdout",
     "output_type": "stream",
     "text": [
      "Overall Accuracy:  0.4091318714328627\n"
     ]
    },
    {
     "name": "stdout",
     "output_type": "stream",
     "text": [
      "Overall Accuracy:  0.411836485661989\n"
     ]
    },
    {
     "data": {
      "image/png": "[encoded data removed]",
      "text/plain": [
       "<Figure size 432x288 with 2 Axes>"
      ]
     },
     "metadata": {
      "needs_background": "light"
     },
     "output_type": "display_data"
    },
    {
     "data": {
      "image/png": "[encoded data removed]",
      "text/plain": [
       "<Figure size 432x288 with 2 Axes>"
      ]
     },
     "metadata": {
      "needs_background": "light"
     },
     "output_type": "display_data"
    },
    {
     "data": {
      "image/png": "[encoded data removed]",
      "text/plain": [
       "<Figure size 432x288 with 2 Axes>"
      ]
     },
     "metadata": {
      "needs_background": "light"
     },
     "output_type": "display_data"
    },
    {
     "data": {
      "image/png": "[encoded data removed]",
      "text/plain": [
       "<Figure size 432x288 with 2 Axes>"
      ]
     },
     "metadata": {
      "needs_background": "light"
     },
     "output_type": "display_data"
    },
    {
     "data": {
      "image/png": "[encoded data removed]",
      "text/plain": [
       "<Figure size 432x288 with 2 Axes>"
      ]
     },
     "metadata": {
      "needs_background": "light"
     },
     "output_type": "display_data"
    },
    {
     "data": {
      "image/png": "[encoded data removed]",
      "text/plain": [
       "<Figure size 432x288 with 2 Axes>"
      ]
     },
     "metadata": {
      "needs_background": "light"
     },
     "output_type": "display_data"
    },
    {
     "data": {
      "image/png": "[encoded data removed]",
      "text/plain": [
       "<Figure size 432x288 with 2 Axes>"
      ]
     },
     "metadata": {
      "needs_background": "light"
     },
     "output_type": "display_data"
    },
    {
     "data": {
      "image/png": "[encoded data removed]",
      "text/plain": [
       "<Figure size 432x288 with 2 Axes>"
      ]
     },
     "metadata": {
      "needs_background": "light"
     },
     "output_type": "display_data"
    },
    {
     "data": {
      "image/png": "[encoded data removed]",
      "text/plain": [
       "<Figure size 432x288 with 2 Axes>"
      ]
     },
     "metadata": {
      "needs_background": "light"
     },
     "output_type": "display_data"
    },
    {
     "data": {
      "image/png": "[encoded data removed]",
      "text/plain": [
       "<Figure size 432x288 with 2 Axes>"
      ]
     },
     "metadata": {
      "needs_background": "light"
     },
     "output_type": "display_data"
    },
    {
     "data": {
      "image/png": "[encoded data removed]",
      "text/plain": [
       "<Figure size 432x288 with 2 Axes>"
      ]
     },
     "metadata": {
      "needs_background": "light"
     },
     "output_type": "display_data"
    },
    {
     "data": {
      "image/png": "[encoded data removed]",
      "text/plain": [
       "<Figure size 432x288 with 2 Axes>"
      ]
     },
     "metadata": {
      "needs_background": "light"
     },
     "output_type": "display_data"
    },
    {
     "data": {
      "image/png": "[encoded data removed]",
      "text/plain": [
       "<Figure size 432x288 with 2 Axes>"
      ]
     },
     "metadata": {
      "needs_background": "light"
     },
     "output_type": "display_data"
    },
    {
     "data": {
      "image/png": "[encoded data removed]",
      "text/plain": [
       "<Figure size 432x288 with 2 Axes>"
      ]
     },
     "metadata": {
      "needs_background": "light"
     },
     "output_type": "display_data"
    },
    {
     "data": {
      "image/png": "[encoded data removed]",
      "text/plain": [
       "<Figure size 432x288 with 2 Axes>"
      ]
     },
     "metadata": {
      "needs_background": "light"
     },
     "output_type": "display_data"
    },
    {
     "data": {
      "image/png": "[encoded data removed]",
      "text/plain": [
       "<Figure size 432x288 with 2 Axes>"
      ]
     },
     "metadata": {
      "needs_background": "light"
     },
     "output_type": "display_data"
    },
    {
     "data": {
      "image/png": "[encoded data removed]",
      "text/plain": [
       "<Figure size 432x288 with 2 Axes>"
      ]
     },
     "metadata": {
      "needs_background": "light"
     },
     "output_type": "display_data"
    },
    {
     "data": {
      "image/png": "[encoded data removed]",
      "text/plain": [
       "<Figure size 432x288 with 2 Axes>"
      ]
     },
     "metadata": {
      "needs_background": "light"
     },
     "output_type": "display_data"
    },
    {
     "data": {
      "image/png": "[encoded data removed]",
      "text/plain": [
       "<Figure size 432x288 with 2 Axes>"
      ]
     },
     "metadata": {
      "needs_background": "light"
     },
     "output_type": "display_data"
    },
    {
     "data": {
      "image/png": "[encoded data removed]",
      "text/plain": [
       "<Figure size 432x288 with 2 Axes>"
      ]
     },
     "metadata": {
      "needs_background": "light"
     },
     "output_type": "display_data"
    }
   ],
   "source": [
    "# Plot confusion matrix\n",
    "acc = {}\n",
    "for snr in snrs:\n",
    "\n",
    "    # extract classes @ SNR\n",
    "    test_SNRs = list(dataset_df[snr_column_dataframe_name][test_index])\n",
    "    this_snr_indexes = np.where(np.array(test_SNRs) == snr)\n",
    "    \n",
    "    test_X_i = X_test[this_snr_indexes]\n",
    "    test_Y_i = Y_test[this_snr_indexes]  \n",
    "\n",
    "    # estimate classes\n",
    "    test_Y_i_hat = model.predict(test_X_i)\n",
    "    conf = np.zeros([len(classes), len(classes)])\n",
    "    confnorm = np.zeros([len(classes), len(classes)])\n",
    "    \n",
    "    for i in range(0,test_X_i.shape[0]):\n",
    "        j = list(test_Y_i[i, :]).index(1)\n",
    "        k = int(np.argmax(test_Y_i_hat[i, :]))\n",
    "        conf[j, k] = conf[j, k] + 1\n",
    "        \n",
    "    for i in range(0,len(classes)):\n",
    "        confnorm[i, :] = conf[i, :] / np.sum(conf[i, :])\n",
    "        \n",
    "    plt.figure()\n",
    "    plot_confusion_matrix(confnorm, labels=classes, title=\"ConvNet Confusion Matrix (SNR=%d)\"%(snr))\n",
    "    \n",
    "    cor = np.sum(np.diag(conf))\n",
    "    ncor = np.sum(conf) - cor\n",
    "    print(\"Overall Accuracy: \", cor / (cor+ncor))\n",
    "    acc[snr] = 1.0*cor/(cor+ncor)"
   ]
  },
  {
   "cell_type": "markdown",
   "id": "26eaef23",
   "metadata": {
    "papermill": {
     "duration": 0.074035,
     "end_time": "2021-09-24T10:31:51.835756",
     "exception": false,
     "start_time": "2021-09-24T10:31:51.761721",
     "status": "completed"
    },
    "tags": []
   },
   "source": [
    "## Accuracy performance"
   ]
  },
  {
   "cell_type": "code",
   "execution_count": 23,
   "id": "2fe8e792",
   "metadata": {
    "execution": {
     "iopub.execute_input": "2021-09-24T10:31:51.990721Z",
     "iopub.status.busy": "2021-09-24T10:31:51.989723Z",
     "iopub.status.idle": "2021-09-24T10:31:52.000893Z",
     "shell.execute_reply": "2021-09-24T10:31:52.000893Z"
    },
    "papermill": {
     "duration": 0.092145,
     "end_time": "2021-09-24T10:31:52.000893",
     "exception": false,
     "start_time": "2021-09-24T10:31:51.908748",
     "status": "completed"
    },
    "scrolled": true,
    "tags": []
   },
   "outputs": [
    {
     "data": {
      "text/html": [
       "<div>\n",
       "<style scoped>\n",
       "    .dataframe tbody tr th:only-of-type {\n",
       "        vertical-align: middle;\n",
       "    }\n",
       "\n",
       "    .dataframe tbody tr th {\n",
       "        vertical-align: top;\n",
       "    }\n",
       "\n",
       "    .dataframe thead th {\n",
       "        text-align: right;\n",
       "    }\n",
       "</style>\n",
       "<table border=\"1\" class=\"dataframe\">\n",
       "  <thead>\n",
       "    <tr style=\"text-align: right;\">\n",
       "      <th></th>\n",
       "      <th>-20</th>\n",
       "      <th>-18</th>\n",
       "      <th>-16</th>\n",
       "      <th>-14</th>\n",
       "      <th>-12</th>\n",
       "      <th>-10</th>\n",
       "      <th>-8</th>\n",
       "      <th>-6</th>\n",
       "      <th>-4</th>\n",
       "      <th>-2</th>\n",
       "      <th>0</th>\n",
       "      <th>2</th>\n",
       "      <th>4</th>\n",
       "      <th>6</th>\n",
       "      <th>8</th>\n",
       "      <th>10</th>\n",
       "      <th>12</th>\n",
       "      <th>14</th>\n",
       "      <th>16</th>\n",
       "      <th>18</th>\n",
       "    </tr>\n",
       "  </thead>\n",
       "  <tbody>\n",
       "    <tr>\n",
       "      <th>Accuracy %</th>\n",
       "      <td>9</td>\n",
       "      <td>8</td>\n",
       "      <td>9</td>\n",
       "      <td>11</td>\n",
       "      <td>11</td>\n",
       "      <td>14</td>\n",
       "      <td>18</td>\n",
       "      <td>27</td>\n",
       "      <td>30</td>\n",
       "      <td>37</td>\n",
       "      <td>36</td>\n",
       "      <td>40</td>\n",
       "      <td>40</td>\n",
       "      <td>42</td>\n",
       "      <td>39</td>\n",
       "      <td>40</td>\n",
       "      <td>42</td>\n",
       "      <td>41</td>\n",
       "      <td>40</td>\n",
       "      <td>41</td>\n",
       "    </tr>\n",
       "  </tbody>\n",
       "</table>\n",
       "</div>"
      ],
      "text/plain": [
       "            -20  -18  -16  -14  -12  -10  -8   -6   -4   -2    0    2    4   \\\n",
       "Accuracy %    9    8    9   11   11   14   18   27   30   37   36   40   40   \n",
       "\n",
       "             6    8    10   12   14   16   18  \n",
       "Accuracy %   42   39   40   42   41   40   41  "
      ]
     },
     "execution_count": 23,
     "metadata": {},
     "output_type": "execute_result"
    }
   ],
   "source": [
    "accuracy_perc = {}\n",
    "for el in acc.items():\n",
    "    accuracy_perc[el[0]] = int(el[1] * 100)\n",
    "    \n",
    "accuracy_df = pd.DataFrame(data=accuracy_perc, index=[\"Accuracy %\"])\n",
    "# accuracy_df.columns = [\"SNRs\", \"Accuracy\"]\n",
    "accuracy_df"
   ]
  },
  {
   "cell_type": "code",
   "execution_count": 24,
   "id": "bd3936dc",
   "metadata": {
    "execution": {
     "iopub.execute_input": "2021-09-24T10:31:52.151892Z",
     "iopub.status.busy": "2021-09-24T10:31:52.151892Z",
     "iopub.status.idle": "2021-09-24T10:31:52.154894Z",
     "shell.execute_reply": "2021-09-24T10:31:52.154894Z"
    },
    "papermill": {
     "duration": 0.079971,
     "end_time": "2021-09-24T10:31:52.154894",
     "exception": false,
     "start_time": "2021-09-24T10:31:52.074923",
     "status": "completed"
    },
    "tags": []
   },
   "outputs": [],
   "source": [
    "# Save results to a pickle file for plotting later\n",
    "fd = open(OUTPUT_FILENAME,'wb')\n",
    "pickle.dump( (\"CNN2\", 0.5, acc) , fd )"
   ]
  },
  {
   "cell_type": "code",
   "execution_count": 25,
   "id": "ceb6c561",
   "metadata": {
    "execution": {
     "iopub.execute_input": "2021-09-24T10:31:52.310932Z",
     "iopub.status.busy": "2021-09-24T10:31:52.310932Z",
     "iopub.status.idle": "2021-09-24T10:31:52.389922Z",
     "shell.execute_reply": "2021-09-24T10:31:52.389922Z"
    },
    "papermill": {
     "duration": 0.16,
     "end_time": "2021-09-24T10:31:52.389922",
     "exception": false,
     "start_time": "2021-09-24T10:31:52.229922",
     "status": "completed"
    },
    "tags": []
   },
   "outputs": [
    {
     "data": {
      "text/plain": [
       "Text(0.5, 1.0, 'CNN2 Classification Accuracy on RadioML 2016.10 Alpha')"
      ]
     },
     "execution_count": 25,
     "metadata": {},
     "output_type": "execute_result"
    },
    {
     "data": {
      "image/png": "[encoded data removed]",
      "text/plain": [
       "<Figure size 432x288 with 1 Axes>"
      ]
     },
     "metadata": {
      "needs_background": "light"
     },
     "output_type": "display_data"
    }
   ],
   "source": [
    "# Plot accuracy curve\n",
    "plt.plot(snrs, list(map(lambda x: acc[x], snrs)))\n",
    "plt.xlabel(\"Signal to Noise Ratio\")\n",
    "plt.ylabel(\"Classification Accuracy\")\n",
    "plt.title(\"CNN2 Classification Accuracy on RadioML 2016.10 Alpha\")"
   ]
  }
 ],
 "metadata": {
  "kernelspec": {
   "display_name": "Python 3 (ipykernel)",
   "language": "python",
   "name": "python3"
  },
  "language_info": {
   "codemirror_mode": {
    "name": "ipython",
    "version": 3
   },
   "file_extension": ".py",
   "mimetype": "text/x-python",
   "name": "python",
   "nbconvert_exporter": "python",
   "pygments_lexer": "ipython3",
   "version": "3.9.6"
  },
  "papermill": {
   "default_parameters": {},
   "duration": 82.259269,
   "end_time": "2021-09-24T10:31:55.192047",
   "environment_variables": {},
   "exception": null,
   "input_path": "DeepSig_Custom_NN_v2_MP.ipynb",
   "output_path": "DeepSig_Custom_NN_v2_MP.ipynb",
   "parameters": {},
   "start_time": "2021-09-24T10:30:32.932778",
   "version": "2.3.3"
  }
 },
 "nbformat": 4,
 "nbformat_minor": 5
}