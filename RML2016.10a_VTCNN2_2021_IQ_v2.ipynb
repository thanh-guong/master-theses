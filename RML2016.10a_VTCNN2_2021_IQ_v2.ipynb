{
 "cells": [
  {
   "cell_type": "markdown",
   "id": "33d2ad69",
   "metadata": {},
   "source": [
    "# Configuration"
   ]
  },
  {
   "cell_type": "code",
   "execution_count": 1,
   "id": "2ea7ff73",
   "metadata": {},
   "outputs": [],
   "source": [
    "DATA_DIR = \"data/\"\n",
    "DATASET_2016_10a_FILENAME = DATA_DIR + \"RML2016.10a_dict.pkl\""
   ]
  },
  {
   "cell_type": "markdown",
   "id": "976fb93a",
   "metadata": {},
   "source": [
    "# Imports"
   ]
  },
  {
   "cell_type": "code",
   "execution_count": 2,
   "id": "7b91b5f5",
   "metadata": {},
   "outputs": [],
   "source": [
    "import pickle\n",
    "import pandas as pd\n",
    "import h5py\n",
    "import cmath\n",
    "import numpy as np\n",
    "\n",
    "import keras\n",
    "import keras.models as models\n",
    "from keras.layers.core import Reshape,Dense,Dropout,Activation,Flatten\n",
    "from keras.layers.convolutional import Convolution2D, MaxPooling2D, ZeroPadding2D\n",
    "\n",
    "import matplotlib.pyplot as plt\n"
   ]
  },
  {
   "cell_type": "markdown",
   "id": "04e35cc0",
   "metadata": {},
   "source": [
    "# Dataset"
   ]
  },
  {
   "cell_type": "code",
   "execution_count": 3,
   "id": "3f78eea9",
   "metadata": {},
   "outputs": [],
   "source": [
    "dataset_filename = DATASET_2016_10a_FILENAME\n",
    "\n",
    "dataset = []\n",
    "\n",
    "with (open(dataset_filename, \"rb\")) as dataset_file:\n",
    "    data = dataset_file.read()\n",
    "    data_dict = pickle.loads(data, encoding='bytes') # unpickle data\n",
    "    keys = data_dict.keys()\n",
    "    \n",
    "    # for each key in dataset keys\n",
    "    for key in keys:\n",
    "        # extract modulation label and snr\n",
    "        modulation, snr = key[0].decode(\"utf-8\") , key[1]\n",
    "        \n",
    "        # for each I/Q signal couple sample\n",
    "        for signal in data_dict[key]:\n",
    "            # save the tuple (signal, modulation_label, snr) in the list\n",
    "            tuple = (signal, modulation, snr)\n",
    "            dataset.append(tuple)"
   ]
  },
  {
   "cell_type": "markdown",
   "id": "6772aa93",
   "metadata": {},
   "source": [
    "## Dataset in a pandas Dataframe"
   ]
  },
  {
   "cell_type": "code",
   "execution_count": 4,
   "id": "ff028a1f",
   "metadata": {},
   "outputs": [],
   "source": [
    "dataset_df = pd.DataFrame(data=dataset)\n",
    "\n",
    "# pandas aesthetics\n",
    "\n",
    "iq_signals_column_dataframe_name = 'IQ signals'\n",
    "modulation_label_column_dataframe_name = 'Modulation_Label'\n",
    "snr_column_dataframe_name = 'SNR'\n",
    "\n",
    "dataset_df.columns = [\n",
    "    iq_signals_column_dataframe_name,\n",
    "    modulation_label_column_dataframe_name,\n",
    "    snr_column_dataframe_name\n",
    "]"
   ]
  },
  {
   "cell_type": "markdown",
   "id": "29e29bfc",
   "metadata": {},
   "source": [
    "## Raw dataset"
   ]
  },
  {
   "cell_type": "code",
   "execution_count": 5,
   "id": "4fc27f02",
   "metadata": {},
   "outputs": [
    {
     "data": {
      "text/html": [
       "<div>\n",
       "<style scoped>\n",
       "    .dataframe tbody tr th:only-of-type {\n",
       "        vertical-align: middle;\n",
       "    }\n",
       "\n",
       "    .dataframe tbody tr th {\n",
       "        vertical-align: top;\n",
       "    }\n",
       "\n",
       "    .dataframe thead th {\n",
       "        text-align: right;\n",
       "    }\n",
       "</style>\n",
       "<table border=\"1\" class=\"dataframe\">\n",
       "  <thead>\n",
       "    <tr style=\"text-align: right;\">\n",
       "      <th></th>\n",
       "      <th>IQ signals</th>\n",
       "      <th>Modulation_Label</th>\n",
       "      <th>SNR</th>\n",
       "    </tr>\n",
       "  </thead>\n",
       "  <tbody>\n",
       "    <tr>\n",
       "      <th>0</th>\n",
       "      <td>[[-0.0059014712, -0.0023458179, -0.00074506126...</td>\n",
       "      <td>QPSK</td>\n",
       "      <td>2</td>\n",
       "    </tr>\n",
       "    <tr>\n",
       "      <th>1</th>\n",
       "      <td>[[0.0050326153, 0.00094379985, -0.0018932355, ...</td>\n",
       "      <td>QPSK</td>\n",
       "      <td>2</td>\n",
       "    </tr>\n",
       "    <tr>\n",
       "      <th>2</th>\n",
       "      <td>[[0.0052390713, 0.0073890695, 0.007276459, 0.0...</td>\n",
       "      <td>QPSK</td>\n",
       "      <td>2</td>\n",
       "    </tr>\n",
       "    <tr>\n",
       "      <th>3</th>\n",
       "      <td>[[-0.0019859935, -0.0071501383, -0.00527185, -...</td>\n",
       "      <td>QPSK</td>\n",
       "      <td>2</td>\n",
       "    </tr>\n",
       "    <tr>\n",
       "      <th>4</th>\n",
       "      <td>[[0.006674405, 0.0028359746, 0.005630027, 0.00...</td>\n",
       "      <td>QPSK</td>\n",
       "      <td>2</td>\n",
       "    </tr>\n",
       "    <tr>\n",
       "      <th>...</th>\n",
       "      <td>...</td>\n",
       "      <td>...</td>\n",
       "      <td>...</td>\n",
       "    </tr>\n",
       "    <tr>\n",
       "      <th>219995</th>\n",
       "      <td>[[0.0062732296, -0.0050519477, 0.006672171, 0....</td>\n",
       "      <td>BPSK</td>\n",
       "      <td>-18</td>\n",
       "    </tr>\n",
       "    <tr>\n",
       "      <th>219996</th>\n",
       "      <td>[[-0.003903181, -0.0015884301, -0.00633375, 2....</td>\n",
       "      <td>BPSK</td>\n",
       "      <td>-18</td>\n",
       "    </tr>\n",
       "    <tr>\n",
       "      <th>219997</th>\n",
       "      <td>[[-0.0105958255, 0.005601244, -0.012161784, 0....</td>\n",
       "      <td>BPSK</td>\n",
       "      <td>-18</td>\n",
       "    </tr>\n",
       "    <tr>\n",
       "      <th>219998</th>\n",
       "      <td>[[-0.002136606, 0.00995837, 0.0059440527, -0.0...</td>\n",
       "      <td>BPSK</td>\n",
       "      <td>-18</td>\n",
       "    </tr>\n",
       "    <tr>\n",
       "      <th>219999</th>\n",
       "      <td>[[-0.008169517, 0.0013303901, -0.002522387, -0...</td>\n",
       "      <td>BPSK</td>\n",
       "      <td>-18</td>\n",
       "    </tr>\n",
       "  </tbody>\n",
       "</table>\n",
       "<p>220000 rows × 3 columns</p>\n",
       "</div>"
      ],
      "text/plain": [
       "                                               IQ signals Modulation_Label  \\\n",
       "0       [[-0.0059014712, -0.0023458179, -0.00074506126...             QPSK   \n",
       "1       [[0.0050326153, 0.00094379985, -0.0018932355, ...             QPSK   \n",
       "2       [[0.0052390713, 0.0073890695, 0.007276459, 0.0...             QPSK   \n",
       "3       [[-0.0019859935, -0.0071501383, -0.00527185, -...             QPSK   \n",
       "4       [[0.006674405, 0.0028359746, 0.005630027, 0.00...             QPSK   \n",
       "...                                                   ...              ...   \n",
       "219995  [[0.0062732296, -0.0050519477, 0.006672171, 0....             BPSK   \n",
       "219996  [[-0.003903181, -0.0015884301, -0.00633375, 2....             BPSK   \n",
       "219997  [[-0.0105958255, 0.005601244, -0.012161784, 0....             BPSK   \n",
       "219998  [[-0.002136606, 0.00995837, 0.0059440527, -0.0...             BPSK   \n",
       "219999  [[-0.008169517, 0.0013303901, -0.002522387, -0...             BPSK   \n",
       "\n",
       "        SNR  \n",
       "0         2  \n",
       "1         2  \n",
       "2         2  \n",
       "3         2  \n",
       "4         2  \n",
       "...     ...  \n",
       "219995  -18  \n",
       "219996  -18  \n",
       "219997  -18  \n",
       "219998  -18  \n",
       "219999  -18  \n",
       "\n",
       "[220000 rows x 3 columns]"
      ]
     },
     "execution_count": 5,
     "metadata": {},
     "output_type": "execute_result"
    }
   ],
   "source": [
    "dataset_df"
   ]
  },
  {
   "cell_type": "markdown",
   "id": "a178e471",
   "metadata": {},
   "source": [
    "# Neural network"
   ]
  },
  {
   "cell_type": "markdown",
   "id": "e713de97",
   "metadata": {},
   "source": [
    "## Configuration"
   ]
  },
  {
   "cell_type": "code",
   "execution_count": 6,
   "id": "f7123fb9",
   "metadata": {},
   "outputs": [],
   "source": [
    "TRAINING_SET_DIMENSION = 0.7\n",
    "DROPOUT_RATE = 0.5\n",
    "\n",
    "# Set up some params \n",
    "NB_EPOCH = 100     # number of epochs to train on\n",
    "BATCH_SIZE = 1024  # training batch size"
   ]
  },
  {
   "cell_type": "markdown",
   "id": "6c628c4d",
   "metadata": {},
   "source": [
    "## Data prepare"
   ]
  },
  {
   "cell_type": "code",
   "execution_count": 7,
   "id": "2bba62be",
   "metadata": {},
   "outputs": [],
   "source": [
    "signals = dataset_df[iq_signals_column_dataframe_name].tolist()\n",
    "labels = dataset_df[modulation_label_column_dataframe_name].tolist()\n",
    "\n",
    "# [QPSQ, BPSK, ...]\n",
    "mods = dataset_df[modulation_label_column_dataframe_name].unique().tolist()\n",
    "mods.sort()\n",
    "# [-18, -16, ...]\n",
    "snrs = dataset_df[snr_column_dataframe_name].unique().tolist()\n",
    "snrs.sort()"
   ]
  },
  {
   "cell_type": "markdown",
   "id": "afebf8b3",
   "metadata": {},
   "source": [
    "### Training and Test data partitioning"
   ]
  },
  {
   "cell_type": "code",
   "execution_count": 8,
   "id": "087733f4",
   "metadata": {},
   "outputs": [],
   "source": [
    "# Partition the data\n",
    "#  into training and test sets of the form we can train/test on \n",
    "#  while keeping SNR and Mod labels handy for each\n",
    "\n",
    "# seeding the random numpy object\n",
    "np.random.seed(2016)\n",
    "\n",
    "# 220.000\n",
    "n_examples = len(signals)\n",
    "\n",
    "# take a portion of the dataset as training set\n",
    "n_train = int(n_examples * TRAINING_SET_DIMENSION)\n",
    "\n",
    "# extract datapoints indexes randomly\n",
    "# train_index = [I_1, I_2, ..., I_N_TRAIN]\n",
    "train_index = np.random.choice(range(0,n_examples), size=n_train, replace=False)\n",
    "\n",
    "# obtain the remaining datapoints indexes\n",
    "# test_index = [I_1, I_2, ..., I_HALF_N_EXAMPLES]\n",
    "test_index = list(set(range(0,n_examples)) - set(train_index))\n",
    "\n",
    "signals = np.array(signals)\n",
    "\n",
    "X_train = signals[train_index]\n",
    "X_test =  signals[test_index]"
   ]
  },
  {
   "cell_type": "markdown",
   "id": "d3119744",
   "metadata": {},
   "source": [
    "### One-hot encoding for Training and Test labels"
   ]
  },
  {
   "cell_type": "code",
   "execution_count": 9,
   "id": "4ac6b4a4",
   "metadata": {},
   "outputs": [],
   "source": [
    "def to_onehot(x):\n",
    "    input_list = list(x)\n",
    "    vectors_number = len(list(input_list))\n",
    "    number_of_elements_for_each_vector = max(input_list, default=0) + 1\n",
    "\n",
    "    # one hot encoding is a vector of zeros, and only a 1 that identifies the class\n",
    "    # producing <vectors_number> vectors of <number_of_elements_for_each_vector> elements\n",
    "    result = np.zeros([vectors_number, number_of_elements_for_each_vector])\n",
    "    \n",
    "    # placing the 1 in the correct place\n",
    "    for i in range(0, vectors_number):\n",
    "        result[i][input_list[i]] = 1\n",
    "    \n",
    "    return result\n",
    "\n",
    "Y_train = to_onehot(map(lambda x: mods.index(labels[x]), train_index))\n",
    "Y_test = to_onehot(map(lambda x: mods.index(labels[x]), test_index))"
   ]
  },
  {
   "cell_type": "markdown",
   "id": "c22c496e",
   "metadata": {},
   "source": [
    "## Build the Neural Network"
   ]
  },
  {
   "cell_type": "code",
   "execution_count": 10,
   "id": "68a376bb",
   "metadata": {},
   "outputs": [
    {
     "name": "stdout",
     "output_type": "stream",
     "text": [
      "(154000, 2, 128)\n",
      "[2, 128]\n"
     ]
    }
   ],
   "source": [
    "in_shp = list(X_train.shape[1:])\n",
    "print(X_train.shape)\n",
    "print(in_shp)\n",
    "classes = mods"
   ]
  },
  {
   "cell_type": "code",
   "execution_count": 11,
   "id": "12db3dfa",
   "metadata": {},
   "outputs": [
    {
     "name": "stdout",
     "output_type": "stream",
     "text": [
      "Model: \"sequential\"\n",
      "_________________________________________________________________\n",
      "Layer (type)                 Output Shape              Param #   \n",
      "=================================================================\n",
      "reshape (Reshape)            (None, 1, 2, 128)         0         \n",
      "_________________________________________________________________\n",
      "zero_padding2d (ZeroPadding2 (None, 1, 6, 128)         0         \n",
      "_________________________________________________________________\n",
      "conv1 (Conv2D)               (None, 1, 2, 256)         33024     \n",
      "_________________________________________________________________\n",
      "dropout (Dropout)            (None, 1, 2, 256)         0         \n",
      "_________________________________________________________________\n",
      "zero_padding2d_1 (ZeroPaddin (None, 1, 6, 256)         0         \n",
      "_________________________________________________________________\n",
      "conv2 (Conv2D)               (None, 1, 2, 80)          82000     \n",
      "_________________________________________________________________\n",
      "dropout_1 (Dropout)          (None, 1, 2, 80)          0         \n",
      "_________________________________________________________________\n",
      "flatten (Flatten)            (None, 160)               0         \n",
      "_________________________________________________________________\n",
      "dense1 (Dense)               (None, 256)               41216     \n",
      "_________________________________________________________________\n",
      "dropout_2 (Dropout)          (None, 256)               0         \n",
      "_________________________________________________________________\n",
      "dense2 (Dense)               (None, 11)                2827      \n",
      "_________________________________________________________________\n",
      "activation (Activation)      (None, 11)                0         \n",
      "_________________________________________________________________\n",
      "reshape_1 (Reshape)          (None, 11)                0         \n",
      "=================================================================\n",
      "Total params: 159,067\n",
      "Trainable params: 159,067\n",
      "Non-trainable params: 0\n",
      "_________________________________________________________________\n"
     ]
    }
   ],
   "source": [
    "dr = DROPOUT_RATE # dropout rate (%)\n",
    "\n",
    "model = models.Sequential()\n",
    "model.add(Reshape([1] + in_shp, input_shape=in_shp))\n",
    "model.add(ZeroPadding2D((0, 2)))\n",
    "model.add(Convolution2D(256, 1, 3, padding=\"same\", activation=\"relu\", name=\"conv1\"))\n",
    "model.add(Dropout(dr))\n",
    "model.add(ZeroPadding2D((0, 2)))\n",
    "model.add(Convolution2D(80, 2, 3, padding=\"same\", activation=\"relu\", name=\"conv2\"))\n",
    "model.add(Dropout(dr))\n",
    "model.add(Flatten())\n",
    "model.add(Dense(256, activation='relu', name=\"dense1\"))\n",
    "model.add(Dropout(dr))\n",
    "model.add(Dense(len(classes), name=\"dense2\"))\n",
    "model.add(Activation('softmax'))\n",
    "model.add(Reshape([len(classes)]))\n",
    "model.compile(loss='categorical_crossentropy', optimizer='adam')\n",
    "model.summary()"
   ]
  },
  {
   "cell_type": "markdown",
   "id": "cf278efc",
   "metadata": {},
   "source": [
    "### Train the model"
   ]
  },
  {
   "cell_type": "code",
   "execution_count": 12,
   "id": "62427643",
   "metadata": {
    "scrolled": false
   },
   "outputs": [
    {
     "name": "stdout",
     "output_type": "stream",
     "text": [
      "Epoch 1/100\n",
      "151/151 [==============================] - 14s 11ms/step - loss: 2.3239 - val_loss: 2.1963\n",
      "Epoch 2/100\n",
      "151/151 [==============================] - 1s 8ms/step - loss: 2.1660 - val_loss: 1.9770\n",
      "Epoch 3/100\n",
      "151/151 [==============================] - 1s 8ms/step - loss: 2.0034 - val_loss: 1.9009\n",
      "Epoch 4/100\n",
      "151/151 [==============================] - 1s 8ms/step - loss: 1.9470 - val_loss: 1.8374\n",
      "Epoch 5/100\n",
      "151/151 [==============================] - 1s 8ms/step - loss: 1.9002 - val_loss: 1.8113\n",
      "Epoch 6/100\n",
      "151/151 [==============================] - 1s 8ms/step - loss: 1.8736 - val_loss: 1.7940\n",
      "Epoch 7/100\n",
      "151/151 [==============================] - 1s 8ms/step - loss: 1.8577 - val_loss: 1.7858\n",
      "Epoch 8/100\n",
      "151/151 [==============================] - 1s 8ms/step - loss: 1.8467 - val_loss: 1.7780\n",
      "Epoch 9/100\n",
      "151/151 [==============================] - 1s 8ms/step - loss: 1.8370 - val_loss: 1.7619\n",
      "Epoch 10/100\n",
      "151/151 [==============================] - 1s 8ms/step - loss: 1.8282 - val_loss: 1.7576\n",
      "Epoch 11/100\n",
      "151/151 [==============================] - 1s 8ms/step - loss: 1.8176 - val_loss: 1.7487\n",
      "Epoch 12/100\n",
      "151/151 [==============================] - 1s 8ms/step - loss: 1.8108 - val_loss: 1.7452\n",
      "Epoch 13/100\n",
      "151/151 [==============================] - 1s 8ms/step - loss: 1.8094 - val_loss: 1.7407\n",
      "Epoch 14/100\n",
      "151/151 [==============================] - 1s 8ms/step - loss: 1.8007 - val_loss: 1.7382\n",
      "Epoch 15/100\n",
      "151/151 [==============================] - 1s 8ms/step - loss: 1.7974 - val_loss: 1.7393\n",
      "Epoch 16/100\n",
      "151/151 [==============================] - 1s 8ms/step - loss: 1.7915 - val_loss: 1.7306\n",
      "Epoch 17/100\n",
      "151/151 [==============================] - 1s 8ms/step - loss: 1.7890 - val_loss: 1.7278\n",
      "Epoch 18/100\n",
      "151/151 [==============================] - 1s 8ms/step - loss: 1.7828 - val_loss: 1.7250\n",
      "Epoch 19/100\n",
      "151/151 [==============================] - 1s 8ms/step - loss: 1.7825 - val_loss: 1.7244\n",
      "Epoch 20/100\n",
      "151/151 [==============================] - 1s 8ms/step - loss: 1.7741 - val_loss: 1.7211\n",
      "Epoch 21/100\n",
      "151/151 [==============================] - 1s 8ms/step - loss: 1.7756 - val_loss: 1.7151\n",
      "Epoch 22/100\n",
      "151/151 [==============================] - 1s 8ms/step - loss: 1.7708 - val_loss: 1.7176\n",
      "Epoch 23/100\n",
      "151/151 [==============================] - 1s 8ms/step - loss: 1.7666 - val_loss: 1.7149\n",
      "Epoch 24/100\n",
      "151/151 [==============================] - 1s 8ms/step - loss: 1.7643 - val_loss: 1.7122\n",
      "Epoch 25/100\n",
      "151/151 [==============================] - 1s 8ms/step - loss: 1.7607 - val_loss: 1.7108\n",
      "Epoch 26/100\n",
      "151/151 [==============================] - 1s 8ms/step - loss: 1.7590 - val_loss: 1.7106\n",
      "Epoch 27/100\n",
      "151/151 [==============================] - 1s 8ms/step - loss: 1.7549 - val_loss: 1.7112\n",
      "Epoch 28/100\n",
      "151/151 [==============================] - 1s 8ms/step - loss: 1.7545 - val_loss: 1.7076\n",
      "Epoch 29/100\n",
      "151/151 [==============================] - 1s 8ms/step - loss: 1.7521 - val_loss: 1.7048\n",
      "Epoch 30/100\n",
      "151/151 [==============================] - 1s 8ms/step - loss: 1.7495 - val_loss: 1.7040\n",
      "Epoch 31/100\n",
      "151/151 [==============================] - 1s 8ms/step - loss: 1.7516 - val_loss: 1.7020\n",
      "Epoch 32/100\n",
      "151/151 [==============================] - 1s 8ms/step - loss: 1.7467 - val_loss: 1.6996\n",
      "Epoch 33/100\n",
      "151/151 [==============================] - 1s 8ms/step - loss: 1.7452 - val_loss: 1.7024\n",
      "Epoch 34/100\n",
      "151/151 [==============================] - 1s 8ms/step - loss: 1.7426 - val_loss: 1.6974\n",
      "Epoch 35/100\n",
      "151/151 [==============================] - 1s 8ms/step - loss: 1.7452 - val_loss: 1.6936\n",
      "Epoch 36/100\n",
      "151/151 [==============================] - 1s 8ms/step - loss: 1.7417 - val_loss: 1.6962\n",
      "Epoch 37/100\n",
      "151/151 [==============================] - 1s 8ms/step - loss: 1.7402 - val_loss: 1.6936\n",
      "Epoch 38/100\n",
      "151/151 [==============================] - 1s 8ms/step - loss: 1.7419 - val_loss: 1.6942\n",
      "Epoch 39/100\n",
      "151/151 [==============================] - 1s 8ms/step - loss: 1.7351 - val_loss: 1.6942\n",
      "Epoch 40/100\n",
      "151/151 [==============================] - 1s 8ms/step - loss: 1.7332 - val_loss: 1.6919\n",
      "Epoch 41/100\n",
      "151/151 [==============================] - 1s 8ms/step - loss: 1.7309 - val_loss: 1.6916\n",
      "Epoch 42/100\n",
      "151/151 [==============================] - 1s 8ms/step - loss: 1.7328 - val_loss: 1.6924\n",
      "Epoch 43/100\n",
      "151/151 [==============================] - 1s 8ms/step - loss: 1.7372 - val_loss: 1.6907\n",
      "Epoch 44/100\n",
      "151/151 [==============================] - 1s 8ms/step - loss: 1.7293 - val_loss: 1.6873\n",
      "Epoch 45/100\n",
      "151/151 [==============================] - 1s 8ms/step - loss: 1.7325 - val_loss: 1.6944\n",
      "Epoch 46/100\n",
      "151/151 [==============================] - 1s 8ms/step - loss: 1.7284 - val_loss: 1.6888\n",
      "Epoch 47/100\n",
      "151/151 [==============================] - 1s 8ms/step - loss: 1.7282 - val_loss: 1.6901\n",
      "Epoch 48/100\n",
      "151/151 [==============================] - 1s 8ms/step - loss: 1.7238 - val_loss: 1.6918\n",
      "Epoch 49/100\n",
      "151/151 [==============================] - 1s 8ms/step - loss: 1.7244 - val_loss: 1.6873\n",
      "Epoch 50/100\n",
      "151/151 [==============================] - 1s 8ms/step - loss: 1.7300 - val_loss: 1.6884\n",
      "Epoch 51/100\n",
      "151/151 [==============================] - 1s 8ms/step - loss: 1.7249 - val_loss: 1.6863\n",
      "Epoch 52/100\n",
      "151/151 [==============================] - 1s 8ms/step - loss: 1.7254 - val_loss: 1.6884\n",
      "Epoch 53/100\n",
      "151/151 [==============================] - 1s 8ms/step - loss: 1.7226 - val_loss: 1.6863\n",
      "Epoch 54/100\n",
      "151/151 [==============================] - 1s 8ms/step - loss: 1.7223 - val_loss: 1.6850\n",
      "Epoch 55/100\n",
      "151/151 [==============================] - 1s 8ms/step - loss: 1.7235 - val_loss: 1.6857\n",
      "Epoch 56/100\n",
      "151/151 [==============================] - 1s 8ms/step - loss: 1.7223 - val_loss: 1.6823\n",
      "Epoch 57/100\n",
      "151/151 [==============================] - 1s 8ms/step - loss: 1.7218 - val_loss: 1.6857\n",
      "Epoch 58/100\n",
      "151/151 [==============================] - 1s 8ms/step - loss: 1.7177 - val_loss: 1.6857\n",
      "Epoch 59/100\n",
      "151/151 [==============================] - 1s 8ms/step - loss: 1.7176 - val_loss: 1.6812\n",
      "Epoch 60/100\n",
      "151/151 [==============================] - 1s 8ms/step - loss: 1.7157 - val_loss: 1.6811\n",
      "Epoch 61/100\n",
      "151/151 [==============================] - 1s 8ms/step - loss: 1.7123 - val_loss: 1.6813\n",
      "Epoch 62/100\n",
      "151/151 [==============================] - 1s 8ms/step - loss: 1.7138 - val_loss: 1.6840\n",
      "Epoch 63/100\n",
      "151/151 [==============================] - 1s 8ms/step - loss: 1.7148 - val_loss: 1.6806\n",
      "Epoch 64/100\n",
      "151/151 [==============================] - 1s 8ms/step - loss: 1.7113 - val_loss: 1.6823\n",
      "Epoch 65/100\n",
      "151/151 [==============================] - 1s 8ms/step - loss: 1.7161 - val_loss: 1.6810\n",
      "Epoch 66/100\n",
      "151/151 [==============================] - 1s 8ms/step - loss: 1.7125 - val_loss: 1.6792\n",
      "Epoch 67/100\n",
      "151/151 [==============================] - 1s 8ms/step - loss: 1.7134 - val_loss: 1.6810\n",
      "Epoch 68/100\n",
      "151/151 [==============================] - 1s 8ms/step - loss: 1.7113 - val_loss: 1.6808\n",
      "Epoch 69/100\n",
      "151/151 [==============================] - 1s 8ms/step - loss: 1.7070 - val_loss: 1.6807\n",
      "Epoch 70/100\n",
      "151/151 [==============================] - 1s 8ms/step - loss: 1.7069 - val_loss: 1.6813\n",
      "Epoch 71/100\n",
      "151/151 [==============================] - 1s 8ms/step - loss: 1.7134 - val_loss: 1.6800\n"
     ]
    }
   ],
   "source": [
    "# perform training ...\n",
    "#   - call the main training loop in keras for our network+dataset\n",
    "filepath = 'convmodrecnets_CNN2_0.5.wts.h5'\n",
    "\n",
    "history = model.fit(\n",
    "    X_train,\n",
    "    Y_train,\n",
    "    batch_size=BATCH_SIZE,\n",
    "    epochs=NB_EPOCH,\n",
    "    validation_data=(X_test, Y_test),\n",
    "    callbacks = [\n",
    "        keras.callbacks.ModelCheckpoint(filepath, monitor='val_loss', verbose=0, save_best_only=True, mode='auto'),\n",
    "        keras.callbacks.EarlyStopping(monitor='val_loss', patience=5, verbose=0, mode='auto')\n",
    "    ])\n",
    "\n",
    "# we re-load the best weights once training is finished\n",
    "model.load_weights(filepath)"
   ]
  },
  {
   "cell_type": "markdown",
   "id": "fd714f0e",
   "metadata": {},
   "source": [
    "# Evaluate and Plot Model Performance"
   ]
  },
  {
   "cell_type": "code",
   "execution_count": 13,
   "id": "9da0a9a4",
   "metadata": {},
   "outputs": [
    {
     "name": "stdout",
     "output_type": "stream",
     "text": [
      "65/65 [==============================] - 0s 3ms/step - loss: 1.6792\n",
      "1.6792062520980835\n"
     ]
    }
   ],
   "source": [
    "# Show simple version of performance\n",
    "score = model.evaluate(X_test, Y_test, batch_size=BATCH_SIZE)\n",
    "print(score)"
   ]
  },
  {
   "cell_type": "markdown",
   "id": "daaae36d",
   "metadata": {},
   "source": [
    "## Loss"
   ]
  },
  {
   "cell_type": "code",
   "execution_count": 14,
   "id": "f3482792",
   "metadata": {},
   "outputs": [
    {
     "data": {
      "text/plain": [
       "<matplotlib.legend.Legend at 0x1f0e9dcb070>"
      ]
     },
     "execution_count": 14,
     "metadata": {},
     "output_type": "execute_result"
    },
    {
     "data": {
      "image/png": "[encoded data removed]",
      "text/plain": [
       "<Figure size 432x288 with 1 Axes>"
      ]
     },
     "metadata": {
      "needs_background": "light"
     },
     "output_type": "display_data"
    }
   ],
   "source": [
    "# Show loss curves \n",
    "plt.figure()\n",
    "plt.title('Training performance')\n",
    "plt.plot(history.epoch, history.history['loss'], label='train loss+error')\n",
    "plt.plot(history.epoch, history.history['val_loss'], label='val_error')\n",
    "plt.legend()"
   ]
  },
  {
   "cell_type": "markdown",
   "id": "49b1e29e",
   "metadata": {},
   "source": [
    "## Confusion matrix"
   ]
  },
  {
   "cell_type": "code",
   "execution_count": 15,
   "id": "c9d04f67",
   "metadata": {},
   "outputs": [],
   "source": [
    "def plot_confusion_matrix(cm, title='Confusion matrix', cmap=plt.cm.Blues, labels=[]):\n",
    "    plt.imshow(cm, interpolation='nearest', cmap=cmap)\n",
    "    plt.title(title)\n",
    "    plt.colorbar()\n",
    "    tick_marks = np.arange(len(labels))\n",
    "    plt.xticks(tick_marks, labels, rotation=45)\n",
    "    plt.yticks(tick_marks, labels)\n",
    "    plt.tight_layout()\n",
    "    plt.ylabel('True label')\n",
    "    plt.xlabel('Predicted label')"
   ]
  },
  {
   "cell_type": "code",
   "execution_count": null,
   "id": "98292f6d",
   "metadata": {},
   "outputs": [],
   "source": [
    "# Plot confusion matrix\n",
    "test_Y_hat = model.predict(X_test, batch_size=BATCH_SIZE)\n",
    "conf = np.zeros([len(classes),len(classes)])\n",
    "confnorm = np.zeros([len(classes),len(classes)])\n",
    "\n",
    "for i in range(0,X_test.shape[0]):\n",
    "    j = list(Y_test[i,:]).index(1)\n",
    "    k = int(np.argmax(test_Y_hat[i,:]))\n",
    "    conf[j,k] = conf[j,k] + 1\n",
    "\n",
    "for i in range(0,len(classes)):\n",
    "    confnorm[i,:] = conf[i,:] / np.sum(conf[i,:])\n",
    "\n",
    "plot_confusion_matrix(confnorm, labels=classes)"
   ]
  },
  {
   "cell_type": "markdown",
   "id": "5b1f0243",
   "metadata": {},
   "source": [
    "## Confusion matrix for each SNR"
   ]
  },
  {
   "cell_type": "code",
   "execution_count": null,
   "id": "b690101d",
   "metadata": {
    "scrolled": false
   },
   "outputs": [],
   "source": [
    "# Plot confusion matrix\n",
    "acc = {}\n",
    "for snr in snrs:\n",
    "\n",
    "    # extract classes @ SNR\n",
    "    test_SNRs = list(dataset_df[snr_column_dataframe_name][test_index])\n",
    "    this_snr_indexes = np.where(np.array(test_SNRs) == snr)\n",
    "    \n",
    "    test_X_i = X_test[this_snr_indexes]\n",
    "    test_Y_i = Y_test[this_snr_indexes]  \n",
    "\n",
    "    # estimate classes\n",
    "    test_Y_i_hat = model.predict(test_X_i)\n",
    "    conf = np.zeros([len(classes), len(classes)])\n",
    "    confnorm = np.zeros([len(classes), len(classes)])\n",
    "    \n",
    "    for i in range(0,test_X_i.shape[0]):\n",
    "        j = list(test_Y_i[i, :]).index(1)\n",
    "        k = int(np.argmax(test_Y_i_hat[i, :]))\n",
    "        conf[j, k] = conf[j, k] + 1\n",
    "        \n",
    "    for i in range(0,len(classes)):\n",
    "        confnorm[i, :] = conf[i, :] / np.sum(conf[i, :])\n",
    "        \n",
    "    plt.figure()\n",
    "    plot_confusion_matrix(confnorm, labels=classes, title=\"ConvNet Confusion Matrix (SNR=%d)\"%(snr))\n",
    "    \n",
    "    cor = np.sum(np.diag(conf))\n",
    "    ncor = np.sum(conf) - cor\n",
    "    print(\"Overall Accuracy: \", cor / (cor+ncor))\n",
    "    acc[snr] = 1.0*cor/(cor+ncor)"
   ]
  },
  {
   "cell_type": "markdown",
   "id": "26eaef23",
   "metadata": {},
   "source": [
    "## Accuracy performance"
   ]
  },
  {
   "cell_type": "code",
   "execution_count": null,
   "id": "2fe8e792",
   "metadata": {
    "scrolled": true
   },
   "outputs": [],
   "source": [
    "accuracy_perc = {}\n",
    "for el in acc.items():\n",
    "    accuracy_perc[el[0]] = int(el[1] * 100)\n",
    "    \n",
    "accuracy_df = pd.DataFrame(data=accuracy_perc, index=[\"Accuracy %\"])\n",
    "# accuracy_df.columns = [\"SNRs\", \"Accuracy\"]\n",
    "accuracy_df"
   ]
  },
  {
   "cell_type": "code",
   "execution_count": null,
   "id": "bd3936dc",
   "metadata": {},
   "outputs": [],
   "source": [
    "# Save results to a pickle file for plotting later\n",
    "fd = open('results_cnn2_d0.5.dat','wb')\n",
    "pickle.dump( (\"CNN2\", 0.5, acc) , fd )"
   ]
  },
  {
   "cell_type": "code",
   "execution_count": null,
   "id": "ceb6c561",
   "metadata": {},
   "outputs": [],
   "source": [
    "# Plot accuracy curve\n",
    "plt.plot(snrs, list(map(lambda x: acc[x], snrs)))\n",
    "plt.xlabel(\"Signal to Noise Ratio\")\n",
    "plt.ylabel(\"Classification Accuracy\")\n",
    "plt.title(\"CNN2 Classification Accuracy on RadioML 2016.10 Alpha\")"
   ]
  }
 ],
 "metadata": {
  "kernelspec": {
   "display_name": "Python 3 (ipykernel)",
   "language": "python",
   "name": "python3"
  },
  "language_info": {
   "codemirror_mode": {
    "name": "ipython",
    "version": 3
   },
   "file_extension": ".py",
   "mimetype": "text/x-python",
   "name": "python",
   "nbconvert_exporter": "python",
   "pygments_lexer": "ipython3",
   "version": "3.9.6"
  }
 },
 "nbformat": 4,
 "nbformat_minor": 5
}
